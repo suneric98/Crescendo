{
 "cells": [
  {
   "cell_type": "markdown",
   "metadata": {},
   "source": [
    "Modularize functions for scaling and labeling so easier to test different configurations"
   ]
  },
  {
   "cell_type": "code",
   "execution_count": 1,
   "metadata": {},
   "outputs": [],
   "source": [
    "import pandas as pd\n",
    "import numpy as np\n",
    "import matplotlib.pyplot as plt\n",
    "from sklearn.cluster import KMeans\n",
    "import sklearn.preprocessing as preprocess\n",
    "from collections import Counter\n",
    "import pprint\n",
    "from scipy.stats import chisquare\n",
    "\n",
    "pp = pprint.PrettyPrinter(indent=4)"
   ]
  },
  {
   "cell_type": "code",
   "execution_count": 2,
   "metadata": {},
   "outputs": [],
   "source": [
    "data = pd.read_csv(\"TopCharts_unique.csv\", index_col = 0)"
   ]
  },
  {
   "cell_type": "code",
   "execution_count": 3,
   "metadata": {},
   "outputs": [],
   "source": [
    "cluster_df = data.drop(columns = [\"Time Signature\", \"Key\", \"Mode\",\"Instrumentalness\", \"Acousticness\", \"Days\"])"
   ]
  },
  {
   "cell_type": "code",
   "execution_count": 5,
   "metadata": {},
   "outputs": [],
   "source": [
    "def scaleData(scaler, data, firstCol):\n",
    "    mms = scaler()\n",
    "    cluster_values = data.iloc[:,firstCol:]\n",
    "    mms.fit(cluster_values)\n",
    "    return mms.transform(cluster_values)"
   ]
  },
  {
   "cell_type": "code",
   "execution_count": 6,
   "metadata": {},
   "outputs": [],
   "source": [
    "data_transformed = scaleData(preprocess.StandardScaler, cluster_df, 3)"
   ]
  },
  {
   "cell_type": "code",
   "execution_count": 7,
   "metadata": {},
   "outputs": [],
   "source": [
    "def plotKMeans(data, minCluster, maxCluster):\n",
    "    inertias = []\n",
    "    for i in range(minCluster, maxCluster):\n",
    "        kmeans = KMeans(n_clusters = i).fit(data)\n",
    "        inertias.append(kmeans.inertia_)    \n",
    "    \n",
    "    plt.plot(range(1,len(inertias)+1), inertias, \"bx-\")\n",
    "    plt.xlabel('k')\n",
    "    plt.ylabel(\"Inertia\")\n",
    "    plt.xticks(range(1,len(inertias)+1))\n",
    "    plt.show()\n",
    "    \n",
    "    \n",
    "    diffs = np.array(inertias[1:]) - np.array(inertias[:len(inertias)-1])\n",
    "    plt.plot(range(1,len(inertias)+1), [-inertias[0]] + list(diffs),\"bx-\")\n",
    "    plt.ylabel(\"Change in Inertia\")\n",
    "    plt.xticks(range(1,len(inertias)+1))\n",
    "\n",
    "    plt.show()\n",
    "    \n",
    "    return(inertias)\n",
    "    "
   ]
  },
  {
   "cell_type": "code",
   "execution_count": 8,
   "metadata": {},
   "outputs": [
    {
     "data": {
      "image/png": "[encoded data removed]",
      "text/plain": [
       "<Figure size 432x288 with 1 Axes>"
      ]
     },
     "metadata": {
      "needs_background": "light"
     },
     "output_type": "display_data"
    },
    {
     "data": {
      "image/png": "[encoded data removed]",
      "text/plain": [
       "<Figure size 432x288 with 1 Axes>"
      ]
     },
     "metadata": {
      "needs_background": "light"
     },
     "output_type": "display_data"
    }
   ],
   "source": [
    "inertias = plotKMeans(data_transformed, 1, 20)"
   ]
  },
  {
   "cell_type": "code",
   "execution_count": 9,
   "metadata": {},
   "outputs": [],
   "source": [
    "def fitKMeans(data, clusters):\n",
    "    labels_df = cluster_df.copy()\n",
    "    kmeans_opt = KMeans(n_clusters = clusters).fit(data)\n",
    "    labels_df[\"Label\"] = kmeans_opt.labels_\n",
    "    \n",
    "\n",
    "    groups ={}\n",
    "    counters = {}\n",
    "    for i in range(clusters):\n",
    "        groups[i] = labels_df[labels_df[\"Label\"] == i]\n",
    "        counters[i] = Counter(groups[i][\"Artist\"])\n",
    "    \n",
    "    return groups, counters"
   ]
  },
  {
   "cell_type": "code",
   "execution_count": 50,
   "metadata": {},
   "outputs": [],
   "source": [
    "cluster_df_subset, cluster_artist_counter = fitKMeans(data_transformed, 13)"
   ]
  },
  {
   "cell_type": "code",
   "execution_count": 51,
   "metadata": {},
   "outputs": [],
   "source": [
    "def getClusterSongs(cluster_num, groups, counters, artists = [], n_artists = 3):\n",
    "    cnt = counters[cluster_num]\n",
    "    grp = groups[cluster_num]\n",
    "    artsong = {}\n",
    "    if artists:\n",
    "        assert(set(artists).issubset(set(cnt.keys())))\n",
    "    else:\n",
    "        n_artists = min(n_artists, len(cnt.keys()))\n",
    "        artists = [a[0] for a in cnt.most_common(n_artists)]\n",
    "    for artist in artists:\n",
    "        artsong[artist] = list(grp[grp[\"Artist\"] == artist][\"Title\"])\n",
    "    return artsong"
   ]
  },
  {
   "cell_type": "code",
   "execution_count": 52,
   "metadata": {},
   "outputs": [],
   "source": [
    "artist_json = pd.read_json(\"groupedArtistData.json\")"
   ]
  },
  {
   "cell_type": "code",
   "execution_count": 53,
   "metadata": {},
   "outputs": [],
   "source": [
    "artist_data = artist_json.transpose()"
   ]
  },
  {
   "cell_type": "code",
   "execution_count": 54,
   "metadata": {},
   "outputs": [],
   "source": [
    "def getClusterGenres(artist_counter, artist_genre_df):\n",
    "    genre_clusters = dict() #cluster num, artist genres\n",
    "    most_freq = dict() #cluster num, most freq genre\n",
    "    for i in artist_counter.keys():\n",
    "        cluster_artist = artist_counter[i]\n",
    "        cluster_genres = []\n",
    "        for k in cluster_artist.keys():\n",
    "            try:\n",
    "                g = artist_genre_df.loc[k, \"Genres\"]\n",
    "                for _ in range(cluster_artist[k]):\n",
    "                    cluster_genres.extend(g)\n",
    "            except:\n",
    "                print(f\"{k} is not in artist_data\")\n",
    "\n",
    "        cluster_cnt = Counter(cluster_genres) \n",
    "        genre_clusters[i] = dict(sorted(cluster_cnt.items()))\n",
    "        most_freq[i] = cluster_cnt.most_common(1)\n",
    "    return (genre_clusters, most_freq)"
   ]
  },
  {
   "cell_type": "code",
   "execution_count": 55,
   "metadata": {
    "scrolled": true
   },
   "outputs": [
    {
     "name": "stdout",
     "output_type": "stream",
     "text": [
      "Ray Parker, Jr. is not in artist_data\n",
      "The Black Eyed Peas is not in artist_data\n",
      "ToKeith is not in artist_data\n",
      "Bob\"Boris\" Pickett is not in artist_data\n",
      "BobHelms is not in artist_data\n",
      "BaKeem is not in artist_data\n",
      "Yung Anime is not in artist_data\n",
      "Lil Monet is not in artist_data\n",
      "Lil Adrei is not in artist_data\n",
      "The 7 Dimensions is not in artist_data\n",
      "GabBarrett is not in artist_data\n"
     ]
    }
   ],
   "source": [
    "cluster_genre_counts_raw, cluster_classes = getClusterGenres(cluster_artist_counter, artist_data)"
   ]
  },
  {
   "cell_type": "code",
   "execution_count": 56,
   "metadata": {
    "scrolled": false
   },
   "outputs": [
    {
     "name": "stdout",
     "output_type": "stream",
     "text": [
      "{   0: [('pop', 102)],\n",
      "    1: [('rap', 328)],\n",
      "    2: [('pop', 223)],\n",
      "    3: [('rap', 215)],\n",
      "    4: [('pop', 229)],\n",
      "    5: [('rap', 18)],\n",
      "    6: [('pop', 137)],\n",
      "    7: [('pop', 190)],\n",
      "    8: [('pop', 252)],\n",
      "    9: [('rap', 342)],\n",
      "    10: [('pop', 148)],\n",
      "    11: [('pop', 144)],\n",
      "    12: [('pop', 98)]}\n"
     ]
    }
   ],
   "source": [
    "pp.pprint(cluster_classes)"
   ]
  },
  {
   "cell_type": "code",
   "execution_count": 57,
   "metadata": {
    "scrolled": true
   },
   "outputs": [
    {
     "name": "stdout",
     "output_type": "stream",
     "text": [
      "{   0: {   'adult standards': 1,\n",
      "           'country': 6,\n",
      "           'edm': 10,\n",
      "           'hip hop': 55,\n",
      "           'house': 17,\n",
      "           'indie': 9,\n",
      "           'latin': 1,\n",
      "           'other': 8,\n",
      "           'pop': 102,\n",
      "           'r&b': 10,\n",
      "           'rap': 97,\n",
      "           'rock': 27,\n",
      "           'trap': 33},\n",
      "    1: {   'country': 1,\n",
      "           'edm': 1,\n",
      "           'hip hop': 260,\n",
      "           'house': 2,\n",
      "           'indie': 5,\n",
      "           'latin': 4,\n",
      "           'pop': 261,\n",
      "           'r&b': 19,\n",
      "           'rap': 328,\n",
      "           'rock': 4,\n",
      "           'trap': 233},\n",
      "    2: {   'adult standards': 7,\n",
      "           'country': 14,\n",
      "           'edm': 18,\n",
      "           'hip hop': 103,\n",
      "           'house': 20,\n",
      "           'indie': 11,\n",
      "           'latin': 31,\n",
      "           'other': 11,\n",
      "           'pop': 223,\n",
      "           'r&b': 9,\n",
      "           'rap': 147,\n",
      "           'rock': 33,\n",
      "           'trap': 82},\n",
      "    3: {   'adult standards': 13,\n",
      "           'country': 7,\n",
      "           'edm': 3,\n",
      "           'hip hop': 174,\n",
      "           'house': 5,\n",
      "           'indie': 10,\n",
      "           'latin': 2,\n",
      "           'other': 4,\n",
      "           'pop': 204,\n",
      "           'r&b': 16,\n",
      "           'rap': 215,\n",
      "           'rock': 17,\n",
      "           'trap': 139},\n",
      "    4: {   'adult standards': 1,\n",
      "           'country': 8,\n",
      "           'edm': 20,\n",
      "           'hip hop': 106,\n",
      "           'house': 24,\n",
      "           'indie': 13,\n",
      "           'latin': 2,\n",
      "           'other': 8,\n",
      "           'pop': 229,\n",
      "           'r&b': 31,\n",
      "           'rap': 169,\n",
      "           'rock': 28,\n",
      "           'trap': 80},\n",
      "    5: {   'adult standards': 1,\n",
      "           'edm': 1,\n",
      "           'hip hop': 14,\n",
      "           'indie': 3,\n",
      "           'latin': 1,\n",
      "           'other': 3,\n",
      "           'pop': 16,\n",
      "           'r&b': 3,\n",
      "           'rap': 18,\n",
      "           'rock': 4,\n",
      "           'trap': 14},\n",
      "    6: {   'adult standards': 8,\n",
      "           'country': 10,\n",
      "           'edm': 3,\n",
      "           'hip hop': 54,\n",
      "           'house': 3,\n",
      "           'indie': 14,\n",
      "           'latin': 1,\n",
      "           'other': 7,\n",
      "           'pop': 137,\n",
      "           'r&b': 22,\n",
      "           'rap': 77,\n",
      "           'rock': 18,\n",
      "           'trap': 33},\n",
      "    7: {   'adult standards': 7,\n",
      "           'country': 37,\n",
      "           'edm': 37,\n",
      "           'hip hop': 66,\n",
      "           'house': 30,\n",
      "           'indie': 13,\n",
      "           'latin': 2,\n",
      "           'other': 7,\n",
      "           'pop': 190,\n",
      "           'r&b': 14,\n",
      "           'rap': 99,\n",
      "           'rock': 55,\n",
      "           'trap': 44},\n",
      "    8: {   'country': 5,\n",
      "           'edm': 21,\n",
      "           'hip hop': 153,\n",
      "           'house': 23,\n",
      "           'indie': 8,\n",
      "           'latin': 12,\n",
      "           'other': 7,\n",
      "           'pop': 252,\n",
      "           'r&b': 7,\n",
      "           'rap': 213,\n",
      "           'rock': 11,\n",
      "           'trap': 122},\n",
      "    9: {   'country': 9,\n",
      "           'edm': 9,\n",
      "           'hip hop': 239,\n",
      "           'house': 7,\n",
      "           'indie': 14,\n",
      "           'latin': 10,\n",
      "           'other': 2,\n",
      "           'pop': 274,\n",
      "           'r&b': 19,\n",
      "           'rap': 342,\n",
      "           'rock': 13,\n",
      "           'trap': 222},\n",
      "    10: {   'adult standards': 30,\n",
      "            'country': 11,\n",
      "            'edm': 3,\n",
      "            'hip hop': 53,\n",
      "            'house': 7,\n",
      "            'indie': 13,\n",
      "            'other': 7,\n",
      "            'pop': 148,\n",
      "            'r&b': 23,\n",
      "            'rap': 72,\n",
      "            'rock': 18,\n",
      "            'trap': 22},\n",
      "    11: {   'adult standards': 3,\n",
      "            'country': 21,\n",
      "            'edm': 6,\n",
      "            'hip hop': 72,\n",
      "            'house': 9,\n",
      "            'indie': 16,\n",
      "            'latin': 16,\n",
      "            'other': 2,\n",
      "            'pop': 144,\n",
      "            'r&b': 8,\n",
      "            'rap': 104,\n",
      "            'rock': 35,\n",
      "            'trap': 50},\n",
      "    12: {   'adult standards': 23,\n",
      "            'country': 6,\n",
      "            'edm': 1,\n",
      "            'hip hop': 30,\n",
      "            'house': 1,\n",
      "            'indie': 11,\n",
      "            'other': 9,\n",
      "            'pop': 98,\n",
      "            'r&b': 21,\n",
      "            'rap': 39,\n",
      "            'rock': 13,\n",
      "            'trap': 9}}\n"
     ]
    }
   ],
   "source": [
    "pp.pprint(cluster_genre_counts_raw)"
   ]
  },
  {
   "cell_type": "code",
   "execution_count": 58,
   "metadata": {},
   "outputs": [],
   "source": [
    "def getTotalGenreCounts(artist_df):\n",
    "    l = []\n",
    "    for g in artist_df.Genres:\n",
    "        l.extend(g)\n",
    "\n",
    "    return dict(sorted(Counter(l).items()))"
   ]
  },
  {
   "cell_type": "code",
   "execution_count": 59,
   "metadata": {},
   "outputs": [],
   "source": [
    "total_genre_counts = getTotalGenreCounts(artist_data)"
   ]
  },
  {
   "cell_type": "code",
   "execution_count": 60,
   "metadata": {
    "scrolled": true
   },
   "outputs": [
    {
     "name": "stdout",
     "output_type": "stream",
     "text": [
      "{   'adult standards': 35,\n",
      "    'country': 51,\n",
      "    'edm': 43,\n",
      "    'hip hop': 139,\n",
      "    'house': 51,\n",
      "    'indie': 48,\n",
      "    'latin': 26,\n",
      "    'other': 49,\n",
      "    'pop': 383,\n",
      "    'r&b': 42,\n",
      "    'rap': 215,\n",
      "    'rock': 101,\n",
      "    'trap': 124}\n"
     ]
    }
   ],
   "source": [
    "pp.pprint(total_genre_counts)"
   ]
  },
  {
   "cell_type": "code",
   "execution_count": 61,
   "metadata": {},
   "outputs": [],
   "source": [
    "all_genres = list(total_genre_counts.keys())"
   ]
  },
  {
   "cell_type": "code",
   "execution_count": 62,
   "metadata": {},
   "outputs": [],
   "source": [
    "def convertCountstoProps(counts_dict):\n",
    "    \"\"\"\n",
    "    input: dict of genre counts\n",
    "    output: dict of genre proportions \n",
    "    \"\"\"\n",
    "    tc = sum(counts_dict.values())\n",
    "    props = dict()\n",
    "    for k in counts_dict.keys():\n",
    "        props[k] = counts_dict[k]/tc\n",
    "    cnt = Counter(props)\n",
    "    return dict(sorted(cnt.items()))"
   ]
  },
  {
   "cell_type": "code",
   "execution_count": 63,
   "metadata": {},
   "outputs": [],
   "source": [
    "total_genre_props = convertCountstoProps(total_genre_counts)"
   ]
  },
  {
   "cell_type": "code",
   "execution_count": 64,
   "metadata": {},
   "outputs": [
    {
     "name": "stdout",
     "output_type": "stream",
     "text": [
      "{   'adult standards': 0.026778882938026015,\n",
      "    'country': 0.03902065799540933,\n",
      "    'edm': 0.03289977046671767,\n",
      "    'hip hop': 0.1063504208110176,\n",
      "    'house': 0.03902065799540933,\n",
      "    'indie': 0.036725325172149964,\n",
      "    'latin': 0.019892884468247895,\n",
      "    'other': 0.03749043611323642,\n",
      "    'pop': 0.2930374904361132,\n",
      "    'r&b': 0.032134659525631215,\n",
      "    'rap': 0.16449885233358838,\n",
      "    'rock': 0.0772762050497322,\n",
      "    'trap': 0.09487375669472073}\n"
     ]
    }
   ],
   "source": [
    "pp.pprint(total_genre_props)"
   ]
  },
  {
   "cell_type": "code",
   "execution_count": 65,
   "metadata": {},
   "outputs": [],
   "source": [
    "def getClusterProps(cluster_counts_dict):\n",
    "    \"\"\"\n",
    "    input: dict of Counters of genre counts in each cluster\n",
    "    output: dict of Counters of genre proportions in each cluster\n",
    "    \"\"\"\n",
    "    return {list(cluster_counts_dict.keys())[i]:               \\\n",
    "            convertCountstoProps(cluster_counts_dict[i]) \\\n",
    "            for i in list(cluster_counts_dict.keys())}\n"
   ]
  },
  {
   "cell_type": "code",
   "execution_count": 66,
   "metadata": {},
   "outputs": [],
   "source": [
    "def alignClusterGenres(cluster_counts_dict, all_genres):\n",
    "    \"\"\"\n",
    "    input:    dict of Counters of genre counts in each cluster;\n",
    "              list of all possible genres in entire dataset \n",
    "    output:   dict of Counters of genre counts in each cluster\n",
    "    purpose:  ensures that all genres in dataset appear in cluster; if \n",
    "              a genre is missing from the cluster, add the genre to the cluster\n",
    "              with value 0\n",
    "    \"\"\"\n",
    "    all_keys = set(all_genres)\n",
    "    for i in cluster_counts_dict.keys():\n",
    "        cluster = cluster_counts_dict[i]\n",
    "        cluster_keys = cluster.keys()\n",
    "        for k in all_keys - cluster_keys:\n",
    "            cluster[k] = 0\n",
    "    return cluster_counts_dict "
   ]
  },
  {
   "cell_type": "code",
   "execution_count": 67,
   "metadata": {},
   "outputs": [],
   "source": [
    "cluster_genre_counts = alignClusterGenres(cluster_genre_counts_raw, all_genres)"
   ]
  },
  {
   "cell_type": "code",
   "execution_count": 68,
   "metadata": {},
   "outputs": [
    {
     "name": "stdout",
     "output_type": "stream",
     "text": [
      "{   0: {   'adult standards': 1,\n",
      "           'country': 6,\n",
      "           'edm': 10,\n",
      "           'hip hop': 55,\n",
      "           'house': 17,\n",
      "           'indie': 9,\n",
      "           'latin': 1,\n",
      "           'other': 8,\n",
      "           'pop': 102,\n",
      "           'r&b': 10,\n",
      "           'rap': 97,\n",
      "           'rock': 27,\n",
      "           'trap': 33},\n",
      "    1: {   'adult standards': 0,\n",
      "           'country': 1,\n",
      "           'edm': 1,\n",
      "           'hip hop': 260,\n",
      "           'house': 2,\n",
      "           'indie': 5,\n",
      "           'latin': 4,\n",
      "           'other': 0,\n",
      "           'pop': 261,\n",
      "           'r&b': 19,\n",
      "           'rap': 328,\n",
      "           'rock': 4,\n",
      "           'trap': 233},\n",
      "    2: {   'adult standards': 7,\n",
      "           'country': 14,\n",
      "           'edm': 18,\n",
      "           'hip hop': 103,\n",
      "           'house': 20,\n",
      "           'indie': 11,\n",
      "           'latin': 31,\n",
      "           'other': 11,\n",
      "           'pop': 223,\n",
      "           'r&b': 9,\n",
      "           'rap': 147,\n",
      "           'rock': 33,\n",
      "           'trap': 82},\n",
      "    3: {   'adult standards': 13,\n",
      "           'country': 7,\n",
      "           'edm': 3,\n",
      "           'hip hop': 174,\n",
      "           'house': 5,\n",
      "           'indie': 10,\n",
      "           'latin': 2,\n",
      "           'other': 4,\n",
      "           'pop': 204,\n",
      "           'r&b': 16,\n",
      "           'rap': 215,\n",
      "           'rock': 17,\n",
      "           'trap': 139},\n",
      "    4: {   'adult standards': 1,\n",
      "           'country': 8,\n",
      "           'edm': 20,\n",
      "           'hip hop': 106,\n",
      "           'house': 24,\n",
      "           'indie': 13,\n",
      "           'latin': 2,\n",
      "           'other': 8,\n",
      "           'pop': 229,\n",
      "           'r&b': 31,\n",
      "           'rap': 169,\n",
      "           'rock': 28,\n",
      "           'trap': 80},\n",
      "    5: {   'adult standards': 1,\n",
      "           'country': 0,\n",
      "           'edm': 1,\n",
      "           'hip hop': 14,\n",
      "           'house': 0,\n",
      "           'indie': 3,\n",
      "           'latin': 1,\n",
      "           'other': 3,\n",
      "           'pop': 16,\n",
      "           'r&b': 3,\n",
      "           'rap': 18,\n",
      "           'rock': 4,\n",
      "           'trap': 14},\n",
      "    6: {   'adult standards': 8,\n",
      "           'country': 10,\n",
      "           'edm': 3,\n",
      "           'hip hop': 54,\n",
      "           'house': 3,\n",
      "           'indie': 14,\n",
      "           'latin': 1,\n",
      "           'other': 7,\n",
      "           'pop': 137,\n",
      "           'r&b': 22,\n",
      "           'rap': 77,\n",
      "           'rock': 18,\n",
      "           'trap': 33},\n",
      "    7: {   'adult standards': 7,\n",
      "           'country': 37,\n",
      "           'edm': 37,\n",
      "           'hip hop': 66,\n",
      "           'house': 30,\n",
      "           'indie': 13,\n",
      "           'latin': 2,\n",
      "           'other': 7,\n",
      "           'pop': 190,\n",
      "           'r&b': 14,\n",
      "           'rap': 99,\n",
      "           'rock': 55,\n",
      "           'trap': 44},\n",
      "    8: {   'adult standards': 0,\n",
      "           'country': 5,\n",
      "           'edm': 21,\n",
      "           'hip hop': 153,\n",
      "           'house': 23,\n",
      "           'indie': 8,\n",
      "           'latin': 12,\n",
      "           'other': 7,\n",
      "           'pop': 252,\n",
      "           'r&b': 7,\n",
      "           'rap': 213,\n",
      "           'rock': 11,\n",
      "           'trap': 122},\n",
      "    9: {   'adult standards': 0,\n",
      "           'country': 9,\n",
      "           'edm': 9,\n",
      "           'hip hop': 239,\n",
      "           'house': 7,\n",
      "           'indie': 14,\n",
      "           'latin': 10,\n",
      "           'other': 2,\n",
      "           'pop': 274,\n",
      "           'r&b': 19,\n",
      "           'rap': 342,\n",
      "           'rock': 13,\n",
      "           'trap': 222},\n",
      "    10: {   'adult standards': 30,\n",
      "            'country': 11,\n",
      "            'edm': 3,\n",
      "            'hip hop': 53,\n",
      "            'house': 7,\n",
      "            'indie': 13,\n",
      "            'latin': 0,\n",
      "            'other': 7,\n",
      "            'pop': 148,\n",
      "            'r&b': 23,\n",
      "            'rap': 72,\n",
      "            'rock': 18,\n",
      "            'trap': 22},\n",
      "    11: {   'adult standards': 3,\n",
      "            'country': 21,\n",
      "            'edm': 6,\n",
      "            'hip hop': 72,\n",
      "            'house': 9,\n",
      "            'indie': 16,\n",
      "            'latin': 16,\n",
      "            'other': 2,\n",
      "            'pop': 144,\n",
      "            'r&b': 8,\n",
      "            'rap': 104,\n",
      "            'rock': 35,\n",
      "            'trap': 50},\n",
      "    12: {   'adult standards': 23,\n",
      "            'country': 6,\n",
      "            'edm': 1,\n",
      "            'hip hop': 30,\n",
      "            'house': 1,\n",
      "            'indie': 11,\n",
      "            'latin': 0,\n",
      "            'other': 9,\n",
      "            'pop': 98,\n",
      "            'r&b': 21,\n",
      "            'rap': 39,\n",
      "            'rock': 13,\n",
      "            'trap': 9}}\n"
     ]
    }
   ],
   "source": [
    "pp.pprint(cluster_genre_counts)"
   ]
  },
  {
   "cell_type": "code",
   "execution_count": 69,
   "metadata": {},
   "outputs": [],
   "source": [
    "cluster_genre_props = getClusterProps(cluster_genre_counts)\n",
    "#dict of Counters of genre proportions in each cluster"
   ]
  },
  {
   "cell_type": "code",
   "execution_count": 70,
   "metadata": {},
   "outputs": [
    {
     "name": "stdout",
     "output_type": "stream",
     "text": [
      "{   0: {   'adult standards': 0.0026595744680851063,\n",
      "           'country': 0.015957446808510637,\n",
      "           'edm': 0.026595744680851064,\n",
      "           'hip hop': 0.14627659574468085,\n",
      "           'house': 0.04521276595744681,\n",
      "           'indie': 0.023936170212765957,\n",
      "           'latin': 0.0026595744680851063,\n",
      "           'other': 0.02127659574468085,\n",
      "           'pop': 0.2712765957446808,\n",
      "           'r&b': 0.026595744680851064,\n",
      "           'rap': 0.2579787234042553,\n",
      "           'rock': 0.07180851063829788,\n",
      "           'trap': 0.08776595744680851},\n",
      "    1: {   'adult standards': 0.0,\n",
      "           'country': 0.0008944543828264759,\n",
      "           'edm': 0.0008944543828264759,\n",
      "           'hip hop': 0.23255813953488372,\n",
      "           'house': 0.0017889087656529517,\n",
      "           'indie': 0.004472271914132379,\n",
      "           'latin': 0.0035778175313059034,\n",
      "           'other': 0.0,\n",
      "           'pop': 0.2334525939177102,\n",
      "           'r&b': 0.01699463327370304,\n",
      "           'rap': 0.29338103756708406,\n",
      "           'rock': 0.0035778175313059034,\n",
      "           'trap': 0.20840787119856888},\n",
      "    2: {   'adult standards': 0.009873060648801129,\n",
      "           'country': 0.019746121297602257,\n",
      "           'edm': 0.02538787023977433,\n",
      "           'hip hop': 0.14527503526093088,\n",
      "           'house': 0.028208744710860368,\n",
      "           'indie': 0.015514809590973202,\n",
      "           'latin': 0.04372355430183357,\n",
      "           'other': 0.015514809590973202,\n",
      "           'pop': 0.3145275035260931,\n",
      "           'r&b': 0.012693935119887164,\n",
      "           'rap': 0.2073342736248237,\n",
      "           'rock': 0.0465444287729196,\n",
      "           'trap': 0.1156558533145275},\n",
      "    3: {   'adult standards': 0.016069221260815822,\n",
      "           'country': 0.00865265760197775,\n",
      "           'edm': 0.003708281829419036,\n",
      "           'hip hop': 0.21508034610630408,\n",
      "           'house': 0.006180469715698393,\n",
      "           'indie': 0.012360939431396786,\n",
      "           'latin': 0.002472187886279357,\n",
      "           'other': 0.004944375772558714,\n",
      "           'pop': 0.2521631644004944,\n",
      "           'r&b': 0.019777503090234856,\n",
      "           'rap': 0.2657601977750309,\n",
      "           'rock': 0.021013597033374538,\n",
      "           'trap': 0.17181705809641531},\n",
      "    4: {   'adult standards': 0.0013908205841446453,\n",
      "           'country': 0.011126564673157162,\n",
      "           'edm': 0.027816411682892908,\n",
      "           'hip hop': 0.1474269819193324,\n",
      "           'house': 0.03337969401947149,\n",
      "           'indie': 0.01808066759388039,\n",
      "           'latin': 0.0027816411682892906,\n",
      "           'other': 0.011126564673157162,\n",
      "           'pop': 0.3184979137691238,\n",
      "           'r&b': 0.043115438108484005,\n",
      "           'rap': 0.23504867872044508,\n",
      "           'rock': 0.03894297635605007,\n",
      "           'trap': 0.11126564673157163},\n",
      "    5: {   'adult standards': 0.01282051282051282,\n",
      "           'country': 0.0,\n",
      "           'edm': 0.01282051282051282,\n",
      "           'hip hop': 0.1794871794871795,\n",
      "           'house': 0.0,\n",
      "           'indie': 0.038461538461538464,\n",
      "           'latin': 0.01282051282051282,\n",
      "           'other': 0.038461538461538464,\n",
      "           'pop': 0.20512820512820512,\n",
      "           'r&b': 0.038461538461538464,\n",
      "           'rap': 0.23076923076923078,\n",
      "           'rock': 0.05128205128205128,\n",
      "           'trap': 0.1794871794871795},\n",
      "    6: {   'adult standards': 0.020671834625323,\n",
      "           'country': 0.025839793281653745,\n",
      "           'edm': 0.007751937984496124,\n",
      "           'hip hop': 0.13953488372093023,\n",
      "           'house': 0.007751937984496124,\n",
      "           'indie': 0.03617571059431524,\n",
      "           'latin': 0.002583979328165375,\n",
      "           'other': 0.01808785529715762,\n",
      "           'pop': 0.35400516795865633,\n",
      "           'r&b': 0.056847545219638244,\n",
      "           'rap': 0.19896640826873385,\n",
      "           'rock': 0.046511627906976744,\n",
      "           'trap': 0.08527131782945736},\n",
      "    7: {   'adult standards': 0.011647254575707155,\n",
      "           'country': 0.06156405990016639,\n",
      "           'edm': 0.06156405990016639,\n",
      "           'hip hop': 0.10981697171381032,\n",
      "           'house': 0.04991680532445923,\n",
      "           'indie': 0.021630615640599003,\n",
      "           'latin': 0.0033277870216306157,\n",
      "           'other': 0.011647254575707155,\n",
      "           'pop': 0.3161397670549085,\n",
      "           'r&b': 0.02329450915141431,\n",
      "           'rap': 0.16472545757071547,\n",
      "           'rock': 0.09151414309484193,\n",
      "           'trap': 0.07321131447587355},\n",
      "    8: {   'adult standards': 0.0,\n",
      "           'country': 0.005995203836930456,\n",
      "           'edm': 0.025179856115107913,\n",
      "           'hip hop': 0.18345323741007194,\n",
      "           'house': 0.027577937649880094,\n",
      "           'indie': 0.009592326139088728,\n",
      "           'latin': 0.014388489208633094,\n",
      "           'other': 0.008393285371702638,\n",
      "           'pop': 0.302158273381295,\n",
      "           'r&b': 0.008393285371702638,\n",
      "           'rap': 0.25539568345323743,\n",
      "           'rock': 0.013189448441247002,\n",
      "           'trap': 0.14628297362110312},\n",
      "    9: {   'adult standards': 0.0,\n",
      "           'country': 0.007758620689655172,\n",
      "           'edm': 0.007758620689655172,\n",
      "           'hip hop': 0.20603448275862069,\n",
      "           'house': 0.00603448275862069,\n",
      "           'indie': 0.01206896551724138,\n",
      "           'latin': 0.008620689655172414,\n",
      "           'other': 0.0017241379310344827,\n",
      "           'pop': 0.23620689655172414,\n",
      "           'r&b': 0.016379310344827588,\n",
      "           'rap': 0.29482758620689653,\n",
      "           'rock': 0.011206896551724138,\n",
      "           'trap': 0.19137931034482758},\n",
      "    10: {   'adult standards': 0.07371007371007371,\n",
      "            'country': 0.02702702702702703,\n",
      "            'edm': 0.007371007371007371,\n",
      "            'hip hop': 0.13022113022113022,\n",
      "            'house': 0.0171990171990172,\n",
      "            'indie': 0.03194103194103194,\n",
      "            'latin': 0.0,\n",
      "            'other': 0.0171990171990172,\n",
      "            'pop': 0.36363636363636365,\n",
      "            'r&b': 0.056511056511056514,\n",
      "            'rap': 0.1769041769041769,\n",
      "            'rock': 0.044226044226044224,\n",
      "            'trap': 0.05405405405405406},\n",
      "    11: {   'adult standards': 0.006172839506172839,\n",
      "            'country': 0.043209876543209874,\n",
      "            'edm': 0.012345679012345678,\n",
      "            'hip hop': 0.14814814814814814,\n",
      "            'house': 0.018518518518518517,\n",
      "            'indie': 0.03292181069958848,\n",
      "            'latin': 0.03292181069958848,\n",
      "            'other': 0.00411522633744856,\n",
      "            'pop': 0.2962962962962963,\n",
      "            'r&b': 0.01646090534979424,\n",
      "            'rap': 0.2139917695473251,\n",
      "            'rock': 0.0720164609053498,\n",
      "            'trap': 0.102880658436214},\n",
      "    12: {   'adult standards': 0.08812260536398467,\n",
      "            'country': 0.022988505747126436,\n",
      "            'edm': 0.0038314176245210726,\n",
      "            'hip hop': 0.11494252873563218,\n",
      "            'house': 0.0038314176245210726,\n",
      "            'indie': 0.0421455938697318,\n",
      "            'latin': 0.0,\n",
      "            'other': 0.034482758620689655,\n",
      "            'pop': 0.37547892720306514,\n",
      "            'r&b': 0.08045977011494253,\n",
      "            'rap': 0.14942528735632185,\n",
      "            'rock': 0.04980842911877394,\n",
      "            'trap': 0.034482758620689655}}\n"
     ]
    }
   ],
   "source": [
    "pp.pprint(cluster_genre_props)"
   ]
  },
  {
   "cell_type": "code",
   "execution_count": 103,
   "metadata": {},
   "outputs": [],
   "source": [
    "def propDiff(overall_props, cluster_props):\n",
    "    \"\"\"\n",
    "    inputs: Counter of proportions of artist genres in overall dataset; \n",
    "            Counter of proportions of artist genres in single cluster\n",
    "    output: Counter of absolute differences in artist genre proportions between\n",
    "            overall dataset and single cluster\n",
    "    \"\"\"\n",
    "    return {k:float(cluster_props[k] - overall_props[k]) \\\n",
    "            for k in overall_props.keys()}"
   ]
  },
  {
   "cell_type": "code",
   "execution_count": 104,
   "metadata": {},
   "outputs": [],
   "source": [
    "def getPropDiffs(overall_props, cluster_props_dict):\n",
    "    out = dict()\n",
    "    for i in cluster_props_dict.keys():\n",
    "        out[i] = propDiff(overall_props, cluster_props_dict[i])\n",
    "    return out\n",
    "    "
   ]
  },
  {
   "cell_type": "code",
   "execution_count": 105,
   "metadata": {},
   "outputs": [
    {
     "name": "stdout",
     "output_type": "stream",
     "text": [
      "{   0: {   'adult standards': -0.024119308469940908,\n",
      "           'country': -0.023063211186898695,\n",
      "           'edm': -0.006304025785866609,\n",
      "           'hip hop': 0.03992617493366325,\n",
      "           'house': 0.00619210796203748,\n",
      "           'indie': -0.012789154959384007,\n",
      "           'latin': -0.017233310000162788,\n",
      "           'other': -0.01621384036855557,\n",
      "           'pop': -0.021760894691432386,\n",
      "           'r&b': -0.005538914844780151,\n",
      "           'rap': 0.09347987107066694,\n",
      "           'rock': -0.005467694411434326,\n",
      "           'trap': -0.0071077992479122165},\n",
      "    1: {   'adult standards': -0.026778882938026015,\n",
      "           'country': -0.03812620361258286,\n",
      "           'edm': -0.0320053160838912,\n",
      "           'hip hop': 0.1262077187238661,\n",
      "           'house': -0.03723174922975638,\n",
      "           'indie': -0.03225305325801758,\n",
      "           'latin': -0.016315066936941992,\n",
      "           'other': -0.03749043611323642,\n",
      "           'pop': -0.05958489651840301,\n",
      "           'r&b': -0.015140026251928174,\n",
      "           'rap': 0.12888218523349568,\n",
      "           'rock': -0.0736983875184263,\n",
      "           'trap': 0.11353411450384815},\n",
      "    2: {   'adult standards': -0.016905822289224888,\n",
      "           'country': -0.019274536697807074,\n",
      "           'edm': -0.0075119002269433445,\n",
      "           'hip hop': 0.03892461444991328,\n",
      "           'house': -0.010811913284548964,\n",
      "           'indie': -0.021210515581176762,\n",
      "           'latin': 0.023830669833585675,\n",
      "           'other': -0.02197562652226322,\n",
      "           'pop': 0.021490013089979887,\n",
      "           'r&b': -0.01944072440574405,\n",
      "           'rap': 0.042835421291235326,\n",
      "           'rock': -0.030731776276812603,\n",
      "           'trap': 0.020782096619806775},\n",
      "    3: {   'adult standards': -0.010709661677210193,\n",
      "           'country': -0.03036800039343158,\n",
      "           'edm': -0.02919148863729864,\n",
      "           'hip hop': 0.10872992529528648,\n",
      "           'house': -0.03284018827971094,\n",
      "           'indie': -0.024364385740753176,\n",
      "           'latin': -0.01742069658196854,\n",
      "           'other': -0.03254606034067771,\n",
      "           'pop': -0.0408743260356188,\n",
      "           'r&b': -0.012357156435396359,\n",
      "           'rap': 0.10126134544144252,\n",
      "           'rock': -0.05626260801635767,\n",
      "           'trap': 0.07694330140169459},\n",
      "    4: {   'adult standards': -0.025388062353881368,\n",
      "           'country': -0.02789409332225217,\n",
      "           'edm': -0.005083358783824765,\n",
      "           'hip hop': 0.0410765611083148,\n",
      "           'house': -0.005640963975937843,\n",
      "           'indie': -0.018644657578269573,\n",
      "           'latin': -0.017111243299958605,\n",
      "           'other': -0.026363871440079262,\n",
      "           'pop': 0.025460423333010573,\n",
      "           'r&b': 0.01098077858285279,\n",
      "           'rap': 0.0705498263868567,\n",
      "           'rock': -0.038333228693682136,\n",
      "           'trap': 0.016391890036850904},\n",
      "    5: {   'adult standards': -0.013958370117513195,\n",
      "           'country': -0.03902065799540933,\n",
      "           'edm': -0.020079257646204853,\n",
      "           'hip hop': 0.07313675867616189,\n",
      "           'house': -0.03902065799540933,\n",
      "           'indie': 0.0017362132893884996,\n",
      "           'latin': -0.007072371647735075,\n",
      "           'other': 0.0009711023483020415,\n",
      "           'pop': -0.08790928530790809,\n",
      "           'r&b': 0.006326878935907249,\n",
      "           'rap': 0.0662703784356424,\n",
      "           'rock': -0.025994153767680925,\n",
      "           'trap': 0.08461342279245876},\n",
      "    6: {   'adult standards': -0.006107048312703017,\n",
      "           'country': -0.013180864713755586,\n",
      "           'edm': -0.02514783248222155,\n",
      "           'hip hop': 0.03318446290991263,\n",
      "           'house': -0.03126872001091321,\n",
      "           'indie': -0.0005496145778347214,\n",
      "           'latin': -0.01730890514008252,\n",
      "           'other': -0.0194025808160788,\n",
      "           'pop': 0.06096767752254312,\n",
      "           'r&b': 0.02471288569400703,\n",
      "           'rap': 0.03446755593514547,\n",
      "           'rock': -0.03076457714275546,\n",
      "           'trap': -0.009602438865263366},\n",
      "    7: {   'adult standards': -0.01513162836231886,\n",
      "           'country': 0.02254340190475706,\n",
      "           'edm': 0.028664289433448717,\n",
      "           'hip hop': 0.0034665509027927144,\n",
      "           'house': 0.0108961473290499,\n",
      "           'indie': -0.01509470953155096,\n",
      "           'latin': -0.01656509744661728,\n",
      "           'other': -0.025843181537529267,\n",
      "           'pop': 0.02310227661879527,\n",
      "           'r&b': -0.008840150374216905,\n",
      "           'rap': 0.00022660523712708658,\n",
      "           'rock': 0.014237938045109727,\n",
      "           'trap': -0.02166244221884718},\n",
      "    8: {   'adult standards': -0.026778882938026015,\n",
      "           'country': -0.03302545415847888,\n",
      "           'edm': -0.00771991435160976,\n",
      "           'hip hop': 0.07710281659905434,\n",
      "           'house': -0.011442720345529237,\n",
      "           'indie': -0.027132999033061236,\n",
      "           'latin': -0.005504395259614801,\n",
      "           'other': -0.029097150741533784,\n",
      "           'pop': 0.00912078294518176,\n",
      "           'r&b': -0.023741374153928577,\n",
      "           'rap': 0.09089683111964905,\n",
      "           'rock': -0.0640867566084852,\n",
      "           'trap': 0.051409216926382395},\n",
      "    9: {   'adult standards': -0.026778882938026015,\n",
      "           'country': -0.03126203730575416,\n",
      "           'edm': -0.0251411497770625,\n",
      "           'hip hop': 0.09968406194760308,\n",
      "           'house': -0.032986175236788644,\n",
      "           'indie': -0.024656359654908585,\n",
      "           'latin': -0.011272194813075481,\n",
      "           'other': -0.035766298182201936,\n",
      "           'pop': -0.056830593884389075,\n",
      "           'r&b': -0.015755349180803627,\n",
      "           'rap': 0.13032873387330815,\n",
      "           'rock': -0.06606930849800807,\n",
      "           'trap': 0.09650555365010685},\n",
      "    10: {   'adult standards': 0.046931190772047694,\n",
      "            'country': -0.011993630968382303,\n",
      "            'edm': -0.025528763095710304,\n",
      "            'hip hop': 0.023870709410112614,\n",
      "            'house': -0.021821640796392133,\n",
      "            'indie': -0.0047842932311180225,\n",
      "            'latin': -0.019892884468247895,\n",
      "            'other': -0.020291418914219223,\n",
      "            'pop': 0.07059887320025043,\n",
      "            'r&b': 0.0243763969854253,\n",
      "            'rap': 0.012405324570588516,\n",
      "            'rock': -0.03305016082368798,\n",
      "            'trap': -0.04081970264066667},\n",
      "    11: {   'adult standards': -0.020606043431853176,\n",
      "            'country': 0.0041892185478005425,\n",
      "            'edm': -0.020554091454371995,\n",
      "            'hip hop': 0.04179772733713054,\n",
      "            'house': -0.020502139476890814,\n",
      "            'indie': -0.003803514472561484,\n",
      "            'latin': 0.013028926231340585,\n",
      "            'other': -0.03337520977578786,\n",
      "            'pop': 0.003258805860183067,\n",
      "            'r&b': -0.015673754175836975,\n",
      "            'rap': 0.04949291721373672,\n",
      "            'rock': -0.0052597441443824056,\n",
      "            'trap': 0.008006901741493266},\n",
      "    12: {   'adult standards': 0.061343722425958654,\n",
      "            'country': -0.016032152248282895,\n",
      "            'edm': -0.0290683528421966,\n",
      "            'hip hop': 0.008592107924614581,\n",
      "            'house': -0.03518924037088826,\n",
      "            'indie': 0.0054202686975818384,\n",
      "            'latin': -0.019892884468247895,\n",
      "            'other': -0.0030076774925467675,\n",
      "            'pop': 0.08244143676695193,\n",
      "            'r&b': 0.04832511058931131,\n",
      "            'rap': -0.01507356497726653,\n",
      "            'rock': -0.02746777593095826,\n",
      "            'trap': -0.060390998074031074}}\n"
     ]
    }
   ],
   "source": [
    "prop_diffs = getPropDiffs(total_genre_props, cluster_genre_props)\n",
    "pp.pprint(prop_diffs)"
   ]
  },
  {
   "cell_type": "code",
   "execution_count": 106,
   "metadata": {},
   "outputs": [
    {
     "data": {
      "text/plain": [
       "{0: [('rap', 0.09347987107066694)],\n",
       " 1: [('rap', 0.12888218523349568)],\n",
       " 2: [('rap', 0.042835421291235326)],\n",
       " 3: [('hip hop', 0.10872992529528648)],\n",
       " 4: [('rap', 0.0705498263868567)],\n",
       " 5: [('trap', 0.08461342279245876)],\n",
       " 6: [('pop', 0.06096767752254312)],\n",
       " 7: [('edm', 0.028664289433448717)],\n",
       " 8: [('rap', 0.09089683111964905)],\n",
       " 9: [('rap', 0.13032873387330815)],\n",
       " 10: [('pop', 0.07059887320025043)],\n",
       " 11: [('rap', 0.04949291721373672)],\n",
       " 12: [('pop', 0.08244143676695193)]}"
      ]
     },
     "execution_count": 106,
     "metadata": {},
     "output_type": "execute_result"
    }
   ],
   "source": [
    "{i:Counter(prop_diffs[i]).most_common(1)for i in prop_diffs.keys()}"
   ]
  },
  {
   "cell_type": "code",
   "execution_count": 107,
   "metadata": {},
   "outputs": [],
   "source": [
    "def chisqTest(overall_props, cluster_counts):\n",
    "    \n",
    "    total = sum(cluster_counts.values())\n",
    "    \n",
    "    exp = np.array(list(overall_props.values())) * total\n",
    "    obs = np.array(list(cluster_counts.values()))\n",
    "    return chisquare(f_obs = obs, f_exp = exp)\n",
    "    "
   ]
  },
  {
   "cell_type": "code",
   "execution_count": 108,
   "metadata": {},
   "outputs": [],
   "source": [
    "def classify_chisq(overall_props, cluster_counts_dict, cluster_diffs):\n",
    "    out = dict()\n",
    "    for i in cluster_counts_dict.keys():\n",
    "        cluster = cluster_counts_dict[i]\n",
    "        results = chisqTest(overall_props, cluster)\n",
    "        if results[1] <= .01:\n",
    "            out[i] = max(cluster_diffs[i], key = cluster_diffs[i].get)\n",
    "        else:\n",
    "            out[i] = Counter(cluster).most_common(1) \n",
    "    return out\n",
    "                    \n",
    "        \n",
    "        "
   ]
  },
  {
   "cell_type": "code",
   "execution_count": 109,
   "metadata": {},
   "outputs": [
    {
     "data": {
      "text/plain": [
       "{'adult standards': 0.0,\n",
       " 'country': 0.0008944543828264759,\n",
       " 'edm': 0.0008944543828264759,\n",
       " 'hip hop': 0.23255813953488372,\n",
       " 'house': 0.0017889087656529517,\n",
       " 'indie': 0.004472271914132379,\n",
       " 'latin': 0.0035778175313059034,\n",
       " 'other': 0.0,\n",
       " 'pop': 0.2334525939177102,\n",
       " 'r&b': 0.01699463327370304,\n",
       " 'rap': 0.29338103756708406,\n",
       " 'rock': 0.0035778175313059034,\n",
       " 'trap': 0.20840787119856888}"
      ]
     },
     "execution_count": 109,
     "metadata": {},
     "output_type": "execute_result"
    }
   ],
   "source": [
    "convertCountstoProps(cluster_genre_counts[1])"
   ]
  },
  {
   "cell_type": "code",
   "execution_count": 110,
   "metadata": {},
   "outputs": [
    {
     "data": {
      "text/plain": [
       "{'adult standards': -0.026778882938026015,\n",
       " 'country': -0.03812620361258286,\n",
       " 'edm': -0.0320053160838912,\n",
       " 'hip hop': 0.1262077187238661,\n",
       " 'house': -0.03723174922975638,\n",
       " 'indie': -0.03225305325801758,\n",
       " 'latin': -0.016315066936941992,\n",
       " 'other': -0.03749043611323642,\n",
       " 'pop': -0.05958489651840301,\n",
       " 'r&b': -0.015140026251928174,\n",
       " 'rap': 0.12888218523349568,\n",
       " 'rock': -0.0736983875184263,\n",
       " 'trap': 0.11353411450384815}"
      ]
     },
     "execution_count": 110,
     "metadata": {},
     "output_type": "execute_result"
    }
   ],
   "source": [
    "prop_diffs[1]"
   ]
  },
  {
   "cell_type": "code",
   "execution_count": 111,
   "metadata": {
    "scrolled": false
   },
   "outputs": [
    {
     "data": {
      "image/png": "[encoded data removed]",
      "text/plain": [
       "<Figure size 432x288 with 1 Axes>"
      ]
     },
     "metadata": {
      "needs_background": "light"
     },
     "output_type": "display_data"
    },
    {
     "data": {
      "image/png": "[encoded data removed]",
      "text/plain": [
       "<Figure size 432x288 with 1 Axes>"
      ]
     },
     "metadata": {
      "needs_background": "light"
     },
     "output_type": "display_data"
    },
    {
     "data": {
      "image/png": "[encoded data removed]",
      "text/plain": [
       "<Figure size 432x288 with 1 Axes>"
      ]
     },
     "metadata": {
      "needs_background": "light"
     },
     "output_type": "display_data"
    },
    {
     "data": {
      "image/png": "[encoded data removed]",
      "text/plain": [
       "<Figure size 432x288 with 1 Axes>"
      ]
     },
     "metadata": {
      "needs_background": "light"
     },
     "output_type": "display_data"
    },
    {
     "data": {
      "image/png": "[encoded data removed]",
      "text/plain": [
       "<Figure size 432x288 with 1 Axes>"
      ]
     },
     "metadata": {
      "needs_background": "light"
     },
     "output_type": "display_data"
    },
    {
     "data": {
      "image/png": "[encoded data removed]",
      "text/plain": [
       "<Figure size 432x288 with 1 Axes>"
      ]
     },
     "metadata": {
      "needs_background": "light"
     },
     "output_type": "display_data"
    },
    {
     "data": {
      "image/png": "[encoded data removed]",
      "text/plain": [
       "<Figure size 432x288 with 1 Axes>"
      ]
     },
     "metadata": {
      "needs_background": "light"
     },
     "output_type": "display_data"
    },
    {
     "data": {
      "image/png": "[encoded data removed]",
      "text/plain": [
       "<Figure size 432x288 with 1 Axes>"
      ]
     },
     "metadata": {
      "needs_background": "light"
     },
     "output_type": "display_data"
    },
    {
     "data": {
      "image/png": "[encoded data removed]",
      "text/plain": [
       "<Figure size 432x288 with 1 Axes>"
      ]
     },
     "metadata": {
      "needs_background": "light"
     },
     "output_type": "display_data"
    },
    {
     "data": {
      "image/png": "[encoded data removed]",
      "text/plain": [
       "<Figure size 432x288 with 1 Axes>"
      ]
     },
     "metadata": {
      "needs_background": "light"
     },
     "output_type": "display_data"
    },
    {
     "data": {
      "image/png": "[encoded data removed]",
      "text/plain": [
       "<Figure size 432x288 with 1 Axes>"
      ]
     },
     "metadata": {
      "needs_background": "light"
     },
     "output_type": "display_data"
    },
    {
     "data": {
      "image/png": "[encoded data removed]",
      "text/plain": [
       "<Figure size 432x288 with 1 Axes>"
      ]
     },
     "metadata": {
      "needs_background": "light"
     },
     "output_type": "display_data"
    },
    {
     "data": {
      "image/png": "[encoded data removed]",
      "text/plain": [
       "<Figure size 432x288 with 1 Axes>"
      ]
     },
     "metadata": {
      "needs_background": "light"
     },
     "output_type": "display_data"
    }
   ],
   "source": [
    "for i in prop_diffs.keys():\n",
    "    plt.barh(range(0,len(prop_diffs[i].keys())), prop_diffs[i].values())\n",
    "    plt.yticks(range(0,len(prop_diffs[i].keys())), prop_diffs[i].keys())\n",
    "    plt.title(f\"cluster {i}\")\n",
    "    plt.xlabel(\"diff btwn df proportion and cluster proportion\")\n",
    "    plt.show()\n"
   ]
  },
  {
   "cell_type": "code",
   "execution_count": 112,
   "metadata": {
    "scrolled": false
   },
   "outputs": [
    {
     "data": {
      "text/plain": [
       "{0: 'rap',\n",
       " 1: 'rap',\n",
       " 2: 'rap',\n",
       " 3: 'hip hop',\n",
       " 4: 'rap',\n",
       " 5: 'trap',\n",
       " 6: 'pop',\n",
       " 7: 'edm',\n",
       " 8: 'rap',\n",
       " 9: 'rap',\n",
       " 10: 'pop',\n",
       " 11: 'rap',\n",
       " 12: 'pop'}"
      ]
     },
     "execution_count": 112,
     "metadata": {},
     "output_type": "execute_result"
    }
   ],
   "source": [
    "classify_chisq(total_genre_props, cluster_genre_counts, prop_diffs)"
   ]
  },
  {
   "cell_type": "code",
   "execution_count": 113,
   "metadata": {},
   "outputs": [
    {
     "data": {
      "text/plain": [
       "Counter({'Lil Pump': 3,\n",
       "         'Cardi B': 6,\n",
       "         'Offset': 7,\n",
       "         'Khalid': 4,\n",
       "         'Lil Uzi Vert': 3,\n",
       "         '21 Savage': 6,\n",
       "         'Kendrick Lamar': 1,\n",
       "         'Migos': 13,\n",
       "         'Famous Dex': 1,\n",
       "         'Logic': 5,\n",
       "         'Kodak Black': 2,\n",
       "         'Maroon 5': 1,\n",
       "         'Marshmello': 1,\n",
       "         'NF': 1,\n",
       "         'Gucci Mane': 8,\n",
       "         'Eminem': 3,\n",
       "         'Miguel': 1,\n",
       "         'Travis Scott': 5,\n",
       "         'Lil Xan': 1,\n",
       "         'Drake': 15,\n",
       "         'The Chainsmokers': 1,\n",
       "         'NAV': 8,\n",
       "         'Taylor Swift': 1,\n",
       "         'Huncho Jack': 4,\n",
       "         'XXXTENTACION': 11,\n",
       "         'A Boogie Wit da Hoodie': 2,\n",
       "         '6ix9ine': 3,\n",
       "         'Future': 17,\n",
       "         'Shawn Mendes': 1,\n",
       "         'BTS': 1,\n",
       "         'Sam Hunt': 1,\n",
       "         'Rich The Kid': 9,\n",
       "         'Quality Control': 6,\n",
       "         '2 Chainz': 2,\n",
       "         'Young Thug': 16,\n",
       "         'Bad Bunny': 4,\n",
       "         'blackbear': 1,\n",
       "         'Trippie Redd': 8,\n",
       "         'Russ': 4,\n",
       "         'GoldLink': 1,\n",
       "         'ZAYN': 1,\n",
       "         'J. Cole': 3,\n",
       "         'Jaden': 1,\n",
       "         'Chance the Rapper': 1,\n",
       "         'Julia Michaels': 1,\n",
       "         'Trouble': 1,\n",
       "         'Rae Sremmurd': 9,\n",
       "         'Macklemore': 1,\n",
       "         'Bryson Tiller': 2,\n",
       "         '6LACK': 2,\n",
       "         'Justin Timberlake': 1,\n",
       "         'Jay Rock': 1,\n",
       "         'YoungBoy Never Broke Again': 3,\n",
       "         'H.E.R.': 1,\n",
       "         'Daniel Caesar': 1,\n",
       "         'Rich Brian': 1,\n",
       "         'Meek Mill': 1,\n",
       "         'ScHoolboy Q': 6,\n",
       "         'Frank Ocean': 1,\n",
       "         'A$AP Rocky': 3,\n",
       "         'YG': 7,\n",
       "         '5 Seconds of Summer': 1,\n",
       "         'Janelle Monáe': 1,\n",
       "         'Good Gas': 1,\n",
       "         'Swae Lee': 2,\n",
       "         'Lil Yachty': 8,\n",
       "         'Smokepurpp': 4,\n",
       "         'Diplo': 1,\n",
       "         'Belly': 1,\n",
       "         'Ty Dolla $ign': 1,\n",
       "         'Mike WiLL Made-It': 1,\n",
       "         'Nicki Minaj': 3,\n",
       "         'Juice WRLD': 1,\n",
       "         'Ariana Grande': 3,\n",
       "         'Billie Eilish': 5,\n",
       "         'Wiz Khalifa': 1,\n",
       "         'Kanye West': 4,\n",
       "         'Christina Aguilera': 1,\n",
       "         'Bhad Bhabie': 1,\n",
       "         'Lil Baby': 12,\n",
       "         'Tyga': 1,\n",
       "         'Mac Miller': 8,\n",
       "         'KIDS SEE GHOSTS': 1,\n",
       "         'The Carters': 1,\n",
       "         'Ski Mask The Slump God': 5,\n",
       "         'Bass Santana': 1,\n",
       "         'Miley Cyrus': 1,\n",
       "         'Twenty One Pilots': 1,\n",
       "         'DJ Snake': 1,\n",
       "         'MadeinTYO': 1,\n",
       "         'LANY': 1,\n",
       "         'YBN Cordae': 2,\n",
       "         'Quavo': 4,\n",
       "         \"Why Don't We\": 1,\n",
       "         'Young Dolph': 1,\n",
       "         'BROCKHAMPTON': 1,\n",
       "         'YNW Melly': 2,\n",
       "         'Lil Wayne': 3,\n",
       "         'Gunna': 4,\n",
       "         'Takeoff': 4,\n",
       "         'Metro Boomin': 4,\n",
       "         'Blueface': 3,\n",
       "         'James Blake': 1,\n",
       "         'Mustard': 3,\n",
       "         'Kid Trunks': 1,\n",
       "         'Boogie': 1,\n",
       "         'Summer Walker': 1,\n",
       "         'Jonas Brothers': 1,\n",
       "         'Solange': 2,\n",
       "         'YK Osiris': 1,\n",
       "         'Roddy Ricch': 4,\n",
       "         'Lil Tecca': 2,\n",
       "         'Dreamville': 1,\n",
       "         'Y2K': 1,\n",
       "         'Ambjaay': 1,\n",
       "         'Lil Durk': 1,\n",
       "         'Doja Cat': 1,\n",
       "         'Young M.A': 1,\n",
       "         'Trevor Daniel': 1,\n",
       "         'Glass Animals': 1,\n",
       "         'Rod Wave': 1,\n",
       "         'PARTYNEXTDOOR': 1,\n",
       "         'JACKBOYS': 1})"
      ]
     },
     "execution_count": 113,
     "metadata": {},
     "output_type": "execute_result"
    }
   ],
   "source": [
    "cluster_artist_counter[1]"
   ]
  },
  {
   "cell_type": "code",
   "execution_count": null,
   "metadata": {},
   "outputs": [],
   "source": []
  }
 ],
 "metadata": {
  "kernelspec": {
   "display_name": "Python 3",
   "language": "python",
   "name": "python3"
  },
  "language_info": {
   "codemirror_mode": {
    "name": "ipython",
    "version": 3
   },
   "file_extension": ".py",
   "mimetype": "text/x-python",
   "name": "python",
   "nbconvert_exporter": "python",
   "pygments_lexer": "ipython3",
   "version": "3.7.4"
  }
 },
 "nbformat": 4,
 "nbformat_minor": 2
}
