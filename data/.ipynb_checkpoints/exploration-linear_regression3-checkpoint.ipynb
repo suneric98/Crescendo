{
 "cells": [
  {
   "cell_type": "code",
   "execution_count": 48,
   "metadata": {},
   "outputs": [],
   "source": [
    "import pandas as pd  \n",
    "import numpy as np  \n",
    "import matplotlib.pyplot as plt  \n",
    "import seaborn as seabornInstance \n",
    "from sklearn.model_selection import train_test_split \n",
    "from sklearn.linear_model import LinearRegression\n",
    "from sklearn import metrics\n",
    "%matplotlib inline\n",
    "import json\n",
    "import datetime \n",
    "#import spotipy\n",
    "#import spotipy.util as util\n",
    "\n",
    "# normal cdf\n",
    "from scipy.stats import norm\n",
    "\n",
    "\n",
    "# linear regression\n",
    "import statsmodels.api as sm\n",
    "from statsmodels.stats.outliers_influence import variance_inflation_factor\n",
    "\n",
    "# for choosing covariates to include in model\n",
    "from patsy import dmatrices"
   ]
  },
  {
   "cell_type": "code",
   "execution_count": 49,
   "metadata": {},
   "outputs": [],
   "source": [
    "scope = 'playlist-read-private playlist-read-collaborative user-library-read user-read-recently-played user-top-read'\n",
    "redirect_uri = \"http://localhost/\"\n",
    "username = \"\"\n",
    "client_id = \"\"\n",
    "client_secret = \"\""
   ]
  },
  {
   "cell_type": "code",
   "execution_count": 50,
   "metadata": {},
   "outputs": [
    {
     "data": {
      "text/html": [
       "<div>\n",
       "<style scoped>\n",
       "    .dataframe tbody tr th:only-of-type {\n",
       "        vertical-align: middle;\n",
       "    }\n",
       "\n",
       "    .dataframe tbody tr th {\n",
       "        vertical-align: top;\n",
       "    }\n",
       "\n",
       "    .dataframe thead th {\n",
       "        text-align: right;\n",
       "    }\n",
       "</style>\n",
       "<table border=\"1\" class=\"dataframe\">\n",
       "  <thead>\n",
       "    <tr style=\"text-align: right;\">\n",
       "      <th></th>\n",
       "      <th>Unnamed: 0</th>\n",
       "      <th>Unnamed: 0.1</th>\n",
       "      <th>Artist</th>\n",
       "      <th>Song</th>\n",
       "      <th>Rank</th>\n",
       "      <th>Streams</th>\n",
       "      <th>Date</th>\n",
       "      <th>Id</th>\n",
       "      <th>Duration</th>\n",
       "      <th>Time Signature</th>\n",
       "      <th>Tempo</th>\n",
       "      <th>Key</th>\n",
       "      <th>Mode</th>\n",
       "      <th>Valence</th>\n",
       "      <th>Danceability</th>\n",
       "      <th>Energy</th>\n",
       "      <th>Acousticness</th>\n",
       "      <th>Instrumentalness</th>\n",
       "    </tr>\n",
       "  </thead>\n",
       "  <tbody>\n",
       "    <tr>\n",
       "      <th>0</th>\n",
       "      <td>0</td>\n",
       "      <td>0</td>\n",
       "      <td>Post Malone</td>\n",
       "      <td>rockstar</td>\n",
       "      <td>1</td>\n",
       "      <td>1502394</td>\n",
       "      <td>2018-01-01</td>\n",
       "      <td>0e7ipj03S05BNilyu5bRzt</td>\n",
       "      <td>218147</td>\n",
       "      <td>4</td>\n",
       "      <td>159.801</td>\n",
       "      <td>5</td>\n",
       "      <td>0</td>\n",
       "      <td>0.129</td>\n",
       "      <td>0.585</td>\n",
       "      <td>0.520</td>\n",
       "      <td>0.12400</td>\n",
       "      <td>0.000070</td>\n",
       "    </tr>\n",
       "    <tr>\n",
       "      <th>1</th>\n",
       "      <td>1</td>\n",
       "      <td>1</td>\n",
       "      <td>G-Eazy</td>\n",
       "      <td>No Limit</td>\n",
       "      <td>2</td>\n",
       "      <td>1027039</td>\n",
       "      <td>2018-01-01</td>\n",
       "      <td>2DQ1ITjI0YoLFzuADN1ZBW</td>\n",
       "      <td>245387</td>\n",
       "      <td>4</td>\n",
       "      <td>175.957</td>\n",
       "      <td>1</td>\n",
       "      <td>1</td>\n",
       "      <td>0.405</td>\n",
       "      <td>0.838</td>\n",
       "      <td>0.771</td>\n",
       "      <td>0.01170</td>\n",
       "      <td>0.000000</td>\n",
       "    </tr>\n",
       "    <tr>\n",
       "      <th>2</th>\n",
       "      <td>2</td>\n",
       "      <td>2</td>\n",
       "      <td>Lil Pump</td>\n",
       "      <td>Gucci Gang</td>\n",
       "      <td>3</td>\n",
       "      <td>930620</td>\n",
       "      <td>2018-01-01</td>\n",
       "      <td>43ZyHQITOjhciSUUNPVRHc</td>\n",
       "      <td>124056</td>\n",
       "      <td>4</td>\n",
       "      <td>119.889</td>\n",
       "      <td>5</td>\n",
       "      <td>1</td>\n",
       "      <td>0.699</td>\n",
       "      <td>0.936</td>\n",
       "      <td>0.523</td>\n",
       "      <td>0.23900</td>\n",
       "      <td>0.000000</td>\n",
       "    </tr>\n",
       "    <tr>\n",
       "      <th>3</th>\n",
       "      <td>3</td>\n",
       "      <td>3</td>\n",
       "      <td>Cardi B</td>\n",
       "      <td>Bartier Cardi (feat. 21 Savage)</td>\n",
       "      <td>4</td>\n",
       "      <td>877478</td>\n",
       "      <td>2018-01-01</td>\n",
       "      <td>0dIoGTQXDh1wVnhIiSyYEa</td>\n",
       "      <td>224285</td>\n",
       "      <td>4</td>\n",
       "      <td>138.015</td>\n",
       "      <td>1</td>\n",
       "      <td>1</td>\n",
       "      <td>0.109</td>\n",
       "      <td>0.908</td>\n",
       "      <td>0.524</td>\n",
       "      <td>0.00111</td>\n",
       "      <td>0.000678</td>\n",
       "    </tr>\n",
       "    <tr>\n",
       "      <th>4</th>\n",
       "      <td>4</td>\n",
       "      <td>4</td>\n",
       "      <td>Camila Cabello</td>\n",
       "      <td>Havana</td>\n",
       "      <td>5</td>\n",
       "      <td>860232</td>\n",
       "      <td>2018-01-01</td>\n",
       "      <td>1rfofaqEpACxVEHIZBJe6W</td>\n",
       "      <td>217307</td>\n",
       "      <td>4</td>\n",
       "      <td>104.988</td>\n",
       "      <td>2</td>\n",
       "      <td>1</td>\n",
       "      <td>0.394</td>\n",
       "      <td>0.765</td>\n",
       "      <td>0.523</td>\n",
       "      <td>0.18400</td>\n",
       "      <td>0.000036</td>\n",
       "    </tr>\n",
       "  </tbody>\n",
       "</table>\n",
       "</div>"
      ],
      "text/plain": [
       "   Unnamed: 0  Unnamed: 0.1          Artist                             Song  \\\n",
       "0           0             0     Post Malone                         rockstar   \n",
       "1           1             1          G-Eazy                         No Limit   \n",
       "2           2             2        Lil Pump                       Gucci Gang   \n",
       "3           3             3         Cardi B  Bartier Cardi (feat. 21 Savage)   \n",
       "4           4             4  Camila Cabello                           Havana   \n",
       "\n",
       "   Rank  Streams        Date                      Id  Duration  \\\n",
       "0     1  1502394  2018-01-01  0e7ipj03S05BNilyu5bRzt    218147   \n",
       "1     2  1027039  2018-01-01  2DQ1ITjI0YoLFzuADN1ZBW    245387   \n",
       "2     3   930620  2018-01-01  43ZyHQITOjhciSUUNPVRHc    124056   \n",
       "3     4   877478  2018-01-01  0dIoGTQXDh1wVnhIiSyYEa    224285   \n",
       "4     5   860232  2018-01-01  1rfofaqEpACxVEHIZBJe6W    217307   \n",
       "\n",
       "   Time Signature    Tempo  Key  Mode   Valence  Danceability  Energy  \\\n",
       "0               4  159.801    5     0     0.129         0.585   0.520   \n",
       "1               4  175.957    1     1     0.405         0.838   0.771   \n",
       "2               4  119.889    5     1     0.699         0.936   0.523   \n",
       "3               4  138.015    1     1     0.109         0.908   0.524   \n",
       "4               4  104.988    2     1     0.394         0.765   0.523   \n",
       "\n",
       "   Acousticness  Instrumentalness  \n",
       "0       0.12400          0.000070  \n",
       "1       0.01170          0.000000  \n",
       "2       0.23900          0.000000  \n",
       "3       0.00111          0.000678  \n",
       "4       0.18400          0.000036  "
      ]
     },
     "execution_count": 50,
     "metadata": {},
     "output_type": "execute_result"
    }
   ],
   "source": [
    "#data = pd.read_csv('topChartWithFeatures.csv')\n",
    "data = pd.read_csv('streams_continuous.csv')\n",
    "\n",
    "#dataset\n",
    "data.head()\n"
   ]
  },
  {
   "cell_type": "code",
   "execution_count": 51,
   "metadata": {},
   "outputs": [
    {
     "data": {
      "text/html": [
       "<div>\n",
       "<style scoped>\n",
       "    .dataframe tbody tr th:only-of-type {\n",
       "        vertical-align: middle;\n",
       "    }\n",
       "\n",
       "    .dataframe tbody tr th {\n",
       "        vertical-align: top;\n",
       "    }\n",
       "\n",
       "    .dataframe thead th {\n",
       "        text-align: right;\n",
       "    }\n",
       "</style>\n",
       "<table border=\"1\" class=\"dataframe\">\n",
       "  <thead>\n",
       "    <tr style=\"text-align: right;\">\n",
       "      <th></th>\n",
       "      <th>Unnamed: 0</th>\n",
       "      <th>Unnamed: 0.1</th>\n",
       "      <th>Rank</th>\n",
       "      <th>Streams</th>\n",
       "      <th>Duration</th>\n",
       "      <th>Time Signature</th>\n",
       "      <th>Tempo</th>\n",
       "      <th>Key</th>\n",
       "      <th>Mode</th>\n",
       "      <th>Valence</th>\n",
       "      <th>Danceability</th>\n",
       "      <th>Energy</th>\n",
       "      <th>Acousticness</th>\n",
       "      <th>Instrumentalness</th>\n",
       "    </tr>\n",
       "  </thead>\n",
       "  <tbody>\n",
       "    <tr>\n",
       "      <th>count</th>\n",
       "      <td>151601.000000</td>\n",
       "      <td>151601.000000</td>\n",
       "      <td>151601.000000</td>\n",
       "      <td>1.516010e+05</td>\n",
       "      <td>151601.000000</td>\n",
       "      <td>151601.000000</td>\n",
       "      <td>151601.000000</td>\n",
       "      <td>151601.000000</td>\n",
       "      <td>151601.000000</td>\n",
       "      <td>151601.000000</td>\n",
       "      <td>151601.000000</td>\n",
       "      <td>151601.000000</td>\n",
       "      <td>151601.000000</td>\n",
       "      <td>151601.000000</td>\n",
       "    </tr>\n",
       "    <tr>\n",
       "      <th>mean</th>\n",
       "      <td>75800.000000</td>\n",
       "      <td>75800.000000</td>\n",
       "      <td>100.499344</td>\n",
       "      <td>4.156785e+05</td>\n",
       "      <td>199190.991511</td>\n",
       "      <td>3.958364</td>\n",
       "      <td>121.968125</td>\n",
       "      <td>5.376614</td>\n",
       "      <td>0.593894</td>\n",
       "      <td>0.448434</td>\n",
       "      <td>0.707267</td>\n",
       "      <td>0.599525</td>\n",
       "      <td>0.224544</td>\n",
       "      <td>0.006963</td>\n",
       "    </tr>\n",
       "    <tr>\n",
       "      <th>std</th>\n",
       "      <td>43763.583417</td>\n",
       "      <td>43763.583417</td>\n",
       "      <td>57.734871</td>\n",
       "      <td>2.984839e+05</td>\n",
       "      <td>46582.185873</td>\n",
       "      <td>0.392216</td>\n",
       "      <td>31.187651</td>\n",
       "      <td>3.682299</td>\n",
       "      <td>0.491106</td>\n",
       "      <td>0.203869</td>\n",
       "      <td>0.149032</td>\n",
       "      <td>0.159106</td>\n",
       "      <td>0.237183</td>\n",
       "      <td>0.049412</td>\n",
       "    </tr>\n",
       "    <tr>\n",
       "      <th>min</th>\n",
       "      <td>0.000000</td>\n",
       "      <td>0.000000</td>\n",
       "      <td>1.000000</td>\n",
       "      <td>1.578150e+05</td>\n",
       "      <td>0.000000</td>\n",
       "      <td>0.000000</td>\n",
       "      <td>0.000000</td>\n",
       "      <td>0.000000</td>\n",
       "      <td>0.000000</td>\n",
       "      <td>0.000000</td>\n",
       "      <td>0.000000</td>\n",
       "      <td>0.000000</td>\n",
       "      <td>0.000000</td>\n",
       "      <td>0.000000</td>\n",
       "    </tr>\n",
       "    <tr>\n",
       "      <th>25%</th>\n",
       "      <td>37900.000000</td>\n",
       "      <td>37900.000000</td>\n",
       "      <td>50.000000</td>\n",
       "      <td>2.474270e+05</td>\n",
       "      <td>173800.000000</td>\n",
       "      <td>4.000000</td>\n",
       "      <td>97.062000</td>\n",
       "      <td>1.000000</td>\n",
       "      <td>0.000000</td>\n",
       "      <td>0.294000</td>\n",
       "      <td>0.620000</td>\n",
       "      <td>0.511000</td>\n",
       "      <td>0.040900</td>\n",
       "      <td>0.000000</td>\n",
       "    </tr>\n",
       "    <tr>\n",
       "      <th>50%</th>\n",
       "      <td>75800.000000</td>\n",
       "      <td>75800.000000</td>\n",
       "      <td>100.000000</td>\n",
       "      <td>3.128680e+05</td>\n",
       "      <td>197947.000000</td>\n",
       "      <td>4.000000</td>\n",
       "      <td>123.146000</td>\n",
       "      <td>6.000000</td>\n",
       "      <td>1.000000</td>\n",
       "      <td>0.437000</td>\n",
       "      <td>0.729000</td>\n",
       "      <td>0.603000</td>\n",
       "      <td>0.137000</td>\n",
       "      <td>0.000000</td>\n",
       "    </tr>\n",
       "    <tr>\n",
       "      <th>75%</th>\n",
       "      <td>113700.000000</td>\n",
       "      <td>113700.000000</td>\n",
       "      <td>150.000000</td>\n",
       "      <td>4.643890e+05</td>\n",
       "      <td>221543.000000</td>\n",
       "      <td>4.000000</td>\n",
       "      <td>144.111000</td>\n",
       "      <td>9.000000</td>\n",
       "      <td>1.000000</td>\n",
       "      <td>0.584000</td>\n",
       "      <td>0.809000</td>\n",
       "      <td>0.715000</td>\n",
       "      <td>0.331000</td>\n",
       "      <td>0.000007</td>\n",
       "    </tr>\n",
       "    <tr>\n",
       "      <th>max</th>\n",
       "      <td>151600.000000</td>\n",
       "      <td>151600.000000</td>\n",
       "      <td>200.000000</td>\n",
       "      <td>5.749019e+06</td>\n",
       "      <td>943529.000000</td>\n",
       "      <td>5.000000</td>\n",
       "      <td>232.690000</td>\n",
       "      <td>11.000000</td>\n",
       "      <td>1.000000</td>\n",
       "      <td>0.980000</td>\n",
       "      <td>0.980000</td>\n",
       "      <td>0.978000</td>\n",
       "      <td>0.994000</td>\n",
       "      <td>0.956000</td>\n",
       "    </tr>\n",
       "  </tbody>\n",
       "</table>\n",
       "</div>"
      ],
      "text/plain": [
       "          Unnamed: 0   Unnamed: 0.1           Rank       Streams  \\\n",
       "count  151601.000000  151601.000000  151601.000000  1.516010e+05   \n",
       "mean    75800.000000   75800.000000     100.499344  4.156785e+05   \n",
       "std     43763.583417   43763.583417      57.734871  2.984839e+05   \n",
       "min         0.000000       0.000000       1.000000  1.578150e+05   \n",
       "25%     37900.000000   37900.000000      50.000000  2.474270e+05   \n",
       "50%     75800.000000   75800.000000     100.000000  3.128680e+05   \n",
       "75%    113700.000000  113700.000000     150.000000  4.643890e+05   \n",
       "max    151600.000000  151600.000000     200.000000  5.749019e+06   \n",
       "\n",
       "            Duration  Time Signature          Tempo            Key  \\\n",
       "count  151601.000000   151601.000000  151601.000000  151601.000000   \n",
       "mean   199190.991511        3.958364     121.968125       5.376614   \n",
       "std     46582.185873        0.392216      31.187651       3.682299   \n",
       "min         0.000000        0.000000       0.000000       0.000000   \n",
       "25%    173800.000000        4.000000      97.062000       1.000000   \n",
       "50%    197947.000000        4.000000     123.146000       6.000000   \n",
       "75%    221543.000000        4.000000     144.111000       9.000000   \n",
       "max    943529.000000        5.000000     232.690000      11.000000   \n",
       "\n",
       "                Mode        Valence   Danceability         Energy  \\\n",
       "count  151601.000000  151601.000000  151601.000000  151601.000000   \n",
       "mean        0.593894       0.448434       0.707267       0.599525   \n",
       "std         0.491106       0.203869       0.149032       0.159106   \n",
       "min         0.000000       0.000000       0.000000       0.000000   \n",
       "25%         0.000000       0.294000       0.620000       0.511000   \n",
       "50%         1.000000       0.437000       0.729000       0.603000   \n",
       "75%         1.000000       0.584000       0.809000       0.715000   \n",
       "max         1.000000       0.980000       0.980000       0.978000   \n",
       "\n",
       "        Acousticness  Instrumentalness  \n",
       "count  151601.000000     151601.000000  \n",
       "mean        0.224544          0.006963  \n",
       "std         0.237183          0.049412  \n",
       "min         0.000000          0.000000  \n",
       "25%         0.040900          0.000000  \n",
       "50%         0.137000          0.000000  \n",
       "75%         0.331000          0.000007  \n",
       "max         0.994000          0.956000  "
      ]
     },
     "execution_count": 51,
     "metadata": {},
     "output_type": "execute_result"
    }
   ],
   "source": [
    "data.describe()"
   ]
  },
  {
   "cell_type": "code",
   "execution_count": 52,
   "metadata": {},
   "outputs": [
    {
     "data": {
      "text/plain": [
       "(151601, 18)"
      ]
     },
     "execution_count": 52,
     "metadata": {},
     "output_type": "execute_result"
    }
   ],
   "source": [
    "data.shape"
   ]
  },
  {
   "cell_type": "code",
   "execution_count": 53,
   "metadata": {},
   "outputs": [],
   "source": [
    "types = data.dtypes\n",
    "#print(types)"
   ]
  },
  {
   "cell_type": "code",
   "execution_count": null,
   "metadata": {},
   "outputs": [],
   "source": []
  },
  {
   "cell_type": "code",
   "execution_count": 54,
   "metadata": {},
   "outputs": [],
   "source": [
    "data[\"Date\"] = pd.to_datetime(data[\"Date\"])\n",
    "features = data[['Danceability', 'Energy', 'Duration', 'Acousticness', 'Key','Mode','Instrumentalness','Tempo', 'Time Signature']]"
   ]
  },
  {
   "cell_type": "code",
   "execution_count": 55,
   "metadata": {},
   "outputs": [
    {
     "name": "stdout",
     "output_type": "stream",
     "text": [
      "       Unnamed: 0  Unnamed: 0.1            Artist             Song  Rank  \\\n",
      "25015       25015         25015  Childish Gambino  This Is America    16   \n",
      "25200       25200         25200  Childish Gambino  This Is America     1   \n",
      "25400       25400         25400  Childish Gambino  This Is America     1   \n",
      "25600       25600         25600  Childish Gambino  This Is America     1   \n",
      "25800       25800         25800  Childish Gambino  This Is America     1   \n",
      "...           ...           ...               ...              ...   ...   \n",
      "53573       53573         53573  Childish Gambino  This Is America   174   \n",
      "53768       53768         53768  Childish Gambino  This Is America   169   \n",
      "53970       53970         53970  Childish Gambino  This Is America   171   \n",
      "68194       68194         68194  Childish Gambino  This Is America   195   \n",
      "81335       81335         81335  Childish Gambino  This Is America   136   \n",
      "\n",
      "       Streams       Date                      Id  Duration  Time Signature  \\\n",
      "25015   857044 2018-05-06  0b9oOr2ZgvyQu88wzixux9    225773               4   \n",
      "25200  2270990 2018-05-07  0b9oOr2ZgvyQu88wzixux9    225773               4   \n",
      "25400  2655720 2018-05-08  0b9oOr2ZgvyQu88wzixux9    225773               4   \n",
      "25600  2749514 2018-05-09  0b9oOr2ZgvyQu88wzixux9    225773               4   \n",
      "25800  2586594 2018-05-10  0b9oOr2ZgvyQu88wzixux9    225773               4   \n",
      "...        ...        ...                     ...       ...             ...   \n",
      "53573   223736 2018-09-25  0b9oOr2ZgvyQu88wzixux9    225773               4   \n",
      "53768   229821 2018-09-26  0b9oOr2ZgvyQu88wzixux9    225773               4   \n",
      "53970   223423 2018-09-27  0b9oOr2ZgvyQu88wzixux9    225773               4   \n",
      "68194   265411 2018-12-07  0b9oOr2ZgvyQu88wzixux9    225773               4   \n",
      "81335   277369 2019-02-11  0b9oOr2ZgvyQu88wzixux9    225773               4   \n",
      "\n",
      "         Tempo  Key  Mode   Valence  Danceability  Energy  Acousticness  \\\n",
      "25015  120.024    5     1     0.549         0.854   0.463         0.117   \n",
      "25200  120.024    5     1     0.549         0.854   0.463         0.117   \n",
      "25400  120.024    5     1     0.549         0.854   0.463         0.117   \n",
      "25600  120.024    5     1     0.549         0.854   0.463         0.117   \n",
      "25800  120.024    5     1     0.549         0.854   0.463         0.117   \n",
      "...        ...  ...   ...       ...           ...     ...           ...   \n",
      "53573  120.024    5     1     0.549         0.854   0.463         0.117   \n",
      "53768  120.024    5     1     0.549         0.854   0.463         0.117   \n",
      "53970  120.024    5     1     0.549         0.854   0.463         0.117   \n",
      "68194  120.024    5     1     0.549         0.854   0.463         0.117   \n",
      "81335  120.024    5     1     0.549         0.854   0.463         0.117   \n",
      "\n",
      "       Instrumentalness  \n",
      "25015               0.0  \n",
      "25200               0.0  \n",
      "25400               0.0  \n",
      "25600               0.0  \n",
      "25800               0.0  \n",
      "...                 ...  \n",
      "53573               0.0  \n",
      "53768               0.0  \n",
      "53970               0.0  \n",
      "68194               0.0  \n",
      "81335               0.0  \n",
      "\n",
      "[147 rows x 18 columns]\n"
     ]
    }
   ],
   "source": [
    "betternowdata = data.loc[data['Song']=='Better Now']\n",
    "psychodata = data.loc[data['Song']=='Psycho (feat. Ty Dolla $ign)']\n",
    "\n",
    "\n",
    "\n",
    "likeitdata = data.loc[data['Song']=='I Like It']\n",
    "#target2 = data.loc[data['Rank']=1]\n",
    "#print(likeitdata)\n",
    "americadata=data.loc[data['Song']=='This Is America']\n",
    "print(americadata)"
   ]
  },
  {
   "cell_type": "code",
   "execution_count": null,
   "metadata": {},
   "outputs": [],
   "source": []
  },
  {
   "cell_type": "code",
   "execution_count": 56,
   "metadata": {},
   "outputs": [],
   "source": [
    "#separate rank x, y\n",
    "# date in yyyy/mm/dd format \n",
    "#old data 10/31/18\n",
    "\n",
    "\n",
    "#train with one song, test on other song\n",
    "date1=datetime.datetime(2018, 10, 31) \n",
    "likeitold = likeitdata.loc[likeitdata['Date']<=date1] \n",
    "#print(likeitold)\n",
    "likeitnew = likeitdata.loc[likeitdata['Date']>date1]\n",
    "#print(likeitnew)"
   ]
  },
  {
   "cell_type": "code",
   "execution_count": 57,
   "metadata": {},
   "outputs": [
    {
     "data": {
      "text/plain": [
       "<matplotlib.collections.PathCollection at 0x1c20f18e10>"
      ]
     },
     "execution_count": 57,
     "metadata": {},
     "output_type": "execute_result"
    },
    {
     "data": {
      "image/png": "[encoded data removed]",
      "text/plain": [
       "<Figure size 432x288 with 1 Axes>"
      ]
     },
     "metadata": {
      "needs_background": "light"
     },
     "output_type": "display_data"
    }
   ],
   "source": [
    "# Goal: Pick one song, predict rank next day(predict 10/27/19 using data from 4/6/18 to 10/26/19) )\n",
    "#separate rank to x: before 10/27and y \n",
    "#2 similar songs 1 as train and 1 as test\n",
    "#Features: date, last days rank(the day before rank), number of streams, song features \n",
    "\n",
    "#2 songs with similar dates\n",
    "X=betternowdata[['Streams']].values\n",
    "y=betternowdata[['Rank']].values\n",
    "#Y=likeitnew[['Rank']]\n",
    "\n",
    "plt.scatter(X, y)"
   ]
  },
  {
   "cell_type": "code",
   "execution_count": 58,
   "metadata": {},
   "outputs": [
    {
     "data": {
      "text/plain": [
       "array([[<matplotlib.axes._subplots.AxesSubplot object at 0x1c1c5e57f0>]],\n",
       "      dtype=object)"
      ]
     },
     "execution_count": 58,
     "metadata": {},
     "output_type": "execute_result"
    },
    {
     "data": {
      "image/png": "[encoded data removed]",
      "text/plain": [
       "<Figure size 576x360 with 1 Axes>"
      ]
     },
     "metadata": {
      "needs_background": "light"
     },
     "output_type": "display_data"
    }
   ],
   "source": [
    "\n",
    "betternowdata.hist('Rank',figsize=(8,5))"
   ]
  },
  {
   "cell_type": "code",
   "execution_count": 59,
   "metadata": {},
   "outputs": [
    {
     "name": "stderr",
     "output_type": "stream",
     "text": [
      "/Users/kathy908000/anaconda3/lib/python3.7/site-packages/ipykernel_launcher.py:3: SettingWithCopyWarning: \n",
      "A value is trying to be set on a copy of a slice from a DataFrame.\n",
      "Try using .loc[row_indexer,col_indexer] = value instead\n",
      "\n",
      "See the caveats in the documentation: https://pandas.pydata.org/pandas-docs/stable/user_guide/indexing.html#returning-a-view-versus-a-copy\n",
      "  This is separate from the ipykernel package so we can avoid doing imports until\n"
     ]
    }
   ],
   "source": [
    "##log transformation attempt 2\n",
    "logy = np.log(y)\n",
    "betternowdata['logrank'] = np.log(betternowdata['Rank'])\n",
    "#betternowdata.hist('logrank',figsize=(8,5))\n",
    "\n",
    "\n",
    "\n"
   ]
  },
  {
   "cell_type": "code",
   "execution_count": 60,
   "metadata": {},
   "outputs": [
    {
     "data": {
      "text/plain": [
       "<matplotlib.collections.PathCollection at 0x1c206dde48>"
      ]
     },
     "execution_count": 60,
     "metadata": {},
     "output_type": "execute_result"
    },
    {
     "data": {
      "image/png": "[encoded data removed]",
      "text/plain": [
       "<Figure size 432x288 with 1 Axes>"
      ]
     },
     "metadata": {
      "needs_background": "light"
     },
     "output_type": "display_data"
    }
   ],
   "source": [
    "#log transformation\n",
    "plt.scatter(X,y)"
   ]
  },
  {
   "cell_type": "code",
   "execution_count": 61,
   "metadata": {},
   "outputs": [
    {
     "data": {
      "text/plain": [
       "<matplotlib.collections.PathCollection at 0x1c2083b358>"
      ]
     },
     "execution_count": 61,
     "metadata": {},
     "output_type": "execute_result"
    },
    {
     "data": {
      "image/png": "[encoded data removed]",
      "text/plain": [
       "<Figure size 432x288 with 1 Axes>"
      ]
     },
     "metadata": {
      "needs_background": "light"
     },
     "output_type": "display_data"
    }
   ],
   "source": [
    "#plt.scatter (X, np.log(y))\n",
    "plt.scatter (X, logy)"
   ]
  },
  {
   "cell_type": "code",
   "execution_count": 62,
   "metadata": {},
   "outputs": [],
   "source": [
    "#logy=np.log(y)\n",
    "model = sm.OLS(logy, X).fit()\n",
    "Yhat = model.predict(X)"
   ]
  },
  {
   "cell_type": "code",
   "execution_count": 63,
   "metadata": {},
   "outputs": [
    {
     "data": {
      "image/png": "[encoded data removed]",
      "text/plain": [
       "<Figure size 432x288 with 1 Axes>"
      ]
     },
     "metadata": {
      "needs_background": "light"
     },
     "output_type": "display_data"
    }
   ],
   "source": [
    "#plt.scatter(y, np.exp(Yhat),  color='black')\n",
    "plt.scatter(logy, Yhat,  color='black')\n",
    "plt.xlabel(\"true outcome Y\")\n",
    "plt.ylabel(\"predicted outcome Yhat\")\n",
    "\n",
    "plt.show()"
   ]
  },
  {
   "cell_type": "code",
   "execution_count": 64,
   "metadata": {},
   "outputs": [
    {
     "data": {
      "text/html": [
       "<table class=\"simpletable\">\n",
       "<caption>OLS Regression Results</caption>\n",
       "<tr>\n",
       "  <th>Dep. Variable:</th>            <td>y</td>        <th>  R-squared:         </th> <td>   0.413</td>\n",
       "</tr>\n",
       "<tr>\n",
       "  <th>Model:</th>                   <td>OLS</td>       <th>  Adj. R-squared:    </th> <td>   0.412</td>\n",
       "</tr>\n",
       "<tr>\n",
       "  <th>Method:</th>             <td>Least Squares</td>  <th>  F-statistic:       </th> <td>   449.0</td>\n",
       "</tr>\n",
       "<tr>\n",
       "  <th>Date:</th>             <td>Tue, 05 May 2020</td> <th>  Prob (F-statistic):</th> <td>7.04e-76</td>\n",
       "</tr>\n",
       "<tr>\n",
       "  <th>Time:</th>                 <td>20:27:06</td>     <th>  Log-Likelihood:    </th> <td> -1581.9</td>\n",
       "</tr>\n",
       "<tr>\n",
       "  <th>No. Observations:</th>      <td>   640</td>      <th>  AIC:               </th> <td>   3166.</td>\n",
       "</tr>\n",
       "<tr>\n",
       "  <th>Df Residuals:</th>          <td>   639</td>      <th>  BIC:               </th> <td>   3170.</td>\n",
       "</tr>\n",
       "<tr>\n",
       "  <th>Df Model:</th>              <td>     1</td>      <th>                     </th>     <td> </td>   \n",
       "</tr>\n",
       "<tr>\n",
       "  <th>Covariance Type:</th>      <td>nonrobust</td>    <th>                     </th>     <td> </td>   \n",
       "</tr>\n",
       "</table>\n",
       "<table class=\"simpletable\">\n",
       "<tr>\n",
       "   <td></td>     <th>coef</th>     <th>std err</th>      <th>t</th>      <th>P>|t|</th>  <th>[0.025</th>    <th>0.975]</th>  \n",
       "</tr>\n",
       "<tr>\n",
       "  <th>x1</th> <td> 3.107e-06</td> <td> 1.47e-07</td> <td>   21.189</td> <td> 0.000</td> <td> 2.82e-06</td> <td>  3.4e-06</td>\n",
       "</tr>\n",
       "</table>\n",
       "<table class=\"simpletable\">\n",
       "<tr>\n",
       "  <th>Omnibus:</th>       <td>220.116</td> <th>  Durbin-Watson:     </th> <td>   0.008</td> \n",
       "</tr>\n",
       "<tr>\n",
       "  <th>Prob(Omnibus):</th> <td> 0.000</td>  <th>  Jarque-Bera (JB):  </th> <td> 697.613</td> \n",
       "</tr>\n",
       "<tr>\n",
       "  <th>Skew:</th>          <td>-1.657</td>  <th>  Prob(JB):          </th> <td>3.28e-152</td>\n",
       "</tr>\n",
       "<tr>\n",
       "  <th>Kurtosis:</th>      <td> 6.895</td>  <th>  Cond. No.          </th> <td>    1.00</td> \n",
       "</tr>\n",
       "</table><br/><br/>Warnings:<br/>[1] Standard Errors assume that the covariance matrix of the errors is correctly specified."
      ],
      "text/plain": [
       "<class 'statsmodels.iolib.summary.Summary'>\n",
       "\"\"\"\n",
       "                            OLS Regression Results                            \n",
       "==============================================================================\n",
       "Dep. Variable:                      y   R-squared:                       0.413\n",
       "Model:                            OLS   Adj. R-squared:                  0.412\n",
       "Method:                 Least Squares   F-statistic:                     449.0\n",
       "Date:                Tue, 05 May 2020   Prob (F-statistic):           7.04e-76\n",
       "Time:                        20:27:06   Log-Likelihood:                -1581.9\n",
       "No. Observations:                 640   AIC:                             3166.\n",
       "Df Residuals:                     639   BIC:                             3170.\n",
       "Df Model:                           1                                         \n",
       "Covariance Type:            nonrobust                                         \n",
       "==============================================================================\n",
       "                 coef    std err          t      P>|t|      [0.025      0.975]\n",
       "------------------------------------------------------------------------------\n",
       "x1          3.107e-06   1.47e-07     21.189      0.000    2.82e-06     3.4e-06\n",
       "==============================================================================\n",
       "Omnibus:                      220.116   Durbin-Watson:                   0.008\n",
       "Prob(Omnibus):                  0.000   Jarque-Bera (JB):              697.613\n",
       "Skew:                          -1.657   Prob(JB):                    3.28e-152\n",
       "Kurtosis:                       6.895   Cond. No.                         1.00\n",
       "==============================================================================\n",
       "\n",
       "Warnings:\n",
       "[1] Standard Errors assume that the covariance matrix of the errors is correctly specified.\n",
       "\"\"\""
      ]
     },
     "execution_count": 64,
     "metadata": {},
     "output_type": "execute_result"
    }
   ],
   "source": [
    "model.summary()"
   ]
  },
  {
   "cell_type": "code",
   "execution_count": 65,
   "metadata": {},
   "outputs": [
    {
     "name": "stderr",
     "output_type": "stream",
     "text": [
      "/Users/kathy908000/anaconda3/lib/python3.7/site-packages/ipykernel_launcher.py:13: SettingWithCopyWarning: \n",
      "A value is trying to be set on a copy of a slice from a DataFrame.\n",
      "Try using .loc[row_indexer,col_indexer] = value instead\n",
      "\n",
      "See the caveats in the documentation: https://pandas.pydata.org/pandas-docs/stable/user_guide/indexing.html#returning-a-view-versus-a-copy\n",
      "  del sys.path[0]\n"
     ]
    },
    {
     "data": {
      "text/html": [
       "<div>\n",
       "<style scoped>\n",
       "    .dataframe tbody tr th:only-of-type {\n",
       "        vertical-align: middle;\n",
       "    }\n",
       "\n",
       "    .dataframe tbody tr th {\n",
       "        vertical-align: top;\n",
       "    }\n",
       "\n",
       "    .dataframe thead th {\n",
       "        text-align: right;\n",
       "    }\n",
       "</style>\n",
       "<table border=\"1\" class=\"dataframe\">\n",
       "  <thead>\n",
       "    <tr style=\"text-align: right;\">\n",
       "      <th></th>\n",
       "      <th>logrank</th>\n",
       "      <th>Rank</th>\n",
       "      <th>Streams</th>\n",
       "    </tr>\n",
       "  </thead>\n",
       "  <tbody>\n",
       "    <tr>\n",
       "      <th>23201</th>\n",
       "      <td>0.693147</td>\n",
       "      <td>2</td>\n",
       "      <td>3467168</td>\n",
       "    </tr>\n",
       "    <tr>\n",
       "      <th>23400</th>\n",
       "      <td>0.000000</td>\n",
       "      <td>1</td>\n",
       "      <td>3029855</td>\n",
       "    </tr>\n",
       "    <tr>\n",
       "      <th>23600</th>\n",
       "      <td>0.000000</td>\n",
       "      <td>1</td>\n",
       "      <td>2632697</td>\n",
       "    </tr>\n",
       "    <tr>\n",
       "      <th>23800</th>\n",
       "      <td>0.000000</td>\n",
       "      <td>1</td>\n",
       "      <td>3169617</td>\n",
       "    </tr>\n",
       "    <tr>\n",
       "      <th>24000</th>\n",
       "      <td>0.000000</td>\n",
       "      <td>1</td>\n",
       "      <td>3034705</td>\n",
       "    </tr>\n",
       "  </tbody>\n",
       "</table>\n",
       "</div>"
      ],
      "text/plain": [
       "        logrank  Rank  Streams\n",
       "23201  0.693147     2  3467168\n",
       "23400  0.000000     1  3029855\n",
       "23600  0.000000     1  2632697\n",
       "23800  0.000000     1  3169617\n",
       "24000  0.000000     1  3034705"
      ]
     },
     "execution_count": 65,
     "metadata": {},
     "output_type": "execute_result"
    }
   ],
   "source": [
    "### log transformation w/o outliers\n",
    "\n",
    "from scipy import stats\n",
    "import numpy as np\n",
    "#outliers once number of stream hit certain point, stays on rank 1\n",
    "#seabornInstance.boxplot(logy) \n",
    "\n",
    "\n",
    "X=betternowdata[['Streams']].values\n",
    "y=betternowdata[['Rank']].values\n",
    "\n",
    "#logy = np.log(y)\n",
    "betternowdata['logrank'] = np.log(betternowdata['Rank'])\n",
    "logy= betternowdata[['logrank']].values\n",
    "\n",
    "\n",
    "#betternowdata = betternowdata.drop(columns=\"Date\")\n",
    "betternowdata = betternowdata[['logrank', 'Rank','Streams']]\n",
    "\n",
    "betternowdata.head()\n",
    "\n"
   ]
  },
  {
   "cell_type": "code",
   "execution_count": 66,
   "metadata": {},
   "outputs": [
    {
     "name": "stdout",
     "output_type": "stream",
     "text": [
      "(array([1, 2, 3, 4, 5, 6, 7, 8]),)\n"
     ]
    },
    {
     "data": {
      "text/plain": [
       "(632, 3)"
      ]
     },
     "execution_count": 66,
     "metadata": {},
     "output_type": "execute_result"
    }
   ],
   "source": [
    "#remove outlier try2\n",
    "z = np.abs(stats.zscore(betternowdata['logrank']))\n",
    "#print(z)\n",
    "\n",
    "threshold = 3\n",
    "print(np.where(z > 3))\n",
    "\n",
    "betternowoutlier = betternowdata.loc[z < 3]\n",
    "#likeitold = likeitdata.loc[likeitdata['Date']<=date1] \n",
    "\n",
    "#betternowoutlier = betternowdata[(z < 3).all(axis=1)]\n",
    "betternowoutlier.head()\n",
    "betternowoutlier.shape"
   ]
  },
  {
   "cell_type": "markdown",
   "metadata": {},
   "source": [
    "\n",
    "#remove outlier try1\n",
    "#find outliers wiht z score\n",
    "z = np.abs(stats.zscore(betternowdata))\n",
    "print(z)\n",
    "\n",
    "\n",
    "threshold = 3\n",
    "#print(np.where(z > 3))\n",
    "betternowdata.shape\n",
    "\n",
    "betternowoutlier = betternowdata[(z < 3).all(axis=1)]\n",
    "#betternowdata.head()\n",
    "#betternowdata.shape "
   ]
  },
  {
   "cell_type": "code",
   "execution_count": 67,
   "metadata": {},
   "outputs": [
    {
     "name": "stderr",
     "output_type": "stream",
     "text": [
      "/Users/kathy908000/anaconda3/lib/python3.7/site-packages/ipykernel_launcher.py:5: SettingWithCopyWarning: \n",
      "A value is trying to be set on a copy of a slice from a DataFrame.\n",
      "Try using .loc[row_indexer,col_indexer] = value instead\n",
      "\n",
      "See the caveats in the documentation: https://pandas.pydata.org/pandas-docs/stable/user_guide/indexing.html#returning-a-view-versus-a-copy\n",
      "  \"\"\"\n"
     ]
    }
   ],
   "source": [
    "X=betternowoutlier[['Streams']].values\n",
    "y=betternowoutlier[['Rank']].values\n",
    "\n",
    "#logy = np.log(y)\n",
    "betternowoutlier['logrank'] = np.log(betternowoutlier['Rank'])\n",
    "logy= betternowoutlier[['logrank']].values\n",
    "\n"
   ]
  },
  {
   "cell_type": "code",
   "execution_count": 68,
   "metadata": {},
   "outputs": [
    {
     "data": {
      "text/plain": [
       "<matplotlib.collections.PathCollection at 0x1c20c1ccf8>"
      ]
     },
     "execution_count": 68,
     "metadata": {},
     "output_type": "execute_result"
    },
    {
     "data": {
      "image/png": "[encoded data removed]",
      "text/plain": [
       "<Figure size 432x288 with 1 Axes>"
      ]
     },
     "metadata": {
      "needs_background": "light"
     },
     "output_type": "display_data"
    }
   ],
   "source": [
    "plt.scatter (X, logy)"
   ]
  },
  {
   "cell_type": "code",
   "execution_count": 69,
   "metadata": {},
   "outputs": [],
   "source": [
    "#OSL\n",
    "#model = sm.OLS(logy, X).fit()\n",
    "#Yhat = model.predict(X)"
   ]
  },
  {
   "cell_type": "code",
   "execution_count": 70,
   "metadata": {},
   "outputs": [
    {
     "data": {
      "text/plain": [
       "LinearRegression(copy_X=True, fit_intercept=True, n_jobs=None, normalize=False)"
      ]
     },
     "execution_count": 70,
     "metadata": {},
     "output_type": "execute_result"
    }
   ],
   "source": [
    "\n",
    "lm = LinearRegression()\n",
    "model = lm.fit(X,logy)\n",
    "model"
   ]
  },
  {
   "cell_type": "code",
   "execution_count": 71,
   "metadata": {},
   "outputs": [
    {
     "name": "stdout",
     "output_type": "stream",
     "text": [
      "0.8766725427233661\n",
      "[[-2.65959767e-06]]\n",
      "[5.25768852]\n"
     ]
    }
   ],
   "source": [
    "Yhat = lm.predict(X)\n",
    "print (lm.score(X,logy))\n",
    "print (lm.coef_)\n",
    "print (lm.intercept_)"
   ]
  },
  {
   "cell_type": "code",
   "execution_count": 72,
   "metadata": {},
   "outputs": [],
   "source": [
    "#plot_fit(Y, Yhat)"
   ]
  },
  {
   "cell_type": "code",
   "execution_count": null,
   "metadata": {},
   "outputs": [],
   "source": []
  },
  {
   "cell_type": "code",
   "execution_count": 80,
   "metadata": {},
   "outputs": [
    {
     "data": {
      "image/png": "[encoded data removed]",
      "text/plain": [
       "<Figure size 432x288 with 1 Axes>"
      ]
     },
     "metadata": {
      "needs_background": "light"
     },
     "output_type": "display_data"
    }
   ],
   "source": [
    "plt.scatter(logy, Yhat,  color='black')\n",
    "plt.xlabel(\"true outcome Y\")\n",
    "plt.ylabel(\"predicted outcome Yhat\")\n",
    "plt.ylim(bottom=0) \n",
    "plt.show()\n"
   ]
  },
  {
   "cell_type": "code",
   "execution_count": 74,
   "metadata": {},
   "outputs": [
    {
     "data": {
      "text/plain": [
       "<matplotlib.collections.PathCollection at 0x1c1c72dbe0>"
      ]
     },
     "execution_count": 74,
     "metadata": {},
     "output_type": "execute_result"
    },
    {
     "data": {
      "image/png": "[encoded data removed]",
      "text/plain": [
       "<Figure size 432x288 with 1 Axes>"
      ]
     },
     "metadata": {
      "needs_background": "light"
     },
     "output_type": "display_data"
    }
   ],
   "source": [
    "plt.scatter(y, np.exp(Yhat),  color='black')"
   ]
  },
  {
   "cell_type": "code",
   "execution_count": 79,
   "metadata": {},
   "outputs": [
    {
     "data": {
      "text/plain": [
       "(0, 5.671087808170235)"
      ]
     },
     "execution_count": 79,
     "metadata": {},
     "output_type": "execute_result"
    },
    {
     "data": {
      "image/png": "[encoded data removed]",
      "text/plain": [
       "<Figure size 432x288 with 1 Axes>"
      ]
     },
     "metadata": {
      "needs_background": "light"
     },
     "output_type": "display_data"
    }
   ],
   "source": [
    "plt.scatter(X, logy)\n",
    "plt.plot(X,Yhat,color='red')\n",
    "#matplotlib.pyplot.ylim(bottom=0) \n",
    "plt.ylim(bottom=0) "
   ]
  },
  {
   "cell_type": "code",
   "execution_count": 39,
   "metadata": {},
   "outputs": [
    {
     "data": {
      "text/plain": [
       "<matplotlib.collections.PathCollection at 0x1c20b87278>"
      ]
     },
     "execution_count": 39,
     "metadata": {},
     "output_type": "execute_result"
    },
    {
     "data": {
      "image/png": "[encoded data removed]",
      "text/plain": [
       "<Figure size 432x288 with 1 Axes>"
      ]
     },
     "metadata": {
      "needs_background": "light"
     },
     "output_type": "display_data"
    }
   ],
   "source": [
    "### fit pyschodata to betternow model\n",
    "\n",
    "X=psychodata[['Streams']].values\n",
    "y=psychodata[['Rank']].values\n",
    "\n",
    "#logy = np.log(y)\n",
    "psychodata['logrank'] = np.log(psychodata['Rank'])\n",
    "logy= psychodata[['logrank']].values\n",
    "\n",
    "\n",
    "#betternowdata = betternowdata.drop(columns=\"Date\")\n",
    "psychodata = psychodata[['logrank', 'Rank','Streams']]\n",
    "\n",
    "psychodata.shape\n",
    "\n",
    "plt.scatter (X, logy)"
   ]
  },
  {
   "cell_type": "code",
   "execution_count": 40,
   "metadata": {},
   "outputs": [
    {
     "name": "stdout",
     "output_type": "stream",
     "text": [
      "(array([], dtype=int64),)\n"
     ]
    }
   ],
   "source": [
    "z = np.abs(stats.zscore(psychodata['logrank']))\n",
    "threshold = 3\n",
    "print(np.where(z >3))\n",
    "\n",
    "#psychooutlier = psychodata.loc[z < 2]\n",
    "psychooutlier = psychodata.loc[z < 3]\n",
    "#threshold =2\n",
    "\n",
    "#betternowoutlier = betternowdata[(z < 3).all(axis=1)]\n",
    "#psychooutlier.head()\n",
    "#psychooutlier.shape"
   ]
  },
  {
   "cell_type": "code",
   "execution_count": 41,
   "metadata": {},
   "outputs": [],
   "source": [
    "X=psychooutlier[['Streams']].values\n",
    "y=psychooutlier[['Rank']].values\n",
    "\n",
    "#logy = np.log(y)\n",
    "psychooutlier['logrank'] = np.log(psychooutlier['Rank'])\n",
    "logy= psychooutlier[['logrank']].values"
   ]
  },
  {
   "cell_type": "code",
   "execution_count": 42,
   "metadata": {},
   "outputs": [
    {
     "data": {
      "text/plain": [
       "<matplotlib.collections.PathCollection at 0x1c20d40ba8>"
      ]
     },
     "execution_count": 42,
     "metadata": {},
     "output_type": "execute_result"
    },
    {
     "data": {
      "image/png": "[encoded data removed]",
      "text/plain": [
       "<Figure size 432x288 with 1 Axes>"
      ]
     },
     "metadata": {
      "needs_background": "light"
     },
     "output_type": "display_data"
    }
   ],
   "source": [
    "plt.scatter (X, logy)"
   ]
  },
  {
   "cell_type": "code",
   "execution_count": 43,
   "metadata": {},
   "outputs": [
    {
     "name": "stdout",
     "output_type": "stream",
     "text": [
      "0.7968390865311696\n",
      "[[-2.65959767e-06]]\n",
      "[5.25768852]\n"
     ]
    }
   ],
   "source": [
    "## use better now model to predict pyscho \n",
    "\n",
    "Yhat = lm.predict(X)\n",
    "\n",
    "print (lm.score(X,logy))\n",
    "print (lm.coef_)\n",
    "print (lm.intercept_)"
   ]
  },
  {
   "cell_type": "code",
   "execution_count": 44,
   "metadata": {},
   "outputs": [
    {
     "data": {
      "image/png": "[encoded data removed]",
      "text/plain": [
       "<Figure size 432x288 with 1 Axes>"
      ]
     },
     "metadata": {
      "needs_background": "light"
     },
     "output_type": "display_data"
    }
   ],
   "source": [
    "Yhat = np.maximum(Yhat, 0)\n",
    "plt.scatter(logy, Yhat,  color='black')\n",
    "plt.xlabel(\"true outcome Y\")\n",
    "plt.ylabel(\"predicted outcome Yhat\")\n",
    "\n",
    "plt.show()"
   ]
  },
  {
   "cell_type": "code",
   "execution_count": 45,
   "metadata": {},
   "outputs": [
    {
     "data": {
      "text/plain": [
       "<matplotlib.collections.PathCollection at 0x1c20e1b470>"
      ]
     },
     "execution_count": 45,
     "metadata": {},
     "output_type": "execute_result"
    },
    {
     "data": {
      "image/png": "[encoded data removed]",
      "text/plain": [
       "<Figure size 432x288 with 1 Axes>"
      ]
     },
     "metadata": {
      "needs_background": "light"
     },
     "output_type": "display_data"
    }
   ],
   "source": [
    "plt.scatter(y, np.exp(np.maximum(Yhat, 0)),  color='black')"
   ]
  },
  {
   "cell_type": "code",
   "execution_count": 81,
   "metadata": {},
   "outputs": [
    {
     "data": {
      "text/plain": [
       "[<matplotlib.lines.Line2D at 0x1c1cb6fba8>]"
      ]
     },
     "execution_count": 81,
     "metadata": {},
     "output_type": "execute_result"
    },
    {
     "data": {
      "image/png": "[encoded data removed]",
      "text/plain": [
       "<Figure size 432x288 with 1 Axes>"
      ]
     },
     "metadata": {
      "needs_background": "light"
     },
     "output_type": "display_data"
    }
   ],
   "source": [
    "axes = plt.gca()\n",
    "axes.set_ylim([0,6])\n",
    "\n",
    "plt.scatter(X, logy)\n",
    "plt.plot(X, Yhat,color='red')\n"
   ]
  },
  {
   "cell_type": "code",
   "execution_count": 92,
   "metadata": {},
   "outputs": [
    {
     "name": "stderr",
     "output_type": "stream",
     "text": [
      "/Users/kathy908000/anaconda3/lib/python3.7/site-packages/ipykernel_launcher.py:7: SettingWithCopyWarning: \n",
      "A value is trying to be set on a copy of a slice from a DataFrame.\n",
      "Try using .loc[row_indexer,col_indexer] = value instead\n",
      "\n",
      "See the caveats in the documentation: https://pandas.pydata.org/pandas-docs/stable/user_guide/indexing.html#returning-a-view-versus-a-copy\n",
      "  import sys\n"
     ]
    },
    {
     "data": {
      "text/plain": [
       "<matplotlib.collections.PathCollection at 0x1c1c8e4630>"
      ]
     },
     "execution_count": 92,
     "metadata": {},
     "output_type": "execute_result"
    },
    {
     "data": {
      "image/png": "[encoded data removed]",
      "text/plain": [
       "<Figure size 432x288 with 1 Axes>"
      ]
     },
     "metadata": {
      "needs_background": "light"
     },
     "output_type": "display_data"
    }
   ],
   "source": [
    "## use better now model to predict havana\n",
    "teardata=data.loc[data['Song']=='no tears left to cry']\n",
    "\n",
    "X=teardata[['Streams']].values\n",
    "y=teardata[['Rank']].values\n",
    "\n",
    "teardata['logrank'] = np.log(teardata['Rank'])\n",
    "logy= teardata[['logrank']].values\n",
    "\n",
    "\n",
    "#betternowdata = betternowdata.drop(columns=\"Date\")\n",
    "teardata = teardata[['logrank', 'Rank','Streams']]\n",
    "\n",
    "plt.scatter (X, y)"
   ]
  },
  {
   "cell_type": "code",
   "execution_count": 95,
   "metadata": {},
   "outputs": [
    {
     "name": "stdout",
     "output_type": "stream",
     "text": [
      "(array([4]),)\n"
     ]
    }
   ],
   "source": [
    "z = np.abs(stats.zscore(teardata['logrank']))\n",
    "threshold = 3\n",
    "print(np.where(z >3))\n",
    "\n",
    "tearoutlier = teardata.loc[z < 3]\n",
    "#psychooutlier = psychodata.loc[z < 2]"
   ]
  },
  {
   "cell_type": "code",
   "execution_count": 97,
   "metadata": {},
   "outputs": [
    {
     "name": "stderr",
     "output_type": "stream",
     "text": [
      "/Users/kathy908000/anaconda3/lib/python3.7/site-packages/ipykernel_launcher.py:5: SettingWithCopyWarning: \n",
      "A value is trying to be set on a copy of a slice from a DataFrame.\n",
      "Try using .loc[row_indexer,col_indexer] = value instead\n",
      "\n",
      "See the caveats in the documentation: https://pandas.pydata.org/pandas-docs/stable/user_guide/indexing.html#returning-a-view-versus-a-copy\n",
      "  \"\"\"\n"
     ]
    }
   ],
   "source": [
    "X=tearoutlier[['Streams']].values\n",
    "y=tearoutlier[['Rank']].values\n",
    "\n",
    "#logy = np.log(y)\n",
    "tearoutlier['logrank'] = np.log(tearoutlier['Rank'])\n",
    "logy= tearoutlier[['logrank']].values"
   ]
  },
  {
   "cell_type": "code",
   "execution_count": 98,
   "metadata": {},
   "outputs": [
    {
     "data": {
      "text/plain": [
       "<matplotlib.collections.PathCollection at 0x1c209f2d30>"
      ]
     },
     "execution_count": 98,
     "metadata": {},
     "output_type": "execute_result"
    },
    {
     "data": {
      "image/png": "[encoded data removed]",
      "text/plain": [
       "<Figure size 432x288 with 1 Axes>"
      ]
     },
     "metadata": {
      "needs_background": "light"
     },
     "output_type": "display_data"
    }
   ],
   "source": [
    "plt.scatter (X, logy)"
   ]
  },
  {
   "cell_type": "code",
   "execution_count": 99,
   "metadata": {},
   "outputs": [
    {
     "name": "stdout",
     "output_type": "stream",
     "text": [
      "0.794212338012313\n",
      "[[-2.65959767e-06]]\n",
      "[5.25768852]\n"
     ]
    }
   ],
   "source": [
    "Yhat = lm.predict(X)\n",
    "\n",
    "print (lm.score(X,logy))\n",
    "print (lm.coef_)\n",
    "print (lm.intercept_)"
   ]
  },
  {
   "cell_type": "code",
   "execution_count": 100,
   "metadata": {},
   "outputs": [
    {
     "data": {
      "image/png": "[encoded data removed]",
      "text/plain": [
       "<Figure size 432x288 with 1 Axes>"
      ]
     },
     "metadata": {
      "needs_background": "light"
     },
     "output_type": "display_data"
    }
   ],
   "source": [
    "Yhat = np.maximum(Yhat, 0)\n",
    "plt.scatter(logy, Yhat,  color='black')\n",
    "plt.xlabel(\"true outcome Y\")\n",
    "plt.ylabel(\"predicted outcome Yhat\")\n",
    "\n",
    "plt.show()"
   ]
  },
  {
   "cell_type": "code",
   "execution_count": 101,
   "metadata": {},
   "outputs": [
    {
     "data": {
      "text/plain": [
       "<matplotlib.collections.PathCollection at 0x1c1cb3ecf8>"
      ]
     },
     "execution_count": 101,
     "metadata": {},
     "output_type": "execute_result"
    },
    {
     "data": {
      "image/png": "[encoded data removed]",
      "text/plain": [
       "<Figure size 432x288 with 1 Axes>"
      ]
     },
     "metadata": {
      "needs_background": "light"
     },
     "output_type": "display_data"
    }
   ],
   "source": [
    "plt.scatter(y, np.exp(np.maximum(Yhat, 0)),  color='black')"
   ]
  },
  {
   "cell_type": "code",
   "execution_count": 102,
   "metadata": {},
   "outputs": [
    {
     "ename": "NameError",
     "evalue": "name 'ax' is not defined",
     "output_type": "error",
     "traceback": [
      "\u001b[0;31m---------------------------------------------------------------------------\u001b[0m",
      "\u001b[0;31mNameError\u001b[0m                                 Traceback (most recent call last)",
      "\u001b[0;32m<ipython-input-102-193fdab16c96>\u001b[0m in \u001b[0;36m<module>\u001b[0;34m\u001b[0m\n\u001b[1;32m      4\u001b[0m \u001b[0;34m\u001b[0m\u001b[0m\n\u001b[1;32m      5\u001b[0m \u001b[0mplt\u001b[0m\u001b[0;34m.\u001b[0m\u001b[0mscatter\u001b[0m\u001b[0;34m(\u001b[0m\u001b[0mX\u001b[0m\u001b[0;34m,\u001b[0m \u001b[0mlogy\u001b[0m\u001b[0;34m)\u001b[0m\u001b[0;34m\u001b[0m\u001b[0;34m\u001b[0m\u001b[0m\n\u001b[0;32m----> 6\u001b[0;31m \u001b[0max\u001b[0m\u001b[0;34m.\u001b[0m\u001b[0mset_ylim\u001b[0m\u001b[0;34m(\u001b[0m\u001b[0mbottom\u001b[0m\u001b[0;34m=\u001b[0m\u001b[0;36m0\u001b[0m\u001b[0;34m)\u001b[0m\u001b[0;34m\u001b[0m\u001b[0;34m\u001b[0m\u001b[0m\n\u001b[0m\u001b[1;32m      7\u001b[0m \u001b[0mplt\u001b[0m\u001b[0;34m.\u001b[0m\u001b[0mplot\u001b[0m\u001b[0;34m(\u001b[0m\u001b[0mX\u001b[0m\u001b[0;34m,\u001b[0m \u001b[0mnp\u001b[0m\u001b[0;34m.\u001b[0m\u001b[0mmaximum\u001b[0m\u001b[0;34m(\u001b[0m\u001b[0mYhat\u001b[0m\u001b[0;34m,\u001b[0m \u001b[0;36m0\u001b[0m\u001b[0;34m)\u001b[0m\u001b[0;34m,\u001b[0m\u001b[0mcolor\u001b[0m\u001b[0;34m=\u001b[0m\u001b[0;34m'red'\u001b[0m\u001b[0;34m)\u001b[0m\u001b[0;34m\u001b[0m\u001b[0;34m\u001b[0m\u001b[0m\n",
      "\u001b[0;31mNameError\u001b[0m: name 'ax' is not defined"
     ]
    },
    {
     "data": {
      "image/png": "[encoded data removed]",
      "text/plain": [
       "<Figure size 432x288 with 1 Axes>"
      ]
     },
     "metadata": {
      "needs_background": "light"
     },
     "output_type": "display_data"
    }
   ],
   "source": [
    "axes = plt.gca()\n",
    "#axes.set_xlim([xmin,xmax])\n",
    "axes.set_ylim([0,6])\n",
    "\n",
    "plt.scatter(X, logy)\n",
    "ax.set_ylim(bottom=0)\n",
    "plt.plot(X, np.maximum(Yhat, 0),color='red')\n"
   ]
  },
  {
   "cell_type": "code",
   "execution_count": null,
   "metadata": {},
   "outputs": [],
   "source": []
  }
 ],
 "metadata": {
  "kernelspec": {
   "display_name": "Python 3",
   "language": "python",
   "name": "python3"
  },
  "language_info": {
   "codemirror_mode": {
    "name": "ipython",
    "version": 3
   },
   "file_extension": ".py",
   "mimetype": "text/x-python",
   "name": "python",
   "nbconvert_exporter": "python",
   "pygments_lexer": "ipython3",
   "version": "3.7.2"
  }
 },
 "nbformat": 4,
 "nbformat_minor": 2
}
