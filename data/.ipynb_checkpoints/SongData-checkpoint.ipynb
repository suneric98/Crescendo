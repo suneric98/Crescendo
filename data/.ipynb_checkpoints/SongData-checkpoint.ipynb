{
 "cells": [
  {
   "cell_type": "code",
   "execution_count": 1,
   "metadata": {},
   "outputs": [],
   "source": [
    "import spotipy\n",
    "import spotipy.util as util\n",
    "import json\n",
    "import pandas as pd"
   ]
  },
  {
   "cell_type": "code",
   "execution_count": 2,
   "metadata": {},
   "outputs": [
    {
     "name": "stdout",
     "output_type": "stream",
     "text": [
      "env: SPOTIPY_CLIENT_ID=\"16a4e0ff93334a0ba81f6f784e0292b7\"\n",
      "env: SPOTIPY_CLIENT_SECRET='7acb5218466741a18896ac54797a0156'\n"
     ]
    }
   ],
   "source": [
    "%env SPOTIPY_CLIENT_ID = \"16a4e0ff93334a0ba81f6f784e0292b7\"\n",
    "%env SPOTIPY_CLIENT_SECRET = '7acb5218466741a18896ac54797a0156'\n",
    "scope = 'playlist-read-private playlist-read-collaborative user-library-read user-read-recently-played user-top-read'\n",
    "redirect_uri = \"http://localhost/\"\n",
    "username = \"chriscc301916\"\n",
    "client_id = \"16a4e0ff93334a0ba81f6f784e0292b7\"\n",
    "client_secret = \"7acb5218466741a18896ac54797a0156\""
   ]
  },
  {
   "cell_type": "code",
   "execution_count": 3,
   "metadata": {},
   "outputs": [
    {
     "name": "stdout",
     "output_type": "stream",
     "text": [
      "   Rank          Artist                             Song    Streams    Date\n",
      "0     1     Post Malone                         rockstar  1,502,394  1/1/18\n",
      "1     2          G-Eazy                         No Limit  1,027,039  1/1/18\n",
      "2     3        Lil Pump                       Gucci Gang    930,620  1/1/18\n",
      "3     4         Cardi B  Bartier Cardi (feat. 21 Savage)    877,478  1/1/18\n",
      "4     5  Camila Cabello                           Havana    860,232  1/1/18\n"
     ]
    }
   ],
   "source": [
    "data = pd.read_csv(\"2018-2020topchart.csv\")\n",
    "print(data.head())"
   ]
  },
  {
   "cell_type": "code",
   "execution_count": 4,
   "metadata": {},
   "outputs": [],
   "source": [
    "token = util.prompt_for_user_token(username,scope,client_id,client_secret,redirect_uri)\n",
    "sp = spotipy.Spotify(auth=token)\n",
    "\n",
    "jsonPrettify = lambda x: json.dumps(x, indent=2)"
   ]
  },
  {
   "cell_type": "code",
   "execution_count": 5,
   "metadata": {},
   "outputs": [],
   "source": [
    "from string import punctuation\n",
    "import time\n",
    "\n",
    "def findSongId(trackName, artistName):\n",
    "    trackName = trackName.split(\"(feat.\")[0].strip()\n",
    "    trackName = trackName.replace(\"'\",\"\").replace(\"!\",\"\")\n",
    "    offset = 0\n",
    "    while offset < 500:\n",
    "        try:\n",
    "            global sp\n",
    "            results = sp.search(q=\"track:\" + trackName, type=\"track\", limit=10, offset=offset)\n",
    "        except spotipy.client.SpotifyException:\n",
    "            token = util.prompt_for_user_token(username,scope,client_id,client_secret,redirect_uri)\n",
    "            sp = spotipy.Spotify(auth=token)\n",
    "            results = sp.search(q=\"track:\" + trackName, type=\"track\", limit=10, offset=offset)\n",
    "        items = results['tracks']['items']\n",
    "        \n",
    "        trackId = \"\"\n",
    "        for track in items:\n",
    "            trackId = track[\"id\"]\n",
    "            for artist in track[\"artists\"]:\n",
    "                if artist[\"name\"] == artistName and track[\"popularity\"] > 0:\n",
    "    #                 print(jsonPrettify(track))\n",
    "                    return trackId\n",
    "        offset += 10\n",
    "        time.sleep(0.5)\n",
    "    return \"\""
   ]
  },
  {
   "cell_type": "code",
   "execution_count": 7,
   "metadata": {
    "scrolled": true
   },
   "outputs": [
    {
     "name": "stdout",
     "output_type": "stream",
     "text": [
      "danceability: 0.766\n",
      "energy: 0.548\n",
      "key: 10\n",
      "loudness: -4.29\n",
      "mode: 1\n",
      "speechiness: 0.235\n",
      "acousticness: 0.775\n",
      "instrumentalness: 5.57e-06\n",
      "liveness: 0.1\n",
      "valence: 0.424\n",
      "tempo: 82.944\n",
      "type: audio_features\n",
      "id: 26OhjtaTamFocE08t83ml6\n",
      "uri: spotify:track:26OhjtaTamFocE08t83ml6\n",
      "track_href: https://api.spotify.com/v1/tracks/26OhjtaTamFocE08t83ml6\n",
      "analysis_url: https://api.spotify.com/v1/audio-analysis/26OhjtaTamFocE08t83ml6\n",
      "duration_ms: 161985\n",
      "time_signature: 4\n"
     ]
    }
   ],
   "source": [
    "id = findSongId(\"Psycho, Pt.2\", \"Russ\")\n",
    "# print(id)\n",
    "# print(sp.audio_features(id))\n",
    "# print(sp.audio_analysis(id))\n",
    "af = sp.audio_features(id)[0]\n",
    "\n",
    "\n",
    "for k,v in af.items():\n",
    "    print(f\"{k}: {v}\")\n",
    "\n",
    "# print(af)\n",
    "# print(af.keys())\n",
    "# aa = sp.audio_analysis(id)\n",
    "\n",
    "# print(aa.keys())\n",
    "# len(aa['beats'])\n",
    "# print(f\"beats:\\n{aa['beats']}\")"
   ]
  },
  {
   "cell_type": "code",
   "execution_count": null,
   "metadata": {},
   "outputs": [],
   "source": [
    "from time import time\n",
    "from time import sleep\n",
    "from random import randint\n",
    "\n",
    "songValues = {}\n",
    "allRows = []"
   ]
  },
  {
   "cell_type": "code",
   "execution_count": null,
   "metadata": {
    "scrolled": true
   },
   "outputs": [],
   "source": [
    "df = pd.DataFrame([], columns=[\"Rank\",\"Artist\",\"Title\",\"Streams\",\"Date\",\n",
    "                                           \"Id\",\"Duration\",\"Time Signature\", \"Tempo\",\n",
    "                                           \"Key\", \"Mode\",\" Valence\", \"Danceability\",\n",
    "                                           \"Energy\", \"Acousticness\", \"Instrumentalness\"])\n",
    "with open(\"topChartWithFeatures.csv\",\"a\") as f:\n",
    "    df.to_csv(f,header=True,index=False)\n",
    "\n",
    "start = time()\n",
    "dayTime = time()\n",
    "prevDate = \"\"\n",
    "for i in range(len(data)):\n",
    "    row = data.iloc[i]\n",
    "    allRows = []\n",
    "    artistSong = row[\"Artist\"] + \"/:/\" + row[\"Song\"]\n",
    "    currDate = row[\"Date\"]\n",
    "    if currDate != prevDate:\n",
    "        print(\"Day: {}, Row: {} Time: {}\".format(currDate, i, time() - dayTime))\n",
    "        dayTime = time()\n",
    "        prevDate = currDate\n",
    "        \n",
    "    if artistSong not in songValues:\n",
    "        song = row[\"Song\"]\n",
    "        artist = row[\"Artist\"]\n",
    "        sleep(randint(0,2))\n",
    "        songId = findSongId(song, artist)\n",
    "        if songId == \"\":\n",
    "            print(\"Error with: {} by {}\".format(song, artist))\n",
    "            rowdata = [row[\"Rank\"], artist, song, row[\"Streams\"], row[\"Date\"],\n",
    "                   songId, 0, 0, 0, 0, 0, 0, 0, 0, 0, 0]\n",
    "        else:\n",
    "            features = sp.audio_features(songId)[0]\n",
    "            rowdata = [row[\"Rank\"], artist, song, row[\"Streams\"], row[\"Date\"],\n",
    "                       songId, features[\"duration_ms\"], features[\"time_signature\"],\n",
    "                       features[\"tempo\"], features[\"key\"], features[\"mode\"], features[\"valence\"],\n",
    "                       features[\"danceability\"], features[\"energy\"], features[\"acousticness\"], \n",
    "                       features[\"instrumentalness\"]]\n",
    "        \n",
    "        songValues[artistSong] = rowdata\n",
    "    else:\n",
    "        rowdata = songValues[artistSong]\n",
    "    allRows.append(rowdata)\n",
    "    \n",
    "    if i % 100 == 0:\n",
    "        df = pd.DataFrame(allRows, columns=[\"Rank\",\"Artist\",\"Title\",\"Streams\",\"Date\",\n",
    "                                           \"Id\",\"Duration\",\"Time Signature\", \"Tempo\",\n",
    "                                           \"Key\", \"Mode\",\" Valence\", \"Danceability\",\n",
    "                                           \"Energy\", \"Acousticness\", \"Instrumentalness\"])\n",
    "        with open(\"topChartWithFeatures.csv\", \"a\") as f:\n",
    "            df.to_csv(f, header=False, index=False)\n",
    "\n",
    "print(\"Time to complete:{}\".format(time() - start))"
   ]
  }
 ],
 "metadata": {
  "kernelspec": {
   "display_name": "Python 3",
   "language": "python",
   "name": "python3"
  },
  "language_info": {
   "codemirror_mode": {
    "name": "ipython",
    "version": 3
   },
   "file_extension": ".py",
   "mimetype": "text/x-python",
   "name": "python",
   "nbconvert_exporter": "python",
   "pygments_lexer": "ipython3",
   "version": "3.7.4"
  }
 },
 "nbformat": 4,
 "nbformat_minor": 2
}
