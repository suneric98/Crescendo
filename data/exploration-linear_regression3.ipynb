{
 "cells": [
  {
   "cell_type": "code",
   "execution_count": 216,
   "metadata": {},
   "outputs": [],
   "source": [
    "import pandas as pd  \n",
    "import numpy as np  \n",
    "import matplotlib.pyplot as plt  \n",
    "import seaborn as seabornInstance \n",
    "from sklearn.model_selection import train_test_split \n",
    "from sklearn.linear_model import LinearRegression\n",
    "from sklearn import metrics\n",
    "%matplotlib inline\n",
    "import json\n",
    "import datetime \n",
    "#import spotipy\n",
    "#import spotipy.util as util\n",
    "\n",
    "# normal cdf\n",
    "from scipy.stats import norm\n",
    "\n",
    "\n",
    "# linear regression\n",
    "import statsmodels.api as sm\n",
    "from statsmodels.stats.outliers_influence import variance_inflation_factor\n",
    "\n",
    "# for choosing covariates to include in model\n",
    "from patsy import dmatrices"
   ]
  },
  {
   "cell_type": "code",
   "execution_count": 217,
   "metadata": {},
   "outputs": [],
   "source": [
    "scope = 'playlist-read-private playlist-read-collaborative user-library-read user-read-recently-played user-top-read'\n",
    "redirect_uri = \"http://localhost/\"\n",
    "username = \"\"\n",
    "client_id = \"\"\n",
    "client_secret = \"\""
   ]
  },
  {
   "cell_type": "code",
   "execution_count": 218,
   "metadata": {},
   "outputs": [
    {
     "data": {
      "text/html": [
       "<div>\n",
       "<style scoped>\n",
       "    .dataframe tbody tr th:only-of-type {\n",
       "        vertical-align: middle;\n",
       "    }\n",
       "\n",
       "    .dataframe tbody tr th {\n",
       "        vertical-align: top;\n",
       "    }\n",
       "\n",
       "    .dataframe thead th {\n",
       "        text-align: right;\n",
       "    }\n",
       "</style>\n",
       "<table border=\"1\" class=\"dataframe\">\n",
       "  <thead>\n",
       "    <tr style=\"text-align: right;\">\n",
       "      <th></th>\n",
       "      <th>Unnamed: 0</th>\n",
       "      <th>Unnamed: 0.1</th>\n",
       "      <th>Artist</th>\n",
       "      <th>Song</th>\n",
       "      <th>Rank</th>\n",
       "      <th>Streams</th>\n",
       "      <th>Date</th>\n",
       "      <th>Id</th>\n",
       "      <th>Duration</th>\n",
       "      <th>Time Signature</th>\n",
       "      <th>Tempo</th>\n",
       "      <th>Key</th>\n",
       "      <th>Mode</th>\n",
       "      <th>Valence</th>\n",
       "      <th>Danceability</th>\n",
       "      <th>Energy</th>\n",
       "      <th>Acousticness</th>\n",
       "      <th>Instrumentalness</th>\n",
       "    </tr>\n",
       "  </thead>\n",
       "  <tbody>\n",
       "    <tr>\n",
       "      <th>0</th>\n",
       "      <td>0</td>\n",
       "      <td>0</td>\n",
       "      <td>Post Malone</td>\n",
       "      <td>rockstar</td>\n",
       "      <td>1</td>\n",
       "      <td>1502394</td>\n",
       "      <td>2018-01-01</td>\n",
       "      <td>0e7ipj03S05BNilyu5bRzt</td>\n",
       "      <td>218147</td>\n",
       "      <td>4</td>\n",
       "      <td>159.801</td>\n",
       "      <td>5</td>\n",
       "      <td>0</td>\n",
       "      <td>0.129</td>\n",
       "      <td>0.585</td>\n",
       "      <td>0.520</td>\n",
       "      <td>0.12400</td>\n",
       "      <td>0.000070</td>\n",
       "    </tr>\n",
       "    <tr>\n",
       "      <th>1</th>\n",
       "      <td>1</td>\n",
       "      <td>1</td>\n",
       "      <td>G-Eazy</td>\n",
       "      <td>No Limit</td>\n",
       "      <td>2</td>\n",
       "      <td>1027039</td>\n",
       "      <td>2018-01-01</td>\n",
       "      <td>2DQ1ITjI0YoLFzuADN1ZBW</td>\n",
       "      <td>245387</td>\n",
       "      <td>4</td>\n",
       "      <td>175.957</td>\n",
       "      <td>1</td>\n",
       "      <td>1</td>\n",
       "      <td>0.405</td>\n",
       "      <td>0.838</td>\n",
       "      <td>0.771</td>\n",
       "      <td>0.01170</td>\n",
       "      <td>0.000000</td>\n",
       "    </tr>\n",
       "    <tr>\n",
       "      <th>2</th>\n",
       "      <td>2</td>\n",
       "      <td>2</td>\n",
       "      <td>Lil Pump</td>\n",
       "      <td>Gucci Gang</td>\n",
       "      <td>3</td>\n",
       "      <td>930620</td>\n",
       "      <td>2018-01-01</td>\n",
       "      <td>43ZyHQITOjhciSUUNPVRHc</td>\n",
       "      <td>124056</td>\n",
       "      <td>4</td>\n",
       "      <td>119.889</td>\n",
       "      <td>5</td>\n",
       "      <td>1</td>\n",
       "      <td>0.699</td>\n",
       "      <td>0.936</td>\n",
       "      <td>0.523</td>\n",
       "      <td>0.23900</td>\n",
       "      <td>0.000000</td>\n",
       "    </tr>\n",
       "    <tr>\n",
       "      <th>3</th>\n",
       "      <td>3</td>\n",
       "      <td>3</td>\n",
       "      <td>Cardi B</td>\n",
       "      <td>Bartier Cardi (feat. 21 Savage)</td>\n",
       "      <td>4</td>\n",
       "      <td>877478</td>\n",
       "      <td>2018-01-01</td>\n",
       "      <td>0dIoGTQXDh1wVnhIiSyYEa</td>\n",
       "      <td>224285</td>\n",
       "      <td>4</td>\n",
       "      <td>138.015</td>\n",
       "      <td>1</td>\n",
       "      <td>1</td>\n",
       "      <td>0.109</td>\n",
       "      <td>0.908</td>\n",
       "      <td>0.524</td>\n",
       "      <td>0.00111</td>\n",
       "      <td>0.000678</td>\n",
       "    </tr>\n",
       "    <tr>\n",
       "      <th>4</th>\n",
       "      <td>4</td>\n",
       "      <td>4</td>\n",
       "      <td>Camila Cabello</td>\n",
       "      <td>Havana</td>\n",
       "      <td>5</td>\n",
       "      <td>860232</td>\n",
       "      <td>2018-01-01</td>\n",
       "      <td>1rfofaqEpACxVEHIZBJe6W</td>\n",
       "      <td>217307</td>\n",
       "      <td>4</td>\n",
       "      <td>104.988</td>\n",
       "      <td>2</td>\n",
       "      <td>1</td>\n",
       "      <td>0.394</td>\n",
       "      <td>0.765</td>\n",
       "      <td>0.523</td>\n",
       "      <td>0.18400</td>\n",
       "      <td>0.000036</td>\n",
       "    </tr>\n",
       "  </tbody>\n",
       "</table>\n",
       "</div>"
      ],
      "text/plain": [
       "   Unnamed: 0  Unnamed: 0.1          Artist                             Song  \\\n",
       "0           0             0     Post Malone                         rockstar   \n",
       "1           1             1          G-Eazy                         No Limit   \n",
       "2           2             2        Lil Pump                       Gucci Gang   \n",
       "3           3             3         Cardi B  Bartier Cardi (feat. 21 Savage)   \n",
       "4           4             4  Camila Cabello                           Havana   \n",
       "\n",
       "   Rank  Streams        Date                      Id  Duration  \\\n",
       "0     1  1502394  2018-01-01  0e7ipj03S05BNilyu5bRzt    218147   \n",
       "1     2  1027039  2018-01-01  2DQ1ITjI0YoLFzuADN1ZBW    245387   \n",
       "2     3   930620  2018-01-01  43ZyHQITOjhciSUUNPVRHc    124056   \n",
       "3     4   877478  2018-01-01  0dIoGTQXDh1wVnhIiSyYEa    224285   \n",
       "4     5   860232  2018-01-01  1rfofaqEpACxVEHIZBJe6W    217307   \n",
       "\n",
       "   Time Signature    Tempo  Key  Mode   Valence  Danceability  Energy  \\\n",
       "0               4  159.801    5     0     0.129         0.585   0.520   \n",
       "1               4  175.957    1     1     0.405         0.838   0.771   \n",
       "2               4  119.889    5     1     0.699         0.936   0.523   \n",
       "3               4  138.015    1     1     0.109         0.908   0.524   \n",
       "4               4  104.988    2     1     0.394         0.765   0.523   \n",
       "\n",
       "   Acousticness  Instrumentalness  \n",
       "0       0.12400          0.000070  \n",
       "1       0.01170          0.000000  \n",
       "2       0.23900          0.000000  \n",
       "3       0.00111          0.000678  \n",
       "4       0.18400          0.000036  "
      ]
     },
     "execution_count": 218,
     "metadata": {},
     "output_type": "execute_result"
    }
   ],
   "source": [
    "#data = pd.read_csv('topChartWithFeatures.csv')\n",
    "data = pd.read_csv('streams_continuous.csv')\n",
    "\n",
    "#dataset\n",
    "data.head()\n"
   ]
  },
  {
   "cell_type": "code",
   "execution_count": 219,
   "metadata": {},
   "outputs": [
    {
     "data": {
      "text/html": [
       "<div>\n",
       "<style scoped>\n",
       "    .dataframe tbody tr th:only-of-type {\n",
       "        vertical-align: middle;\n",
       "    }\n",
       "\n",
       "    .dataframe tbody tr th {\n",
       "        vertical-align: top;\n",
       "    }\n",
       "\n",
       "    .dataframe thead th {\n",
       "        text-align: right;\n",
       "    }\n",
       "</style>\n",
       "<table border=\"1\" class=\"dataframe\">\n",
       "  <thead>\n",
       "    <tr style=\"text-align: right;\">\n",
       "      <th></th>\n",
       "      <th>Unnamed: 0</th>\n",
       "      <th>Unnamed: 0.1</th>\n",
       "      <th>Rank</th>\n",
       "      <th>Streams</th>\n",
       "      <th>Duration</th>\n",
       "      <th>Time Signature</th>\n",
       "      <th>Tempo</th>\n",
       "      <th>Key</th>\n",
       "      <th>Mode</th>\n",
       "      <th>Valence</th>\n",
       "      <th>Danceability</th>\n",
       "      <th>Energy</th>\n",
       "      <th>Acousticness</th>\n",
       "      <th>Instrumentalness</th>\n",
       "    </tr>\n",
       "  </thead>\n",
       "  <tbody>\n",
       "    <tr>\n",
       "      <th>count</th>\n",
       "      <td>151601.000000</td>\n",
       "      <td>151601.000000</td>\n",
       "      <td>151601.000000</td>\n",
       "      <td>1.516010e+05</td>\n",
       "      <td>151601.000000</td>\n",
       "      <td>151601.000000</td>\n",
       "      <td>151601.000000</td>\n",
       "      <td>151601.000000</td>\n",
       "      <td>151601.000000</td>\n",
       "      <td>151601.000000</td>\n",
       "      <td>151601.000000</td>\n",
       "      <td>151601.000000</td>\n",
       "      <td>151601.000000</td>\n",
       "      <td>151601.000000</td>\n",
       "    </tr>\n",
       "    <tr>\n",
       "      <th>mean</th>\n",
       "      <td>75800.000000</td>\n",
       "      <td>75800.000000</td>\n",
       "      <td>100.499344</td>\n",
       "      <td>4.156785e+05</td>\n",
       "      <td>199190.991511</td>\n",
       "      <td>3.958364</td>\n",
       "      <td>121.968125</td>\n",
       "      <td>5.376614</td>\n",
       "      <td>0.593894</td>\n",
       "      <td>0.448434</td>\n",
       "      <td>0.707267</td>\n",
       "      <td>0.599525</td>\n",
       "      <td>0.224544</td>\n",
       "      <td>0.006963</td>\n",
       "    </tr>\n",
       "    <tr>\n",
       "      <th>std</th>\n",
       "      <td>43763.583417</td>\n",
       "      <td>43763.583417</td>\n",
       "      <td>57.734871</td>\n",
       "      <td>2.984839e+05</td>\n",
       "      <td>46582.185873</td>\n",
       "      <td>0.392216</td>\n",
       "      <td>31.187651</td>\n",
       "      <td>3.682299</td>\n",
       "      <td>0.491106</td>\n",
       "      <td>0.203869</td>\n",
       "      <td>0.149032</td>\n",
       "      <td>0.159106</td>\n",
       "      <td>0.237183</td>\n",
       "      <td>0.049412</td>\n",
       "    </tr>\n",
       "    <tr>\n",
       "      <th>min</th>\n",
       "      <td>0.000000</td>\n",
       "      <td>0.000000</td>\n",
       "      <td>1.000000</td>\n",
       "      <td>1.578150e+05</td>\n",
       "      <td>0.000000</td>\n",
       "      <td>0.000000</td>\n",
       "      <td>0.000000</td>\n",
       "      <td>0.000000</td>\n",
       "      <td>0.000000</td>\n",
       "      <td>0.000000</td>\n",
       "      <td>0.000000</td>\n",
       "      <td>0.000000</td>\n",
       "      <td>0.000000</td>\n",
       "      <td>0.000000</td>\n",
       "    </tr>\n",
       "    <tr>\n",
       "      <th>25%</th>\n",
       "      <td>37900.000000</td>\n",
       "      <td>37900.000000</td>\n",
       "      <td>50.000000</td>\n",
       "      <td>2.474270e+05</td>\n",
       "      <td>173800.000000</td>\n",
       "      <td>4.000000</td>\n",
       "      <td>97.062000</td>\n",
       "      <td>1.000000</td>\n",
       "      <td>0.000000</td>\n",
       "      <td>0.294000</td>\n",
       "      <td>0.620000</td>\n",
       "      <td>0.511000</td>\n",
       "      <td>0.040900</td>\n",
       "      <td>0.000000</td>\n",
       "    </tr>\n",
       "    <tr>\n",
       "      <th>50%</th>\n",
       "      <td>75800.000000</td>\n",
       "      <td>75800.000000</td>\n",
       "      <td>100.000000</td>\n",
       "      <td>3.128680e+05</td>\n",
       "      <td>197947.000000</td>\n",
       "      <td>4.000000</td>\n",
       "      <td>123.146000</td>\n",
       "      <td>6.000000</td>\n",
       "      <td>1.000000</td>\n",
       "      <td>0.437000</td>\n",
       "      <td>0.729000</td>\n",
       "      <td>0.603000</td>\n",
       "      <td>0.137000</td>\n",
       "      <td>0.000000</td>\n",
       "    </tr>\n",
       "    <tr>\n",
       "      <th>75%</th>\n",
       "      <td>113700.000000</td>\n",
       "      <td>113700.000000</td>\n",
       "      <td>150.000000</td>\n",
       "      <td>4.643890e+05</td>\n",
       "      <td>221543.000000</td>\n",
       "      <td>4.000000</td>\n",
       "      <td>144.111000</td>\n",
       "      <td>9.000000</td>\n",
       "      <td>1.000000</td>\n",
       "      <td>0.584000</td>\n",
       "      <td>0.809000</td>\n",
       "      <td>0.715000</td>\n",
       "      <td>0.331000</td>\n",
       "      <td>0.000007</td>\n",
       "    </tr>\n",
       "    <tr>\n",
       "      <th>max</th>\n",
       "      <td>151600.000000</td>\n",
       "      <td>151600.000000</td>\n",
       "      <td>200.000000</td>\n",
       "      <td>5.749019e+06</td>\n",
       "      <td>943529.000000</td>\n",
       "      <td>5.000000</td>\n",
       "      <td>232.690000</td>\n",
       "      <td>11.000000</td>\n",
       "      <td>1.000000</td>\n",
       "      <td>0.980000</td>\n",
       "      <td>0.980000</td>\n",
       "      <td>0.978000</td>\n",
       "      <td>0.994000</td>\n",
       "      <td>0.956000</td>\n",
       "    </tr>\n",
       "  </tbody>\n",
       "</table>\n",
       "</div>"
      ],
      "text/plain": [
       "          Unnamed: 0   Unnamed: 0.1           Rank       Streams  \\\n",
       "count  151601.000000  151601.000000  151601.000000  1.516010e+05   \n",
       "mean    75800.000000   75800.000000     100.499344  4.156785e+05   \n",
       "std     43763.583417   43763.583417      57.734871  2.984839e+05   \n",
       "min         0.000000       0.000000       1.000000  1.578150e+05   \n",
       "25%     37900.000000   37900.000000      50.000000  2.474270e+05   \n",
       "50%     75800.000000   75800.000000     100.000000  3.128680e+05   \n",
       "75%    113700.000000  113700.000000     150.000000  4.643890e+05   \n",
       "max    151600.000000  151600.000000     200.000000  5.749019e+06   \n",
       "\n",
       "            Duration  Time Signature          Tempo            Key  \\\n",
       "count  151601.000000   151601.000000  151601.000000  151601.000000   \n",
       "mean   199190.991511        3.958364     121.968125       5.376614   \n",
       "std     46582.185873        0.392216      31.187651       3.682299   \n",
       "min         0.000000        0.000000       0.000000       0.000000   \n",
       "25%    173800.000000        4.000000      97.062000       1.000000   \n",
       "50%    197947.000000        4.000000     123.146000       6.000000   \n",
       "75%    221543.000000        4.000000     144.111000       9.000000   \n",
       "max    943529.000000        5.000000     232.690000      11.000000   \n",
       "\n",
       "                Mode        Valence   Danceability         Energy  \\\n",
       "count  151601.000000  151601.000000  151601.000000  151601.000000   \n",
       "mean        0.593894       0.448434       0.707267       0.599525   \n",
       "std         0.491106       0.203869       0.149032       0.159106   \n",
       "min         0.000000       0.000000       0.000000       0.000000   \n",
       "25%         0.000000       0.294000       0.620000       0.511000   \n",
       "50%         1.000000       0.437000       0.729000       0.603000   \n",
       "75%         1.000000       0.584000       0.809000       0.715000   \n",
       "max         1.000000       0.980000       0.980000       0.978000   \n",
       "\n",
       "        Acousticness  Instrumentalness  \n",
       "count  151601.000000     151601.000000  \n",
       "mean        0.224544          0.006963  \n",
       "std         0.237183          0.049412  \n",
       "min         0.000000          0.000000  \n",
       "25%         0.040900          0.000000  \n",
       "50%         0.137000          0.000000  \n",
       "75%         0.331000          0.000007  \n",
       "max         0.994000          0.956000  "
      ]
     },
     "execution_count": 219,
     "metadata": {},
     "output_type": "execute_result"
    }
   ],
   "source": [
    "data.describe()"
   ]
  },
  {
   "cell_type": "code",
   "execution_count": 220,
   "metadata": {},
   "outputs": [
    {
     "data": {
      "text/plain": [
       "(151601, 18)"
      ]
     },
     "execution_count": 220,
     "metadata": {},
     "output_type": "execute_result"
    }
   ],
   "source": [
    "data.shape"
   ]
  },
  {
   "cell_type": "code",
   "execution_count": 221,
   "metadata": {},
   "outputs": [],
   "source": [
    "types = data.dtypes\n",
    "#print(types)"
   ]
  },
  {
   "cell_type": "code",
   "execution_count": null,
   "metadata": {},
   "outputs": [],
   "source": []
  },
  {
   "cell_type": "code",
   "execution_count": 222,
   "metadata": {},
   "outputs": [],
   "source": [
    "data[\"Date\"] = pd.to_datetime(data[\"Date\"])\n",
    "features = data[['Danceability', 'Energy', 'Duration', 'Acousticness', 'Key','Mode','Instrumentalness','Tempo', 'Time Signature']]"
   ]
  },
  {
   "cell_type": "code",
   "execution_count": 223,
   "metadata": {},
   "outputs": [
    {
     "name": "stdout",
     "output_type": "stream",
     "text": [
      "       Unnamed: 0  Unnamed: 0.1            Artist             Song  Rank  \\\n",
      "25015       25015         25015  Childish Gambino  This Is America    16   \n",
      "25200       25200         25200  Childish Gambino  This Is America     1   \n",
      "25400       25400         25400  Childish Gambino  This Is America     1   \n",
      "25600       25600         25600  Childish Gambino  This Is America     1   \n",
      "25800       25800         25800  Childish Gambino  This Is America     1   \n",
      "26000       26000         26000  Childish Gambino  This Is America     1   \n",
      "26200       26200         26200  Childish Gambino  This Is America     1   \n",
      "26400       26400         26400  Childish Gambino  This Is America     1   \n",
      "26600       26600         26600  Childish Gambino  This Is America     1   \n",
      "26800       26800         26800  Childish Gambino  This Is America     1   \n",
      "27000       27000         27000  Childish Gambino  This Is America     1   \n",
      "27200       27200         27200  Childish Gambino  This Is America     1   \n",
      "27400       27400         27400  Childish Gambino  This Is America     1   \n",
      "27601       27601         27601  Childish Gambino  This Is America     2   \n",
      "27801       27801         27801  Childish Gambino  This Is America     2   \n",
      "28000       28000         28000  Childish Gambino  This Is America     1   \n",
      "28201       28201         28201  Childish Gambino  This Is America     2   \n",
      "28401       28401         28401  Childish Gambino  This Is America     2   \n",
      "28602       28602         28602  Childish Gambino  This Is America     3   \n",
      "28803       28803         28803  Childish Gambino  This Is America     4   \n",
      "29003       29003         29003  Childish Gambino  This Is America     4   \n",
      "29205       29205         29205  Childish Gambino  This Is America     6   \n",
      "29405       29405         29405  Childish Gambino  This Is America     6   \n",
      "29605       29605         29605  Childish Gambino  This Is America     6   \n",
      "29805       29805         29805  Childish Gambino  This Is America     6   \n",
      "30006       30006         30006  Childish Gambino  This Is America     7   \n",
      "30205       30205         30205  Childish Gambino  This Is America     6   \n",
      "30413       30413         30413  Childish Gambino  This Is America    14   \n",
      "30614       30614         30614  Childish Gambino  This Is America    15   \n",
      "30813       30813         30813  Childish Gambino  This Is America    14   \n",
      "...           ...           ...               ...              ...   ...   \n",
      "48553       48553         48553  Childish Gambino  This Is America   154   \n",
      "48744       48744         48744  Childish Gambino  This Is America   145   \n",
      "48942       48942         48942  Childish Gambino  This Is America   143   \n",
      "49140       49140         49140  Childish Gambino  This Is America   141   \n",
      "49346       49346         49346  Childish Gambino  This Is America   147   \n",
      "49541       49541         49541  Childish Gambino  This Is America   142   \n",
      "49738       49738         49738  Childish Gambino  This Is America   139   \n",
      "49948       49948         49948  Childish Gambino  This Is America   149   \n",
      "50142       50142         50142  Childish Gambino  This Is America   143   \n",
      "50341       50341         50341  Childish Gambino  This Is America   142   \n",
      "50544       50544         50544  Childish Gambino  This Is America   145   \n",
      "50741       50741         50741  Childish Gambino  This Is America   142   \n",
      "50943       50943         50943  Childish Gambino  This Is America   144   \n",
      "51145       51145         51145  Childish Gambino  This Is America   146   \n",
      "51363       51363         51363  Childish Gambino  This Is America   164   \n",
      "51555       51555         51555  Childish Gambino  This Is America   156   \n",
      "51748       51748         51748  Childish Gambino  This Is America   149   \n",
      "51969       51969         51969  Childish Gambino  This Is America   170   \n",
      "52159       52159         52159  Childish Gambino  This Is America   160   \n",
      "52357       52357         52357  Childish Gambino  This Is America   158   \n",
      "52559       52559         52559  Childish Gambino  This Is America   160   \n",
      "52777       52777         52777  Childish Gambino  This Is America   178   \n",
      "52954       52954         52954  Childish Gambino  This Is America   155   \n",
      "53156       53156         53156  Childish Gambino  This Is America   157   \n",
      "53376       53376         53376  Childish Gambino  This Is America   177   \n",
      "53573       53573         53573  Childish Gambino  This Is America   174   \n",
      "53768       53768         53768  Childish Gambino  This Is America   169   \n",
      "53970       53970         53970  Childish Gambino  This Is America   171   \n",
      "68194       68194         68194  Childish Gambino  This Is America   195   \n",
      "81335       81335         81335  Childish Gambino  This Is America   136   \n",
      "\n",
      "       Streams       Date                      Id  Duration  Time Signature  \\\n",
      "25015   857044 2018-05-06  0b9oOr2ZgvyQu88wzixux9    225773               4   \n",
      "25200  2270990 2018-05-07  0b9oOr2ZgvyQu88wzixux9    225773               4   \n",
      "25400  2655720 2018-05-08  0b9oOr2ZgvyQu88wzixux9    225773               4   \n",
      "25600  2749514 2018-05-09  0b9oOr2ZgvyQu88wzixux9    225773               4   \n",
      "25800  2586594 2018-05-10  0b9oOr2ZgvyQu88wzixux9    225773               4   \n",
      "26000  2753489 2018-05-11  0b9oOr2ZgvyQu88wzixux9    225773               4   \n",
      "26200  2246370 2018-05-12  0b9oOr2ZgvyQu88wzixux9    225773               4   \n",
      "26400  1899278 2018-05-13  0b9oOr2ZgvyQu88wzixux9    225773               4   \n",
      "26600  2266501 2018-05-14  0b9oOr2ZgvyQu88wzixux9    225773               4   \n",
      "26800  2170856 2018-05-15  0b9oOr2ZgvyQu88wzixux9    225773               4   \n",
      "27000  2038482 2018-05-16  0b9oOr2ZgvyQu88wzixux9    225773               4   \n",
      "27200  1914536 2018-05-17  0b9oOr2ZgvyQu88wzixux9    225773               4   \n",
      "27400  1917414 2018-05-18  0b9oOr2ZgvyQu88wzixux9    225773               4   \n",
      "27601  1637980 2018-05-19  0b9oOr2ZgvyQu88wzixux9    225773               4   \n",
      "27801  1436916 2018-05-20  0b9oOr2ZgvyQu88wzixux9    225773               4   \n",
      "28000  1641186 2018-05-21  0b9oOr2ZgvyQu88wzixux9    225773               4   \n",
      "28201  1669981 2018-05-22  0b9oOr2ZgvyQu88wzixux9    225773               4   \n",
      "28401  1665502 2018-05-23  0b9oOr2ZgvyQu88wzixux9    225773               4   \n",
      "28602  1595207 2018-05-24  0b9oOr2ZgvyQu88wzixux9    225773               4   \n",
      "28803  1505865 2018-05-25  0b9oOr2ZgvyQu88wzixux9    225773               4   \n",
      "29003  1312483 2018-05-26  0b9oOr2ZgvyQu88wzixux9    225773               4   \n",
      "29205  1132021 2018-05-27  0b9oOr2ZgvyQu88wzixux9    225773               4   \n",
      "29405  1109184 2018-05-28  0b9oOr2ZgvyQu88wzixux9    225773               4   \n",
      "29605  1205358 2018-05-29  0b9oOr2ZgvyQu88wzixux9    225773               4   \n",
      "29805  1190409 2018-05-30  0b9oOr2ZgvyQu88wzixux9    225773               4   \n",
      "30006  1154227 2018-05-31  0b9oOr2ZgvyQu88wzixux9    225773               4   \n",
      "30205  1194242 2018-06-01  0b9oOr2ZgvyQu88wzixux9    225773               4   \n",
      "30413  1134079 2018-06-02  0b9oOr2ZgvyQu88wzixux9    225773               4   \n",
      "30614  1004029 2018-06-03  0b9oOr2ZgvyQu88wzixux9    225773               4   \n",
      "30813  1047715 2018-06-04  0b9oOr2ZgvyQu88wzixux9    225773               4   \n",
      "...        ...        ...                     ...       ...             ...   \n",
      "48553   268455 2018-08-31  0b9oOr2ZgvyQu88wzixux9    225773               4   \n",
      "48744   244488 2018-09-01  0b9oOr2ZgvyQu88wzixux9    225773               4   \n",
      "48942   225124 2018-09-02  0b9oOr2ZgvyQu88wzixux9    225773               4   \n",
      "49140   232471 2018-09-03  0b9oOr2ZgvyQu88wzixux9    225773               4   \n",
      "49346   244965 2018-09-04  0b9oOr2ZgvyQu88wzixux9    225773               4   \n",
      "49541   251840 2018-09-05  0b9oOr2ZgvyQu88wzixux9    225773               4   \n",
      "49738   255341 2018-09-06  0b9oOr2ZgvyQu88wzixux9    225773               4   \n",
      "49948   265083 2018-09-07  0b9oOr2ZgvyQu88wzixux9    225773               4   \n",
      "50142   261873 2018-09-08  0b9oOr2ZgvyQu88wzixux9    225773               4   \n",
      "50341   231407 2018-09-09  0b9oOr2ZgvyQu88wzixux9    225773               4   \n",
      "50544   249683 2018-09-10  0b9oOr2ZgvyQu88wzixux9    225773               4   \n",
      "50741   254198 2018-09-11  0b9oOr2ZgvyQu88wzixux9    225773               4   \n",
      "50943   258040 2018-09-12  0b9oOr2ZgvyQu88wzixux9    225773               4   \n",
      "51145   258401 2018-09-13  0b9oOr2ZgvyQu88wzixux9    225773               4   \n",
      "51363   262122 2018-09-14  0b9oOr2ZgvyQu88wzixux9    225773               4   \n",
      "51555   240496 2018-09-15  0b9oOr2ZgvyQu88wzixux9    225773               4   \n",
      "51748   216598 2018-09-16  0b9oOr2ZgvyQu88wzixux9    225773               4   \n",
      "51969   231609 2018-09-17  0b9oOr2ZgvyQu88wzixux9    225773               4   \n",
      "52159   240328 2018-09-18  0b9oOr2ZgvyQu88wzixux9    225773               4   \n",
      "52357   242696 2018-09-19  0b9oOr2ZgvyQu88wzixux9    225773               4   \n",
      "52559   241493 2018-09-20  0b9oOr2ZgvyQu88wzixux9    225773               4   \n",
      "52777   245588 2018-09-21  0b9oOr2ZgvyQu88wzixux9    225773               4   \n",
      "52954   228187 2018-09-22  0b9oOr2ZgvyQu88wzixux9    225773               4   \n",
      "53156   204387 2018-09-23  0b9oOr2ZgvyQu88wzixux9    225773               4   \n",
      "53376   218918 2018-09-24  0b9oOr2ZgvyQu88wzixux9    225773               4   \n",
      "53573   223736 2018-09-25  0b9oOr2ZgvyQu88wzixux9    225773               4   \n",
      "53768   229821 2018-09-26  0b9oOr2ZgvyQu88wzixux9    225773               4   \n",
      "53970   223423 2018-09-27  0b9oOr2ZgvyQu88wzixux9    225773               4   \n",
      "68194   265411 2018-12-07  0b9oOr2ZgvyQu88wzixux9    225773               4   \n",
      "81335   277369 2019-02-11  0b9oOr2ZgvyQu88wzixux9    225773               4   \n",
      "\n",
      "         Tempo  Key  Mode   Valence  Danceability  Energy  Acousticness  \\\n",
      "25015  120.024    5     1     0.549         0.854   0.463         0.117   \n",
      "25200  120.024    5     1     0.549         0.854   0.463         0.117   \n",
      "25400  120.024    5     1     0.549         0.854   0.463         0.117   \n",
      "25600  120.024    5     1     0.549         0.854   0.463         0.117   \n",
      "25800  120.024    5     1     0.549         0.854   0.463         0.117   \n",
      "26000  120.024    5     1     0.549         0.854   0.463         0.117   \n",
      "26200  120.024    5     1     0.549         0.854   0.463         0.117   \n",
      "26400  120.024    5     1     0.549         0.854   0.463         0.117   \n",
      "26600  120.024    5     1     0.549         0.854   0.463         0.117   \n",
      "26800  120.024    5     1     0.549         0.854   0.463         0.117   \n",
      "27000  120.024    5     1     0.549         0.854   0.463         0.117   \n",
      "27200  120.024    5     1     0.549         0.854   0.463         0.117   \n",
      "27400  120.024    5     1     0.549         0.854   0.463         0.117   \n",
      "27601  120.024    5     1     0.549         0.854   0.463         0.117   \n",
      "27801  120.024    5     1     0.549         0.854   0.463         0.117   \n",
      "28000  120.024    5     1     0.549         0.854   0.463         0.117   \n",
      "28201  120.024    5     1     0.549         0.854   0.463         0.117   \n",
      "28401  120.024    5     1     0.549         0.854   0.463         0.117   \n",
      "28602  120.024    5     1     0.549         0.854   0.463         0.117   \n",
      "28803  120.024    5     1     0.549         0.854   0.463         0.117   \n",
      "29003  120.024    5     1     0.549         0.854   0.463         0.117   \n",
      "29205  120.024    5     1     0.549         0.854   0.463         0.117   \n",
      "29405  120.024    5     1     0.549         0.854   0.463         0.117   \n",
      "29605  120.024    5     1     0.549         0.854   0.463         0.117   \n",
      "29805  120.024    5     1     0.549         0.854   0.463         0.117   \n",
      "30006  120.024    5     1     0.549         0.854   0.463         0.117   \n",
      "30205  120.024    5     1     0.549         0.854   0.463         0.117   \n",
      "30413  120.024    5     1     0.549         0.854   0.463         0.117   \n",
      "30614  120.024    5     1     0.549         0.854   0.463         0.117   \n",
      "30813  120.024    5     1     0.549         0.854   0.463         0.117   \n",
      "...        ...  ...   ...       ...           ...     ...           ...   \n",
      "48553  120.024    5     1     0.549         0.854   0.463         0.117   \n",
      "48744  120.024    5     1     0.549         0.854   0.463         0.117   \n",
      "48942  120.024    5     1     0.549         0.854   0.463         0.117   \n",
      "49140  120.024    5     1     0.549         0.854   0.463         0.117   \n",
      "49346  120.024    5     1     0.549         0.854   0.463         0.117   \n",
      "49541  120.024    5     1     0.549         0.854   0.463         0.117   \n",
      "49738  120.024    5     1     0.549         0.854   0.463         0.117   \n",
      "49948  120.024    5     1     0.549         0.854   0.463         0.117   \n",
      "50142  120.024    5     1     0.549         0.854   0.463         0.117   \n",
      "50341  120.024    5     1     0.549         0.854   0.463         0.117   \n",
      "50544  120.024    5     1     0.549         0.854   0.463         0.117   \n",
      "50741  120.024    5     1     0.549         0.854   0.463         0.117   \n",
      "50943  120.024    5     1     0.549         0.854   0.463         0.117   \n",
      "51145  120.024    5     1     0.549         0.854   0.463         0.117   \n",
      "51363  120.024    5     1     0.549         0.854   0.463         0.117   \n",
      "51555  120.024    5     1     0.549         0.854   0.463         0.117   \n",
      "51748  120.024    5     1     0.549         0.854   0.463         0.117   \n",
      "51969  120.024    5     1     0.549         0.854   0.463         0.117   \n",
      "52159  120.024    5     1     0.549         0.854   0.463         0.117   \n",
      "52357  120.024    5     1     0.549         0.854   0.463         0.117   \n",
      "52559  120.024    5     1     0.549         0.854   0.463         0.117   \n",
      "52777  120.024    5     1     0.549         0.854   0.463         0.117   \n",
      "52954  120.024    5     1     0.549         0.854   0.463         0.117   \n",
      "53156  120.024    5     1     0.549         0.854   0.463         0.117   \n",
      "53376  120.024    5     1     0.549         0.854   0.463         0.117   \n",
      "53573  120.024    5     1     0.549         0.854   0.463         0.117   \n",
      "53768  120.024    5     1     0.549         0.854   0.463         0.117   \n",
      "53970  120.024    5     1     0.549         0.854   0.463         0.117   \n",
      "68194  120.024    5     1     0.549         0.854   0.463         0.117   \n",
      "81335  120.024    5     1     0.549         0.854   0.463         0.117   \n",
      "\n",
      "       Instrumentalness  \n",
      "25015               0.0  \n",
      "25200               0.0  \n",
      "25400               0.0  \n",
      "25600               0.0  \n",
      "25800               0.0  \n",
      "26000               0.0  \n",
      "26200               0.0  \n",
      "26400               0.0  \n",
      "26600               0.0  \n",
      "26800               0.0  \n",
      "27000               0.0  \n",
      "27200               0.0  \n",
      "27400               0.0  \n",
      "27601               0.0  \n",
      "27801               0.0  \n",
      "28000               0.0  \n",
      "28201               0.0  \n",
      "28401               0.0  \n",
      "28602               0.0  \n",
      "28803               0.0  \n",
      "29003               0.0  \n",
      "29205               0.0  \n",
      "29405               0.0  \n",
      "29605               0.0  \n",
      "29805               0.0  \n",
      "30006               0.0  \n",
      "30205               0.0  \n",
      "30413               0.0  \n",
      "30614               0.0  \n",
      "30813               0.0  \n",
      "...                 ...  \n",
      "48553               0.0  \n",
      "48744               0.0  \n",
      "48942               0.0  \n",
      "49140               0.0  \n",
      "49346               0.0  \n",
      "49541               0.0  \n",
      "49738               0.0  \n",
      "49948               0.0  \n",
      "50142               0.0  \n",
      "50341               0.0  \n",
      "50544               0.0  \n",
      "50741               0.0  \n",
      "50943               0.0  \n",
      "51145               0.0  \n",
      "51363               0.0  \n",
      "51555               0.0  \n",
      "51748               0.0  \n",
      "51969               0.0  \n",
      "52159               0.0  \n",
      "52357               0.0  \n",
      "52559               0.0  \n",
      "52777               0.0  \n",
      "52954               0.0  \n",
      "53156               0.0  \n",
      "53376               0.0  \n",
      "53573               0.0  \n",
      "53768               0.0  \n",
      "53970               0.0  \n",
      "68194               0.0  \n",
      "81335               0.0  \n",
      "\n",
      "[147 rows x 18 columns]\n"
     ]
    }
   ],
   "source": [
    "betternowdata = data.loc[data['Song']=='Better Now']\n",
    "psychodata = data.loc[data['Song']=='Psycho (feat. Ty Dolla $ign)']\n",
    "\n",
    "\n",
    "\n",
    "likeitdata = data.loc[data['Song']=='I Like It']\n",
    "#target2 = data.loc[data['Rank']=1]\n",
    "#print(likeitdata)\n",
    "americadata=data.loc[data['Song']=='This Is America']\n",
    "print(americadata)"
   ]
  },
  {
   "cell_type": "code",
   "execution_count": null,
   "metadata": {},
   "outputs": [],
   "source": []
  },
  {
   "cell_type": "code",
   "execution_count": 224,
   "metadata": {},
   "outputs": [],
   "source": [
    "#separate rank x, y\n",
    "# date in yyyy/mm/dd format \n",
    "#old data 10/31/18\n",
    "\n",
    "\n",
    "#train with one song, test on other song\n",
    "date1=datetime.datetime(2018, 10, 31) \n",
    "likeitold = likeitdata.loc[likeitdata['Date']<=date1] \n",
    "#print(likeitold)\n",
    "likeitnew = likeitdata.loc[likeitdata['Date']>date1]\n",
    "#print(likeitnew)"
   ]
  },
  {
   "cell_type": "code",
   "execution_count": 225,
   "metadata": {},
   "outputs": [
    {
     "data": {
      "text/plain": [
       "<matplotlib.collections.PathCollection at 0x1c1e9bdda0>"
      ]
     },
     "execution_count": 225,
     "metadata": {},
     "output_type": "execute_result"
    },
    {
     "data": {
      "image/png": "[encoded data removed]",
      "text/plain": [
       "<Figure size 432x288 with 1 Axes>"
      ]
     },
     "metadata": {
      "needs_background": "light"
     },
     "output_type": "display_data"
    }
   ],
   "source": [
    "# Goal: Pick one song, predict rank next day(predict 10/27/19 using data from 4/6/18 to 10/26/19) )\n",
    "#separate rank to x: before 10/27and y \n",
    "#2 similar songs 1 as train and 1 as test\n",
    "#Features: date, last days rank(the day before rank), number of streams, song features \n",
    "\n",
    "#2 songs with similar dates\n",
    "X=betternowdata[['Streams']].values\n",
    "y=betternowdata[['Rank']].values\n",
    "#Y=likeitnew[['Rank']]\n",
    "\n",
    "plt.scatter(X, y)"
   ]
  },
  {
   "cell_type": "code",
   "execution_count": 226,
   "metadata": {},
   "outputs": [
    {
     "data": {
      "text/plain": [
       "array([[<matplotlib.axes._subplots.AxesSubplot object at 0x1c24e7ec88>]],\n",
       "      dtype=object)"
      ]
     },
     "execution_count": 226,
     "metadata": {},
     "output_type": "execute_result"
    },
    {
     "data": {
      "image/png": "[encoded data removed]",
      "text/plain": [
       "<Figure size 576x360 with 1 Axes>"
      ]
     },
     "metadata": {
      "needs_background": "light"
     },
     "output_type": "display_data"
    }
   ],
   "source": [
    "\n",
    "betternowdata.hist('Rank',figsize=(8,5))"
   ]
  },
  {
   "cell_type": "code",
   "execution_count": 227,
   "metadata": {},
   "outputs": [
    {
     "name": "stderr",
     "output_type": "stream",
     "text": [
      "/Users/kathy908000/anaconda3/lib/python3.7/site-packages/ipykernel_launcher.py:3: SettingWithCopyWarning: \n",
      "A value is trying to be set on a copy of a slice from a DataFrame.\n",
      "Try using .loc[row_indexer,col_indexer] = value instead\n",
      "\n",
      "See the caveats in the documentation: http://pandas.pydata.org/pandas-docs/stable/indexing.html#indexing-view-versus-copy\n",
      "  This is separate from the ipykernel package so we can avoid doing imports until\n"
     ]
    }
   ],
   "source": [
    "##log transformation attempt 2\n",
    "logy = np.log(y)\n",
    "betternowdata['logrank'] = np.log(betternowdata['Rank'])\n",
    "#betternowdata.hist('logrank',figsize=(8,5))\n",
    "\n",
    "\n",
    "\n"
   ]
  },
  {
   "cell_type": "code",
   "execution_count": 228,
   "metadata": {},
   "outputs": [
    {
     "data": {
      "text/plain": [
       "<matplotlib.collections.PathCollection at 0x1c1ebf2128>"
      ]
     },
     "execution_count": 228,
     "metadata": {},
     "output_type": "execute_result"
    },
    {
     "data": {
      "image/png": "[encoded data removed]",
      "text/plain": [
       "<Figure size 432x288 with 1 Axes>"
      ]
     },
     "metadata": {
      "needs_background": "light"
     },
     "output_type": "display_data"
    }
   ],
   "source": [
    "#log transformation\n",
    "plt.scatter(X,y)"
   ]
  },
  {
   "cell_type": "code",
   "execution_count": 229,
   "metadata": {},
   "outputs": [
    {
     "data": {
      "text/plain": [
       "<matplotlib.collections.PathCollection at 0x1c1f9d8550>"
      ]
     },
     "execution_count": 229,
     "metadata": {},
     "output_type": "execute_result"
    },
    {
     "data": {
      "image/png": "[encoded data removed]",
      "text/plain": [
       "<Figure size 432x288 with 1 Axes>"
      ]
     },
     "metadata": {
      "needs_background": "light"
     },
     "output_type": "display_data"
    }
   ],
   "source": [
    "#plt.scatter (X, np.log(y))\n",
    "plt.scatter (X, logy)"
   ]
  },
  {
   "cell_type": "code",
   "execution_count": 230,
   "metadata": {},
   "outputs": [],
   "source": [
    "#logy=np.log(y)\n",
    "model = sm.OLS(logy, X).fit()\n",
    "Yhat = model.predict(X)"
   ]
  },
  {
   "cell_type": "code",
   "execution_count": 231,
   "metadata": {},
   "outputs": [
    {
     "data": {
      "image/png": "[encoded data removed]",
      "text/plain": [
       "<Figure size 432x288 with 1 Axes>"
      ]
     },
     "metadata": {
      "needs_background": "light"
     },
     "output_type": "display_data"
    }
   ],
   "source": [
    "#plt.scatter(y, np.exp(Yhat),  color='black')\n",
    "plt.scatter(logy, Yhat,  color='black')\n",
    "plt.xlabel(\"true outcome Y\")\n",
    "plt.ylabel(\"predicted outcome Yhat\")\n",
    "\n",
    "plt.show()"
   ]
  },
  {
   "cell_type": "code",
   "execution_count": 232,
   "metadata": {},
   "outputs": [
    {
     "data": {
      "text/html": [
       "<table class=\"simpletable\">\n",
       "<caption>OLS Regression Results</caption>\n",
       "<tr>\n",
       "  <th>Dep. Variable:</th>            <td>y</td>        <th>  R-squared:         </th> <td>   0.413</td>\n",
       "</tr>\n",
       "<tr>\n",
       "  <th>Model:</th>                   <td>OLS</td>       <th>  Adj. R-squared:    </th> <td>   0.412</td>\n",
       "</tr>\n",
       "<tr>\n",
       "  <th>Method:</th>             <td>Least Squares</td>  <th>  F-statistic:       </th> <td>   449.0</td>\n",
       "</tr>\n",
       "<tr>\n",
       "  <th>Date:</th>             <td>Sat, 02 May 2020</td> <th>  Prob (F-statistic):</th> <td>7.04e-76</td>\n",
       "</tr>\n",
       "<tr>\n",
       "  <th>Time:</th>                 <td>21:03:13</td>     <th>  Log-Likelihood:    </th> <td> -1581.9</td>\n",
       "</tr>\n",
       "<tr>\n",
       "  <th>No. Observations:</th>      <td>   640</td>      <th>  AIC:               </th> <td>   3166.</td>\n",
       "</tr>\n",
       "<tr>\n",
       "  <th>Df Residuals:</th>          <td>   639</td>      <th>  BIC:               </th> <td>   3170.</td>\n",
       "</tr>\n",
       "<tr>\n",
       "  <th>Df Model:</th>              <td>     1</td>      <th>                     </th>     <td> </td>   \n",
       "</tr>\n",
       "<tr>\n",
       "  <th>Covariance Type:</th>      <td>nonrobust</td>    <th>                     </th>     <td> </td>   \n",
       "</tr>\n",
       "</table>\n",
       "<table class=\"simpletable\">\n",
       "<tr>\n",
       "   <td></td>     <th>coef</th>     <th>std err</th>      <th>t</th>      <th>P>|t|</th>  <th>[0.025</th>    <th>0.975]</th>  \n",
       "</tr>\n",
       "<tr>\n",
       "  <th>x1</th> <td> 3.107e-06</td> <td> 1.47e-07</td> <td>   21.189</td> <td> 0.000</td> <td> 2.82e-06</td> <td>  3.4e-06</td>\n",
       "</tr>\n",
       "</table>\n",
       "<table class=\"simpletable\">\n",
       "<tr>\n",
       "  <th>Omnibus:</th>       <td>220.116</td> <th>  Durbin-Watson:     </th> <td>   0.008</td> \n",
       "</tr>\n",
       "<tr>\n",
       "  <th>Prob(Omnibus):</th> <td> 0.000</td>  <th>  Jarque-Bera (JB):  </th> <td> 697.613</td> \n",
       "</tr>\n",
       "<tr>\n",
       "  <th>Skew:</th>          <td>-1.657</td>  <th>  Prob(JB):          </th> <td>3.28e-152</td>\n",
       "</tr>\n",
       "<tr>\n",
       "  <th>Kurtosis:</th>      <td> 6.895</td>  <th>  Cond. No.          </th> <td>    1.00</td> \n",
       "</tr>\n",
       "</table><br/><br/>Warnings:<br/>[1] Standard Errors assume that the covariance matrix of the errors is correctly specified."
      ],
      "text/plain": [
       "<class 'statsmodels.iolib.summary.Summary'>\n",
       "\"\"\"\n",
       "                            OLS Regression Results                            \n",
       "==============================================================================\n",
       "Dep. Variable:                      y   R-squared:                       0.413\n",
       "Model:                            OLS   Adj. R-squared:                  0.412\n",
       "Method:                 Least Squares   F-statistic:                     449.0\n",
       "Date:                Sat, 02 May 2020   Prob (F-statistic):           7.04e-76\n",
       "Time:                        21:03:13   Log-Likelihood:                -1581.9\n",
       "No. Observations:                 640   AIC:                             3166.\n",
       "Df Residuals:                     639   BIC:                             3170.\n",
       "Df Model:                           1                                         \n",
       "Covariance Type:            nonrobust                                         \n",
       "==============================================================================\n",
       "                 coef    std err          t      P>|t|      [0.025      0.975]\n",
       "------------------------------------------------------------------------------\n",
       "x1          3.107e-06   1.47e-07     21.189      0.000    2.82e-06     3.4e-06\n",
       "==============================================================================\n",
       "Omnibus:                      220.116   Durbin-Watson:                   0.008\n",
       "Prob(Omnibus):                  0.000   Jarque-Bera (JB):              697.613\n",
       "Skew:                          -1.657   Prob(JB):                    3.28e-152\n",
       "Kurtosis:                       6.895   Cond. No.                         1.00\n",
       "==============================================================================\n",
       "\n",
       "Warnings:\n",
       "[1] Standard Errors assume that the covariance matrix of the errors is correctly specified.\n",
       "\"\"\""
      ]
     },
     "execution_count": 232,
     "metadata": {},
     "output_type": "execute_result"
    }
   ],
   "source": [
    "model.summary()"
   ]
  },
  {
   "cell_type": "code",
   "execution_count": 233,
   "metadata": {},
   "outputs": [
    {
     "name": "stderr",
     "output_type": "stream",
     "text": [
      "/Users/kathy908000/anaconda3/lib/python3.7/site-packages/ipykernel_launcher.py:13: SettingWithCopyWarning: \n",
      "A value is trying to be set on a copy of a slice from a DataFrame.\n",
      "Try using .loc[row_indexer,col_indexer] = value instead\n",
      "\n",
      "See the caveats in the documentation: http://pandas.pydata.org/pandas-docs/stable/indexing.html#indexing-view-versus-copy\n",
      "  del sys.path[0]\n"
     ]
    },
    {
     "data": {
      "text/html": [
       "<div>\n",
       "<style scoped>\n",
       "    .dataframe tbody tr th:only-of-type {\n",
       "        vertical-align: middle;\n",
       "    }\n",
       "\n",
       "    .dataframe tbody tr th {\n",
       "        vertical-align: top;\n",
       "    }\n",
       "\n",
       "    .dataframe thead th {\n",
       "        text-align: right;\n",
       "    }\n",
       "</style>\n",
       "<table border=\"1\" class=\"dataframe\">\n",
       "  <thead>\n",
       "    <tr style=\"text-align: right;\">\n",
       "      <th></th>\n",
       "      <th>logrank</th>\n",
       "      <th>Rank</th>\n",
       "      <th>Streams</th>\n",
       "    </tr>\n",
       "  </thead>\n",
       "  <tbody>\n",
       "    <tr>\n",
       "      <th>23201</th>\n",
       "      <td>0.693147</td>\n",
       "      <td>2</td>\n",
       "      <td>3467168</td>\n",
       "    </tr>\n",
       "    <tr>\n",
       "      <th>23400</th>\n",
       "      <td>0.000000</td>\n",
       "      <td>1</td>\n",
       "      <td>3029855</td>\n",
       "    </tr>\n",
       "    <tr>\n",
       "      <th>23600</th>\n",
       "      <td>0.000000</td>\n",
       "      <td>1</td>\n",
       "      <td>2632697</td>\n",
       "    </tr>\n",
       "    <tr>\n",
       "      <th>23800</th>\n",
       "      <td>0.000000</td>\n",
       "      <td>1</td>\n",
       "      <td>3169617</td>\n",
       "    </tr>\n",
       "    <tr>\n",
       "      <th>24000</th>\n",
       "      <td>0.000000</td>\n",
       "      <td>1</td>\n",
       "      <td>3034705</td>\n",
       "    </tr>\n",
       "  </tbody>\n",
       "</table>\n",
       "</div>"
      ],
      "text/plain": [
       "        logrank  Rank  Streams\n",
       "23201  0.693147     2  3467168\n",
       "23400  0.000000     1  3029855\n",
       "23600  0.000000     1  2632697\n",
       "23800  0.000000     1  3169617\n",
       "24000  0.000000     1  3034705"
      ]
     },
     "execution_count": 233,
     "metadata": {},
     "output_type": "execute_result"
    }
   ],
   "source": [
    "### log transformation w/o outliers\n",
    "\n",
    "from scipy import stats\n",
    "import numpy as np\n",
    "#outliers once number of stream hit certain point, stays on rank 1\n",
    "#seabornInstance.boxplot(logy) \n",
    "\n",
    "\n",
    "X=betternowdata[['Streams']].values\n",
    "y=betternowdata[['Rank']].values\n",
    "\n",
    "#logy = np.log(y)\n",
    "betternowdata['logrank'] = np.log(betternowdata['Rank'])\n",
    "logy= betternowdata[['logrank']].values\n",
    "\n",
    "\n",
    "#betternowdata = betternowdata.drop(columns=\"Date\")\n",
    "betternowdata = betternowdata[['logrank', 'Rank','Streams']]\n",
    "\n",
    "betternowdata.head()\n",
    "\n"
   ]
  },
  {
   "cell_type": "code",
   "execution_count": 257,
   "metadata": {},
   "outputs": [
    {
     "name": "stdout",
     "output_type": "stream",
     "text": [
      "(array([26, 27, 28, 29, 30, 32]),)\n"
     ]
    },
    {
     "data": {
      "text/plain": [
       "(615, 3)"
      ]
     },
     "execution_count": 257,
     "metadata": {},
     "output_type": "execute_result"
    }
   ],
   "source": [
    "#remove outlier try2\n",
    "z = np.abs(stats.zscore(betternowdata['logrank']))\n",
    "#print(z)\n",
    "\n",
    "threshold = 3\n",
    "print(np.where(z > 3))\n",
    "\n",
    "betternowoutlier = betternowdata.loc[z < 3]\n",
    "#likeitold = likeitdata.loc[likeitdata['Date']<=date1] \n",
    "\n",
    "#betternowoutlier = betternowdata[(z < 3).all(axis=1)]\n",
    "betternowoutlier.head()\n",
    "betternowoutlier.shape"
   ]
  },
  {
   "cell_type": "markdown",
   "metadata": {},
   "source": [
    "\n",
    "#remove outlier try1\n",
    "#find outliers wiht z score\n",
    "z = np.abs(stats.zscore(betternowdata))\n",
    "print(z)\n",
    "\n",
    "\n",
    "threshold = 3\n",
    "#print(np.where(z > 3))\n",
    "betternowdata.shape\n",
    "\n",
    "betternowoutlier = betternowdata[(z < 3).all(axis=1)]\n",
    "#betternowdata.head()\n",
    "#betternowdata.shape "
   ]
  },
  {
   "cell_type": "code",
   "execution_count": 258,
   "metadata": {},
   "outputs": [
    {
     "name": "stderr",
     "output_type": "stream",
     "text": [
      "/Users/kathy908000/anaconda3/lib/python3.7/site-packages/ipykernel_launcher.py:5: SettingWithCopyWarning: \n",
      "A value is trying to be set on a copy of a slice from a DataFrame.\n",
      "Try using .loc[row_indexer,col_indexer] = value instead\n",
      "\n",
      "See the caveats in the documentation: http://pandas.pydata.org/pandas-docs/stable/indexing.html#indexing-view-versus-copy\n",
      "  \"\"\"\n"
     ]
    }
   ],
   "source": [
    "X=betternowoutlier[['Streams']].values\n",
    "y=betternowoutlier[['Rank']].values\n",
    "\n",
    "#logy = np.log(y)\n",
    "betternowoutlier['logrank'] = np.log(betternowoutlier['Rank'])\n",
    "logy= betternowoutlier[['logrank']].values\n",
    "\n"
   ]
  },
  {
   "cell_type": "code",
   "execution_count": 259,
   "metadata": {},
   "outputs": [
    {
     "data": {
      "text/plain": [
       "<matplotlib.collections.PathCollection at 0x1c1fab53c8>"
      ]
     },
     "execution_count": 259,
     "metadata": {},
     "output_type": "execute_result"
    },
    {
     "data": {
      "image/png": "[encoded data removed]",
      "text/plain": [
       "<Figure size 432x288 with 1 Axes>"
      ]
     },
     "metadata": {
      "needs_background": "light"
     },
     "output_type": "display_data"
    }
   ],
   "source": [
    "plt.scatter (X, logy)"
   ]
  },
  {
   "cell_type": "code",
   "execution_count": 264,
   "metadata": {},
   "outputs": [],
   "source": [
    "#OSL\n",
    "#model = sm.OLS(logy, X).fit()\n",
    "#Yhat = model.predict(X)"
   ]
  },
  {
   "cell_type": "code",
   "execution_count": 266,
   "metadata": {},
   "outputs": [
    {
     "data": {
      "text/plain": [
       "LinearRegression(copy_X=True, fit_intercept=True, n_jobs=None,\n",
       "         normalize=False)"
      ]
     },
     "execution_count": 266,
     "metadata": {},
     "output_type": "execute_result"
    }
   ],
   "source": [
    "\n",
    "lm = LinearRegression()\n",
    "model = lm.fit(X,logy)\n",
    "model"
   ]
  },
  {
   "cell_type": "code",
   "execution_count": 271,
   "metadata": {},
   "outputs": [
    {
     "name": "stdout",
     "output_type": "stream",
     "text": [
      "0.9115541834883129\n",
      "[[-2.96401318e-06]]\n",
      "[5.42687861]\n"
     ]
    }
   ],
   "source": [
    "Yhat = lm.predict(X)\n",
    "print (lm.score(X,logy))\n",
    "print (lm.coef_)\n",
    "print (lm.intercept_)"
   ]
  },
  {
   "cell_type": "code",
   "execution_count": 273,
   "metadata": {},
   "outputs": [],
   "source": [
    "#plot_fit(Y, Yhat)"
   ]
  },
  {
   "cell_type": "code",
   "execution_count": null,
   "metadata": {},
   "outputs": [],
   "source": []
  },
  {
   "cell_type": "code",
   "execution_count": 280,
   "metadata": {},
   "outputs": [
    {
     "data": {
      "image/png": "[encoded data removed]",
      "text/plain": [
       "<Figure size 432x288 with 1 Axes>"
      ]
     },
     "metadata": {
      "needs_background": "light"
     },
     "output_type": "display_data"
    }
   ],
   "source": [
    "plt.scatter(logy, Yhat,  color='black')\n",
    "plt.xlabel(\"true outcome Y\")\n",
    "plt.ylabel(\"predicted outcome Yhat\")\n",
    "\n",
    "plt.show()"
   ]
  },
  {
   "cell_type": "code",
   "execution_count": 281,
   "metadata": {},
   "outputs": [
    {
     "data": {
      "text/plain": [
       "<matplotlib.collections.PathCollection at 0x1c22263828>"
      ]
     },
     "execution_count": 281,
     "metadata": {},
     "output_type": "execute_result"
    },
    {
     "data": {
      "image/png": "[encoded data removed]",
      "text/plain": [
       "<Figure size 432x288 with 1 Axes>"
      ]
     },
     "metadata": {
      "needs_background": "light"
     },
     "output_type": "display_data"
    }
   ],
   "source": [
    "plt.scatter(y, np.exp(Yhat),  color='black')"
   ]
  },
  {
   "cell_type": "code",
   "execution_count": 276,
   "metadata": {},
   "outputs": [
    {
     "data": {
      "text/plain": [
       "[<matplotlib.lines.Line2D at 0x1c21b2d278>]"
      ]
     },
     "execution_count": 276,
     "metadata": {},
     "output_type": "execute_result"
    },
    {
     "data": {
      "image/png": "[encoded data removed]",
      "text/plain": [
       "<Figure size 432x288 with 1 Axes>"
      ]
     },
     "metadata": {
      "needs_background": "light"
     },
     "output_type": "display_data"
    }
   ],
   "source": [
    "plt.scatter(X, logy)\n",
    "plt.plot(X,Yhat,color='red')"
   ]
  },
  {
   "cell_type": "code",
   "execution_count": null,
   "metadata": {},
   "outputs": [],
   "source": []
  },
  {
   "cell_type": "code",
   "execution_count": null,
   "metadata": {},
   "outputs": [],
   "source": []
  },
  {
   "cell_type": "code",
   "execution_count": null,
   "metadata": {},
   "outputs": [],
   "source": []
  },
  {
   "cell_type": "code",
   "execution_count": null,
   "metadata": {},
   "outputs": [],
   "source": []
  },
  {
   "cell_type": "code",
   "execution_count": null,
   "metadata": {},
   "outputs": [],
   "source": []
  },
  {
   "cell_type": "code",
   "execution_count": null,
   "metadata": {},
   "outputs": [],
   "source": []
  },
  {
   "cell_type": "code",
   "execution_count": null,
   "metadata": {},
   "outputs": [],
   "source": []
  },
  {
   "cell_type": "code",
   "execution_count": 64,
   "metadata": {},
   "outputs": [
    {
     "ename": "RuntimeError",
     "evalue": "Optimal parameters not found: Number of calls to function has reached maxfev = 1000.",
     "output_type": "error",
     "traceback": [
      "\u001b[0;31m---------------------------------------------------------------------------\u001b[0m",
      "\u001b[0;31mRuntimeError\u001b[0m                              Traceback (most recent call last)",
      "\u001b[0;32m<ipython-input-64-7d4fa855d144>\u001b[0m in \u001b[0;36m<module>\u001b[0;34m\u001b[0m\n\u001b[1;32m     16\u001b[0m \u001b[0;34m\u001b[0m\u001b[0m\n\u001b[1;32m     17\u001b[0m \u001b[0;31m# Non-linear Fit\u001b[0m\u001b[0;34m\u001b[0m\u001b[0;34m\u001b[0m\u001b[0;34m\u001b[0m\u001b[0m\n\u001b[0;32m---> 18\u001b[0;31m \u001b[0mA\u001b[0m\u001b[0;34m,\u001b[0m \u001b[0mK\u001b[0m\u001b[0;34m,\u001b[0m \u001b[0mC\u001b[0m \u001b[0;34m=\u001b[0m \u001b[0mfit_exp_nonlinear\u001b[0m\u001b[0;34m(\u001b[0m\u001b[0mt\u001b[0m\u001b[0;34m,\u001b[0m \u001b[0mnoisy_y\u001b[0m\u001b[0;34m)\u001b[0m\u001b[0;34m\u001b[0m\u001b[0;34m\u001b[0m\u001b[0m\n\u001b[0m\u001b[1;32m     19\u001b[0m \u001b[0mfit_y\u001b[0m \u001b[0;34m=\u001b[0m \u001b[0mmodel_func\u001b[0m\u001b[0;34m(\u001b[0m\u001b[0mt\u001b[0m\u001b[0;34m,\u001b[0m \u001b[0mA\u001b[0m\u001b[0;34m,\u001b[0m \u001b[0mK\u001b[0m\u001b[0;34m,\u001b[0m \u001b[0mC\u001b[0m\u001b[0;34m)\u001b[0m\u001b[0;34m\u001b[0m\u001b[0;34m\u001b[0m\u001b[0m\n\u001b[1;32m     20\u001b[0m \u001b[0mplt\u001b[0m\u001b[0;34m(\u001b[0m\u001b[0max1\u001b[0m\u001b[0;34m,\u001b[0m \u001b[0mt\u001b[0m\u001b[0;34m,\u001b[0m \u001b[0my\u001b[0m\u001b[0;34m,\u001b[0m \u001b[0mnoisy_y\u001b[0m\u001b[0;34m,\u001b[0m \u001b[0mfit_y\u001b[0m\u001b[0;34m,\u001b[0m \u001b[0;34m(\u001b[0m\u001b[0mA0\u001b[0m\u001b[0;34m,\u001b[0m \u001b[0mK0\u001b[0m\u001b[0;34m,\u001b[0m \u001b[0mC0\u001b[0m\u001b[0;34m)\u001b[0m\u001b[0;34m,\u001b[0m \u001b[0;34m(\u001b[0m\u001b[0mA\u001b[0m\u001b[0;34m,\u001b[0m \u001b[0mK\u001b[0m\u001b[0;34m,\u001b[0m \u001b[0mC0\u001b[0m\u001b[0;34m)\u001b[0m\u001b[0;34m)\u001b[0m\u001b[0;34m\u001b[0m\u001b[0;34m\u001b[0m\u001b[0m\n",
      "\u001b[0;32m<ipython-input-18-01c32d469f4c>\u001b[0m in \u001b[0;36mfit_exp_nonlinear\u001b[0;34m(X, y)\u001b[0m\n\u001b[1;32m      8\u001b[0m \u001b[0;34m\u001b[0m\u001b[0m\n\u001b[1;32m      9\u001b[0m \u001b[0;32mdef\u001b[0m \u001b[0mfit_exp_nonlinear\u001b[0m\u001b[0;34m(\u001b[0m\u001b[0mX\u001b[0m\u001b[0;34m,\u001b[0m \u001b[0my\u001b[0m\u001b[0;34m)\u001b[0m\u001b[0;34m:\u001b[0m\u001b[0;34m\u001b[0m\u001b[0;34m\u001b[0m\u001b[0m\n\u001b[0;32m---> 10\u001b[0;31m     \u001b[0mopt_parms\u001b[0m\u001b[0;34m,\u001b[0m \u001b[0mparm_cov\u001b[0m \u001b[0;34m=\u001b[0m \u001b[0msp\u001b[0m\u001b[0;34m.\u001b[0m\u001b[0moptimize\u001b[0m\u001b[0;34m.\u001b[0m\u001b[0mcurve_fit\u001b[0m\u001b[0;34m(\u001b[0m\u001b[0mmodel_func\u001b[0m\u001b[0;34m,\u001b[0m \u001b[0mX\u001b[0m\u001b[0;34m,\u001b[0m \u001b[0my\u001b[0m\u001b[0;34m,\u001b[0m \u001b[0mmaxfev\u001b[0m\u001b[0;34m=\u001b[0m\u001b[0;36m1000\u001b[0m\u001b[0;34m)\u001b[0m\u001b[0;34m\u001b[0m\u001b[0;34m\u001b[0m\u001b[0m\n\u001b[0m\u001b[1;32m     11\u001b[0m     \u001b[0mA\u001b[0m\u001b[0;34m,\u001b[0m \u001b[0mK\u001b[0m\u001b[0;34m,\u001b[0m \u001b[0mC\u001b[0m \u001b[0;34m=\u001b[0m \u001b[0mopt_parms\u001b[0m\u001b[0;34m\u001b[0m\u001b[0;34m\u001b[0m\u001b[0m\n\u001b[1;32m     12\u001b[0m     \u001b[0;32mreturn\u001b[0m \u001b[0mA\u001b[0m\u001b[0;34m,\u001b[0m \u001b[0mK\u001b[0m\u001b[0;34m,\u001b[0m \u001b[0mC\u001b[0m\u001b[0;34m\u001b[0m\u001b[0;34m\u001b[0m\u001b[0m\n",
      "\u001b[0;32m~/anaconda3/lib/python3.7/site-packages/scipy/optimize/minpack.py\u001b[0m in \u001b[0;36mcurve_fit\u001b[0;34m(f, xdata, ydata, p0, sigma, absolute_sigma, check_finite, bounds, method, jac, **kwargs)\u001b[0m\n\u001b[1;32m    753\u001b[0m         \u001b[0mcost\u001b[0m \u001b[0;34m=\u001b[0m \u001b[0mnp\u001b[0m\u001b[0;34m.\u001b[0m\u001b[0msum\u001b[0m\u001b[0;34m(\u001b[0m\u001b[0minfodict\u001b[0m\u001b[0;34m[\u001b[0m\u001b[0;34m'fvec'\u001b[0m\u001b[0;34m]\u001b[0m \u001b[0;34m**\u001b[0m \u001b[0;36m2\u001b[0m\u001b[0;34m)\u001b[0m\u001b[0;34m\u001b[0m\u001b[0;34m\u001b[0m\u001b[0m\n\u001b[1;32m    754\u001b[0m         \u001b[0;32mif\u001b[0m \u001b[0mier\u001b[0m \u001b[0;32mnot\u001b[0m \u001b[0;32min\u001b[0m \u001b[0;34m[\u001b[0m\u001b[0;36m1\u001b[0m\u001b[0;34m,\u001b[0m \u001b[0;36m2\u001b[0m\u001b[0;34m,\u001b[0m \u001b[0;36m3\u001b[0m\u001b[0;34m,\u001b[0m \u001b[0;36m4\u001b[0m\u001b[0;34m]\u001b[0m\u001b[0;34m:\u001b[0m\u001b[0;34m\u001b[0m\u001b[0;34m\u001b[0m\u001b[0m\n\u001b[0;32m--> 755\u001b[0;31m             \u001b[0;32mraise\u001b[0m \u001b[0mRuntimeError\u001b[0m\u001b[0;34m(\u001b[0m\u001b[0;34m\"Optimal parameters not found: \"\u001b[0m \u001b[0;34m+\u001b[0m \u001b[0merrmsg\u001b[0m\u001b[0;34m)\u001b[0m\u001b[0;34m\u001b[0m\u001b[0;34m\u001b[0m\u001b[0m\n\u001b[0m\u001b[1;32m    756\u001b[0m     \u001b[0;32melse\u001b[0m\u001b[0;34m:\u001b[0m\u001b[0;34m\u001b[0m\u001b[0;34m\u001b[0m\u001b[0m\n\u001b[1;32m    757\u001b[0m         \u001b[0;31m# Rename maxfev (leastsq) to max_nfev (least_squares), if specified.\u001b[0m\u001b[0;34m\u001b[0m\u001b[0;34m\u001b[0m\u001b[0;34m\u001b[0m\u001b[0m\n",
      "\u001b[0;31mRuntimeError\u001b[0m: Optimal parameters not found: Number of calls to function has reached maxfev = 1000."
     ]
    }
   ],
   "source": [
    "## curve fit exponential decay \n",
    "import scipy as sp\n",
    "import scipy.optimize\n",
    "\n",
    "# Actual parameters\n",
    "A0, K0, C0 = 2.5, -4.0, 2.0\n",
    "\n",
    "# Generate some data based on these\n",
    "tmin, tmax = 0, 0.5\n",
    "num = 20\n",
    "t = np.linspace(tmin, tmax, num)\n",
    "y = model_func(t, A0, K0, C0)\n",
    "\n",
    "# Add noise\n",
    "noisy_y = y + 0.5 * (np.random.random(num) - 0.5)\n",
    "\n",
    "# Non-linear Fit\n",
    "A, K, C = fit_exp_nonlinear(t, noisy_y)\n",
    "fit_y = model_func(t, A, K, C)\n",
    "plt(ax1, t, y, noisy_y, fit_y, (A0, K0, C0), (A, K, C0))\n",
    "ax1.set_title('Non-linear Fit')\n",
    "\n",
    "\n"
   ]
  },
  {
   "cell_type": "code",
   "execution_count": null,
   "metadata": {},
   "outputs": [],
   "source": []
  },
  {
   "cell_type": "code",
   "execution_count": 15,
   "metadata": {},
   "outputs": [],
   "source": [
    "## curve fit, log transformation attempt 1\n",
    "import scipy as sp\n",
    "import scipy.optimize\n",
    "from scipy.optimize import curve_fit\n",
    "\n",
    "def exponential(x, a, b):\n",
    "    return a*np.exp(b*x)\n"
   ]
  },
  {
   "cell_type": "code",
   "execution_count": 16,
   "metadata": {},
   "outputs": [
    {
     "data": {
      "image/png": "[encoded data removed]",
      "text/plain": [
       "<Figure size 432x288 with 1 Axes>"
      ]
     },
     "metadata": {
      "needs_background": "light"
     },
     "output_type": "display_data"
    }
   ],
   "source": [
    "fig = plt.figure()\n",
    "ax = fig.add_subplot(111)\n",
    "\n",
    "# Set the y-axis scaling to logarithmic\n",
    "ax.set_yscale('log')\n",
    "\n",
    "# Set the y-ticks\n",
    "#ax.yaxis.set_major_locator(mpl.ticker.LogLocator(base=10.0))\n",
    "# Set the y-axis limits\n",
    "#ax.set_ylim(0.1, 1000)\n",
    "\n",
    "#ax.scatter(X,y)\n",
    "#plt.yscale('log')\n"
   ]
  },
  {
   "cell_type": "code",
   "execution_count": 17,
   "metadata": {},
   "outputs": [
    {
     "ename": "ValueError",
     "evalue": "object too deep for desired array",
     "output_type": "error",
     "traceback": [
      "\u001b[0;31m---------------------------------------------------------------------------\u001b[0m",
      "\u001b[0;31mValueError\u001b[0m                                Traceback (most recent call last)",
      "\u001b[0;31mValueError\u001b[0m: object too deep for desired array"
     ]
    },
    {
     "ename": "error",
     "evalue": "Result from function call is not a proper array of floats.",
     "output_type": "error",
     "traceback": [
      "\u001b[0;31m---------------------------------------------------------------------------\u001b[0m",
      "\u001b[0;31merror\u001b[0m                                     Traceback (most recent call last)",
      "\u001b[0;32m<ipython-input-17-222a79220bbd>\u001b[0m in \u001b[0;36m<module>\u001b[0;34m\u001b[0m\n\u001b[1;32m      1\u001b[0m \u001b[0mX\u001b[0m \u001b[0;34m=\u001b[0m\u001b[0mnp\u001b[0m\u001b[0;34m.\u001b[0m\u001b[0marray\u001b[0m\u001b[0;34m(\u001b[0m\u001b[0mX\u001b[0m\u001b[0;34m)\u001b[0m\u001b[0;34m\u001b[0m\u001b[0;34m\u001b[0m\u001b[0m\n\u001b[1;32m      2\u001b[0m \u001b[0my\u001b[0m \u001b[0;34m=\u001b[0m\u001b[0mnp\u001b[0m\u001b[0;34m.\u001b[0m\u001b[0marray\u001b[0m\u001b[0;34m(\u001b[0m\u001b[0my\u001b[0m\u001b[0;34m)\u001b[0m\u001b[0;34m\u001b[0m\u001b[0;34m\u001b[0m\u001b[0m\n\u001b[0;32m----> 3\u001b[0;31m \u001b[0mpars\u001b[0m\u001b[0;34m,\u001b[0m \u001b[0mcov\u001b[0m \u001b[0;34m=\u001b[0m \u001b[0mcurve_fit\u001b[0m\u001b[0;34m(\u001b[0m\u001b[0mf\u001b[0m\u001b[0;34m=\u001b[0m\u001b[0mexponential\u001b[0m\u001b[0;34m,\u001b[0m \u001b[0mxdata\u001b[0m\u001b[0;34m=\u001b[0m\u001b[0mX\u001b[0m\u001b[0;34m,\u001b[0m\u001b[0mydata\u001b[0m\u001b[0;34m=\u001b[0m \u001b[0my\u001b[0m\u001b[0;34m)\u001b[0m\u001b[0;34m\u001b[0m\u001b[0;34m\u001b[0m\u001b[0m\n\u001b[0m\u001b[1;32m      4\u001b[0m \u001b[0;31m#pars, cov = curve_fit(f=exponential, xdata=X, ydata=y, p0=[0, 0], bounds=(-np.inf, np.inf))\u001b[0m\u001b[0;34m\u001b[0m\u001b[0;34m\u001b[0m\u001b[0;34m\u001b[0m\u001b[0m\n\u001b[1;32m      5\u001b[0m \u001b[0;34m\u001b[0m\u001b[0m\n",
      "\u001b[0;32m~/anaconda3/lib/python3.7/site-packages/scipy/optimize/minpack.py\u001b[0m in \u001b[0;36mcurve_fit\u001b[0;34m(f, xdata, ydata, p0, sigma, absolute_sigma, check_finite, bounds, method, jac, **kwargs)\u001b[0m\n\u001b[1;32m    749\u001b[0m         \u001b[0;31m# Remove full_output from kwargs, otherwise we're passing it in twice.\u001b[0m\u001b[0;34m\u001b[0m\u001b[0;34m\u001b[0m\u001b[0;34m\u001b[0m\u001b[0m\n\u001b[1;32m    750\u001b[0m         \u001b[0mreturn_full\u001b[0m \u001b[0;34m=\u001b[0m \u001b[0mkwargs\u001b[0m\u001b[0;34m.\u001b[0m\u001b[0mpop\u001b[0m\u001b[0;34m(\u001b[0m\u001b[0;34m'full_output'\u001b[0m\u001b[0;34m,\u001b[0m \u001b[0;32mFalse\u001b[0m\u001b[0;34m)\u001b[0m\u001b[0;34m\u001b[0m\u001b[0;34m\u001b[0m\u001b[0m\n\u001b[0;32m--> 751\u001b[0;31m         \u001b[0mres\u001b[0m \u001b[0;34m=\u001b[0m \u001b[0mleastsq\u001b[0m\u001b[0;34m(\u001b[0m\u001b[0mfunc\u001b[0m\u001b[0;34m,\u001b[0m \u001b[0mp0\u001b[0m\u001b[0;34m,\u001b[0m \u001b[0mDfun\u001b[0m\u001b[0;34m=\u001b[0m\u001b[0mjac\u001b[0m\u001b[0;34m,\u001b[0m \u001b[0mfull_output\u001b[0m\u001b[0;34m=\u001b[0m\u001b[0;36m1\u001b[0m\u001b[0;34m,\u001b[0m \u001b[0;34m**\u001b[0m\u001b[0mkwargs\u001b[0m\u001b[0;34m)\u001b[0m\u001b[0;34m\u001b[0m\u001b[0;34m\u001b[0m\u001b[0m\n\u001b[0m\u001b[1;32m    752\u001b[0m         \u001b[0mpopt\u001b[0m\u001b[0;34m,\u001b[0m \u001b[0mpcov\u001b[0m\u001b[0;34m,\u001b[0m \u001b[0minfodict\u001b[0m\u001b[0;34m,\u001b[0m \u001b[0merrmsg\u001b[0m\u001b[0;34m,\u001b[0m \u001b[0mier\u001b[0m \u001b[0;34m=\u001b[0m \u001b[0mres\u001b[0m\u001b[0;34m\u001b[0m\u001b[0;34m\u001b[0m\u001b[0m\n\u001b[1;32m    753\u001b[0m         \u001b[0mcost\u001b[0m \u001b[0;34m=\u001b[0m \u001b[0mnp\u001b[0m\u001b[0;34m.\u001b[0m\u001b[0msum\u001b[0m\u001b[0;34m(\u001b[0m\u001b[0minfodict\u001b[0m\u001b[0;34m[\u001b[0m\u001b[0;34m'fvec'\u001b[0m\u001b[0;34m]\u001b[0m \u001b[0;34m**\u001b[0m \u001b[0;36m2\u001b[0m\u001b[0;34m)\u001b[0m\u001b[0;34m\u001b[0m\u001b[0;34m\u001b[0m\u001b[0m\n",
      "\u001b[0;32m~/anaconda3/lib/python3.7/site-packages/scipy/optimize/minpack.py\u001b[0m in \u001b[0;36mleastsq\u001b[0;34m(func, x0, args, Dfun, full_output, col_deriv, ftol, xtol, gtol, maxfev, epsfcn, factor, diag)\u001b[0m\n\u001b[1;32m    392\u001b[0m         \u001b[0;32mwith\u001b[0m \u001b[0m_MINPACK_LOCK\u001b[0m\u001b[0;34m:\u001b[0m\u001b[0;34m\u001b[0m\u001b[0;34m\u001b[0m\u001b[0m\n\u001b[1;32m    393\u001b[0m             retval = _minpack._lmdif(func, x0, args, full_output, ftol, xtol,\n\u001b[0;32m--> 394\u001b[0;31m                                      gtol, maxfev, epsfcn, factor, diag)\n\u001b[0m\u001b[1;32m    395\u001b[0m     \u001b[0;32melse\u001b[0m\u001b[0;34m:\u001b[0m\u001b[0;34m\u001b[0m\u001b[0;34m\u001b[0m\u001b[0m\n\u001b[1;32m    396\u001b[0m         \u001b[0;32mif\u001b[0m \u001b[0mcol_deriv\u001b[0m\u001b[0;34m:\u001b[0m\u001b[0;34m\u001b[0m\u001b[0;34m\u001b[0m\u001b[0m\n",
      "\u001b[0;31merror\u001b[0m: Result from function call is not a proper array of floats."
     ]
    }
   ],
   "source": [
    "X =np.array(X)\n",
    "y =np.array(y)\n",
    "pars, cov = curve_fit(f=exponential, xdata=X,ydata= y)\n",
    "#pars, cov = curve_fit(f=exponential, xdata=X, ydata=y, p0=[0, 0], bounds=(-np.inf, np.inf))\n",
    "\n",
    "#stdevs = np.sqrt(np.diag(cov))\n",
    "\n",
    "\n",
    "\n"
   ]
  },
  {
   "cell_type": "code",
   "execution_count": null,
   "metadata": {},
   "outputs": [],
   "source": [
    "\n"
   ]
  },
  {
   "cell_type": "code",
   "execution_count": 18,
   "metadata": {},
   "outputs": [],
   "source": [
    "import scipy as sp\n",
    "import scipy.optimize\n",
    "from scipy.optimize import curve_fit\n",
    "\n",
    "#replace x with t\n",
    "def model_func(X, A, K, C):\n",
    "    return A * np.exp(K * X) + C\n",
    "\n",
    "def fit_exp_nonlinear(X, y):\n",
    "    opt_parms, parm_cov = sp.optimize.curve_fit(model_func, X, y, maxfev=1000)\n",
    "    A, K, C = opt_parms\n",
    "    return A, K, C\n",
    "    #print(A)\n",
    "    #opt_parms, parm_cov.summary()"
   ]
  },
  {
   "cell_type": "code",
   "execution_count": null,
   "metadata": {},
   "outputs": [],
   "source": []
  },
  {
   "cell_type": "code",
   "execution_count": 20,
   "metadata": {},
   "outputs": [
    {
     "ename": "NameError",
     "evalue": "name 'orig_parms' is not defined",
     "output_type": "error",
     "traceback": [
      "\u001b[0;31m---------------------------------------------------------------------------\u001b[0m",
      "\u001b[0;31mNameError\u001b[0m                                 Traceback (most recent call last)",
      "\u001b[0;32m<ipython-input-20-0aee77632559>\u001b[0m in \u001b[0;36m<module>\u001b[0;34m\u001b[0m\n\u001b[0;32m----> 1\u001b[0;31m \u001b[0mA0\u001b[0m\u001b[0;34m,\u001b[0m \u001b[0mK0\u001b[0m\u001b[0;34m,\u001b[0m \u001b[0mC0\u001b[0m \u001b[0;34m=\u001b[0m \u001b[0morig_parms\u001b[0m\u001b[0;34m\u001b[0m\u001b[0;34m\u001b[0m\u001b[0m\n\u001b[0m\u001b[1;32m      2\u001b[0m \u001b[0mA\u001b[0m\u001b[0;34m,\u001b[0m \u001b[0mK\u001b[0m\u001b[0;34m,\u001b[0m \u001b[0mC\u001b[0m \u001b[0;34m=\u001b[0m \u001b[0mfit_parms\u001b[0m\u001b[0;34m\u001b[0m\u001b[0;34m\u001b[0m\u001b[0m\n\u001b[1;32m      3\u001b[0m \u001b[0;34m\u001b[0m\u001b[0m\n\u001b[1;32m      4\u001b[0m \u001b[0max\u001b[0m\u001b[0;34m.\u001b[0m\u001b[0mplot\u001b[0m\u001b[0;34m(\u001b[0m\u001b[0mt\u001b[0m\u001b[0;34m,\u001b[0m \u001b[0my\u001b[0m\u001b[0;34m,\u001b[0m \u001b[0;34m'k--'\u001b[0m\u001b[0;34m,\u001b[0m \u001b[0mlabel\u001b[0m\u001b[0;34m=\u001b[0m\u001b[0;34m'Actual Function:\\n $y = %0.2f e^{%0.2f t} + %0.2f$'\u001b[0m \u001b[0;34m%\u001b[0m \u001b[0;34m(\u001b[0m\u001b[0mA0\u001b[0m\u001b[0;34m,\u001b[0m \u001b[0mK0\u001b[0m\u001b[0;34m,\u001b[0m \u001b[0mC0\u001b[0m\u001b[0;34m)\u001b[0m\u001b[0;34m)\u001b[0m\u001b[0;34m\u001b[0m\u001b[0;34m\u001b[0m\u001b[0m\n\u001b[1;32m      5\u001b[0m ax.plot(t, fit_y, 'b-',\n",
      "\u001b[0;31mNameError\u001b[0m: name 'orig_parms' is not defined"
     ]
    }
   ],
   "source": [
    "A0, K0, C0 = orig_parms\n",
    "A, K, C = fit_parms\n",
    "\n",
    "ax.plot(t, y, 'k--', label='Actual Function:\\n $y = %0.2f e^{%0.2f t} + %0.2f$' % (A0, K0, C0))\n",
    "ax.plot(t, fit_y, 'b-',\n",
    "      label='Fitted Function:\\n $y = %0.2f e^{%0.2f t} + %0.2f$' % (A, K, C))\n",
    "ax.plot(t, noisy_y, 'ro')\n",
    "ax.legend(bbox_to_anchor=(1.05, 1.1), fancybox=True, shadow=True)"
   ]
  },
  {
   "cell_type": "code",
   "execution_count": null,
   "metadata": {},
   "outputs": [],
   "source": [
    "print(type(X))\n",
    "#data=likeitdata.reshape((999,1))"
   ]
  },
  {
   "cell_type": "code",
   "execution_count": null,
   "metadata": {},
   "outputs": [],
   "source": [
    "#linear regression \n",
    "\n",
    "\n",
    "#Next, we split 80% of the data to the training set \n",
    "#while 20% of the data to test set using below code.\n",
    "\n",
    "X_train, X_test, y_train, y_test = train_test_split(X, y, test_size=0.2, random_state=0)"
   ]
  },
  {
   "cell_type": "code",
   "execution_count": null,
   "metadata": {},
   "outputs": [],
   "source": [
    "regressor = LinearRegression()  \n",
    "regressor.fit(X_train, y_train)"
   ]
  },
  {
   "cell_type": "code",
   "execution_count": null,
   "metadata": {},
   "outputs": [],
   "source": [
    "\n",
    "#coeff_df = pd.DataFrame(regressor.coef_, X.columns, columns=['Coefficient'])  \n",
    "#coeff_df\n",
    "print(regressor.intercept_)\n",
    "print(regressor.coef_)"
   ]
  },
  {
   "cell_type": "code",
   "execution_count": null,
   "metadata": {},
   "outputs": [],
   "source": [
    "#better now, psycho post malone \n",
    "#y predict min =0, polynomial, building model with one song, \n",
    "y_pred = regressor.predict(X_test)"
   ]
  },
  {
   "cell_type": "code",
   "execution_count": null,
   "metadata": {},
   "outputs": [],
   "source": [
    "df = pd.DataFrame({'Actual': y_test.flatten(), 'Predicted': y_pred.flatten()})\n",
    "df"
   ]
  },
  {
   "cell_type": "code",
   "execution_count": null,
   "metadata": {},
   "outputs": [],
   "source": [
    "#actual rank vs predicted rank bar graph\n",
    "df1 = df.head(25)\n",
    "df1.plot(kind='bar',figsize=(16,10))\n",
    "plt.grid(which='major', linestyle='-', linewidth='0.5', color='green')\n",
    "plt.grid(which='minor', linestyle=':', linewidth='0.5', color='black')\n",
    "plt.show()"
   ]
  },
  {
   "cell_type": "code",
   "execution_count": null,
   "metadata": {},
   "outputs": [],
   "source": [
    "plt.scatter(X_test, y_test,  color='gray')\n",
    "plt.plot(X_test, y_pred, color='red', linewidth=2)\n",
    "plt.show()"
   ]
  },
  {
   "cell_type": "code",
   "execution_count": null,
   "metadata": {},
   "outputs": [],
   "source": []
  },
  {
   "cell_type": "markdown",
   "metadata": {},
   "source": [
    "#better now curve fit\n",
    "import scipy as sp\n",
    "import scipy.optimize\n",
    "\n",
    "\n",
    "def fit_exp_nonlinear(t, y):\n",
    "    opt_parms, parm_cov = sp.optimize.curve_fit(model_func, t, y, maxfev=1000)\n",
    "    A, K, C = opt_parms\n",
    "    return A, K, C\n",
    "\n",
    "def plot(ax, t, y, noisy_y, fit_y, orig_parms, fit_parms):\n",
    "    A0, K0, C0 = orig_parms\n",
    "    A, K, C = fit_parms\n",
    "\n",
    "    ax.plot(t, y, 'k--', \n",
    "      label='Actual Function:\\n $y = %0.2f e^{%0.2f t} + %0.2f$' % (A0, K0, C0))\n",
    "    ax.plot(t, fit_y, 'b-',\n",
    "      label='Fitted Function:\\n $y = %0.2f e^{%0.2f t} + %0.2f$' % (A, K, C))\n",
    "    ax.plot(t, noisy_y, 'ro')\n",
    "    ax.legend(bbox_to_anchor=(1.05, 1.1), fancybox=True, shadow=True)\n"
   ]
  },
  {
   "cell_type": "code",
   "execution_count": null,
   "metadata": {},
   "outputs": [],
   "source": [
    "#save the conituous stream to csv file\n",
    "#data.to_csv(\"streams_continuous.csv\")"
   ]
  },
  {
   "cell_type": "code",
   "execution_count": null,
   "metadata": {},
   "outputs": [],
   "source": [
    "#use the model to predict psycho\n",
    "\n",
    "X=psychodata [['Streams']].values\n",
    "y=psychodata [['Rank']].values\n",
    "\n",
    "X_train, X_test, y_train, y_test = train_test_split(X, y, test_size=0.2, random_state=0)\n",
    "regressor = LinearRegression()  \n",
    "regressor.fit(X_train, y_train)\n",
    "print(regressor.intercept_)\n",
    "print(regressor.coef_)\n",
    "y_pred = regressor.predict(X_test)\n",
    "df = pd.DataFrame({'Actual': y_test.flatten(), 'Predicted': y_pred.flatten()})\n",
    "df"
   ]
  },
  {
   "cell_type": "code",
   "execution_count": null,
   "metadata": {},
   "outputs": [],
   "source": [
    "df1 = df.head(25)\n",
    "df1.plot(kind='bar',figsize=(16,10))\n",
    "plt.grid(which='major', linestyle='-', linewidth='0.5', color='green')\n",
    "plt.grid(which='minor', linestyle=':', linewidth='0.5', color='black')\n",
    "plt.show()"
   ]
  },
  {
   "cell_type": "code",
   "execution_count": null,
   "metadata": {},
   "outputs": [],
   "source": [
    "plt.scatter(X_test, y_test,  color='gray')\n",
    "plt.plot(X_test, y_pred, color='red', linewidth=2)\n",
    "plt.show()"
   ]
  },
  {
   "cell_type": "code",
   "execution_count": null,
   "metadata": {},
   "outputs": [],
   "source": [
    "#linear model not accurate because no negative rank. Use log transformaiton? poisson\n",
    "#once number of streams reach certain threshold, rank stays around 1(plateau)"
   ]
  },
  {
   "cell_type": "markdown",
   "metadata": {},
   "source": [
    "#test train based on time\n",
    "date1=datetime.datetime(2018, 10, 31) \n",
    "#psychoold\n",
    "\n",
    "\n",
    "X=psychodata [['Streams']].values\n",
    "y=psychodata [['Rank']].values\n",
    "\n",
    "X_train, X_test, y_train, y_test = train_test_split(X, y, test_size=0.2, random_state=0)\n",
    "regressor = LinearRegression()  \n",
    "regressor.fit(X_train, y_train)\n",
    "print(regressor.intercept_)\n",
    "print(regressor.coef_)\n",
    "y_pred = regressor.predict(X_test)\n",
    "df = pd.DataFrame({'Actual': y_test.flatten(), 'Predicted': y_pred.flatten()})\n",
    "df"
   ]
  },
  {
   "cell_type": "code",
   "execution_count": null,
   "metadata": {},
   "outputs": [],
   "source": [
    "# change in rank as y, polynomial (rank increasing or decreasing faster)\n",
    "\n",
    "import operator\n",
    "\n",
    "import numpy as np\n",
    "import matplotlib.pyplot as plt\n",
    "\n",
    "from sklearn.linear_model import LinearRegression\n",
    "from sklearn.metrics import mean_squared_error, r2_score\n",
    "from sklearn.preprocessing import PolynomialFeatures\n",
    "\n",
    "\n",
    "\n",
    "polynomial_features= PolynomialFeatures(degree=3)\n",
    "x_poly = polynomial_features.fit_transform(X)\n",
    "\n",
    "model = LinearRegression()\n",
    "model.fit(x_poly, y)\n",
    "y_poly_pred = model.predict(x_poly)\n",
    "\n",
    "rmse = np.sqrt(mean_squared_error(y,y_poly_pred))\n",
    "r2 = r2_score(y,y_poly_pred)\n",
    "print(rmse)\n",
    "print(r2)\n"
   ]
  },
  {
   "cell_type": "code",
   "execution_count": null,
   "metadata": {},
   "outputs": [],
   "source": [
    "plt.scatter(X, y, s=10)\n",
    "# sort the values of x before line plot\n",
    "sort_axis = operator.itemgetter(0)\n",
    "sorted_zip = sorted(zip(X,y_poly_pred), key=sort_axis)\n",
    "X, y_poly_pred = zip(*sorted_zip)\n",
    "plt.plot(X, y_poly_pred, color='m')\n",
    "plt.show()"
   ]
  },
  {
   "cell_type": "code",
   "execution_count": null,
   "metadata": {},
   "outputs": [],
   "source": []
  },
  {
   "cell_type": "code",
   "execution_count": null,
   "metadata": {},
   "outputs": [],
   "source": []
  }
 ],
 "metadata": {
  "kernelspec": {
   "display_name": "Python 3",
   "language": "python",
   "name": "python3"
  },
  "language_info": {
   "codemirror_mode": {
    "name": "ipython",
    "version": 3
   },
   "file_extension": ".py",
   "mimetype": "text/x-python",
   "name": "python",
   "nbconvert_exporter": "python",
   "pygments_lexer": "ipython3",
   "version": "3.7.2"
  }
 },
 "nbformat": 4,
 "nbformat_minor": 2
}
