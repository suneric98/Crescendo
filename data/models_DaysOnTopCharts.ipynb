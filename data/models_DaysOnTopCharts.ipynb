{
 "cells": [
  {
   "cell_type": "markdown",
   "metadata": {},
   "source": [
    "## Problems\n",
    "\n",
    "* Dataset only contains songs that are on top charts for 1 or more days; most songs never reach top charts, but not accounted for in dataset/model\n",
    "* Vast majority of songs are on top charts for <=100 days\n"
   ]
  },
  {
   "cell_type": "markdown",
   "metadata": {},
   "source": [
    "## Setup"
   ]
  },
  {
   "cell_type": "code",
   "execution_count": 1,
   "metadata": {},
   "outputs": [],
   "source": [
    "import pandas as pd  \n",
    "import numpy as np  \n",
    "import matplotlib.pyplot as plt"
   ]
  },
  {
   "cell_type": "code",
   "execution_count": 2,
   "metadata": {
    "scrolled": false
   },
   "outputs": [
    {
     "data": {
      "text/html": [
       "<div>\n",
       "<style scoped>\n",
       "    .dataframe tbody tr th:only-of-type {\n",
       "        vertical-align: middle;\n",
       "    }\n",
       "\n",
       "    .dataframe tbody tr th {\n",
       "        vertical-align: top;\n",
       "    }\n",
       "\n",
       "    .dataframe thead th {\n",
       "        text-align: right;\n",
       "    }\n",
       "</style>\n",
       "<table border=\"1\" class=\"dataframe\">\n",
       "  <thead>\n",
       "    <tr style=\"text-align: right;\">\n",
       "      <th></th>\n",
       "      <th>Artist</th>\n",
       "      <th>Title</th>\n",
       "      <th>Id</th>\n",
       "      <th>Time Signature</th>\n",
       "      <th>Tempo</th>\n",
       "      <th>Key</th>\n",
       "      <th>Mode</th>\n",
       "      <th>Valence</th>\n",
       "      <th>Danceability</th>\n",
       "      <th>Energy</th>\n",
       "      <th>Acousticness</th>\n",
       "      <th>Instrumentalness</th>\n",
       "      <th>Days</th>\n",
       "      <th>Artist Id</th>\n",
       "      <th>Artist Followers</th>\n",
       "      <th>Artist Popularity</th>\n",
       "      <th>Artist Genres</th>\n",
       "    </tr>\n",
       "  </thead>\n",
       "  <tbody>\n",
       "    <tr>\n",
       "      <th>0</th>\n",
       "      <td>Post Malone</td>\n",
       "      <td>rockstar</td>\n",
       "      <td>0e7ipj03S05BNilyu5bRzt</td>\n",
       "      <td>4</td>\n",
       "      <td>159.801</td>\n",
       "      <td>5</td>\n",
       "      <td>0</td>\n",
       "      <td>0.129</td>\n",
       "      <td>0.585</td>\n",
       "      <td>0.520</td>\n",
       "      <td>0.1240</td>\n",
       "      <td>0.000070</td>\n",
       "      <td>116</td>\n",
       "      <td>246dkjvS1zLTtiykXe5h60</td>\n",
       "      <td>22726049.0</td>\n",
       "      <td>98.0</td>\n",
       "      <td>rap</td>\n",
       "    </tr>\n",
       "    <tr>\n",
       "      <th>1</th>\n",
       "      <td>Post Malone</td>\n",
       "      <td>I Fall Apart</td>\n",
       "      <td>75ZvA4QfFiZvzhj2xkaWAh</td>\n",
       "      <td>4</td>\n",
       "      <td>143.950</td>\n",
       "      <td>8</td>\n",
       "      <td>0</td>\n",
       "      <td>0.291</td>\n",
       "      <td>0.556</td>\n",
       "      <td>0.538</td>\n",
       "      <td>0.0689</td>\n",
       "      <td>0.000000</td>\n",
       "      <td>756</td>\n",
       "      <td>246dkjvS1zLTtiykXe5h60</td>\n",
       "      <td>22726049.0</td>\n",
       "      <td>98.0</td>\n",
       "      <td>rap</td>\n",
       "    </tr>\n",
       "    <tr>\n",
       "      <th>2</th>\n",
       "      <td>Post Malone</td>\n",
       "      <td>Candy Paint</td>\n",
       "      <td>32lItqlMi4LBhb4k0BaSaC</td>\n",
       "      <td>4</td>\n",
       "      <td>180.064</td>\n",
       "      <td>4</td>\n",
       "      <td>1</td>\n",
       "      <td>0.381</td>\n",
       "      <td>0.664</td>\n",
       "      <td>0.667</td>\n",
       "      <td>0.6400</td>\n",
       "      <td>0.000001</td>\n",
       "      <td>496</td>\n",
       "      <td>246dkjvS1zLTtiykXe5h60</td>\n",
       "      <td>22726049.0</td>\n",
       "      <td>98.0</td>\n",
       "      <td>rap</td>\n",
       "    </tr>\n",
       "    <tr>\n",
       "      <th>3</th>\n",
       "      <td>Post Malone</td>\n",
       "      <td>Congratulations</td>\n",
       "      <td>3a1lNhkSLSkpJE4MSHpDu9</td>\n",
       "      <td>4</td>\n",
       "      <td>123.146</td>\n",
       "      <td>6</td>\n",
       "      <td>1</td>\n",
       "      <td>0.492</td>\n",
       "      <td>0.630</td>\n",
       "      <td>0.804</td>\n",
       "      <td>0.2150</td>\n",
       "      <td>0.000000</td>\n",
       "      <td>702</td>\n",
       "      <td>246dkjvS1zLTtiykXe5h60</td>\n",
       "      <td>22726049.0</td>\n",
       "      <td>98.0</td>\n",
       "      <td>rap</td>\n",
       "    </tr>\n",
       "    <tr>\n",
       "      <th>4</th>\n",
       "      <td>Post Malone</td>\n",
       "      <td>Go Flex</td>\n",
       "      <td>5yuShbu70mtHXY0yLzCQLQ</td>\n",
       "      <td>4</td>\n",
       "      <td>81.967</td>\n",
       "      <td>5</td>\n",
       "      <td>1</td>\n",
       "      <td>0.127</td>\n",
       "      <td>0.665</td>\n",
       "      <td>0.498</td>\n",
       "      <td>0.2280</td>\n",
       "      <td>0.000000</td>\n",
       "      <td>178</td>\n",
       "      <td>246dkjvS1zLTtiykXe5h60</td>\n",
       "      <td>22726049.0</td>\n",
       "      <td>98.0</td>\n",
       "      <td>rap</td>\n",
       "    </tr>\n",
       "  </tbody>\n",
       "</table>\n",
       "</div>"
      ],
      "text/plain": [
       "        Artist            Title                      Id  Time Signature  \\\n",
       "0  Post Malone         rockstar  0e7ipj03S05BNilyu5bRzt               4   \n",
       "1  Post Malone     I Fall Apart  75ZvA4QfFiZvzhj2xkaWAh               4   \n",
       "2  Post Malone      Candy Paint  32lItqlMi4LBhb4k0BaSaC               4   \n",
       "3  Post Malone  Congratulations  3a1lNhkSLSkpJE4MSHpDu9               4   \n",
       "4  Post Malone          Go Flex  5yuShbu70mtHXY0yLzCQLQ               4   \n",
       "\n",
       "     Tempo  Key  Mode  Valence  Danceability  Energy  Acousticness  \\\n",
       "0  159.801    5     0    0.129         0.585   0.520        0.1240   \n",
       "1  143.950    8     0    0.291         0.556   0.538        0.0689   \n",
       "2  180.064    4     1    0.381         0.664   0.667        0.6400   \n",
       "3  123.146    6     1    0.492         0.630   0.804        0.2150   \n",
       "4   81.967    5     1    0.127         0.665   0.498        0.2280   \n",
       "\n",
       "   Instrumentalness  Days               Artist Id  Artist Followers  \\\n",
       "0          0.000070   116  246dkjvS1zLTtiykXe5h60        22726049.0   \n",
       "1          0.000000   756  246dkjvS1zLTtiykXe5h60        22726049.0   \n",
       "2          0.000001   496  246dkjvS1zLTtiykXe5h60        22726049.0   \n",
       "3          0.000000   702  246dkjvS1zLTtiykXe5h60        22726049.0   \n",
       "4          0.000000   178  246dkjvS1zLTtiykXe5h60        22726049.0   \n",
       "\n",
       "   Artist Popularity Artist Genres  \n",
       "0               98.0           rap  \n",
       "1               98.0           rap  \n",
       "2               98.0           rap  \n",
       "3               98.0           rap  \n",
       "4               98.0           rap  "
      ]
     },
     "execution_count": 2,
     "metadata": {},
     "output_type": "execute_result"
    }
   ],
   "source": [
    "data = pd.read_csv('TopCharts_merged.csv', index_col = 0)\n",
    "#dataset\n",
    "data.head()"
   ]
  },
  {
   "cell_type": "code",
   "execution_count": 3,
   "metadata": {
    "scrolled": true
   },
   "outputs": [
    {
     "data": {
      "text/plain": [
       "3431"
      ]
     },
     "execution_count": 3,
     "metadata": {},
     "output_type": "execute_result"
    }
   ],
   "source": [
    "len(data)"
   ]
  },
  {
   "cell_type": "code",
   "execution_count": 4,
   "metadata": {},
   "outputs": [
    {
     "data": {
      "text/plain": [
       "Artist                0\n",
       "Title                 0\n",
       "Id                   33\n",
       "Time Signature        0\n",
       "Tempo                 0\n",
       "Key                   0\n",
       "Mode                  0\n",
       "Valence               0\n",
       "Danceability          0\n",
       "Energy                0\n",
       "Acousticness          0\n",
       "Instrumentalness      0\n",
       "Days                  0\n",
       "Artist Id             0\n",
       "Artist Followers      0\n",
       "Artist Popularity     0\n",
       "Artist Genres         0\n",
       "dtype: int64"
      ]
     },
     "execution_count": 4,
     "metadata": {},
     "output_type": "execute_result"
    }
   ],
   "source": [
    "data.isna().sum()"
   ]
  },
  {
   "cell_type": "code",
   "execution_count": 5,
   "metadata": {},
   "outputs": [],
   "source": [
    "df = data.copy()"
   ]
  },
  {
   "cell_type": "code",
   "execution_count": 6,
   "metadata": {},
   "outputs": [],
   "source": [
    "y = df[\"Days\"]\n",
    "df.drop(columns = \"Days\", inplace = True)"
   ]
  },
  {
   "cell_type": "code",
   "execution_count": 7,
   "metadata": {},
   "outputs": [],
   "source": [
    "d = [\"Artist\", \"Title\", \"Id\", \"Artist Id\", \"Artist Genres\"]\n",
    "df.drop(columns = d, inplace = True)"
   ]
  },
  {
   "cell_type": "code",
   "execution_count": 8,
   "metadata": {
    "scrolled": false
   },
   "outputs": [
    {
     "data": {
      "image/png": "[encoded data removed]",
      "text/plain": [
       "<Figure size 432x288 with 1 Axes>"
      ]
     },
     "metadata": {
      "needs_background": "light"
     },
     "output_type": "display_data"
    },
    {
     "data": {
      "image/png": "[encoded data removed]",
      "text/plain": [
       "<Figure size 432x288 with 1 Axes>"
      ]
     },
     "metadata": {
      "needs_background": "light"
     },
     "output_type": "display_data"
    },
    {
     "data": {
      "image/png": "[encoded data removed]",
      "text/plain": [
       "<Figure size 432x288 with 1 Axes>"
      ]
     },
     "metadata": {
      "needs_background": "light"
     },
     "output_type": "display_data"
    },
    {
     "data": {
      "image/png": "[encoded data removed]",
      "text/plain": [
       "<Figure size 432x288 with 1 Axes>"
      ]
     },
     "metadata": {
      "needs_background": "light"
     },
     "output_type": "display_data"
    },
    {
     "data": {
      "image/png": "[encoded data removed]",
      "text/plain": [
       "<Figure size 432x288 with 1 Axes>"
      ]
     },
     "metadata": {
      "needs_background": "light"
     },
     "output_type": "display_data"
    },
    {
     "data": {
      "image/png": "[encoded data removed]",
      "text/plain": [
       "<Figure size 432x288 with 1 Axes>"
      ]
     },
     "metadata": {
      "needs_background": "light"
     },
     "output_type": "display_data"
    },
    {
     "data": {
      "image/png": "[encoded data removed]",
      "text/plain": [
       "<Figure size 432x288 with 1 Axes>"
      ]
     },
     "metadata": {
      "needs_background": "light"
     },
     "output_type": "display_data"
    },
    {
     "data": {
      "image/png": "[encoded data removed]",
      "text/plain": [
       "<Figure size 432x288 with 1 Axes>"
      ]
     },
     "metadata": {
      "needs_background": "light"
     },
     "output_type": "display_data"
    },
    {
     "data": {
      "image/png": "[encoded data removed]",
      "text/plain": [
       "<Figure size 432x288 with 1 Axes>"
      ]
     },
     "metadata": {
      "needs_background": "light"
     },
     "output_type": "display_data"
    },
    {
     "data": {
      "image/png": "[encoded data removed]",
      "text/plain": [
       "<Figure size 432x288 with 1 Axes>"
      ]
     },
     "metadata": {
      "needs_background": "light"
     },
     "output_type": "display_data"
    },
    {
     "data": {
      "image/png": "[encoded data removed]",
      "text/plain": [
       "<Figure size 432x288 with 1 Axes>"
      ]
     },
     "metadata": {
      "needs_background": "light"
     },
     "output_type": "display_data"
    }
   ],
   "source": [
    "for col in df.columns:\n",
    "    plt.hist(df[col])\n",
    "    plt.xlabel(col)\n",
    "    plt.show()"
   ]
  },
  {
   "cell_type": "code",
   "execution_count": 9,
   "metadata": {},
   "outputs": [
    {
     "data": {
      "text/plain": [
       "(array([1.000e+00, 1.000e+00, 0.000e+00, 6.000e+00, 1.000e+01, 4.000e+01,\n",
       "        1.730e+02, 6.740e+02, 1.753e+03, 7.730e+02]),\n",
       " array([ 0.69314718,  2.41469461,  4.13624204,  5.85778947,  7.57933691,\n",
       "         9.30088434, 11.02243177, 12.7439792 , 14.46552663, 16.18707406,\n",
       "        17.90862149]),\n",
       " <a list of 10 Patch objects>)"
      ]
     },
     "execution_count": 9,
     "metadata": {},
     "output_type": "execute_result"
    },
    {
     "data": {
      "image/png": "[encoded data removed]",
      "text/plain": [
       "<Figure size 432x288 with 1 Axes>"
      ]
     },
     "metadata": {
      "needs_background": "light"
     },
     "output_type": "display_data"
    }
   ],
   "source": [
    "plt.hist(np.log(df[\"Artist Followers\"]))"
   ]
  },
  {
   "cell_type": "code",
   "execution_count": 10,
   "metadata": {},
   "outputs": [],
   "source": [
    "#can probably drop time sig and inst\n",
    "\n",
    "df.drop(columns = [\"Time Signature\", \"Instrumentalness\"], inplace = True)"
   ]
  },
  {
   "cell_type": "markdown",
   "metadata": {},
   "source": [
    "## Convert factor variables"
   ]
  },
  {
   "cell_type": "code",
   "execution_count": 11,
   "metadata": {},
   "outputs": [],
   "source": [
    "categorical = [\"Key\", \"Mode\"]"
   ]
  },
  {
   "cell_type": "code",
   "execution_count": 12,
   "metadata": {},
   "outputs": [],
   "source": [
    "df_dummy = df.copy()\n",
    "for c in categorical:\n",
    "    dummy = pd.get_dummies(df[c], prefix = c)\n",
    "    df_dummy = pd.concat([df_dummy, dummy], axis = 1)    \n",
    "df_dummy.drop(columns = categorical, inplace = True)"
   ]
  },
  {
   "cell_type": "code",
   "execution_count": 13,
   "metadata": {
    "scrolled": true
   },
   "outputs": [
    {
     "data": {
      "text/html": [
       "<div>\n",
       "<style scoped>\n",
       "    .dataframe tbody tr th:only-of-type {\n",
       "        vertical-align: middle;\n",
       "    }\n",
       "\n",
       "    .dataframe tbody tr th {\n",
       "        vertical-align: top;\n",
       "    }\n",
       "\n",
       "    .dataframe thead th {\n",
       "        text-align: right;\n",
       "    }\n",
       "</style>\n",
       "<table border=\"1\" class=\"dataframe\">\n",
       "  <thead>\n",
       "    <tr style=\"text-align: right;\">\n",
       "      <th></th>\n",
       "      <th>Tempo</th>\n",
       "      <th>Valence</th>\n",
       "      <th>Danceability</th>\n",
       "      <th>Energy</th>\n",
       "      <th>Acousticness</th>\n",
       "      <th>Artist Followers</th>\n",
       "      <th>Artist Popularity</th>\n",
       "      <th>Key_0</th>\n",
       "      <th>Key_1</th>\n",
       "      <th>Key_2</th>\n",
       "      <th>...</th>\n",
       "      <th>Key_4</th>\n",
       "      <th>Key_5</th>\n",
       "      <th>Key_6</th>\n",
       "      <th>Key_7</th>\n",
       "      <th>Key_8</th>\n",
       "      <th>Key_9</th>\n",
       "      <th>Key_10</th>\n",
       "      <th>Key_11</th>\n",
       "      <th>Mode_0</th>\n",
       "      <th>Mode_1</th>\n",
       "    </tr>\n",
       "  </thead>\n",
       "  <tbody>\n",
       "    <tr>\n",
       "      <th>0</th>\n",
       "      <td>159.801</td>\n",
       "      <td>0.129</td>\n",
       "      <td>0.585</td>\n",
       "      <td>0.520</td>\n",
       "      <td>0.1240</td>\n",
       "      <td>22726049.0</td>\n",
       "      <td>98.0</td>\n",
       "      <td>0</td>\n",
       "      <td>0</td>\n",
       "      <td>0</td>\n",
       "      <td>...</td>\n",
       "      <td>0</td>\n",
       "      <td>1</td>\n",
       "      <td>0</td>\n",
       "      <td>0</td>\n",
       "      <td>0</td>\n",
       "      <td>0</td>\n",
       "      <td>0</td>\n",
       "      <td>0</td>\n",
       "      <td>1</td>\n",
       "      <td>0</td>\n",
       "    </tr>\n",
       "    <tr>\n",
       "      <th>1</th>\n",
       "      <td>143.950</td>\n",
       "      <td>0.291</td>\n",
       "      <td>0.556</td>\n",
       "      <td>0.538</td>\n",
       "      <td>0.0689</td>\n",
       "      <td>22726049.0</td>\n",
       "      <td>98.0</td>\n",
       "      <td>0</td>\n",
       "      <td>0</td>\n",
       "      <td>0</td>\n",
       "      <td>...</td>\n",
       "      <td>0</td>\n",
       "      <td>0</td>\n",
       "      <td>0</td>\n",
       "      <td>0</td>\n",
       "      <td>1</td>\n",
       "      <td>0</td>\n",
       "      <td>0</td>\n",
       "      <td>0</td>\n",
       "      <td>1</td>\n",
       "      <td>0</td>\n",
       "    </tr>\n",
       "    <tr>\n",
       "      <th>2</th>\n",
       "      <td>180.064</td>\n",
       "      <td>0.381</td>\n",
       "      <td>0.664</td>\n",
       "      <td>0.667</td>\n",
       "      <td>0.6400</td>\n",
       "      <td>22726049.0</td>\n",
       "      <td>98.0</td>\n",
       "      <td>0</td>\n",
       "      <td>0</td>\n",
       "      <td>0</td>\n",
       "      <td>...</td>\n",
       "      <td>1</td>\n",
       "      <td>0</td>\n",
       "      <td>0</td>\n",
       "      <td>0</td>\n",
       "      <td>0</td>\n",
       "      <td>0</td>\n",
       "      <td>0</td>\n",
       "      <td>0</td>\n",
       "      <td>0</td>\n",
       "      <td>1</td>\n",
       "    </tr>\n",
       "    <tr>\n",
       "      <th>3</th>\n",
       "      <td>123.146</td>\n",
       "      <td>0.492</td>\n",
       "      <td>0.630</td>\n",
       "      <td>0.804</td>\n",
       "      <td>0.2150</td>\n",
       "      <td>22726049.0</td>\n",
       "      <td>98.0</td>\n",
       "      <td>0</td>\n",
       "      <td>0</td>\n",
       "      <td>0</td>\n",
       "      <td>...</td>\n",
       "      <td>0</td>\n",
       "      <td>0</td>\n",
       "      <td>1</td>\n",
       "      <td>0</td>\n",
       "      <td>0</td>\n",
       "      <td>0</td>\n",
       "      <td>0</td>\n",
       "      <td>0</td>\n",
       "      <td>0</td>\n",
       "      <td>1</td>\n",
       "    </tr>\n",
       "    <tr>\n",
       "      <th>4</th>\n",
       "      <td>81.967</td>\n",
       "      <td>0.127</td>\n",
       "      <td>0.665</td>\n",
       "      <td>0.498</td>\n",
       "      <td>0.2280</td>\n",
       "      <td>22726049.0</td>\n",
       "      <td>98.0</td>\n",
       "      <td>0</td>\n",
       "      <td>0</td>\n",
       "      <td>0</td>\n",
       "      <td>...</td>\n",
       "      <td>0</td>\n",
       "      <td>1</td>\n",
       "      <td>0</td>\n",
       "      <td>0</td>\n",
       "      <td>0</td>\n",
       "      <td>0</td>\n",
       "      <td>0</td>\n",
       "      <td>0</td>\n",
       "      <td>0</td>\n",
       "      <td>1</td>\n",
       "    </tr>\n",
       "  </tbody>\n",
       "</table>\n",
       "<p>5 rows × 21 columns</p>\n",
       "</div>"
      ],
      "text/plain": [
       "     Tempo  Valence  Danceability  Energy  Acousticness  Artist Followers  \\\n",
       "0  159.801    0.129         0.585   0.520        0.1240        22726049.0   \n",
       "1  143.950    0.291         0.556   0.538        0.0689        22726049.0   \n",
       "2  180.064    0.381         0.664   0.667        0.6400        22726049.0   \n",
       "3  123.146    0.492         0.630   0.804        0.2150        22726049.0   \n",
       "4   81.967    0.127         0.665   0.498        0.2280        22726049.0   \n",
       "\n",
       "   Artist Popularity  Key_0  Key_1  Key_2  ...  Key_4  Key_5  Key_6  Key_7  \\\n",
       "0               98.0      0      0      0  ...      0      1      0      0   \n",
       "1               98.0      0      0      0  ...      0      0      0      0   \n",
       "2               98.0      0      0      0  ...      1      0      0      0   \n",
       "3               98.0      0      0      0  ...      0      0      1      0   \n",
       "4               98.0      0      0      0  ...      0      1      0      0   \n",
       "\n",
       "   Key_8  Key_9  Key_10  Key_11  Mode_0  Mode_1  \n",
       "0      0      0       0       0       1       0  \n",
       "1      1      0       0       0       1       0  \n",
       "2      0      0       0       0       0       1  \n",
       "3      0      0       0       0       0       1  \n",
       "4      0      0       0       0       0       1  \n",
       "\n",
       "[5 rows x 21 columns]"
      ]
     },
     "execution_count": 13,
     "metadata": {},
     "output_type": "execute_result"
    }
   ],
   "source": [
    "df_dummy.head()"
   ]
  },
  {
   "cell_type": "markdown",
   "metadata": {},
   "source": [
    "## log transform response variable"
   ]
  },
  {
   "cell_type": "code",
   "execution_count": 14,
   "metadata": {},
   "outputs": [
    {
     "data": {
      "image/png": "[encoded data removed]",
      "text/plain": [
       "<Figure size 432x288 with 1 Axes>"
      ]
     },
     "metadata": {
      "needs_background": "light"
     },
     "output_type": "display_data"
    },
    {
     "data": {
      "image/png": "[encoded data removed]",
      "text/plain": [
       "<Figure size 432x288 with 1 Axes>"
      ]
     },
     "metadata": {
      "needs_background": "light"
     },
     "output_type": "display_data"
    }
   ],
   "source": [
    "plt.hist(y)\n",
    "plt.xlabel(\"Days\")\n",
    "plt.show()\n",
    "\n",
    "plt.hist(np.log(y))\n",
    "plt.xlabel(\"Log Days\")\n",
    "plt.show()"
   ]
  },
  {
   "cell_type": "markdown",
   "metadata": {},
   "source": [
    "## Split train/test data"
   ]
  },
  {
   "cell_type": "code",
   "execution_count": 15,
   "metadata": {},
   "outputs": [],
   "source": [
    "from sklearn.model_selection import train_test_split "
   ]
  },
  {
   "cell_type": "code",
   "execution_count": 16,
   "metadata": {},
   "outputs": [],
   "source": [
    "y = np.log(y)"
   ]
  },
  {
   "cell_type": "code",
   "execution_count": 17,
   "metadata": {},
   "outputs": [],
   "source": [
    "X = df_dummy.copy()"
   ]
  },
  {
   "cell_type": "code",
   "execution_count": 18,
   "metadata": {},
   "outputs": [
    {
     "data": {
      "text/html": [
       "<div>\n",
       "<style scoped>\n",
       "    .dataframe tbody tr th:only-of-type {\n",
       "        vertical-align: middle;\n",
       "    }\n",
       "\n",
       "    .dataframe tbody tr th {\n",
       "        vertical-align: top;\n",
       "    }\n",
       "\n",
       "    .dataframe thead th {\n",
       "        text-align: right;\n",
       "    }\n",
       "</style>\n",
       "<table border=\"1\" class=\"dataframe\">\n",
       "  <thead>\n",
       "    <tr style=\"text-align: right;\">\n",
       "      <th></th>\n",
       "      <th>Tempo</th>\n",
       "      <th>Valence</th>\n",
       "      <th>Danceability</th>\n",
       "      <th>Energy</th>\n",
       "      <th>Acousticness</th>\n",
       "      <th>Artist Followers</th>\n",
       "      <th>Artist Popularity</th>\n",
       "      <th>Key_0</th>\n",
       "      <th>Key_1</th>\n",
       "      <th>Key_2</th>\n",
       "      <th>...</th>\n",
       "      <th>Key_4</th>\n",
       "      <th>Key_5</th>\n",
       "      <th>Key_6</th>\n",
       "      <th>Key_7</th>\n",
       "      <th>Key_8</th>\n",
       "      <th>Key_9</th>\n",
       "      <th>Key_10</th>\n",
       "      <th>Key_11</th>\n",
       "      <th>Mode_0</th>\n",
       "      <th>Mode_1</th>\n",
       "    </tr>\n",
       "  </thead>\n",
       "  <tbody>\n",
       "    <tr>\n",
       "      <th>0</th>\n",
       "      <td>159.801</td>\n",
       "      <td>0.129</td>\n",
       "      <td>0.585</td>\n",
       "      <td>0.520</td>\n",
       "      <td>0.1240</td>\n",
       "      <td>22726049.0</td>\n",
       "      <td>98.0</td>\n",
       "      <td>0</td>\n",
       "      <td>0</td>\n",
       "      <td>0</td>\n",
       "      <td>...</td>\n",
       "      <td>0</td>\n",
       "      <td>1</td>\n",
       "      <td>0</td>\n",
       "      <td>0</td>\n",
       "      <td>0</td>\n",
       "      <td>0</td>\n",
       "      <td>0</td>\n",
       "      <td>0</td>\n",
       "      <td>1</td>\n",
       "      <td>0</td>\n",
       "    </tr>\n",
       "    <tr>\n",
       "      <th>1</th>\n",
       "      <td>143.950</td>\n",
       "      <td>0.291</td>\n",
       "      <td>0.556</td>\n",
       "      <td>0.538</td>\n",
       "      <td>0.0689</td>\n",
       "      <td>22726049.0</td>\n",
       "      <td>98.0</td>\n",
       "      <td>0</td>\n",
       "      <td>0</td>\n",
       "      <td>0</td>\n",
       "      <td>...</td>\n",
       "      <td>0</td>\n",
       "      <td>0</td>\n",
       "      <td>0</td>\n",
       "      <td>0</td>\n",
       "      <td>1</td>\n",
       "      <td>0</td>\n",
       "      <td>0</td>\n",
       "      <td>0</td>\n",
       "      <td>1</td>\n",
       "      <td>0</td>\n",
       "    </tr>\n",
       "    <tr>\n",
       "      <th>2</th>\n",
       "      <td>180.064</td>\n",
       "      <td>0.381</td>\n",
       "      <td>0.664</td>\n",
       "      <td>0.667</td>\n",
       "      <td>0.6400</td>\n",
       "      <td>22726049.0</td>\n",
       "      <td>98.0</td>\n",
       "      <td>0</td>\n",
       "      <td>0</td>\n",
       "      <td>0</td>\n",
       "      <td>...</td>\n",
       "      <td>1</td>\n",
       "      <td>0</td>\n",
       "      <td>0</td>\n",
       "      <td>0</td>\n",
       "      <td>0</td>\n",
       "      <td>0</td>\n",
       "      <td>0</td>\n",
       "      <td>0</td>\n",
       "      <td>0</td>\n",
       "      <td>1</td>\n",
       "    </tr>\n",
       "    <tr>\n",
       "      <th>3</th>\n",
       "      <td>123.146</td>\n",
       "      <td>0.492</td>\n",
       "      <td>0.630</td>\n",
       "      <td>0.804</td>\n",
       "      <td>0.2150</td>\n",
       "      <td>22726049.0</td>\n",
       "      <td>98.0</td>\n",
       "      <td>0</td>\n",
       "      <td>0</td>\n",
       "      <td>0</td>\n",
       "      <td>...</td>\n",
       "      <td>0</td>\n",
       "      <td>0</td>\n",
       "      <td>1</td>\n",
       "      <td>0</td>\n",
       "      <td>0</td>\n",
       "      <td>0</td>\n",
       "      <td>0</td>\n",
       "      <td>0</td>\n",
       "      <td>0</td>\n",
       "      <td>1</td>\n",
       "    </tr>\n",
       "    <tr>\n",
       "      <th>4</th>\n",
       "      <td>81.967</td>\n",
       "      <td>0.127</td>\n",
       "      <td>0.665</td>\n",
       "      <td>0.498</td>\n",
       "      <td>0.2280</td>\n",
       "      <td>22726049.0</td>\n",
       "      <td>98.0</td>\n",
       "      <td>0</td>\n",
       "      <td>0</td>\n",
       "      <td>0</td>\n",
       "      <td>...</td>\n",
       "      <td>0</td>\n",
       "      <td>1</td>\n",
       "      <td>0</td>\n",
       "      <td>0</td>\n",
       "      <td>0</td>\n",
       "      <td>0</td>\n",
       "      <td>0</td>\n",
       "      <td>0</td>\n",
       "      <td>0</td>\n",
       "      <td>1</td>\n",
       "    </tr>\n",
       "  </tbody>\n",
       "</table>\n",
       "<p>5 rows × 21 columns</p>\n",
       "</div>"
      ],
      "text/plain": [
       "     Tempo  Valence  Danceability  Energy  Acousticness  Artist Followers  \\\n",
       "0  159.801    0.129         0.585   0.520        0.1240        22726049.0   \n",
       "1  143.950    0.291         0.556   0.538        0.0689        22726049.0   \n",
       "2  180.064    0.381         0.664   0.667        0.6400        22726049.0   \n",
       "3  123.146    0.492         0.630   0.804        0.2150        22726049.0   \n",
       "4   81.967    0.127         0.665   0.498        0.2280        22726049.0   \n",
       "\n",
       "   Artist Popularity  Key_0  Key_1  Key_2  ...  Key_4  Key_5  Key_6  Key_7  \\\n",
       "0               98.0      0      0      0  ...      0      1      0      0   \n",
       "1               98.0      0      0      0  ...      0      0      0      0   \n",
       "2               98.0      0      0      0  ...      1      0      0      0   \n",
       "3               98.0      0      0      0  ...      0      0      1      0   \n",
       "4               98.0      0      0      0  ...      0      1      0      0   \n",
       "\n",
       "   Key_8  Key_9  Key_10  Key_11  Mode_0  Mode_1  \n",
       "0      0      0       0       0       1       0  \n",
       "1      1      0       0       0       1       0  \n",
       "2      0      0       0       0       0       1  \n",
       "3      0      0       0       0       0       1  \n",
       "4      0      0       0       0       0       1  \n",
       "\n",
       "[5 rows x 21 columns]"
      ]
     },
     "execution_count": 18,
     "metadata": {},
     "output_type": "execute_result"
    }
   ],
   "source": [
    "X.head()"
   ]
  },
  {
   "cell_type": "code",
   "execution_count": 19,
   "metadata": {},
   "outputs": [],
   "source": [
    "X_train, X_test, y_train, y_test = train_test_split(X, y, test_size=0.2, random_state=0)"
   ]
  },
  {
   "cell_type": "markdown",
   "metadata": {},
   "source": [
    "## Functions to evaluate model"
   ]
  },
  {
   "cell_type": "code",
   "execution_count": 20,
   "metadata": {},
   "outputs": [],
   "source": [
    "from sklearn import metrics "
   ]
  },
  {
   "cell_type": "code",
   "execution_count": 21,
   "metadata": {},
   "outputs": [],
   "source": [
    "def evalModel(model, X_test = X_test, y_test = y_test, exp = True):\n",
    "    y_pred = model.predict(X_test)\n",
    "    if exp:\n",
    "        y_pred_exp = np.exp(y_pred)\n",
    "        y_test_exp = np.exp(y_test)\n",
    "    \n",
    "    scores = []\n",
    "    for fn in [metrics.max_error, metrics.mean_absolute_error, metrics.median_absolute_error]:\n",
    "        scores.append(fn(y_test_exp, y_pred_exp))\n",
    "    \n",
    "    plt.hist(y_test_exp - y_pred_exp)\n",
    "    plt.xlabel(\"Actual - Predicted\")\n",
    "    return dict(zip([\"max_error\", \"Mean AE\", \"Median AE\"], scores))     "
   ]
  },
  {
   "cell_type": "code",
   "execution_count": 22,
   "metadata": {},
   "outputs": [],
   "source": [
    "from sklearn.model_selection import GridSearchCV"
   ]
  },
  {
   "cell_type": "code",
   "execution_count": 23,
   "metadata": {},
   "outputs": [],
   "source": [
    "med_scorer = metrics.make_scorer(metrics.median_absolute_error, False)"
   ]
  },
  {
   "cell_type": "code",
   "execution_count": 24,
   "metadata": {},
   "outputs": [],
   "source": [
    "def gridsearch(model, hyperparams, X_train, y_train):\n",
    "    gs = GridSearchCV(estimator = model, verbose = 3, scoring = med_scorer, n_jobs = -1, param_grid = hyperparams).fit(X_train, y_train)\n",
    "    return {\"model\": gs.best_estimator_, \"params\": gs.best_params_}"
   ]
  },
  {
   "cell_type": "markdown",
   "metadata": {},
   "source": [
    "## Linear regression"
   ]
  },
  {
   "cell_type": "code",
   "execution_count": 25,
   "metadata": {},
   "outputs": [],
   "source": [
    "from sklearn.linear_model import LinearRegression"
   ]
  },
  {
   "cell_type": "code",
   "execution_count": 26,
   "metadata": {
    "scrolled": true
   },
   "outputs": [],
   "source": [
    "regressor = LinearRegression()  \n",
    "regressor.fit(X_train, y_train)\n",
    "y_pred = regressor.predict(X_test)\n",
    "y_pred_exp = np.exp(y_pred)\n",
    "y_test_exp = np.exp(y_test)"
   ]
  },
  {
   "cell_type": "code",
   "execution_count": 27,
   "metadata": {
    "scrolled": true
   },
   "outputs": [
    {
     "data": {
      "text/plain": [
       "(array([575.,  47.,  30.,   8.,  11.,   3.,   7.,   1.,   4.,   1.]),\n",
       " array([  1. ,  76.5, 152. , 227.5, 303. , 378.5, 454. , 529.5, 605. ,\n",
       "        680.5, 756. ]),\n",
       " <a list of 10 Patch objects>)"
      ]
     },
     "execution_count": 27,
     "metadata": {},
     "output_type": "execute_result"
    },
    {
     "data": {
      "image/png": "[encoded data removed]",
      "text/plain": [
       "<Figure size 432x288 with 1 Axes>"
      ]
     },
     "metadata": {
      "needs_background": "light"
     },
     "output_type": "display_data"
    }
   ],
   "source": [
    "plt.hist(y_test_exp)"
   ]
  },
  {
   "cell_type": "code",
   "execution_count": 28,
   "metadata": {
    "scrolled": true
   },
   "outputs": [
    {
     "data": {
      "text/plain": [
       "(array([ 73., 250., 195.,  93.,  32.,  12.,  13.,  10.,   4.,   5.]),\n",
       " array([ 2.05371123,  5.52480932,  8.99590741, 12.4670055 , 15.93810359,\n",
       "        19.40920168, 22.88029977, 26.35139786, 29.82249595, 33.29359403,\n",
       "        36.76469212]),\n",
       " <a list of 10 Patch objects>)"
      ]
     },
     "execution_count": 28,
     "metadata": {},
     "output_type": "execute_result"
    },
    {
     "data": {
      "image/png": "[encoded data removed]",
      "text/plain": [
       "<Figure size 432x288 with 1 Axes>"
      ]
     },
     "metadata": {
      "needs_background": "light"
     },
     "output_type": "display_data"
    }
   ],
   "source": [
    "plt.hist(y_pred_exp)"
   ]
  },
  {
   "cell_type": "code",
   "execution_count": 29,
   "metadata": {
    "scrolled": true
   },
   "outputs": [
    {
     "data": {
      "text/plain": [
       "{'max_error': 739.1695951855245,\n",
       " 'Mean AE': 44.418120868454714,\n",
       " 'Median AE': 8.341163564478776}"
      ]
     },
     "execution_count": 29,
     "metadata": {},
     "output_type": "execute_result"
    },
    {
     "data": {
      "image/png": "[encoded data removed]",
      "text/plain": [
       "<Figure size 432x288 with 1 Axes>"
      ]
     },
     "metadata": {
      "needs_background": "light"
     },
     "output_type": "display_data"
    }
   ],
   "source": [
    "evalModel(regressor, X_test, y_test, exp = True)"
   ]
  },
  {
   "cell_type": "markdown",
   "metadata": {},
   "source": [
    "## Random Forest"
   ]
  },
  {
   "cell_type": "code",
   "execution_count": 30,
   "metadata": {},
   "outputs": [],
   "source": [
    "from sklearn.ensemble import RandomForestRegressor"
   ]
  },
  {
   "cell_type": "code",
   "execution_count": 31,
   "metadata": {
    "scrolled": true
   },
   "outputs": [
    {
     "data": {
      "text/plain": [
       "{'max_error': 690.139944566633,\n",
       " 'Mean AE': 43.44073524534639,\n",
       " 'Median AE': 7.838323917419094}"
      ]
     },
     "execution_count": 31,
     "metadata": {},
     "output_type": "execute_result"
    },
    {
     "data": {
      "image/png": "[encoded data removed]",
      "text/plain": [
       "<Figure size 432x288 with 1 Axes>"
      ]
     },
     "metadata": {
      "needs_background": "light"
     },
     "output_type": "display_data"
    }
   ],
   "source": [
    "rf = RandomForestRegressor(n_jobs = -1).fit(X_train, y_train)\n",
    "evalModel(rf)"
   ]
  },
  {
   "cell_type": "code",
   "execution_count": 32,
   "metadata": {},
   "outputs": [
    {
     "data": {
      "text/plain": [
       "{'bootstrap': True,\n",
       " 'ccp_alpha': 0.0,\n",
       " 'criterion': 'mse',\n",
       " 'max_depth': None,\n",
       " 'max_features': 'auto',\n",
       " 'max_leaf_nodes': None,\n",
       " 'max_samples': None,\n",
       " 'min_impurity_decrease': 0.0,\n",
       " 'min_impurity_split': None,\n",
       " 'min_samples_leaf': 1,\n",
       " 'min_samples_split': 2,\n",
       " 'min_weight_fraction_leaf': 0.0,\n",
       " 'n_estimators': 100,\n",
       " 'n_jobs': -1,\n",
       " 'oob_score': False,\n",
       " 'random_state': None,\n",
       " 'verbose': 0,\n",
       " 'warm_start': False}"
      ]
     },
     "execution_count": 32,
     "metadata": {},
     "output_type": "execute_result"
    }
   ],
   "source": [
    "rf.get_params()"
   ]
  },
  {
   "cell_type": "code",
   "execution_count": 33,
   "metadata": {
    "scrolled": true
   },
   "outputs": [
    {
     "name": "stdout",
     "output_type": "stream",
     "text": [
      "Fitting 5 folds for each of 81 candidates, totalling 405 fits\n"
     ]
    },
    {
     "name": "stderr",
     "output_type": "stream",
     "text": [
      "[Parallel(n_jobs=-1)]: Using backend LokyBackend with 4 concurrent workers.\n",
      "[Parallel(n_jobs=-1)]: Done  24 tasks      | elapsed:    9.6s\n",
      "[Parallel(n_jobs=-1)]: Done 120 tasks      | elapsed:   42.4s\n",
      "[Parallel(n_jobs=-1)]: Done 280 tasks      | elapsed:  1.7min\n",
      "[Parallel(n_jobs=-1)]: Done 405 out of 405 | elapsed:  2.3min finished\n"
     ]
    }
   ],
   "source": [
    "params = {\"max_depth\":np.arange(10,100,10), \"max_leaf_nodes\":np.arange(10, 100, 10)}\n",
    "cv1 = gridsearch(RandomForestRegressor(), params, X_train, y_train)"
   ]
  },
  {
   "cell_type": "code",
   "execution_count": 34,
   "metadata": {},
   "outputs": [
    {
     "data": {
      "text/plain": [
       "{'max_depth': 40, 'max_leaf_nodes': 90}"
      ]
     },
     "execution_count": 34,
     "metadata": {},
     "output_type": "execute_result"
    }
   ],
   "source": [
    "cv1['params']"
   ]
  },
  {
   "cell_type": "code",
   "execution_count": 35,
   "metadata": {},
   "outputs": [
    {
     "data": {
      "text/plain": [
       "{'max_error': 698.3928044493358,\n",
       " 'Mean AE': 42.82364041115945,\n",
       " 'Median AE': 7.140382204929656}"
      ]
     },
     "execution_count": 35,
     "metadata": {},
     "output_type": "execute_result"
    },
    {
     "data": {
      "image/png": "[encoded data removed]",
      "text/plain": [
       "<Figure size 432x288 with 1 Axes>"
      ]
     },
     "metadata": {
      "needs_background": "light"
     },
     "output_type": "display_data"
    }
   ],
   "source": [
    "evalModel(cv1['model'])"
   ]
  },
  {
   "cell_type": "markdown",
   "metadata": {},
   "source": [
    "## Try transforming non-normal predictors"
   ]
  },
  {
   "cell_type": "code",
   "execution_count": 36,
   "metadata": {},
   "outputs": [],
   "source": [
    "from scipy.stats import boxcox"
   ]
  },
  {
   "cell_type": "code",
   "execution_count": 37,
   "metadata": {},
   "outputs": [],
   "source": [
    "df2 = pd.concat([df_dummy, y], axis = 1)"
   ]
  },
  {
   "cell_type": "code",
   "execution_count": 38,
   "metadata": {},
   "outputs": [],
   "source": [
    "df2 = df2[df2[\"Artist Popularity\"] != 0] #drop rows where popularity is 0"
   ]
  },
  {
   "cell_type": "code",
   "execution_count": 39,
   "metadata": {},
   "outputs": [],
   "source": [
    "y2 = df2[\"Days\"]\n",
    "df2.drop(columns = \"Days\", inplace = True)"
   ]
  },
  {
   "cell_type": "code",
   "execution_count": 40,
   "metadata": {
    "scrolled": false
   },
   "outputs": [],
   "source": [
    "df2.loc[:,\"Artist Popularity\"] = boxcox(df2[\"Artist Popularity\"])[0]\n",
    "df2.loc[:,\"Artist Followers\"] = boxcox(df2[\"Artist Followers\"])[0]"
   ]
  },
  {
   "cell_type": "code",
   "execution_count": 41,
   "metadata": {
    "scrolled": true
   },
   "outputs": [
    {
     "data": {
      "image/png": "[encoded data removed]",
      "text/plain": [
       "<Figure size 432x288 with 1 Axes>"
      ]
     },
     "metadata": {
      "needs_background": "light"
     },
     "output_type": "display_data"
    },
    {
     "data": {
      "image/png": "[encoded data removed]",
      "text/plain": [
       "<Figure size 432x288 with 1 Axes>"
      ]
     },
     "metadata": {
      "needs_background": "light"
     },
     "output_type": "display_data"
    }
   ],
   "source": [
    "plt.hist(df2[\"Artist Popularity\"])\n",
    "plt.show()\n",
    "\n",
    "plt.hist(df2[\"Artist Followers\"])\n",
    "plt.show()"
   ]
  },
  {
   "cell_type": "code",
   "execution_count": 42,
   "metadata": {},
   "outputs": [],
   "source": [
    "X2_train, X2_test, y2_train, y2_test = train_test_split(df2, y2, test_size=0.2, random_state=0)"
   ]
  },
  {
   "cell_type": "code",
   "execution_count": 43,
   "metadata": {},
   "outputs": [
    {
     "data": {
      "text/plain": [
       "{'max_error': 738.3844831744527,\n",
       " 'Mean AE': 44.73176479337934,\n",
       " 'Median AE': 8.832836600062032}"
      ]
     },
     "execution_count": 43,
     "metadata": {},
     "output_type": "execute_result"
    },
    {
     "data": {
      "image/png": "[encoded data removed]",
      "text/plain": [
       "<Figure size 432x288 with 1 Axes>"
      ]
     },
     "metadata": {
      "needs_background": "light"
     },
     "output_type": "display_data"
    }
   ],
   "source": [
    "regressor2 = LinearRegression().fit(X2_train, y2_train)\n",
    "evalModel(regressor2, X2_test, y2_test)"
   ]
  },
  {
   "cell_type": "code",
   "execution_count": 44,
   "metadata": {
    "scrolled": true
   },
   "outputs": [
    {
     "data": {
      "text/plain": [
       "{'max_error': 703.9803303961916,\n",
       " 'Mean AE': 43.997843428456825,\n",
       " 'Median AE': 8.330628045216923}"
      ]
     },
     "execution_count": 44,
     "metadata": {},
     "output_type": "execute_result"
    },
    {
     "data": {
      "image/png": "[encoded data removed]",
      "text/plain": [
       "<Figure size 432x288 with 1 Axes>"
      ]
     },
     "metadata": {
      "needs_background": "light"
     },
     "output_type": "display_data"
    }
   ],
   "source": [
    "rf2 = RandomForestRegressor(n_jobs = -1).fit(X2_train, y2_train)\n",
    "evalModel(rf2, X2_test, y2_test)"
   ]
  },
  {
   "cell_type": "code",
   "execution_count": 45,
   "metadata": {},
   "outputs": [
    {
     "name": "stdout",
     "output_type": "stream",
     "text": [
      "Fitting 5 folds for each of 81 candidates, totalling 405 fits\n"
     ]
    },
    {
     "name": "stderr",
     "output_type": "stream",
     "text": [
      "[Parallel(n_jobs=-1)]: Using backend LokyBackend with 4 concurrent workers.\n",
      "[Parallel(n_jobs=-1)]: Done  24 tasks      | elapsed:    7.8s\n",
      "[Parallel(n_jobs=-1)]: Done 120 tasks      | elapsed:   39.2s\n",
      "[Parallel(n_jobs=-1)]: Done 280 tasks      | elapsed:  1.5min\n",
      "[Parallel(n_jobs=-1)]: Done 405 out of 405 | elapsed:  2.2min finished\n"
     ]
    }
   ],
   "source": [
    "params = {\"max_depth\":np.arange(10,100,10), \"max_leaf_nodes\":np.arange(10, 100, 10)}\n",
    "cv = gridsearch(RandomForestRegressor(n_jobs = -1), params, X2_train, y2_train)"
   ]
  },
  {
   "cell_type": "code",
   "execution_count": 46,
   "metadata": {},
   "outputs": [
    {
     "name": "stdout",
     "output_type": "stream",
     "text": [
      "{'max_depth': 30, 'max_leaf_nodes': 90}\n"
     ]
    },
    {
     "data": {
      "text/plain": [
       "{'max_error': 749.3966642242644,\n",
       " 'Mean AE': 44.6389771416475,\n",
       " 'Median AE': 5.982195641316389}"
      ]
     },
     "execution_count": 46,
     "metadata": {},
     "output_type": "execute_result"
    },
    {
     "data": {
      "image/png": "[encoded data removed]",
      "text/plain": [
       "<Figure size 432x288 with 1 Axes>"
      ]
     },
     "metadata": {
      "needs_background": "light"
     },
     "output_type": "display_data"
    }
   ],
   "source": [
    "print(cv['params'])\n",
    "evalModel(cv['model'])"
   ]
  },
  {
   "cell_type": "markdown",
   "metadata": {},
   "source": [
    "## Lasso"
   ]
  },
  {
   "cell_type": "code",
   "execution_count": 47,
   "metadata": {},
   "outputs": [],
   "source": [
    "from sklearn.linear_model import Lasso"
   ]
  },
  {
   "cell_type": "code",
   "execution_count": 48,
   "metadata": {},
   "outputs": [
    {
     "data": {
      "text/plain": [
       "{'max_error': 753.138810100417,\n",
       " 'Mean AE': 45.5534734479353,\n",
       " 'Median AE': 4.21023309864046}"
      ]
     },
     "execution_count": 48,
     "metadata": {},
     "output_type": "execute_result"
    },
    {
     "data": {
      "image/png": "[encoded data removed]",
      "text/plain": [
       "<Figure size 432x288 with 1 Axes>"
      ]
     },
     "metadata": {
      "needs_background": "light"
     },
     "output_type": "display_data"
    }
   ],
   "source": [
    "lasso = Lasso().fit(X2_train, y2_train)\n",
    "evalModel(lasso)"
   ]
  },
  {
   "cell_type": "code",
   "execution_count": 49,
   "metadata": {},
   "outputs": [
    {
     "name": "stdout",
     "output_type": "stream",
     "text": [
      "Fitting 5 folds for each of 10 candidates, totalling 50 fits\n"
     ]
    },
    {
     "name": "stderr",
     "output_type": "stream",
     "text": [
      "[Parallel(n_jobs=-1)]: Using backend LokyBackend with 4 concurrent workers.\n"
     ]
    },
    {
     "name": "stdout",
     "output_type": "stream",
     "text": [
      "{'alpha': 2}\n"
     ]
    },
    {
     "name": "stderr",
     "output_type": "stream",
     "text": [
      "[Parallel(n_jobs=-1)]: Done  50 out of  50 | elapsed:    0.2s finished\n"
     ]
    },
    {
     "data": {
      "text/plain": [
       "{'max_error': 753.207804957111,\n",
       " 'Mean AE': 45.558117697109466,\n",
       " 'Median AE': 4.211766200531417}"
      ]
     },
     "execution_count": 49,
     "metadata": {},
     "output_type": "execute_result"
    },
    {
     "data": {
      "image/png": "[encoded data removed]",
      "text/plain": [
       "<Figure size 432x288 with 1 Axes>"
      ]
     },
     "metadata": {
      "needs_background": "light"
     },
     "output_type": "display_data"
    }
   ],
   "source": [
    "params = {\"alpha\":np.arange(1, 11,1)}\n",
    "cv = gridsearch(Lasso(), params, X2_train, y2_train)\n",
    "print(cv['params'])\n",
    "evalModel(cv['model'])"
   ]
  },
  {
   "cell_type": "markdown",
   "metadata": {},
   "source": [
    "## ElasticNet"
   ]
  },
  {
   "cell_type": "code",
   "execution_count": 50,
   "metadata": {},
   "outputs": [],
   "source": [
    "from sklearn.linear_model import ElasticNet"
   ]
  },
  {
   "cell_type": "code",
   "execution_count": 51,
   "metadata": {},
   "outputs": [
    {
     "data": {
      "text/plain": [
       "{'max_error': 756.0000000000002,\n",
       " 'Mean AE': 47.43316366771919,\n",
       " 'Median AE': 6.999999999999999}"
      ]
     },
     "execution_count": 51,
     "metadata": {},
     "output_type": "execute_result"
    },
    {
     "data": {
      "image/png": "[encoded data removed]",
      "text/plain": [
       "<Figure size 432x288 with 1 Axes>"
      ]
     },
     "metadata": {
      "needs_background": "light"
     },
     "output_type": "display_data"
    }
   ],
   "source": [
    "en = ElasticNet().fit(X2_train, y2_train)\n",
    "evalModel(en)"
   ]
  },
  {
   "cell_type": "code",
   "execution_count": 52,
   "metadata": {
    "scrolled": true
   },
   "outputs": [
    {
     "name": "stdout",
     "output_type": "stream",
     "text": [
      "Fitting 5 folds for each of 220 candidates, totalling 1100 fits\n"
     ]
    },
    {
     "name": "stderr",
     "output_type": "stream",
     "text": [
      "[Parallel(n_jobs=-1)]: Using backend LokyBackend with 4 concurrent workers.\n",
      "[Parallel(n_jobs=-1)]: Done  60 tasks      | elapsed:    0.4s\n"
     ]
    },
    {
     "name": "stdout",
     "output_type": "stream",
     "text": [
      "{'alpha': 4.5, 'l1_ratio': 0.30000000000000004}\n"
     ]
    },
    {
     "name": "stderr",
     "output_type": "stream",
     "text": [
      "[Parallel(n_jobs=-1)]: Done 1100 out of 1100 | elapsed:    5.2s finished\n"
     ]
    },
    {
     "data": {
      "text/plain": [
       "{'max_error': 753.1632979247487,\n",
       " 'Mean AE': 45.55519867240809,\n",
       " 'Median AE': 4.210773056317366}"
      ]
     },
     "execution_count": 52,
     "metadata": {},
     "output_type": "execute_result"
    },
    {
     "data": {
      "image/png": "[encoded data removed]",
      "text/plain": [
       "<Figure size 432x288 with 1 Axes>"
      ]
     },
     "metadata": {
      "needs_background": "light"
     },
     "output_type": "display_data"
    }
   ],
   "source": [
    "params = {\"alpha\":np.arange(1, 11, .5), \"l1_ratio\":np.arange(0,1.1,.1)}\n",
    "cv = gridsearch(ElasticNet(), params, X2_train, y2_train)\n",
    "print(cv['params'])\n",
    "evalModel(cv['model'])"
   ]
  },
  {
   "cell_type": "code",
   "execution_count": null,
   "metadata": {},
   "outputs": [],
   "source": []
  },
  {
   "cell_type": "code",
   "execution_count": null,
   "metadata": {},
   "outputs": [],
   "source": []
  },
  {
   "cell_type": "code",
   "execution_count": null,
   "metadata": {},
   "outputs": [],
   "source": []
  },
  {
   "cell_type": "code",
   "execution_count": null,
   "metadata": {},
   "outputs": [],
   "source": []
  },
  {
   "cell_type": "code",
   "execution_count": null,
   "metadata": {},
   "outputs": [],
   "source": []
  },
  {
   "cell_type": "code",
   "execution_count": null,
   "metadata": {},
   "outputs": [],
   "source": []
  },
  {
   "cell_type": "code",
   "execution_count": 73,
   "metadata": {},
   "outputs": [
    {
     "data": {
      "text/plain": [
       "85"
      ]
     },
     "execution_count": 73,
     "metadata": {},
     "output_type": "execute_result"
    }
   ],
   "source": [
    "more = data[data.Days >= 365]\n",
    "len(more)"
   ]
  },
  {
   "cell_type": "code",
   "execution_count": 76,
   "metadata": {},
   "outputs": [
    {
     "data": {
      "text/plain": [
       "43"
      ]
     },
     "execution_count": 76,
     "metadata": {},
     "output_type": "execute_result"
    }
   ],
   "source": [
    "pm = data[data.Artist == \"Post Malone\"]\n",
    "len(pm)"
   ]
  },
  {
   "cell_type": "code",
   "execution_count": 78,
   "metadata": {},
   "outputs": [
    {
     "data": {
      "text/plain": [
       "(array([17., 13.,  5.,  0.,  0.,  1.,  2.,  0.,  3.,  2.]),\n",
       " array([  3. ,  78.3, 153.6, 228.9, 304.2, 379.5, 454.8, 530.1, 605.4,\n",
       "        680.7, 756. ]),\n",
       " <a list of 10 Patch objects>)"
      ]
     },
     "execution_count": 78,
     "metadata": {},
     "output_type": "execute_result"
    },
    {
     "data": {
      "image/png": "[encoded data removed]",
      "text/plain": [
       "<Figure size 432x288 with 1 Axes>"
      ]
     },
     "metadata": {
      "needs_background": "light"
     },
     "output_type": "display_data"
    }
   ],
   "source": [
    "plt.hist(pm.Days)"
   ]
  },
  {
   "cell_type": "code",
   "execution_count": 71,
   "metadata": {
    "scrolled": true
   },
   "outputs": [
    {
     "data": {
      "text/plain": [
       "Post Malone               8\n",
       "XXXTENTACION              6\n",
       "Khalid                    5\n",
       "Juice WRLD                4\n",
       "Billie Eilish             4\n",
       "Ariana Grande             3\n",
       "Travis Scott              3\n",
       "Drake                     3\n",
       "Lil Skies                 3\n",
       "Dan + Shay                2\n",
       "Kendrick Lamar            2\n",
       "Imagine Dragons           2\n",
       "Lil Baby                  2\n",
       "A Boogie Wit da Hoodie    2\n",
       "21 Savage                 2\n",
       "J. Cole                   2\n",
       "Kodak Black               1\n",
       "BlocBoy JB                1\n",
       "Lauv                      1\n",
       "Panic! At The Disco       1\n",
       "Flipp Dinero              1\n",
       "H.E.R.                    1\n",
       "Lady Gaga                 1\n",
       "Ski Mask The Slump God    1\n",
       "5 Seconds of Summer       1\n",
       "Tyga                      1\n",
       "benny blanco              1\n",
       "Halsey                    1\n",
       "Lil Uzi Vert              1\n",
       "Joji                      1\n",
       "Bebe Rexha                1\n",
       "YNW Melly                 1\n",
       "Rich The Kid              1\n",
       "NF                        1\n",
       "Meek Mill                 1\n",
       "Mustard                   1\n",
       "Calboy                    1\n",
       "Queen                     1\n",
       "Offset                    1\n",
       "Luke Combs                1\n",
       "Bazzi                     1\n",
       "Cardi B                   1\n",
       "Dean Lewis                1\n",
       "Marshmello                1\n",
       "Sheck Wes                 1\n",
       "Zedd                      1\n",
       "Lil Mosey                 1\n",
       "Maroon 5                  1\n",
       "Name: Artist, dtype: int64"
      ]
     },
     "execution_count": 71,
     "metadata": {},
     "output_type": "execute_result"
    }
   ],
   "source": [
    "print(more.Artist.value_counts())"
   ]
  },
  {
   "cell_type": "code",
   "execution_count": 75,
   "metadata": {},
   "outputs": [
    {
     "data": {
      "image/png": "[encoded data removed]",
      "text/plain": [
       "<Figure size 432x288 with 1 Axes>"
      ]
     },
     "metadata": {
      "needs_background": "light"
     },
     "output_type": "display_data"
    },
    {
     "data": {
      "image/png": "[encoded data removed]",
      "text/plain": [
       "<Figure size 432x288 with 1 Axes>"
      ]
     },
     "metadata": {
      "needs_background": "light"
     },
     "output_type": "display_data"
    }
   ],
   "source": [
    "plt.hist(data[data.Days <365].Days)\n",
    "plt.show()\n",
    "\n",
    "plt.hist(boxcox(data[data.Days <365].Days)[0])\n",
    "plt.show()"
   ]
  },
  {
   "cell_type": "code",
   "execution_count": null,
   "metadata": {},
   "outputs": [],
   "source": []
  }
 ],
 "metadata": {
  "kernelspec": {
   "display_name": "Python 3",
   "language": "python",
   "name": "python3"
  },
  "language_info": {
   "codemirror_mode": {
    "name": "ipython",
    "version": 3
   },
   "file_extension": ".py",
   "mimetype": "text/x-python",
   "name": "python",
   "nbconvert_exporter": "python",
   "pygments_lexer": "ipython3",
   "version": "3.7.6"
  }
 },
 "nbformat": 4,
 "nbformat_minor": 2
}
