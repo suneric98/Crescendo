{
 "cells": [
  {
   "cell_type": "markdown",
   "metadata": {},
   "source": [
    "# Setup"
   ]
  },
  {
   "cell_type": "code",
   "execution_count": 1,
   "metadata": {},
   "outputs": [],
   "source": [
    "import pandas as pd  \n",
    "import numpy as np  \n",
    "import matplotlib.pyplot as plt\n",
    "from pprint import PrettyPrinter\n",
    "pp = PrettyPrinter(indent = 3)"
   ]
  },
  {
   "cell_type": "code",
   "execution_count": 2,
   "metadata": {
    "scrolled": false
   },
   "outputs": [
    {
     "data": {
      "text/html": [
       "<div>\n",
       "<style scoped>\n",
       "    .dataframe tbody tr th:only-of-type {\n",
       "        vertical-align: middle;\n",
       "    }\n",
       "\n",
       "    .dataframe tbody tr th {\n",
       "        vertical-align: top;\n",
       "    }\n",
       "\n",
       "    .dataframe thead th {\n",
       "        text-align: right;\n",
       "    }\n",
       "</style>\n",
       "<table border=\"1\" class=\"dataframe\">\n",
       "  <thead>\n",
       "    <tr style=\"text-align: right;\">\n",
       "      <th></th>\n",
       "      <th>Artist</th>\n",
       "      <th>Title</th>\n",
       "      <th>Id</th>\n",
       "      <th>Time Signature</th>\n",
       "      <th>Tempo</th>\n",
       "      <th>Key</th>\n",
       "      <th>Mode</th>\n",
       "      <th>Valence</th>\n",
       "      <th>Danceability</th>\n",
       "      <th>Energy</th>\n",
       "      <th>Acousticness</th>\n",
       "      <th>Instrumentalness</th>\n",
       "      <th>Days</th>\n",
       "    </tr>\n",
       "  </thead>\n",
       "  <tbody>\n",
       "    <tr>\n",
       "      <th>0</th>\n",
       "      <td>Post Malone</td>\n",
       "      <td>rockstar</td>\n",
       "      <td>0e7ipj03S05BNilyu5bRzt</td>\n",
       "      <td>4</td>\n",
       "      <td>159.801</td>\n",
       "      <td>5</td>\n",
       "      <td>0</td>\n",
       "      <td>0.129</td>\n",
       "      <td>0.585</td>\n",
       "      <td>0.520</td>\n",
       "      <td>0.1240</td>\n",
       "      <td>0.000070</td>\n",
       "      <td>116</td>\n",
       "    </tr>\n",
       "    <tr>\n",
       "      <th>1</th>\n",
       "      <td>Post Malone</td>\n",
       "      <td>I Fall Apart</td>\n",
       "      <td>75ZvA4QfFiZvzhj2xkaWAh</td>\n",
       "      <td>4</td>\n",
       "      <td>143.950</td>\n",
       "      <td>8</td>\n",
       "      <td>0</td>\n",
       "      <td>0.291</td>\n",
       "      <td>0.556</td>\n",
       "      <td>0.538</td>\n",
       "      <td>0.0689</td>\n",
       "      <td>0.000000</td>\n",
       "      <td>756</td>\n",
       "    </tr>\n",
       "    <tr>\n",
       "      <th>2</th>\n",
       "      <td>Post Malone</td>\n",
       "      <td>Candy Paint</td>\n",
       "      <td>32lItqlMi4LBhb4k0BaSaC</td>\n",
       "      <td>4</td>\n",
       "      <td>180.064</td>\n",
       "      <td>4</td>\n",
       "      <td>1</td>\n",
       "      <td>0.381</td>\n",
       "      <td>0.664</td>\n",
       "      <td>0.667</td>\n",
       "      <td>0.6400</td>\n",
       "      <td>0.000001</td>\n",
       "      <td>496</td>\n",
       "    </tr>\n",
       "    <tr>\n",
       "      <th>3</th>\n",
       "      <td>Post Malone</td>\n",
       "      <td>Congratulations</td>\n",
       "      <td>3a1lNhkSLSkpJE4MSHpDu9</td>\n",
       "      <td>4</td>\n",
       "      <td>123.146</td>\n",
       "      <td>6</td>\n",
       "      <td>1</td>\n",
       "      <td>0.492</td>\n",
       "      <td>0.630</td>\n",
       "      <td>0.804</td>\n",
       "      <td>0.2150</td>\n",
       "      <td>0.000000</td>\n",
       "      <td>702</td>\n",
       "    </tr>\n",
       "    <tr>\n",
       "      <th>4</th>\n",
       "      <td>Post Malone</td>\n",
       "      <td>Go Flex</td>\n",
       "      <td>5yuShbu70mtHXY0yLzCQLQ</td>\n",
       "      <td>4</td>\n",
       "      <td>81.967</td>\n",
       "      <td>5</td>\n",
       "      <td>1</td>\n",
       "      <td>0.127</td>\n",
       "      <td>0.665</td>\n",
       "      <td>0.498</td>\n",
       "      <td>0.2280</td>\n",
       "      <td>0.000000</td>\n",
       "      <td>178</td>\n",
       "    </tr>\n",
       "  </tbody>\n",
       "</table>\n",
       "</div>"
      ],
      "text/plain": [
       "        Artist            Title                      Id  Time Signature  \\\n",
       "0  Post Malone         rockstar  0e7ipj03S05BNilyu5bRzt               4   \n",
       "1  Post Malone     I Fall Apart  75ZvA4QfFiZvzhj2xkaWAh               4   \n",
       "2  Post Malone      Candy Paint  32lItqlMi4LBhb4k0BaSaC               4   \n",
       "3  Post Malone  Congratulations  3a1lNhkSLSkpJE4MSHpDu9               4   \n",
       "4  Post Malone          Go Flex  5yuShbu70mtHXY0yLzCQLQ               4   \n",
       "\n",
       "     Tempo  Key  Mode  Valence  Danceability  Energy  Acousticness  \\\n",
       "0  159.801    5     0    0.129         0.585   0.520        0.1240   \n",
       "1  143.950    8     0    0.291         0.556   0.538        0.0689   \n",
       "2  180.064    4     1    0.381         0.664   0.667        0.6400   \n",
       "3  123.146    6     1    0.492         0.630   0.804        0.2150   \n",
       "4   81.967    5     1    0.127         0.665   0.498        0.2280   \n",
       "\n",
       "   Instrumentalness  Days  \n",
       "0          0.000070   116  \n",
       "1          0.000000   756  \n",
       "2          0.000001   496  \n",
       "3          0.000000   702  \n",
       "4          0.000000   178  "
      ]
     },
     "execution_count": 2,
     "metadata": {},
     "output_type": "execute_result"
    }
   ],
   "source": [
    "data = pd.read_csv('TopCharts_unique.csv', index_col = 0)\n",
    "#dataset\n",
    "data.head()"
   ]
  },
  {
   "cell_type": "code",
   "execution_count": 3,
   "metadata": {},
   "outputs": [],
   "source": [
    "df = data.copy()"
   ]
  },
  {
   "cell_type": "code",
   "execution_count": 4,
   "metadata": {},
   "outputs": [],
   "source": [
    "y = df[\"Days\"]\n",
    "df.drop(columns = \"Days\", inplace = True)"
   ]
  },
  {
   "cell_type": "code",
   "execution_count": 5,
   "metadata": {},
   "outputs": [
    {
     "data": {
      "text/html": [
       "<div>\n",
       "<style scoped>\n",
       "    .dataframe tbody tr th:only-of-type {\n",
       "        vertical-align: middle;\n",
       "    }\n",
       "\n",
       "    .dataframe tbody tr th {\n",
       "        vertical-align: top;\n",
       "    }\n",
       "\n",
       "    .dataframe thead th {\n",
       "        text-align: right;\n",
       "    }\n",
       "</style>\n",
       "<table border=\"1\" class=\"dataframe\">\n",
       "  <thead>\n",
       "    <tr style=\"text-align: right;\">\n",
       "      <th></th>\n",
       "      <th>Artist</th>\n",
       "      <th>Title</th>\n",
       "      <th>Id</th>\n",
       "      <th>Time Signature</th>\n",
       "      <th>Tempo</th>\n",
       "      <th>Key</th>\n",
       "      <th>Mode</th>\n",
       "      <th>Valence</th>\n",
       "      <th>Danceability</th>\n",
       "      <th>Energy</th>\n",
       "      <th>Acousticness</th>\n",
       "      <th>Instrumentalness</th>\n",
       "    </tr>\n",
       "  </thead>\n",
       "  <tbody>\n",
       "    <tr>\n",
       "      <th>0</th>\n",
       "      <td>Post Malone</td>\n",
       "      <td>rockstar</td>\n",
       "      <td>0e7ipj03S05BNilyu5bRzt</td>\n",
       "      <td>4</td>\n",
       "      <td>159.801</td>\n",
       "      <td>5</td>\n",
       "      <td>0</td>\n",
       "      <td>0.129</td>\n",
       "      <td>0.585</td>\n",
       "      <td>0.520</td>\n",
       "      <td>0.1240</td>\n",
       "      <td>0.000070</td>\n",
       "    </tr>\n",
       "    <tr>\n",
       "      <th>1</th>\n",
       "      <td>Post Malone</td>\n",
       "      <td>I Fall Apart</td>\n",
       "      <td>75ZvA4QfFiZvzhj2xkaWAh</td>\n",
       "      <td>4</td>\n",
       "      <td>143.950</td>\n",
       "      <td>8</td>\n",
       "      <td>0</td>\n",
       "      <td>0.291</td>\n",
       "      <td>0.556</td>\n",
       "      <td>0.538</td>\n",
       "      <td>0.0689</td>\n",
       "      <td>0.000000</td>\n",
       "    </tr>\n",
       "    <tr>\n",
       "      <th>2</th>\n",
       "      <td>Post Malone</td>\n",
       "      <td>Candy Paint</td>\n",
       "      <td>32lItqlMi4LBhb4k0BaSaC</td>\n",
       "      <td>4</td>\n",
       "      <td>180.064</td>\n",
       "      <td>4</td>\n",
       "      <td>1</td>\n",
       "      <td>0.381</td>\n",
       "      <td>0.664</td>\n",
       "      <td>0.667</td>\n",
       "      <td>0.6400</td>\n",
       "      <td>0.000001</td>\n",
       "    </tr>\n",
       "    <tr>\n",
       "      <th>3</th>\n",
       "      <td>Post Malone</td>\n",
       "      <td>Congratulations</td>\n",
       "      <td>3a1lNhkSLSkpJE4MSHpDu9</td>\n",
       "      <td>4</td>\n",
       "      <td>123.146</td>\n",
       "      <td>6</td>\n",
       "      <td>1</td>\n",
       "      <td>0.492</td>\n",
       "      <td>0.630</td>\n",
       "      <td>0.804</td>\n",
       "      <td>0.2150</td>\n",
       "      <td>0.000000</td>\n",
       "    </tr>\n",
       "    <tr>\n",
       "      <th>4</th>\n",
       "      <td>Post Malone</td>\n",
       "      <td>Go Flex</td>\n",
       "      <td>5yuShbu70mtHXY0yLzCQLQ</td>\n",
       "      <td>4</td>\n",
       "      <td>81.967</td>\n",
       "      <td>5</td>\n",
       "      <td>1</td>\n",
       "      <td>0.127</td>\n",
       "      <td>0.665</td>\n",
       "      <td>0.498</td>\n",
       "      <td>0.2280</td>\n",
       "      <td>0.000000</td>\n",
       "    </tr>\n",
       "  </tbody>\n",
       "</table>\n",
       "</div>"
      ],
      "text/plain": [
       "        Artist            Title                      Id  Time Signature  \\\n",
       "0  Post Malone         rockstar  0e7ipj03S05BNilyu5bRzt               4   \n",
       "1  Post Malone     I Fall Apart  75ZvA4QfFiZvzhj2xkaWAh               4   \n",
       "2  Post Malone      Candy Paint  32lItqlMi4LBhb4k0BaSaC               4   \n",
       "3  Post Malone  Congratulations  3a1lNhkSLSkpJE4MSHpDu9               4   \n",
       "4  Post Malone          Go Flex  5yuShbu70mtHXY0yLzCQLQ               4   \n",
       "\n",
       "     Tempo  Key  Mode  Valence  Danceability  Energy  Acousticness  \\\n",
       "0  159.801    5     0    0.129         0.585   0.520        0.1240   \n",
       "1  143.950    8     0    0.291         0.556   0.538        0.0689   \n",
       "2  180.064    4     1    0.381         0.664   0.667        0.6400   \n",
       "3  123.146    6     1    0.492         0.630   0.804        0.2150   \n",
       "4   81.967    5     1    0.127         0.665   0.498        0.2280   \n",
       "\n",
       "   Instrumentalness  \n",
       "0          0.000070  \n",
       "1          0.000000  \n",
       "2          0.000001  \n",
       "3          0.000000  \n",
       "4          0.000000  "
      ]
     },
     "execution_count": 5,
     "metadata": {},
     "output_type": "execute_result"
    }
   ],
   "source": [
    "df.head()"
   ]
  },
  {
   "cell_type": "code",
   "execution_count": 6,
   "metadata": {},
   "outputs": [],
   "source": [
    "d = [\"Artist\", \"Title\", \"Id\"]\n",
    "df.drop(columns = d, inplace = True)"
   ]
  },
  {
   "cell_type": "code",
   "execution_count": 7,
   "metadata": {
    "scrolled": false
   },
   "outputs": [
    {
     "data": {
      "image/png": "[encoded data removed]",
      "text/plain": [
       "<Figure size 432x288 with 1 Axes>"
      ]
     },
     "metadata": {
      "needs_background": "light"
     },
     "output_type": "display_data"
    },
    {
     "data": {
      "image/png": "[encoded data removed]",
      "text/plain": [
       "<Figure size 432x288 with 1 Axes>"
      ]
     },
     "metadata": {
      "needs_background": "light"
     },
     "output_type": "display_data"
    },
    {
     "data": {
      "image/png": "[encoded data removed]",
      "text/plain": [
       "<Figure size 432x288 with 1 Axes>"
      ]
     },
     "metadata": {
      "needs_background": "light"
     },
     "output_type": "display_data"
    },
    {
     "data": {
      "image/png": "[encoded data removed]",
      "text/plain": [
       "<Figure size 432x288 with 1 Axes>"
      ]
     },
     "metadata": {
      "needs_background": "light"
     },
     "output_type": "display_data"
    },
    {
     "data": {
      "image/png": "[encoded data removed]",
      "text/plain": [
       "<Figure size 432x288 with 1 Axes>"
      ]
     },
     "metadata": {
      "needs_background": "light"
     },
     "output_type": "display_data"
    },
    {
     "data": {
      "image/png": "[encoded data removed]",
      "text/plain": [
       "<Figure size 432x288 with 1 Axes>"
      ]
     },
     "metadata": {
      "needs_background": "light"
     },
     "output_type": "display_data"
    },
    {
     "data": {
      "image/png": "[encoded data removed]",
      "text/plain": [
       "<Figure size 432x288 with 1 Axes>"
      ]
     },
     "metadata": {
      "needs_background": "light"
     },
     "output_type": "display_data"
    },
    {
     "data": {
      "image/png": "[encoded data removed]",
      "text/plain": [
       "<Figure size 432x288 with 1 Axes>"
      ]
     },
     "metadata": {
      "needs_background": "light"
     },
     "output_type": "display_data"
    },
    {
     "data": {
      "image/png": "[encoded data removed]",
      "text/plain": [
       "<Figure size 432x288 with 1 Axes>"
      ]
     },
     "metadata": {
      "needs_background": "light"
     },
     "output_type": "display_data"
    }
   ],
   "source": [
    "for col in df.columns:\n",
    "    plt.hist(df[col])\n",
    "    plt.xlabel(col)\n",
    "    plt.show()"
   ]
  },
  {
   "cell_type": "code",
   "execution_count": 8,
   "metadata": {},
   "outputs": [],
   "source": [
    "#can probably drop time sig and inst\n",
    "df.drop(columns = [\"Time Signature\", \"Instrumentalness\"], inplace = True)"
   ]
  },
  {
   "cell_type": "markdown",
   "metadata": {},
   "source": [
    "## Convert factor variables"
   ]
  },
  {
   "cell_type": "code",
   "execution_count": 9,
   "metadata": {},
   "outputs": [],
   "source": [
    "categorical = [\"Key\", \"Mode\"]"
   ]
  },
  {
   "cell_type": "code",
   "execution_count": 10,
   "metadata": {},
   "outputs": [],
   "source": [
    "df_dummy = df.copy()\n",
    "for c in categorical:\n",
    "    dummy = pd.get_dummies(df[c], prefix = c)\n",
    "    df_dummy = pd.concat([df_dummy, dummy], axis = 1)    \n",
    "df_dummy.drop(columns = categorical, inplace = True)"
   ]
  },
  {
   "cell_type": "code",
   "execution_count": 11,
   "metadata": {
    "scrolled": true
   },
   "outputs": [
    {
     "data": {
      "text/html": [
       "<div>\n",
       "<style scoped>\n",
       "    .dataframe tbody tr th:only-of-type {\n",
       "        vertical-align: middle;\n",
       "    }\n",
       "\n",
       "    .dataframe tbody tr th {\n",
       "        vertical-align: top;\n",
       "    }\n",
       "\n",
       "    .dataframe thead th {\n",
       "        text-align: right;\n",
       "    }\n",
       "</style>\n",
       "<table border=\"1\" class=\"dataframe\">\n",
       "  <thead>\n",
       "    <tr style=\"text-align: right;\">\n",
       "      <th></th>\n",
       "      <th>Tempo</th>\n",
       "      <th>Valence</th>\n",
       "      <th>Danceability</th>\n",
       "      <th>Energy</th>\n",
       "      <th>Acousticness</th>\n",
       "      <th>Key_0</th>\n",
       "      <th>Key_1</th>\n",
       "      <th>Key_2</th>\n",
       "      <th>Key_3</th>\n",
       "      <th>Key_4</th>\n",
       "      <th>Key_5</th>\n",
       "      <th>Key_6</th>\n",
       "      <th>Key_7</th>\n",
       "      <th>Key_8</th>\n",
       "      <th>Key_9</th>\n",
       "      <th>Key_10</th>\n",
       "      <th>Key_11</th>\n",
       "      <th>Mode_0</th>\n",
       "      <th>Mode_1</th>\n",
       "    </tr>\n",
       "  </thead>\n",
       "  <tbody>\n",
       "    <tr>\n",
       "      <th>0</th>\n",
       "      <td>159.801</td>\n",
       "      <td>0.129</td>\n",
       "      <td>0.585</td>\n",
       "      <td>0.520</td>\n",
       "      <td>0.1240</td>\n",
       "      <td>0</td>\n",
       "      <td>0</td>\n",
       "      <td>0</td>\n",
       "      <td>0</td>\n",
       "      <td>0</td>\n",
       "      <td>1</td>\n",
       "      <td>0</td>\n",
       "      <td>0</td>\n",
       "      <td>0</td>\n",
       "      <td>0</td>\n",
       "      <td>0</td>\n",
       "      <td>0</td>\n",
       "      <td>1</td>\n",
       "      <td>0</td>\n",
       "    </tr>\n",
       "    <tr>\n",
       "      <th>1</th>\n",
       "      <td>143.950</td>\n",
       "      <td>0.291</td>\n",
       "      <td>0.556</td>\n",
       "      <td>0.538</td>\n",
       "      <td>0.0689</td>\n",
       "      <td>0</td>\n",
       "      <td>0</td>\n",
       "      <td>0</td>\n",
       "      <td>0</td>\n",
       "      <td>0</td>\n",
       "      <td>0</td>\n",
       "      <td>0</td>\n",
       "      <td>0</td>\n",
       "      <td>1</td>\n",
       "      <td>0</td>\n",
       "      <td>0</td>\n",
       "      <td>0</td>\n",
       "      <td>1</td>\n",
       "      <td>0</td>\n",
       "    </tr>\n",
       "    <tr>\n",
       "      <th>2</th>\n",
       "      <td>180.064</td>\n",
       "      <td>0.381</td>\n",
       "      <td>0.664</td>\n",
       "      <td>0.667</td>\n",
       "      <td>0.6400</td>\n",
       "      <td>0</td>\n",
       "      <td>0</td>\n",
       "      <td>0</td>\n",
       "      <td>0</td>\n",
       "      <td>1</td>\n",
       "      <td>0</td>\n",
       "      <td>0</td>\n",
       "      <td>0</td>\n",
       "      <td>0</td>\n",
       "      <td>0</td>\n",
       "      <td>0</td>\n",
       "      <td>0</td>\n",
       "      <td>0</td>\n",
       "      <td>1</td>\n",
       "    </tr>\n",
       "    <tr>\n",
       "      <th>3</th>\n",
       "      <td>123.146</td>\n",
       "      <td>0.492</td>\n",
       "      <td>0.630</td>\n",
       "      <td>0.804</td>\n",
       "      <td>0.2150</td>\n",
       "      <td>0</td>\n",
       "      <td>0</td>\n",
       "      <td>0</td>\n",
       "      <td>0</td>\n",
       "      <td>0</td>\n",
       "      <td>0</td>\n",
       "      <td>1</td>\n",
       "      <td>0</td>\n",
       "      <td>0</td>\n",
       "      <td>0</td>\n",
       "      <td>0</td>\n",
       "      <td>0</td>\n",
       "      <td>0</td>\n",
       "      <td>1</td>\n",
       "    </tr>\n",
       "    <tr>\n",
       "      <th>4</th>\n",
       "      <td>81.967</td>\n",
       "      <td>0.127</td>\n",
       "      <td>0.665</td>\n",
       "      <td>0.498</td>\n",
       "      <td>0.2280</td>\n",
       "      <td>0</td>\n",
       "      <td>0</td>\n",
       "      <td>0</td>\n",
       "      <td>0</td>\n",
       "      <td>0</td>\n",
       "      <td>1</td>\n",
       "      <td>0</td>\n",
       "      <td>0</td>\n",
       "      <td>0</td>\n",
       "      <td>0</td>\n",
       "      <td>0</td>\n",
       "      <td>0</td>\n",
       "      <td>0</td>\n",
       "      <td>1</td>\n",
       "    </tr>\n",
       "  </tbody>\n",
       "</table>\n",
       "</div>"
      ],
      "text/plain": [
       "     Tempo  Valence  Danceability  Energy  Acousticness  Key_0  Key_1  Key_2  \\\n",
       "0  159.801    0.129         0.585   0.520        0.1240      0      0      0   \n",
       "1  143.950    0.291         0.556   0.538        0.0689      0      0      0   \n",
       "2  180.064    0.381         0.664   0.667        0.6400      0      0      0   \n",
       "3  123.146    0.492         0.630   0.804        0.2150      0      0      0   \n",
       "4   81.967    0.127         0.665   0.498        0.2280      0      0      0   \n",
       "\n",
       "   Key_3  Key_4  Key_5  Key_6  Key_7  Key_8  Key_9  Key_10  Key_11  Mode_0  \\\n",
       "0      0      0      1      0      0      0      0       0       0       1   \n",
       "1      0      0      0      0      0      1      0       0       0       1   \n",
       "2      0      1      0      0      0      0      0       0       0       0   \n",
       "3      0      0      0      1      0      0      0       0       0       0   \n",
       "4      0      0      1      0      0      0      0       0       0       0   \n",
       "\n",
       "   Mode_1  \n",
       "0       0  \n",
       "1       0  \n",
       "2       1  \n",
       "3       1  \n",
       "4       1  "
      ]
     },
     "execution_count": 11,
     "metadata": {},
     "output_type": "execute_result"
    }
   ],
   "source": [
    "df_dummy.head()"
   ]
  },
  {
   "cell_type": "markdown",
   "metadata": {},
   "source": [
    "## log-transform response variable"
   ]
  },
  {
   "cell_type": "code",
   "execution_count": 12,
   "metadata": {},
   "outputs": [
    {
     "data": {
      "image/png": "[encoded data removed]",
      "text/plain": [
       "<Figure size 432x288 with 1 Axes>"
      ]
     },
     "metadata": {
      "needs_background": "light"
     },
     "output_type": "display_data"
    },
    {
     "data": {
      "image/png": "[encoded data removed]",
      "text/plain": [
       "<Figure size 432x288 with 1 Axes>"
      ]
     },
     "metadata": {
      "needs_background": "light"
     },
     "output_type": "display_data"
    }
   ],
   "source": [
    "plt.hist(y)\n",
    "plt.xlabel(\"Days\")\n",
    "plt.show()\n",
    "\n",
    "plt.hist(np.log(y))\n",
    "plt.xlabel(\"Log Days\")\n",
    "plt.show()"
   ]
  },
  {
   "cell_type": "markdown",
   "metadata": {},
   "source": [
    "## Split train/test data"
   ]
  },
  {
   "cell_type": "code",
   "execution_count": 13,
   "metadata": {},
   "outputs": [],
   "source": [
    "from sklearn.model_selection import train_test_split "
   ]
  },
  {
   "cell_type": "code",
   "execution_count": 14,
   "metadata": {},
   "outputs": [],
   "source": [
    "y = np.log(y)"
   ]
  },
  {
   "cell_type": "code",
   "execution_count": 15,
   "metadata": {},
   "outputs": [],
   "source": [
    "X = df_dummy.copy()"
   ]
  },
  {
   "cell_type": "code",
   "execution_count": 16,
   "metadata": {},
   "outputs": [
    {
     "data": {
      "text/html": [
       "<div>\n",
       "<style scoped>\n",
       "    .dataframe tbody tr th:only-of-type {\n",
       "        vertical-align: middle;\n",
       "    }\n",
       "\n",
       "    .dataframe tbody tr th {\n",
       "        vertical-align: top;\n",
       "    }\n",
       "\n",
       "    .dataframe thead th {\n",
       "        text-align: right;\n",
       "    }\n",
       "</style>\n",
       "<table border=\"1\" class=\"dataframe\">\n",
       "  <thead>\n",
       "    <tr style=\"text-align: right;\">\n",
       "      <th></th>\n",
       "      <th>Tempo</th>\n",
       "      <th>Valence</th>\n",
       "      <th>Danceability</th>\n",
       "      <th>Energy</th>\n",
       "      <th>Acousticness</th>\n",
       "      <th>Key_0</th>\n",
       "      <th>Key_1</th>\n",
       "      <th>Key_2</th>\n",
       "      <th>Key_3</th>\n",
       "      <th>Key_4</th>\n",
       "      <th>Key_5</th>\n",
       "      <th>Key_6</th>\n",
       "      <th>Key_7</th>\n",
       "      <th>Key_8</th>\n",
       "      <th>Key_9</th>\n",
       "      <th>Key_10</th>\n",
       "      <th>Key_11</th>\n",
       "      <th>Mode_0</th>\n",
       "      <th>Mode_1</th>\n",
       "    </tr>\n",
       "  </thead>\n",
       "  <tbody>\n",
       "    <tr>\n",
       "      <th>0</th>\n",
       "      <td>159.801</td>\n",
       "      <td>0.129</td>\n",
       "      <td>0.585</td>\n",
       "      <td>0.520</td>\n",
       "      <td>0.1240</td>\n",
       "      <td>0</td>\n",
       "      <td>0</td>\n",
       "      <td>0</td>\n",
       "      <td>0</td>\n",
       "      <td>0</td>\n",
       "      <td>1</td>\n",
       "      <td>0</td>\n",
       "      <td>0</td>\n",
       "      <td>0</td>\n",
       "      <td>0</td>\n",
       "      <td>0</td>\n",
       "      <td>0</td>\n",
       "      <td>1</td>\n",
       "      <td>0</td>\n",
       "    </tr>\n",
       "    <tr>\n",
       "      <th>1</th>\n",
       "      <td>143.950</td>\n",
       "      <td>0.291</td>\n",
       "      <td>0.556</td>\n",
       "      <td>0.538</td>\n",
       "      <td>0.0689</td>\n",
       "      <td>0</td>\n",
       "      <td>0</td>\n",
       "      <td>0</td>\n",
       "      <td>0</td>\n",
       "      <td>0</td>\n",
       "      <td>0</td>\n",
       "      <td>0</td>\n",
       "      <td>0</td>\n",
       "      <td>1</td>\n",
       "      <td>0</td>\n",
       "      <td>0</td>\n",
       "      <td>0</td>\n",
       "      <td>1</td>\n",
       "      <td>0</td>\n",
       "    </tr>\n",
       "    <tr>\n",
       "      <th>2</th>\n",
       "      <td>180.064</td>\n",
       "      <td>0.381</td>\n",
       "      <td>0.664</td>\n",
       "      <td>0.667</td>\n",
       "      <td>0.6400</td>\n",
       "      <td>0</td>\n",
       "      <td>0</td>\n",
       "      <td>0</td>\n",
       "      <td>0</td>\n",
       "      <td>1</td>\n",
       "      <td>0</td>\n",
       "      <td>0</td>\n",
       "      <td>0</td>\n",
       "      <td>0</td>\n",
       "      <td>0</td>\n",
       "      <td>0</td>\n",
       "      <td>0</td>\n",
       "      <td>0</td>\n",
       "      <td>1</td>\n",
       "    </tr>\n",
       "    <tr>\n",
       "      <th>3</th>\n",
       "      <td>123.146</td>\n",
       "      <td>0.492</td>\n",
       "      <td>0.630</td>\n",
       "      <td>0.804</td>\n",
       "      <td>0.2150</td>\n",
       "      <td>0</td>\n",
       "      <td>0</td>\n",
       "      <td>0</td>\n",
       "      <td>0</td>\n",
       "      <td>0</td>\n",
       "      <td>0</td>\n",
       "      <td>1</td>\n",
       "      <td>0</td>\n",
       "      <td>0</td>\n",
       "      <td>0</td>\n",
       "      <td>0</td>\n",
       "      <td>0</td>\n",
       "      <td>0</td>\n",
       "      <td>1</td>\n",
       "    </tr>\n",
       "    <tr>\n",
       "      <th>4</th>\n",
       "      <td>81.967</td>\n",
       "      <td>0.127</td>\n",
       "      <td>0.665</td>\n",
       "      <td>0.498</td>\n",
       "      <td>0.2280</td>\n",
       "      <td>0</td>\n",
       "      <td>0</td>\n",
       "      <td>0</td>\n",
       "      <td>0</td>\n",
       "      <td>0</td>\n",
       "      <td>1</td>\n",
       "      <td>0</td>\n",
       "      <td>0</td>\n",
       "      <td>0</td>\n",
       "      <td>0</td>\n",
       "      <td>0</td>\n",
       "      <td>0</td>\n",
       "      <td>0</td>\n",
       "      <td>1</td>\n",
       "    </tr>\n",
       "  </tbody>\n",
       "</table>\n",
       "</div>"
      ],
      "text/plain": [
       "     Tempo  Valence  Danceability  Energy  Acousticness  Key_0  Key_1  Key_2  \\\n",
       "0  159.801    0.129         0.585   0.520        0.1240      0      0      0   \n",
       "1  143.950    0.291         0.556   0.538        0.0689      0      0      0   \n",
       "2  180.064    0.381         0.664   0.667        0.6400      0      0      0   \n",
       "3  123.146    0.492         0.630   0.804        0.2150      0      0      0   \n",
       "4   81.967    0.127         0.665   0.498        0.2280      0      0      0   \n",
       "\n",
       "   Key_3  Key_4  Key_5  Key_6  Key_7  Key_8  Key_9  Key_10  Key_11  Mode_0  \\\n",
       "0      0      0      1      0      0      0      0       0       0       1   \n",
       "1      0      0      0      0      0      1      0       0       0       1   \n",
       "2      0      1      0      0      0      0      0       0       0       0   \n",
       "3      0      0      0      1      0      0      0       0       0       0   \n",
       "4      0      0      1      0      0      0      0       0       0       0   \n",
       "\n",
       "   Mode_1  \n",
       "0       0  \n",
       "1       0  \n",
       "2       1  \n",
       "3       1  \n",
       "4       1  "
      ]
     },
     "execution_count": 16,
     "metadata": {},
     "output_type": "execute_result"
    }
   ],
   "source": [
    "X.head()"
   ]
  },
  {
   "cell_type": "code",
   "execution_count": 17,
   "metadata": {},
   "outputs": [],
   "source": [
    "X_train, X_test, y_train, y_test = train_test_split(X, y, test_size=0.2, random_state=0)"
   ]
  },
  {
   "cell_type": "code",
   "execution_count": 47,
   "metadata": {},
   "outputs": [],
   "source": [
    "from sklearn.preprocessing import MinMaxScaler"
   ]
  },
  {
   "cell_type": "code",
   "execution_count": 48,
   "metadata": {},
   "outputs": [],
   "source": [
    "def scale(X, cols = [\"Tempo\" ,\"Valence\", \"Danceability\", \"Energy\", \"Acousticness\"]):\n",
    "    X_scaled = X.copy()\n",
    "    scaled_values = MinMaxScaler().fit_transform(X_scaled.loc[:, cols])\n",
    "    for i in range(scaled_values.shape[1]):\n",
    "        X_scaled.loc[:,cols[i]] = scaled_values[:,i]\n",
    "    return X_scaled"
   ]
  },
  {
   "cell_type": "code",
   "execution_count": 49,
   "metadata": {},
   "outputs": [],
   "source": [
    "Xs_train, Xs_test = scale(X_train), scale(X_test)"
   ]
  },
  {
   "cell_type": "markdown",
   "metadata": {},
   "source": [
    "# Functions to evaluate model"
   ]
  },
  {
   "cell_type": "code",
   "execution_count": 18,
   "metadata": {},
   "outputs": [],
   "source": [
    "from sklearn import metrics "
   ]
  },
  {
   "cell_type": "code",
   "execution_count": 19,
   "metadata": {},
   "outputs": [],
   "source": [
    "def evalModel(model, X_test = X_test, y_test = y_test, exp = True):\n",
    "    y_pred = model.predict(X_test)\n",
    "    if exp:\n",
    "        y_pred_exp = np.exp(y_pred)\n",
    "        y_test_exp = np.exp(y_test)\n",
    "    \n",
    "    scores = []\n",
    "    for fn in [metrics.max_error, metrics.mean_absolute_error, metrics.median_absolute_error]:\n",
    "        scores.append(fn(y_test_exp, y_pred_exp))\n",
    "    \n",
    "    plt.hist(y_test_exp - y_pred_exp)\n",
    "    plt.xlabel(\"Actual - Predicted\")\n",
    "    plt.show()\n",
    "    return dict(zip([\"max_error\", \"Mean AE\", \"Median AE\"], scores))     "
   ]
  },
  {
   "cell_type": "code",
   "execution_count": 20,
   "metadata": {},
   "outputs": [],
   "source": [
    "from sklearn.model_selection import GridSearchCV, RandomizedSearchCV"
   ]
  },
  {
   "cell_type": "code",
   "execution_count": 21,
   "metadata": {},
   "outputs": [],
   "source": [
    "med_scorer = metrics.make_scorer(metrics.median_absolute_error, False)"
   ]
  },
  {
   "cell_type": "code",
   "execution_count": 22,
   "metadata": {},
   "outputs": [],
   "source": [
    "def gridsearch(model, hyperparams, X_train, y_train, random = False, n_iter = 100):\n",
    "    if random:\n",
    "        gs = RandomizedSearchCV(estimator = model, param_distributions = hyperparams, \\\n",
    "                              n_iter = n_iter, scoring = med_scorer, verbose=3, n_jobs = -1).fit(X_train, y_train)\n",
    "    else:\n",
    "        gs = GridSearchCV(estimator = model, verbose = 3, scoring = med_scorer, n_jobs = -1, param_grid = hyperparams).fit(X_train, y_train)\n",
    "    return {\"model\": gs.best_estimator_, \"params\": gs.best_params_}"
   ]
  },
  {
   "cell_type": "markdown",
   "metadata": {},
   "source": [
    "# Regression Models"
   ]
  },
  {
   "cell_type": "markdown",
   "metadata": {},
   "source": [
    "## Unrestricted linear regression (baseline model)"
   ]
  },
  {
   "cell_type": "code",
   "execution_count": 23,
   "metadata": {},
   "outputs": [],
   "source": [
    "from sklearn.linear_model import LinearRegression"
   ]
  },
  {
   "cell_type": "code",
   "execution_count": 24,
   "metadata": {
    "scrolled": true
   },
   "outputs": [
    {
     "data": {
      "image/png": "[encoded data removed]",
      "text/plain": [
       "<Figure size 432x288 with 1 Axes>"
      ]
     },
     "metadata": {
      "needs_background": "light"
     },
     "output_type": "display_data"
    },
    {
     "name": "stdout",
     "output_type": "stream",
     "text": [
      "Initial model:\n",
      "{'max_error': 747.0058639792752, 'Mean AE': 39.99003577114352, 'Median AE': 8.140476848148626}\n"
     ]
    }
   ],
   "source": [
    "regressor = LinearRegression().fit(X_train, y_train)\n",
    "print(f\"Initial model:\\n{evalModel(regressor, X_test, y_test)}\")"
   ]
  },
  {
   "cell_type": "markdown",
   "metadata": {},
   "source": [
    "## Lasso"
   ]
  },
  {
   "cell_type": "code",
   "execution_count": 25,
   "metadata": {},
   "outputs": [],
   "source": [
    "from sklearn.linear_model import Lasso"
   ]
  },
  {
   "cell_type": "code",
   "execution_count": 26,
   "metadata": {},
   "outputs": [
    {
     "data": {
      "image/png": "[encoded data removed]",
      "text/plain": [
       "<Figure size 432x288 with 1 Axes>"
      ]
     },
     "metadata": {
      "needs_background": "light"
     },
     "output_type": "display_data"
    },
    {
     "name": "stdout",
     "output_type": "stream",
     "text": [
      "Initial model:\n",
      "{'max_error': 746.7830299531565, 'Mean AE': 40.00346706433455, 'Median AE': 8.216970046843716}\n",
      "Fitting 5 folds for each of 10 candidates, totalling 50 fits\n"
     ]
    },
    {
     "name": "stderr",
     "output_type": "stream",
     "text": [
      "[Parallel(n_jobs=-1)]: Using backend LokyBackend with 4 concurrent workers.\n",
      "[Parallel(n_jobs=-1)]: Done  24 tasks      | elapsed:    2.4s\n",
      "[Parallel(n_jobs=-1)]: Done  50 out of  50 | elapsed:    2.5s finished\n"
     ]
    },
    {
     "name": "stdout",
     "output_type": "stream",
     "text": [
      "Cross-validated params:\n",
      "{'alpha': 2})\n"
     ]
    },
    {
     "data": {
      "image/png": "[encoded data removed]",
      "text/plain": [
       "<Figure size 432x288 with 1 Axes>"
      ]
     },
     "metadata": {
      "needs_background": "light"
     },
     "output_type": "display_data"
    },
    {
     "name": "stdout",
     "output_type": "stream",
     "text": [
      "Optimized model:\n",
      "{'max_error': 746.7830299531565, 'Mean AE': 40.00346706433455, 'Median AE': 8.216970046843716}\n"
     ]
    }
   ],
   "source": [
    "lasso = Lasso().fit(X_train, y_train)\n",
    "print(f\"Initial model:\\n{evalModel(lasso, X_test, y_test)}\")\n",
    "params = {\"alpha\":np.arange(1, 11,1)}\n",
    "lasso_cv = gridsearch(Lasso(), params, X_train, y_train)\n",
    "print(f\"Cross-validated params:\\n{lasso_cv['params']})\")\n",
    "print(f\"Optimized model:\\n{evalModel(lasso_cv['model'],X_test, y_test)}\")"
   ]
  },
  {
   "cell_type": "markdown",
   "metadata": {},
   "source": [
    "## ElasticNet"
   ]
  },
  {
   "cell_type": "code",
   "execution_count": 27,
   "metadata": {},
   "outputs": [],
   "source": [
    "from sklearn.linear_model import ElasticNet"
   ]
  },
  {
   "cell_type": "code",
   "execution_count": 28,
   "metadata": {},
   "outputs": [
    {
     "data": {
      "image/png": "[encoded data removed]",
      "text/plain": [
       "<Figure size 432x288 with 1 Axes>"
      ]
     },
     "metadata": {
      "needs_background": "light"
     },
     "output_type": "display_data"
    },
    {
     "name": "stdout",
     "output_type": "stream",
     "text": [
      "Initial model:\n",
      "{'max_error': 746.7254984088219, 'Mean AE': 40.00245479514653, 'Median AE': 8.170768576206566}\n",
      "Fitting 5 folds for each of 220 candidates, totalling 1100 fits\n"
     ]
    },
    {
     "name": "stderr",
     "output_type": "stream",
     "text": [
      "[Parallel(n_jobs=-1)]: Using backend LokyBackend with 4 concurrent workers.\n",
      "[Parallel(n_jobs=-1)]: Done  56 tasks      | elapsed:    0.3s\n"
     ]
    },
    {
     "name": "stdout",
     "output_type": "stream",
     "text": [
      "Cross-validated params:\n",
      "{'alpha': 1.5, 'l1_ratio': 0.9})\n"
     ]
    },
    {
     "name": "stderr",
     "output_type": "stream",
     "text": [
      "[Parallel(n_jobs=-1)]: Done 1100 out of 1100 | elapsed:    4.8s finished\n"
     ]
    },
    {
     "data": {
      "image/png": "[encoded data removed]",
      "text/plain": [
       "<Figure size 432x288 with 1 Axes>"
      ]
     },
     "metadata": {
      "needs_background": "light"
     },
     "output_type": "display_data"
    },
    {
     "name": "stdout",
     "output_type": "stream",
     "text": [
      "Optimized model:\n",
      "{'max_error': 746.7830299531565, 'Mean AE': 40.00346706433455, 'Median AE': 8.216970046843716}\n"
     ]
    }
   ],
   "source": [
    "en = ElasticNet().fit(X_train, y_train)\n",
    "print(f\"Initial model:\\n{evalModel(en, X_test, y_test)}\")\n",
    "params = {\"alpha\":np.arange(1, 11, .5), \"l1_ratio\":np.arange(0,1.1,.1)}\n",
    "en_cv = gridsearch(ElasticNet(), params, X_train, y_train)\n",
    "print(f\"Cross-validated params:\\n{en_cv['params']})\")\n",
    "print(f\"Optimized model:\\n{evalModel(en_cv['model'],X_test, y_test)}\")"
   ]
  },
  {
   "cell_type": "markdown",
   "metadata": {},
   "source": [
    "## Random Forest"
   ]
  },
  {
   "cell_type": "code",
   "execution_count": 29,
   "metadata": {},
   "outputs": [],
   "source": [
    "from sklearn.ensemble import RandomForestRegressor"
   ]
  },
  {
   "cell_type": "code",
   "execution_count": 30,
   "metadata": {
    "scrolled": false
   },
   "outputs": [
    {
     "data": {
      "image/png": "[encoded data removed]",
      "text/plain": [
       "<Figure size 432x288 with 1 Axes>"
      ]
     },
     "metadata": {
      "needs_background": "light"
     },
     "output_type": "display_data"
    },
    {
     "name": "stdout",
     "output_type": "stream",
     "text": [
      "Initial model:\n",
      "{'max_error': 752.5877792085316, 'Mean AE': 40.61868281095568, 'Median AE': 9.798247025262489}\n",
      "Fitting 5 folds for each of 81 candidates, totalling 405 fits\n"
     ]
    },
    {
     "name": "stderr",
     "output_type": "stream",
     "text": [
      "[Parallel(n_jobs=-1)]: Using backend LokyBackend with 4 concurrent workers.\n",
      "[Parallel(n_jobs=-1)]: Done  24 tasks      | elapsed:    5.7s\n",
      "[Parallel(n_jobs=-1)]: Done 120 tasks      | elapsed:   32.0s\n",
      "[Parallel(n_jobs=-1)]: Done 280 tasks      | elapsed:  1.3min\n",
      "[Parallel(n_jobs=-1)]: Done 405 out of 405 | elapsed:  1.8min finished\n"
     ]
    },
    {
     "name": "stdout",
     "output_type": "stream",
     "text": [
      "Cross-validated params:\n",
      "{'max_depth': 90, 'max_leaf_nodes': 90})\n"
     ]
    },
    {
     "data": {
      "image/png": "[encoded data removed]",
      "text/plain": [
       "<Figure size 432x288 with 1 Axes>"
      ]
     },
     "metadata": {
      "needs_background": "light"
     },
     "output_type": "display_data"
    },
    {
     "name": "stdout",
     "output_type": "stream",
     "text": [
      "Optimized model:\n",
      "{'max_error': 751.0579793742332, 'Mean AE': 40.060160177045105, 'Median AE': 8.78329722387474}\n"
     ]
    }
   ],
   "source": [
    "rf = RandomForestRegressor(n_jobs = -1).fit(X_train, y_train)\n",
    "print(f\"Initial model:\\n{evalModel(rf, X_test, y_test)}\")\n",
    "params = {\"max_depth\":np.arange(10,100,10), \"max_leaf_nodes\":np.arange(10, 100, 10)}\n",
    "rf_cv = gridsearch(RandomForestRegressor(), params, X_train, y_train)\n",
    "print(f\"Cross-validated params:\\n{rf_cv['params']})\")\n",
    "print(f\"Optimized model:\\n{evalModel(rf_cv['model'],X_test, y_test)}\")"
   ]
  },
  {
   "cell_type": "code",
   "execution_count": 54,
   "metadata": {},
   "outputs": [
    {
     "data": {
      "image/png": "[encoded data removed]",
      "text/plain": [
       "<Figure size 432x288 with 1 Axes>"
      ]
     },
     "metadata": {
      "needs_background": "light"
     },
     "output_type": "display_data"
    },
    {
     "name": "stdout",
     "output_type": "stream",
     "text": [
      "Initial model:\n",
      "{'max_error': 751.9861340693731, 'Mean AE': 40.34574361752648, 'Median AE': 9.97957874222801}\n",
      "Fitting 5 folds for each of 81 candidates, totalling 405 fits\n"
     ]
    },
    {
     "name": "stderr",
     "output_type": "stream",
     "text": [
      "[Parallel(n_jobs=-1)]: Using backend LokyBackend with 4 concurrent workers.\n",
      "[Parallel(n_jobs=-1)]: Done  24 tasks      | elapsed:    6.1s\n",
      "[Parallel(n_jobs=-1)]: Done 120 tasks      | elapsed:   33.2s\n",
      "[Parallel(n_jobs=-1)]: Done 280 tasks      | elapsed:  1.3min\n",
      "[Parallel(n_jobs=-1)]: Done 405 out of 405 | elapsed:  1.9min finished\n"
     ]
    },
    {
     "name": "stdout",
     "output_type": "stream",
     "text": [
      "Cross-validated params:\n",
      "{'max_depth': 90, 'max_leaf_nodes': 90})\n"
     ]
    },
    {
     "data": {
      "image/png": "[encoded data removed]",
      "text/plain": [
       "<Figure size 432x288 with 1 Axes>"
      ]
     },
     "metadata": {
      "needs_background": "light"
     },
     "output_type": "display_data"
    },
    {
     "name": "stdout",
     "output_type": "stream",
     "text": [
      "Optimized model:\n",
      "{'max_error': 750.5600571168874, 'Mean AE': 40.062310079311466, 'Median AE': 8.81089149200147}\n"
     ]
    }
   ],
   "source": [
    "rfs = RandomForestRegressor(n_jobs = -1).fit(Xs_train, y_train)\n",
    "print(f\"Initial model:\\n{evalModel(rfs, Xs_test, y_test)}\")\n",
    "params = {\"max_depth\":np.arange(10,100,10), \"max_leaf_nodes\":np.arange(10, 100, 10)}\n",
    "rfs_cv = gridsearch(RandomForestRegressor(), params, Xs_train, y_train)\n",
    "print(f\"Cross-validated params:\\n{rfs_cv['params']})\")\n",
    "print(f\"Optimized model:\\n{evalModel(rfs_cv['model'],Xs_test, y_test)}\")"
   ]
  },
  {
   "cell_type": "markdown",
   "metadata": {},
   "source": [
    "## Extreme Gradient Boosted Regression"
   ]
  },
  {
   "cell_type": "code",
   "execution_count": null,
   "metadata": {},
   "outputs": [],
   "source": []
  },
  {
   "cell_type": "code",
   "execution_count": 31,
   "metadata": {},
   "outputs": [],
   "source": [
    "from xgboost import XGBRegressor"
   ]
  },
  {
   "cell_type": "markdown",
   "metadata": {},
   "source": [
    "#### Tree-based booster"
   ]
  },
  {
   "cell_type": "code",
   "execution_count": 32,
   "metadata": {
    "scrolled": false
   },
   "outputs": [
    {
     "data": {
      "image/png": "[encoded data removed]",
      "text/plain": [
       "<Figure size 432x288 with 1 Axes>"
      ]
     },
     "metadata": {
      "needs_background": "light"
     },
     "output_type": "display_data"
    },
    {
     "name": "stdout",
     "output_type": "stream",
     "text": [
      "Initial model:\n",
      "{'max_error': 754.977095961571, 'Mean AE': 42.80357531957767, 'Median AE': 12.024807691574095}\n",
      "Fitting 5 folds for each of 100 candidates, totalling 500 fits\n"
     ]
    },
    {
     "name": "stderr",
     "output_type": "stream",
     "text": [
      "[Parallel(n_jobs=-1)]: Using backend LokyBackend with 4 concurrent workers.\n",
      "[Parallel(n_jobs=-1)]: Done  24 tasks      | elapsed:    6.4s\n",
      "[Parallel(n_jobs=-1)]: Done 120 tasks      | elapsed:   26.9s\n",
      "[Parallel(n_jobs=-1)]: Done 280 tasks      | elapsed:  1.0min\n",
      "[Parallel(n_jobs=-1)]: Done 500 out of 500 | elapsed:  1.8min finished\n"
     ]
    },
    {
     "name": "stdout",
     "output_type": "stream",
     "text": [
      "Cross-validated params:\n",
      "{'lamda': 2, 'gamma': 1, 'eta': 0.1, 'booster': 'gbtree', 'alpha': 3})\n"
     ]
    },
    {
     "data": {
      "image/png": "[encoded data removed]",
      "text/plain": [
       "<Figure size 432x288 with 1 Axes>"
      ]
     },
     "metadata": {
      "needs_background": "light"
     },
     "output_type": "display_data"
    },
    {
     "name": "stdout",
     "output_type": "stream",
     "text": [
      "Optimized model:\n",
      "{'max_error': 753.1343021392825, 'Mean AE': 40.5422813994043, 'Median AE': 9.563782691955566}\n"
     ]
    }
   ],
   "source": [
    "xgbr = XGBRegressor().fit(X_train, y_train)\n",
    "print(f\"Initial model:\\n{evalModel(xgbr, X_test, y_test)}\")\n",
    "params = {\"booster\":[\"gbtree\"], \"eta\":[.1], \"gamma\":[1], \"lamda\":np.arange(1, 11, 1), \"alpha\":np.arange(0, 11, 1)}\n",
    "xgbr_cv = gridsearch(XGBRegressor(), params, X_train, y_train, random = True)\n",
    "print(f\"Cross-validated params:\\n{xgbr_cv['params']})\")\n",
    "print(f\"Optimized model:\\n{evalModel(xgbr_cv['model'],X_test, y_test)}\")"
   ]
  },
  {
   "cell_type": "markdown",
   "metadata": {},
   "source": [
    "#### DART based booster"
   ]
  },
  {
   "cell_type": "code",
   "execution_count": 33,
   "metadata": {},
   "outputs": [
    {
     "data": {
      "image/png": "[encoded data removed]",
      "text/plain": [
       "<Figure size 432x288 with 1 Axes>"
      ]
     },
     "metadata": {
      "needs_background": "light"
     },
     "output_type": "display_data"
    },
    {
     "name": "stdout",
     "output_type": "stream",
     "text": [
      "Initial model:\n",
      "{'max_error': 754.9770960807803, 'Mean AE': 42.80357421583989, 'Median AE': 12.02481150627136}\n",
      "Fitting 5 folds for each of 7 candidates, totalling 35 fits\n"
     ]
    },
    {
     "name": "stderr",
     "output_type": "stream",
     "text": [
      "C:\\Users\\chris\\anaconda3\\lib\\site-packages\\sklearn\\model_selection\\_search.py:281: UserWarning: The total space of parameters 7 is smaller than n_iter=100. Running 7 iterations. For exhaustive searches, use GridSearchCV.\n",
      "  % (grid_size, self.n_iter, grid_size), UserWarning)\n",
      "[Parallel(n_jobs=-1)]: Using backend LokyBackend with 4 concurrent workers.\n",
      "[Parallel(n_jobs=-1)]: Done  24 tasks      | elapsed:   10.5s\n",
      "[Parallel(n_jobs=-1)]: Done  35 out of  35 | elapsed:   14.4s finished\n"
     ]
    },
    {
     "name": "stdout",
     "output_type": "stream",
     "text": [
      "Cross-validated params:\n",
      "{'rate_drop': 0.1, 'booster': 'dart'})\n"
     ]
    },
    {
     "data": {
      "image/png": "[encoded data removed]",
      "text/plain": [
       "<Figure size 432x288 with 1 Axes>"
      ]
     },
     "metadata": {
      "needs_background": "light"
     },
     "output_type": "display_data"
    },
    {
     "name": "stdout",
     "output_type": "stream",
     "text": [
      "Optimized model:\n",
      "{'max_error': 754.3734657764437, 'Mean AE': 40.46885362477864, 'Median AE': 9.866714954376219}\n"
     ]
    }
   ],
   "source": [
    "xgbr = XGBRegressor(booster = \"dart\").fit(X_train, y_train)\n",
    "print(f\"Initial model:\\n{evalModel(xgbr, X_test, y_test)}\")\n",
    "params = {\"booster\":[\"dart\"], \"rate_drop\":np.arange(0,.7,.1)}\n",
    "xgbrd_cv = gridsearch(XGBRegressor(), params, X_train, y_train, random = True)\n",
    "print(f\"Cross-validated params:\\n{xgbrd_cv['params']})\")\n",
    "print(f\"Optimized model:\\n{evalModel(xgbrd_cv['model'],X_test, y_test)}\")"
   ]
  },
  {
   "cell_type": "markdown",
   "metadata": {},
   "source": [
    "#### Linear based booster"
   ]
  },
  {
   "cell_type": "code",
   "execution_count": 34,
   "metadata": {},
   "outputs": [
    {
     "data": {
      "image/png": "[encoded data removed]",
      "text/plain": [
       "<Figure size 432x288 with 1 Axes>"
      ]
     },
     "metadata": {
      "needs_background": "light"
     },
     "output_type": "display_data"
    },
    {
     "name": "stdout",
     "output_type": "stream",
     "text": [
      "Initial model:\n",
      "{'max_error': 746.7144527435305, 'Mean AE': 39.98859015072093, 'Median AE': 8.169017791748045}\n",
      "Fitting 5 folds for each of 100 candidates, totalling 500 fits\n"
     ]
    },
    {
     "name": "stderr",
     "output_type": "stream",
     "text": [
      "[Parallel(n_jobs=-1)]: Using backend LokyBackend with 4 concurrent workers.\n",
      "[Parallel(n_jobs=-1)]: Done  24 tasks      | elapsed:    1.7s\n",
      "[Parallel(n_jobs=-1)]: Done 120 tasks      | elapsed:    7.2s\n",
      "[Parallel(n_jobs=-1)]: Done 280 tasks      | elapsed:   15.8s\n",
      "[Parallel(n_jobs=-1)]: Done 500 out of 500 | elapsed:   28.1s finished\n"
     ]
    },
    {
     "name": "stdout",
     "output_type": "stream",
     "text": [
      "Cross-validated params:\n",
      "{'lambda': 0, 'booster': 'gblinear', 'alpha': 2})\n"
     ]
    },
    {
     "data": {
      "image/png": "[encoded data removed]",
      "text/plain": [
       "<Figure size 432x288 with 1 Axes>"
      ]
     },
     "metadata": {
      "needs_background": "light"
     },
     "output_type": "display_data"
    },
    {
     "name": "stdout",
     "output_type": "stream",
     "text": [
      "Optimized model:\n",
      "{'max_error': 746.7830295562746, 'Mean AE': 40.00346711102654, 'Median AE': 8.216970443725586}\n"
     ]
    }
   ],
   "source": [
    "xgbr = XGBRegressor(booster = \"gblinear\").fit(X_train, y_train)\n",
    "print(f\"Initial model:\\n{evalModel(xgbr, X_test, y_test)}\")\n",
    "params = {\"booster\":[\"gblinear\"], \"lambda\":np.arange(0,10,1), \"alpha\":np.arange(0,10,1)}\n",
    "xgbrl_cv = gridsearch(XGBRegressor(), params, X_train, y_train, random = True)\n",
    "print(f\"Cross-validated params:\\n{xgbrl_cv['params']})\")\n",
    "print(f\"Optimized model:\\n{evalModel(xgbrl_cv['model'],X_test, y_test)}\")"
   ]
  },
  {
   "cell_type": "code",
   "execution_count": 55,
   "metadata": {},
   "outputs": [
    {
     "data": {
      "image/png": "[encoded data removed]",
      "text/plain": [
       "<Figure size 432x288 with 1 Axes>"
      ]
     },
     "metadata": {
      "needs_background": "light"
     },
     "output_type": "display_data"
    },
    {
     "name": "stdout",
     "output_type": "stream",
     "text": [
      "Initial model:\n",
      "{'max_error': 746.7543869018557, 'Mean AE': 40.00662014624652, 'Median AE': 8.306041717529297}\n",
      "Fitting 5 folds for each of 100 candidates, totalling 500 fits\n"
     ]
    },
    {
     "name": "stderr",
     "output_type": "stream",
     "text": [
      "[Parallel(n_jobs=-1)]: Using backend LokyBackend with 4 concurrent workers.\n",
      "[Parallel(n_jobs=-1)]: Done  24 tasks      | elapsed:    2.7s\n",
      "[Parallel(n_jobs=-1)]: Done 120 tasks      | elapsed:    8.3s\n",
      "[Parallel(n_jobs=-1)]: Done 280 tasks      | elapsed:   17.0s\n",
      "[Parallel(n_jobs=-1)]: Done 500 out of 500 | elapsed:   28.8s finished\n"
     ]
    },
    {
     "name": "stdout",
     "output_type": "stream",
     "text": [
      "Cross-validated params:\n",
      "{'lambda': 1, 'booster': 'gblinear', 'alpha': 0})\n"
     ]
    },
    {
     "data": {
      "image/png": "[encoded data removed]",
      "text/plain": [
       "<Figure size 432x288 with 1 Axes>"
      ]
     },
     "metadata": {
      "needs_background": "light"
     },
     "output_type": "display_data"
    },
    {
     "name": "stdout",
     "output_type": "stream",
     "text": [
      "Optimized model:\n",
      "{'max_error': 746.6154699325564, 'Mean AE': 39.99829309968387, 'Median AE': 8.116756916046143}\n"
     ]
    }
   ],
   "source": [
    "xgbrls = XGBRegressor(booster = \"gblinear\").fit(Xs_train, y_train)\n",
    "print(f\"Initial model:\\n{evalModel(xgbrls, Xs_test, y_test)}\")\n",
    "params = {\"booster\":[\"gblinear\"], \"lambda\":np.arange(0,10,1), \"alpha\":np.arange(0,10,1)}\n",
    "xgbrls_cv = gridsearch(XGBRegressor(), params, Xs_train, y_train, random = True)\n",
    "print(f\"Cross-validated params:\\n{xgbrls_cv['params']})\")\n",
    "print(f\"Optimized model:\\n{evalModel(xgbrls_cv['model'],Xs_test, y_test)}\")"
   ]
  },
  {
   "cell_type": "markdown",
   "metadata": {},
   "source": [
    "## Adaptive Boosting Regression"
   ]
  },
  {
   "cell_type": "code",
   "execution_count": 35,
   "metadata": {},
   "outputs": [],
   "source": [
    "from sklearn.ensemble import AdaBoostRegressor"
   ]
  },
  {
   "cell_type": "code",
   "execution_count": 36,
   "metadata": {},
   "outputs": [
    {
     "data": {
      "image/png": "[encoded data removed]",
      "text/plain": [
       "<Figure size 432x288 with 1 Axes>"
      ]
     },
     "metadata": {
      "needs_background": "light"
     },
     "output_type": "display_data"
    },
    {
     "name": "stdout",
     "output_type": "stream",
     "text": [
      "Initial model:\n",
      "{'max_error': 745.1093582736621, 'Mean AE': 40.21084775282023, 'Median AE': 9.890641726338119}\n",
      "Fitting 5 folds for each of 30 candidates, totalling 150 fits\n"
     ]
    },
    {
     "name": "stderr",
     "output_type": "stream",
     "text": [
      "C:\\Users\\chris\\anaconda3\\lib\\site-packages\\sklearn\\model_selection\\_search.py:281: UserWarning: The total space of parameters 30 is smaller than n_iter=100. Running 30 iterations. For exhaustive searches, use GridSearchCV.\n",
      "  % (grid_size, self.n_iter, grid_size), UserWarning)\n",
      "[Parallel(n_jobs=-1)]: Using backend LokyBackend with 4 concurrent workers.\n",
      "[Parallel(n_jobs=-1)]: Done  56 tasks      | elapsed:    0.8s\n"
     ]
    },
    {
     "name": "stdout",
     "output_type": "stream",
     "text": [
      "Cross-validated params:\n",
      "{'n_estimators': 1, 'loss': 'square'})\n"
     ]
    },
    {
     "name": "stderr",
     "output_type": "stream",
     "text": [
      "[Parallel(n_jobs=-1)]: Done 150 out of 150 | elapsed:    3.6s finished\n"
     ]
    },
    {
     "data": {
      "image/png": "[encoded data removed]",
      "text/plain": [
       "<Figure size 432x288 with 1 Axes>"
      ]
     },
     "metadata": {
      "needs_background": "light"
     },
     "output_type": "display_data"
    },
    {
     "name": "stdout",
     "output_type": "stream",
     "text": [
      "Optimized model:\n",
      "{'max_error': 746.9377773212836, 'Mean AE': 39.98526149161371, 'Median AE': 8.06222267871654}\n"
     ]
    }
   ],
   "source": [
    "abr = AdaBoostRegressor(base_estimator = Lasso(alpha = 10)).fit(X_train, y_train)\n",
    "print(f\"Initial model:\\n{evalModel(abr, X_test, y_test)}\")\n",
    "params = {\"n_estimators\":np.arange(1,100,10), \"loss\":[\"linear\", \"square\", \"exponential\"]}\n",
    "abr_cv = gridsearch(AdaBoostRegressor(base_estimator = Lasso(alpha = 10)), params, X_train, y_train)\n",
    "print(f\"Cross-validated params:\\n{abr_cv['params']})\")\n",
    "print(f\"Optimized model:\\n{evalModel(abr_cv['model'],X_test, y_test)}\")"
   ]
  },
  {
   "cell_type": "code",
   "execution_count": 56,
   "metadata": {},
   "outputs": [
    {
     "data": {
      "image/png": "[encoded data removed]",
      "text/plain": [
       "<Figure size 432x288 with 1 Axes>"
      ]
     },
     "metadata": {
      "needs_background": "light"
     },
     "output_type": "display_data"
    },
    {
     "name": "stdout",
     "output_type": "stream",
     "text": [
      "Initial model:\n",
      "{'max_error': 746.3897407708116, 'Mean AE': 40.04973637990455, 'Median AE': 8.610259229188651}\n",
      "Fitting 5 folds for each of 30 candidates, totalling 150 fits\n"
     ]
    },
    {
     "name": "stderr",
     "output_type": "stream",
     "text": [
      "C:\\Users\\chris\\anaconda3\\lib\\site-packages\\sklearn\\model_selection\\_search.py:281: UserWarning: The total space of parameters 30 is smaller than n_iter=100. Running 30 iterations. For exhaustive searches, use GridSearchCV.\n",
      "  % (grid_size, self.n_iter, grid_size), UserWarning)\n",
      "[Parallel(n_jobs=-1)]: Using backend LokyBackend with 4 concurrent workers.\n",
      "[Parallel(n_jobs=-1)]: Done  56 tasks      | elapsed:    0.7s\n"
     ]
    },
    {
     "name": "stdout",
     "output_type": "stream",
     "text": [
      "Cross-validated params:\n",
      "{'n_estimators': 1, 'loss': 'linear'})\n"
     ]
    },
    {
     "name": "stderr",
     "output_type": "stream",
     "text": [
      "[Parallel(n_jobs=-1)]: Done 150 out of 150 | elapsed:    3.3s finished\n"
     ]
    },
    {
     "data": {
      "image/png": "[encoded data removed]",
      "text/plain": [
       "<Figure size 432x288 with 1 Axes>"
      ]
     },
     "metadata": {
      "needs_background": "light"
     },
     "output_type": "display_data"
    },
    {
     "name": "stdout",
     "output_type": "stream",
     "text": [
      "Optimized model:\n",
      "{'max_error': 747.1259178817279, 'Mean AE': 39.967571468563605, 'Median AE': 7.874082118272318}\n"
     ]
    }
   ],
   "source": [
    "abrs = AdaBoostRegressor(base_estimator = Lasso(alpha = 10)).fit(Xs_train, y_train)\n",
    "print(f\"Initial model:\\n{evalModel(abrs, Xs_test, y_test)}\")\n",
    "params = {\"n_estimators\":np.arange(1,100,10), \"loss\":[\"linear\", \"square\", \"exponential\"]}\n",
    "abrs_cv = gridsearch(AdaBoostRegressor(base_estimator = Lasso(alpha = 10)), params, Xs_train, y_train, random = True)\n",
    "print(f\"Cross-validated params:\\n{abrs_cv['params']})\")\n",
    "print(f\"Optimized model:\\n{evalModel(abrs_cv['model'],Xs_test, y_test)}\")"
   ]
  },
  {
   "cell_type": "code",
   "execution_count": 58,
   "metadata": {},
   "outputs": [],
   "source": [
    "import pickle\n",
    "with open('adaboost_model.sav', 'wb') as f:\n",
    "    pickle.dump(abr_cv['model'], f)\n",
    "with open('adaboost_model.sav', 'rb') as f:\n",
    "    model = pickle.load(f)"
   ]
  }
 ],
 "metadata": {
  "kernelspec": {
   "display_name": "Python 3",
   "language": "python",
   "name": "python3"
  },
  "language_info": {
   "codemirror_mode": {
    "name": "ipython",
    "version": 3
   },
   "file_extension": ".py",
   "mimetype": "text/x-python",
   "name": "python",
   "nbconvert_exporter": "python",
   "pygments_lexer": "ipython3",
   "version": "3.7.6"
  }
 },
 "nbformat": 4,
 "nbformat_minor": 2
}
