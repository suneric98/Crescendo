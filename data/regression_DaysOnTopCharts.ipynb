{
 "cells": [
  {
   "cell_type": "markdown",
   "metadata": {},
   "source": [
    "# Setup"
   ]
  },
  {
   "cell_type": "code",
   "execution_count": 69,
   "metadata": {},
   "outputs": [],
   "source": [
    "import pandas as pd  \n",
    "import numpy as np  \n",
    "import matplotlib.pyplot as plt\n",
    "from pprint import PrettyPrinter\n",
    "pp = PrettyPrinter(indent = 3)"
   ]
  },
  {
   "cell_type": "code",
   "execution_count": 2,
   "metadata": {
    "scrolled": false
   },
   "outputs": [
    {
     "data": {
      "text/html": [
       "<div>\n",
       "<style scoped>\n",
       "    .dataframe tbody tr th:only-of-type {\n",
       "        vertical-align: middle;\n",
       "    }\n",
       "\n",
       "    .dataframe tbody tr th {\n",
       "        vertical-align: top;\n",
       "    }\n",
       "\n",
       "    .dataframe thead th {\n",
       "        text-align: right;\n",
       "    }\n",
       "</style>\n",
       "<table border=\"1\" class=\"dataframe\">\n",
       "  <thead>\n",
       "    <tr style=\"text-align: right;\">\n",
       "      <th></th>\n",
       "      <th>Artist</th>\n",
       "      <th>Title</th>\n",
       "      <th>Id</th>\n",
       "      <th>Time Signature</th>\n",
       "      <th>Tempo</th>\n",
       "      <th>Key</th>\n",
       "      <th>Mode</th>\n",
       "      <th>Valence</th>\n",
       "      <th>Danceability</th>\n",
       "      <th>Energy</th>\n",
       "      <th>Acousticness</th>\n",
       "      <th>Instrumentalness</th>\n",
       "      <th>Days</th>\n",
       "      <th>Artist Id</th>\n",
       "      <th>Artist Followers</th>\n",
       "      <th>Artist Popularity</th>\n",
       "      <th>Artist Genres</th>\n",
       "    </tr>\n",
       "  </thead>\n",
       "  <tbody>\n",
       "    <tr>\n",
       "      <th>0</th>\n",
       "      <td>Post Malone</td>\n",
       "      <td>rockstar</td>\n",
       "      <td>0e7ipj03S05BNilyu5bRzt</td>\n",
       "      <td>4</td>\n",
       "      <td>159.801</td>\n",
       "      <td>5</td>\n",
       "      <td>0</td>\n",
       "      <td>0.129</td>\n",
       "      <td>0.585</td>\n",
       "      <td>0.520</td>\n",
       "      <td>0.1240</td>\n",
       "      <td>0.000070</td>\n",
       "      <td>116</td>\n",
       "      <td>246dkjvS1zLTtiykXe5h60</td>\n",
       "      <td>22726049.0</td>\n",
       "      <td>98.0</td>\n",
       "      <td>rap</td>\n",
       "    </tr>\n",
       "    <tr>\n",
       "      <th>1</th>\n",
       "      <td>Post Malone</td>\n",
       "      <td>I Fall Apart</td>\n",
       "      <td>75ZvA4QfFiZvzhj2xkaWAh</td>\n",
       "      <td>4</td>\n",
       "      <td>143.950</td>\n",
       "      <td>8</td>\n",
       "      <td>0</td>\n",
       "      <td>0.291</td>\n",
       "      <td>0.556</td>\n",
       "      <td>0.538</td>\n",
       "      <td>0.0689</td>\n",
       "      <td>0.000000</td>\n",
       "      <td>756</td>\n",
       "      <td>246dkjvS1zLTtiykXe5h60</td>\n",
       "      <td>22726049.0</td>\n",
       "      <td>98.0</td>\n",
       "      <td>rap</td>\n",
       "    </tr>\n",
       "    <tr>\n",
       "      <th>2</th>\n",
       "      <td>Post Malone</td>\n",
       "      <td>Candy Paint</td>\n",
       "      <td>32lItqlMi4LBhb4k0BaSaC</td>\n",
       "      <td>4</td>\n",
       "      <td>180.064</td>\n",
       "      <td>4</td>\n",
       "      <td>1</td>\n",
       "      <td>0.381</td>\n",
       "      <td>0.664</td>\n",
       "      <td>0.667</td>\n",
       "      <td>0.6400</td>\n",
       "      <td>0.000001</td>\n",
       "      <td>496</td>\n",
       "      <td>246dkjvS1zLTtiykXe5h60</td>\n",
       "      <td>22726049.0</td>\n",
       "      <td>98.0</td>\n",
       "      <td>rap</td>\n",
       "    </tr>\n",
       "    <tr>\n",
       "      <th>3</th>\n",
       "      <td>Post Malone</td>\n",
       "      <td>Congratulations</td>\n",
       "      <td>3a1lNhkSLSkpJE4MSHpDu9</td>\n",
       "      <td>4</td>\n",
       "      <td>123.146</td>\n",
       "      <td>6</td>\n",
       "      <td>1</td>\n",
       "      <td>0.492</td>\n",
       "      <td>0.630</td>\n",
       "      <td>0.804</td>\n",
       "      <td>0.2150</td>\n",
       "      <td>0.000000</td>\n",
       "      <td>702</td>\n",
       "      <td>246dkjvS1zLTtiykXe5h60</td>\n",
       "      <td>22726049.0</td>\n",
       "      <td>98.0</td>\n",
       "      <td>rap</td>\n",
       "    </tr>\n",
       "    <tr>\n",
       "      <th>4</th>\n",
       "      <td>Post Malone</td>\n",
       "      <td>Go Flex</td>\n",
       "      <td>5yuShbu70mtHXY0yLzCQLQ</td>\n",
       "      <td>4</td>\n",
       "      <td>81.967</td>\n",
       "      <td>5</td>\n",
       "      <td>1</td>\n",
       "      <td>0.127</td>\n",
       "      <td>0.665</td>\n",
       "      <td>0.498</td>\n",
       "      <td>0.2280</td>\n",
       "      <td>0.000000</td>\n",
       "      <td>178</td>\n",
       "      <td>246dkjvS1zLTtiykXe5h60</td>\n",
       "      <td>22726049.0</td>\n",
       "      <td>98.0</td>\n",
       "      <td>rap</td>\n",
       "    </tr>\n",
       "  </tbody>\n",
       "</table>\n",
       "</div>"
      ],
      "text/plain": [
       "        Artist            Title                      Id  Time Signature  \\\n",
       "0  Post Malone         rockstar  0e7ipj03S05BNilyu5bRzt               4   \n",
       "1  Post Malone     I Fall Apart  75ZvA4QfFiZvzhj2xkaWAh               4   \n",
       "2  Post Malone      Candy Paint  32lItqlMi4LBhb4k0BaSaC               4   \n",
       "3  Post Malone  Congratulations  3a1lNhkSLSkpJE4MSHpDu9               4   \n",
       "4  Post Malone          Go Flex  5yuShbu70mtHXY0yLzCQLQ               4   \n",
       "\n",
       "     Tempo  Key  Mode  Valence  Danceability  Energy  Acousticness  \\\n",
       "0  159.801    5     0    0.129         0.585   0.520        0.1240   \n",
       "1  143.950    8     0    0.291         0.556   0.538        0.0689   \n",
       "2  180.064    4     1    0.381         0.664   0.667        0.6400   \n",
       "3  123.146    6     1    0.492         0.630   0.804        0.2150   \n",
       "4   81.967    5     1    0.127         0.665   0.498        0.2280   \n",
       "\n",
       "   Instrumentalness  Days               Artist Id  Artist Followers  \\\n",
       "0          0.000070   116  246dkjvS1zLTtiykXe5h60        22726049.0   \n",
       "1          0.000000   756  246dkjvS1zLTtiykXe5h60        22726049.0   \n",
       "2          0.000001   496  246dkjvS1zLTtiykXe5h60        22726049.0   \n",
       "3          0.000000   702  246dkjvS1zLTtiykXe5h60        22726049.0   \n",
       "4          0.000000   178  246dkjvS1zLTtiykXe5h60        22726049.0   \n",
       "\n",
       "   Artist Popularity Artist Genres  \n",
       "0               98.0           rap  \n",
       "1               98.0           rap  \n",
       "2               98.0           rap  \n",
       "3               98.0           rap  \n",
       "4               98.0           rap  "
      ]
     },
     "execution_count": 2,
     "metadata": {},
     "output_type": "execute_result"
    }
   ],
   "source": [
    "data = pd.read_csv('TopCharts_merged.csv', index_col = 0)\n",
    "#dataset\n",
    "data.head()"
   ]
  },
  {
   "cell_type": "code",
   "execution_count": 5,
   "metadata": {},
   "outputs": [],
   "source": [
    "df = data.copy()"
   ]
  },
  {
   "cell_type": "code",
   "execution_count": 6,
   "metadata": {},
   "outputs": [],
   "source": [
    "y = df[\"Days\"]\n",
    "df.drop(columns = \"Days\", inplace = True)"
   ]
  },
  {
   "cell_type": "code",
   "execution_count": 7,
   "metadata": {},
   "outputs": [],
   "source": [
    "d = [\"Artist\", \"Title\", \"Id\", \"Artist Id\", \"Artist Genres\"]\n",
    "df.drop(columns = d, inplace = True)"
   ]
  },
  {
   "cell_type": "code",
   "execution_count": 8,
   "metadata": {
    "scrolled": false
   },
   "outputs": [
    {
     "data": {
      "image/png": "[encoded data removed]",
      "text/plain": [
       "<Figure size 432x288 with 1 Axes>"
      ]
     },
     "metadata": {
      "needs_background": "light"
     },
     "output_type": "display_data"
    },
    {
     "data": {
      "image/png": "[encoded data removed]",
      "text/plain": [
       "<Figure size 432x288 with 1 Axes>"
      ]
     },
     "metadata": {
      "needs_background": "light"
     },
     "output_type": "display_data"
    },
    {
     "data": {
      "image/png": "[encoded data removed]",
      "text/plain": [
       "<Figure size 432x288 with 1 Axes>"
      ]
     },
     "metadata": {
      "needs_background": "light"
     },
     "output_type": "display_data"
    },
    {
     "data": {
      "image/png": "[encoded data removed]",
      "text/plain": [
       "<Figure size 432x288 with 1 Axes>"
      ]
     },
     "metadata": {
      "needs_background": "light"
     },
     "output_type": "display_data"
    },
    {
     "data": {
      "image/png": "[encoded data removed]",
      "text/plain": [
       "<Figure size 432x288 with 1 Axes>"
      ]
     },
     "metadata": {
      "needs_background": "light"
     },
     "output_type": "display_data"
    },
    {
     "data": {
      "image/png": "[encoded data removed]",
      "text/plain": [
       "<Figure size 432x288 with 1 Axes>"
      ]
     },
     "metadata": {
      "needs_background": "light"
     },
     "output_type": "display_data"
    },
    {
     "data": {
      "image/png": "[encoded data removed]",
      "text/plain": [
       "<Figure size 432x288 with 1 Axes>"
      ]
     },
     "metadata": {
      "needs_background": "light"
     },
     "output_type": "display_data"
    },
    {
     "data": {
      "image/png": "[encoded data removed]",
      "text/plain": [
       "<Figure size 432x288 with 1 Axes>"
      ]
     },
     "metadata": {
      "needs_background": "light"
     },
     "output_type": "display_data"
    },
    {
     "data": {
      "image/png": "[encoded data removed]",
      "text/plain": [
       "<Figure size 432x288 with 1 Axes>"
      ]
     },
     "metadata": {
      "needs_background": "light"
     },
     "output_type": "display_data"
    },
    {
     "data": {
      "image/png": "[encoded data removed]",
      "text/plain": [
       "<Figure size 432x288 with 1 Axes>"
      ]
     },
     "metadata": {
      "needs_background": "light"
     },
     "output_type": "display_data"
    },
    {
     "data": {
      "image/png": "[encoded data removed]",
      "text/plain": [
       "<Figure size 432x288 with 1 Axes>"
      ]
     },
     "metadata": {
      "needs_background": "light"
     },
     "output_type": "display_data"
    }
   ],
   "source": [
    "for col in df.columns:\n",
    "    plt.hist(df[col])\n",
    "    plt.xlabel(col)\n",
    "    plt.show()"
   ]
  },
  {
   "cell_type": "code",
   "execution_count": 71,
   "metadata": {},
   "outputs": [
    {
     "data": {
      "image/png": "[encoded data removed]",
      "text/plain": [
       "<Figure size 432x288 with 1 Axes>"
      ]
     },
     "metadata": {
      "needs_background": "light"
     },
     "output_type": "display_data"
    }
   ],
   "source": [
    "plt.hist(np.log(df[\"Artist Followers\"]))\n",
    "plt.show()"
   ]
  },
  {
   "cell_type": "code",
   "execution_count": 10,
   "metadata": {},
   "outputs": [],
   "source": [
    "#can probably drop time sig and inst\n",
    "df.drop(columns = [\"Time Signature\", \"Instrumentalness\"], inplace = True)"
   ]
  },
  {
   "cell_type": "markdown",
   "metadata": {},
   "source": [
    "## Convert factor variables"
   ]
  },
  {
   "cell_type": "code",
   "execution_count": 11,
   "metadata": {},
   "outputs": [],
   "source": [
    "categorical = [\"Key\", \"Mode\"]"
   ]
  },
  {
   "cell_type": "code",
   "execution_count": 12,
   "metadata": {},
   "outputs": [],
   "source": [
    "df_dummy = df.copy()\n",
    "for c in categorical:\n",
    "    dummy = pd.get_dummies(df[c], prefix = c)\n",
    "    df_dummy = pd.concat([df_dummy, dummy], axis = 1)    \n",
    "df_dummy.drop(columns = categorical, inplace = True)"
   ]
  },
  {
   "cell_type": "code",
   "execution_count": 13,
   "metadata": {
    "scrolled": true
   },
   "outputs": [
    {
     "data": {
      "text/html": [
       "<div>\n",
       "<style scoped>\n",
       "    .dataframe tbody tr th:only-of-type {\n",
       "        vertical-align: middle;\n",
       "    }\n",
       "\n",
       "    .dataframe tbody tr th {\n",
       "        vertical-align: top;\n",
       "    }\n",
       "\n",
       "    .dataframe thead th {\n",
       "        text-align: right;\n",
       "    }\n",
       "</style>\n",
       "<table border=\"1\" class=\"dataframe\">\n",
       "  <thead>\n",
       "    <tr style=\"text-align: right;\">\n",
       "      <th></th>\n",
       "      <th>Tempo</th>\n",
       "      <th>Valence</th>\n",
       "      <th>Danceability</th>\n",
       "      <th>Energy</th>\n",
       "      <th>Acousticness</th>\n",
       "      <th>Artist Followers</th>\n",
       "      <th>Artist Popularity</th>\n",
       "      <th>Key_0</th>\n",
       "      <th>Key_1</th>\n",
       "      <th>Key_2</th>\n",
       "      <th>...</th>\n",
       "      <th>Key_4</th>\n",
       "      <th>Key_5</th>\n",
       "      <th>Key_6</th>\n",
       "      <th>Key_7</th>\n",
       "      <th>Key_8</th>\n",
       "      <th>Key_9</th>\n",
       "      <th>Key_10</th>\n",
       "      <th>Key_11</th>\n",
       "      <th>Mode_0</th>\n",
       "      <th>Mode_1</th>\n",
       "    </tr>\n",
       "  </thead>\n",
       "  <tbody>\n",
       "    <tr>\n",
       "      <th>0</th>\n",
       "      <td>159.801</td>\n",
       "      <td>0.129</td>\n",
       "      <td>0.585</td>\n",
       "      <td>0.520</td>\n",
       "      <td>0.1240</td>\n",
       "      <td>22726049.0</td>\n",
       "      <td>98.0</td>\n",
       "      <td>0</td>\n",
       "      <td>0</td>\n",
       "      <td>0</td>\n",
       "      <td>...</td>\n",
       "      <td>0</td>\n",
       "      <td>1</td>\n",
       "      <td>0</td>\n",
       "      <td>0</td>\n",
       "      <td>0</td>\n",
       "      <td>0</td>\n",
       "      <td>0</td>\n",
       "      <td>0</td>\n",
       "      <td>1</td>\n",
       "      <td>0</td>\n",
       "    </tr>\n",
       "    <tr>\n",
       "      <th>1</th>\n",
       "      <td>143.950</td>\n",
       "      <td>0.291</td>\n",
       "      <td>0.556</td>\n",
       "      <td>0.538</td>\n",
       "      <td>0.0689</td>\n",
       "      <td>22726049.0</td>\n",
       "      <td>98.0</td>\n",
       "      <td>0</td>\n",
       "      <td>0</td>\n",
       "      <td>0</td>\n",
       "      <td>...</td>\n",
       "      <td>0</td>\n",
       "      <td>0</td>\n",
       "      <td>0</td>\n",
       "      <td>0</td>\n",
       "      <td>1</td>\n",
       "      <td>0</td>\n",
       "      <td>0</td>\n",
       "      <td>0</td>\n",
       "      <td>1</td>\n",
       "      <td>0</td>\n",
       "    </tr>\n",
       "    <tr>\n",
       "      <th>2</th>\n",
       "      <td>180.064</td>\n",
       "      <td>0.381</td>\n",
       "      <td>0.664</td>\n",
       "      <td>0.667</td>\n",
       "      <td>0.6400</td>\n",
       "      <td>22726049.0</td>\n",
       "      <td>98.0</td>\n",
       "      <td>0</td>\n",
       "      <td>0</td>\n",
       "      <td>0</td>\n",
       "      <td>...</td>\n",
       "      <td>1</td>\n",
       "      <td>0</td>\n",
       "      <td>0</td>\n",
       "      <td>0</td>\n",
       "      <td>0</td>\n",
       "      <td>0</td>\n",
       "      <td>0</td>\n",
       "      <td>0</td>\n",
       "      <td>0</td>\n",
       "      <td>1</td>\n",
       "    </tr>\n",
       "    <tr>\n",
       "      <th>3</th>\n",
       "      <td>123.146</td>\n",
       "      <td>0.492</td>\n",
       "      <td>0.630</td>\n",
       "      <td>0.804</td>\n",
       "      <td>0.2150</td>\n",
       "      <td>22726049.0</td>\n",
       "      <td>98.0</td>\n",
       "      <td>0</td>\n",
       "      <td>0</td>\n",
       "      <td>0</td>\n",
       "      <td>...</td>\n",
       "      <td>0</td>\n",
       "      <td>0</td>\n",
       "      <td>1</td>\n",
       "      <td>0</td>\n",
       "      <td>0</td>\n",
       "      <td>0</td>\n",
       "      <td>0</td>\n",
       "      <td>0</td>\n",
       "      <td>0</td>\n",
       "      <td>1</td>\n",
       "    </tr>\n",
       "    <tr>\n",
       "      <th>4</th>\n",
       "      <td>81.967</td>\n",
       "      <td>0.127</td>\n",
       "      <td>0.665</td>\n",
       "      <td>0.498</td>\n",
       "      <td>0.2280</td>\n",
       "      <td>22726049.0</td>\n",
       "      <td>98.0</td>\n",
       "      <td>0</td>\n",
       "      <td>0</td>\n",
       "      <td>0</td>\n",
       "      <td>...</td>\n",
       "      <td>0</td>\n",
       "      <td>1</td>\n",
       "      <td>0</td>\n",
       "      <td>0</td>\n",
       "      <td>0</td>\n",
       "      <td>0</td>\n",
       "      <td>0</td>\n",
       "      <td>0</td>\n",
       "      <td>0</td>\n",
       "      <td>1</td>\n",
       "    </tr>\n",
       "  </tbody>\n",
       "</table>\n",
       "<p>5 rows × 21 columns</p>\n",
       "</div>"
      ],
      "text/plain": [
       "     Tempo  Valence  Danceability  Energy  Acousticness  Artist Followers  \\\n",
       "0  159.801    0.129         0.585   0.520        0.1240        22726049.0   \n",
       "1  143.950    0.291         0.556   0.538        0.0689        22726049.0   \n",
       "2  180.064    0.381         0.664   0.667        0.6400        22726049.0   \n",
       "3  123.146    0.492         0.630   0.804        0.2150        22726049.0   \n",
       "4   81.967    0.127         0.665   0.498        0.2280        22726049.0   \n",
       "\n",
       "   Artist Popularity  Key_0  Key_1  Key_2  ...  Key_4  Key_5  Key_6  Key_7  \\\n",
       "0               98.0      0      0      0  ...      0      1      0      0   \n",
       "1               98.0      0      0      0  ...      0      0      0      0   \n",
       "2               98.0      0      0      0  ...      1      0      0      0   \n",
       "3               98.0      0      0      0  ...      0      0      1      0   \n",
       "4               98.0      0      0      0  ...      0      1      0      0   \n",
       "\n",
       "   Key_8  Key_9  Key_10  Key_11  Mode_0  Mode_1  \n",
       "0      0      0       0       0       1       0  \n",
       "1      1      0       0       0       1       0  \n",
       "2      0      0       0       0       0       1  \n",
       "3      0      0       0       0       0       1  \n",
       "4      0      0       0       0       0       1  \n",
       "\n",
       "[5 rows x 21 columns]"
      ]
     },
     "execution_count": 13,
     "metadata": {},
     "output_type": "execute_result"
    }
   ],
   "source": [
    "df_dummy.head()"
   ]
  },
  {
   "cell_type": "markdown",
   "metadata": {},
   "source": [
    "## log-transform response variable"
   ]
  },
  {
   "cell_type": "code",
   "execution_count": 14,
   "metadata": {},
   "outputs": [
    {
     "data": {
      "image/png": "[encoded data removed]",
      "text/plain": [
       "<Figure size 432x288 with 1 Axes>"
      ]
     },
     "metadata": {
      "needs_background": "light"
     },
     "output_type": "display_data"
    },
    {
     "data": {
      "image/png": "[encoded data removed]",
      "text/plain": [
       "<Figure size 432x288 with 1 Axes>"
      ]
     },
     "metadata": {
      "needs_background": "light"
     },
     "output_type": "display_data"
    }
   ],
   "source": [
    "plt.hist(y)\n",
    "plt.xlabel(\"Days\")\n",
    "plt.show()\n",
    "\n",
    "plt.hist(np.log(y))\n",
    "plt.xlabel(\"Log Days\")\n",
    "plt.show()"
   ]
  },
  {
   "cell_type": "markdown",
   "metadata": {},
   "source": [
    "## Split train/test data"
   ]
  },
  {
   "cell_type": "code",
   "execution_count": 15,
   "metadata": {},
   "outputs": [],
   "source": [
    "from sklearn.model_selection import train_test_split "
   ]
  },
  {
   "cell_type": "code",
   "execution_count": 16,
   "metadata": {},
   "outputs": [],
   "source": [
    "y = np.log(y)"
   ]
  },
  {
   "cell_type": "code",
   "execution_count": 17,
   "metadata": {},
   "outputs": [],
   "source": [
    "X = df_dummy.copy()"
   ]
  },
  {
   "cell_type": "code",
   "execution_count": 18,
   "metadata": {},
   "outputs": [
    {
     "data": {
      "text/html": [
       "<div>\n",
       "<style scoped>\n",
       "    .dataframe tbody tr th:only-of-type {\n",
       "        vertical-align: middle;\n",
       "    }\n",
       "\n",
       "    .dataframe tbody tr th {\n",
       "        vertical-align: top;\n",
       "    }\n",
       "\n",
       "    .dataframe thead th {\n",
       "        text-align: right;\n",
       "    }\n",
       "</style>\n",
       "<table border=\"1\" class=\"dataframe\">\n",
       "  <thead>\n",
       "    <tr style=\"text-align: right;\">\n",
       "      <th></th>\n",
       "      <th>Tempo</th>\n",
       "      <th>Valence</th>\n",
       "      <th>Danceability</th>\n",
       "      <th>Energy</th>\n",
       "      <th>Acousticness</th>\n",
       "      <th>Artist Followers</th>\n",
       "      <th>Artist Popularity</th>\n",
       "      <th>Key_0</th>\n",
       "      <th>Key_1</th>\n",
       "      <th>Key_2</th>\n",
       "      <th>...</th>\n",
       "      <th>Key_4</th>\n",
       "      <th>Key_5</th>\n",
       "      <th>Key_6</th>\n",
       "      <th>Key_7</th>\n",
       "      <th>Key_8</th>\n",
       "      <th>Key_9</th>\n",
       "      <th>Key_10</th>\n",
       "      <th>Key_11</th>\n",
       "      <th>Mode_0</th>\n",
       "      <th>Mode_1</th>\n",
       "    </tr>\n",
       "  </thead>\n",
       "  <tbody>\n",
       "    <tr>\n",
       "      <th>0</th>\n",
       "      <td>159.801</td>\n",
       "      <td>0.129</td>\n",
       "      <td>0.585</td>\n",
       "      <td>0.520</td>\n",
       "      <td>0.1240</td>\n",
       "      <td>22726049.0</td>\n",
       "      <td>98.0</td>\n",
       "      <td>0</td>\n",
       "      <td>0</td>\n",
       "      <td>0</td>\n",
       "      <td>...</td>\n",
       "      <td>0</td>\n",
       "      <td>1</td>\n",
       "      <td>0</td>\n",
       "      <td>0</td>\n",
       "      <td>0</td>\n",
       "      <td>0</td>\n",
       "      <td>0</td>\n",
       "      <td>0</td>\n",
       "      <td>1</td>\n",
       "      <td>0</td>\n",
       "    </tr>\n",
       "    <tr>\n",
       "      <th>1</th>\n",
       "      <td>143.950</td>\n",
       "      <td>0.291</td>\n",
       "      <td>0.556</td>\n",
       "      <td>0.538</td>\n",
       "      <td>0.0689</td>\n",
       "      <td>22726049.0</td>\n",
       "      <td>98.0</td>\n",
       "      <td>0</td>\n",
       "      <td>0</td>\n",
       "      <td>0</td>\n",
       "      <td>...</td>\n",
       "      <td>0</td>\n",
       "      <td>0</td>\n",
       "      <td>0</td>\n",
       "      <td>0</td>\n",
       "      <td>1</td>\n",
       "      <td>0</td>\n",
       "      <td>0</td>\n",
       "      <td>0</td>\n",
       "      <td>1</td>\n",
       "      <td>0</td>\n",
       "    </tr>\n",
       "    <tr>\n",
       "      <th>2</th>\n",
       "      <td>180.064</td>\n",
       "      <td>0.381</td>\n",
       "      <td>0.664</td>\n",
       "      <td>0.667</td>\n",
       "      <td>0.6400</td>\n",
       "      <td>22726049.0</td>\n",
       "      <td>98.0</td>\n",
       "      <td>0</td>\n",
       "      <td>0</td>\n",
       "      <td>0</td>\n",
       "      <td>...</td>\n",
       "      <td>1</td>\n",
       "      <td>0</td>\n",
       "      <td>0</td>\n",
       "      <td>0</td>\n",
       "      <td>0</td>\n",
       "      <td>0</td>\n",
       "      <td>0</td>\n",
       "      <td>0</td>\n",
       "      <td>0</td>\n",
       "      <td>1</td>\n",
       "    </tr>\n",
       "    <tr>\n",
       "      <th>3</th>\n",
       "      <td>123.146</td>\n",
       "      <td>0.492</td>\n",
       "      <td>0.630</td>\n",
       "      <td>0.804</td>\n",
       "      <td>0.2150</td>\n",
       "      <td>22726049.0</td>\n",
       "      <td>98.0</td>\n",
       "      <td>0</td>\n",
       "      <td>0</td>\n",
       "      <td>0</td>\n",
       "      <td>...</td>\n",
       "      <td>0</td>\n",
       "      <td>0</td>\n",
       "      <td>1</td>\n",
       "      <td>0</td>\n",
       "      <td>0</td>\n",
       "      <td>0</td>\n",
       "      <td>0</td>\n",
       "      <td>0</td>\n",
       "      <td>0</td>\n",
       "      <td>1</td>\n",
       "    </tr>\n",
       "    <tr>\n",
       "      <th>4</th>\n",
       "      <td>81.967</td>\n",
       "      <td>0.127</td>\n",
       "      <td>0.665</td>\n",
       "      <td>0.498</td>\n",
       "      <td>0.2280</td>\n",
       "      <td>22726049.0</td>\n",
       "      <td>98.0</td>\n",
       "      <td>0</td>\n",
       "      <td>0</td>\n",
       "      <td>0</td>\n",
       "      <td>...</td>\n",
       "      <td>0</td>\n",
       "      <td>1</td>\n",
       "      <td>0</td>\n",
       "      <td>0</td>\n",
       "      <td>0</td>\n",
       "      <td>0</td>\n",
       "      <td>0</td>\n",
       "      <td>0</td>\n",
       "      <td>0</td>\n",
       "      <td>1</td>\n",
       "    </tr>\n",
       "  </tbody>\n",
       "</table>\n",
       "<p>5 rows × 21 columns</p>\n",
       "</div>"
      ],
      "text/plain": [
       "     Tempo  Valence  Danceability  Energy  Acousticness  Artist Followers  \\\n",
       "0  159.801    0.129         0.585   0.520        0.1240        22726049.0   \n",
       "1  143.950    0.291         0.556   0.538        0.0689        22726049.0   \n",
       "2  180.064    0.381         0.664   0.667        0.6400        22726049.0   \n",
       "3  123.146    0.492         0.630   0.804        0.2150        22726049.0   \n",
       "4   81.967    0.127         0.665   0.498        0.2280        22726049.0   \n",
       "\n",
       "   Artist Popularity  Key_0  Key_1  Key_2  ...  Key_4  Key_5  Key_6  Key_7  \\\n",
       "0               98.0      0      0      0  ...      0      1      0      0   \n",
       "1               98.0      0      0      0  ...      0      0      0      0   \n",
       "2               98.0      0      0      0  ...      1      0      0      0   \n",
       "3               98.0      0      0      0  ...      0      0      1      0   \n",
       "4               98.0      0      0      0  ...      0      1      0      0   \n",
       "\n",
       "   Key_8  Key_9  Key_10  Key_11  Mode_0  Mode_1  \n",
       "0      0      0       0       0       1       0  \n",
       "1      1      0       0       0       1       0  \n",
       "2      0      0       0       0       0       1  \n",
       "3      0      0       0       0       0       1  \n",
       "4      0      0       0       0       0       1  \n",
       "\n",
       "[5 rows x 21 columns]"
      ]
     },
     "execution_count": 18,
     "metadata": {},
     "output_type": "execute_result"
    }
   ],
   "source": [
    "X.head()"
   ]
  },
  {
   "cell_type": "code",
   "execution_count": 19,
   "metadata": {},
   "outputs": [],
   "source": [
    "X_train, X_test, y_train, y_test = train_test_split(X, y, test_size=0.2, random_state=0)"
   ]
  },
  {
   "cell_type": "markdown",
   "metadata": {},
   "source": [
    "# Functions to evaluate model"
   ]
  },
  {
   "cell_type": "code",
   "execution_count": 20,
   "metadata": {},
   "outputs": [],
   "source": [
    "from sklearn import metrics "
   ]
  },
  {
   "cell_type": "code",
   "execution_count": 65,
   "metadata": {},
   "outputs": [],
   "source": [
    "def evalModel(model, X_test = X_test, y_test = y_test, exp = True):\n",
    "    y_pred = model.predict(X_test)\n",
    "    if exp:\n",
    "        y_pred_exp = np.exp(y_pred)\n",
    "        y_test_exp = np.exp(y_test)\n",
    "    \n",
    "    scores = []\n",
    "    for fn in [metrics.max_error, metrics.mean_absolute_error, metrics.median_absolute_error]:\n",
    "        scores.append(fn(y_test_exp, y_pred_exp))\n",
    "    \n",
    "    plt.hist(y_test_exp - y_pred_exp)\n",
    "    plt.xlabel(\"Actual - Predicted\")\n",
    "    plt.show()\n",
    "    return dict(zip([\"max_error\", \"Mean AE\", \"Median AE\"], scores))     "
   ]
  },
  {
   "cell_type": "code",
   "execution_count": 22,
   "metadata": {},
   "outputs": [],
   "source": [
    "from sklearn.model_selection import GridSearchCV, RandomizedSearchCV"
   ]
  },
  {
   "cell_type": "code",
   "execution_count": 23,
   "metadata": {},
   "outputs": [],
   "source": [
    "med_scorer = metrics.make_scorer(metrics.median_absolute_error, False)"
   ]
  },
  {
   "cell_type": "code",
   "execution_count": 24,
   "metadata": {},
   "outputs": [],
   "source": [
    "def gridsearch(model, hyperparams, X_train, y_train, random = False, n_iter = 100):\n",
    "    if random:\n",
    "        gs = RandomizedSearchCV(estimator = model, param_distributions = hyperparams, \\\n",
    "                              n_iter = n_iter, scoring = med_scorer, verbose=3, n_jobs = -1).fit(X_train, y_train)\n",
    "    else:\n",
    "        gs = GridSearchCV(estimator = model, verbose = 3, scoring = med_scorer, n_jobs = -1, param_grid = hyperparams).fit(X_train, y_train)\n",
    "    return {\"model\": gs.best_estimator_, \"params\": gs.best_params_}"
   ]
  },
  {
   "cell_type": "markdown",
   "metadata": {},
   "source": [
    "# Regression Models"
   ]
  },
  {
   "cell_type": "markdown",
   "metadata": {},
   "source": [
    "## Unrestricted linear regression (baseline model)"
   ]
  },
  {
   "cell_type": "code",
   "execution_count": 25,
   "metadata": {},
   "outputs": [],
   "source": [
    "from sklearn.linear_model import LinearRegression"
   ]
  },
  {
   "cell_type": "code",
   "execution_count": 82,
   "metadata": {
    "scrolled": true
   },
   "outputs": [
    {
     "data": {
      "image/png": "[encoded data removed]",
      "text/plain": [
       "<Figure size 432x288 with 1 Axes>"
      ]
     },
     "metadata": {
      "needs_background": "light"
     },
     "output_type": "display_data"
    },
    {
     "name": "stdout",
     "output_type": "stream",
     "text": [
      "Initial model:\n",
      "{'max_error': 740.0965550922439, 'Mean AE': 39.68150948497189, 'Median AE': 8.371096740259446}\n"
     ]
    }
   ],
   "source": [
    "regressor = LinearRegression().fit(X_train, y_train)\n",
    "print(f\"Initial model:\\n{evalModel(regressor, X_test, y_test)}\")"
   ]
  },
  {
   "cell_type": "markdown",
   "metadata": {},
   "source": [
    "## Lasso"
   ]
  },
  {
   "cell_type": "code",
   "execution_count": 47,
   "metadata": {},
   "outputs": [],
   "source": [
    "from sklearn.linear_model import Lasso"
   ]
  },
  {
   "cell_type": "code",
   "execution_count": 119,
   "metadata": {},
   "outputs": [
    {
     "data": {
      "image/png": "[encoded data removed]",
      "text/plain": [
       "<Figure size 432x288 with 1 Axes>"
      ]
     },
     "metadata": {
      "needs_background": "light"
     },
     "output_type": "display_data"
    },
    {
     "name": "stdout",
     "output_type": "stream",
     "text": [
      "Initial model:\n",
      "{'max_error': 740.2885213079109, 'Mean AE': 39.76895758185482, 'Median AE': 7.422451570140884}\n",
      "Fitting 5 folds for each of 10 candidates, totalling 50 fits\n"
     ]
    },
    {
     "name": "stderr",
     "output_type": "stream",
     "text": [
      "[Parallel(n_jobs=-1)]: Using backend LokyBackend with 4 concurrent workers.\n",
      "[Parallel(n_jobs=-1)]: Done  50 out of  50 | elapsed:    0.1s finished\n"
     ]
    },
    {
     "name": "stdout",
     "output_type": "stream",
     "text": [
      "Cross-validated params:\n",
      "{'alpha': 10})\n"
     ]
    },
    {
     "data": {
      "image/png": "[encoded data removed]",
      "text/plain": [
       "<Figure size 432x288 with 1 Axes>"
      ]
     },
     "metadata": {
      "needs_background": "light"
     },
     "output_type": "display_data"
    },
    {
     "name": "stdout",
     "output_type": "stream",
     "text": [
      "Optimized model:\n",
      "{'max_error': 740.974982835269, 'Mean AE': 39.880074394954036, 'Median AE': 7.328471929013465}\n"
     ]
    }
   ],
   "source": [
    "lasso = Lasso().fit(X_train, y_train)\n",
    "print(f\"Initial model:\\n{evalModel(lasso, X_test, y_test)}\")\n",
    "params = {\"alpha\":np.arange(1, 11,1)}\n",
    "cv = gridsearch(Lasso(), params, X_train, y_train)\n",
    "print(f\"Cross-validated params:\\n{cv['params']})\")\n",
    "print(f\"Optimized model:\\n{evalModel(cv['model'],X_test, y_test)}\")"
   ]
  },
  {
   "cell_type": "markdown",
   "metadata": {},
   "source": [
    "## ElasticNet"
   ]
  },
  {
   "cell_type": "code",
   "execution_count": 50,
   "metadata": {},
   "outputs": [],
   "source": [
    "from sklearn.linear_model import ElasticNet"
   ]
  },
  {
   "cell_type": "code",
   "execution_count": 74,
   "metadata": {},
   "outputs": [
    {
     "data": {
      "image/png": "[encoded data removed]",
      "text/plain": [
       "<Figure size 432x288 with 1 Axes>"
      ]
     },
     "metadata": {
      "needs_background": "light"
     },
     "output_type": "display_data"
    },
    {
     "name": "stdout",
     "output_type": "stream",
     "text": [
      "Initial model:\n",
      "{'max_error': 739.4820993756477, 'Mean AE': 39.68110243847324, 'Median AE': 7.591949561976471}\n",
      "Fitting 5 folds for each of 220 candidates, totalling 1100 fits\n"
     ]
    },
    {
     "name": "stderr",
     "output_type": "stream",
     "text": [
      "[Parallel(n_jobs=-1)]: Using backend LokyBackend with 4 concurrent workers.\n",
      "[Parallel(n_jobs=-1)]: Done  56 tasks      | elapsed:    0.3s\n"
     ]
    },
    {
     "name": "stdout",
     "output_type": "stream",
     "text": [
      "Cross-validated params:\n",
      "{'alpha': 10.5, 'l1_ratio': 1.0})\n"
     ]
    },
    {
     "name": "stderr",
     "output_type": "stream",
     "text": [
      "[Parallel(n_jobs=-1)]: Done 1100 out of 1100 | elapsed:    4.3s finished\n"
     ]
    },
    {
     "data": {
      "image/png": "[encoded data removed]",
      "text/plain": [
       "<Figure size 432x288 with 1 Axes>"
      ]
     },
     "metadata": {
      "needs_background": "light"
     },
     "output_type": "display_data"
    },
    {
     "name": "stdout",
     "output_type": "stream",
     "text": [
      "Optimized mode:\n",
      "{'max_error': 740.9749839603925, 'Mean AE': 39.88007427686447, 'Median AE': 7.328471985203879}\n"
     ]
    }
   ],
   "source": [
    "en = ElasticNet().fit(X_train, y_train)\n",
    "print(f\"Initial model:\\n{evalModel(en, X_test, y_test)}\")\n",
    "params = {\"alpha\":np.arange(1, 11, .5), \"l1_ratio\":np.arange(0,1.1,.1)}\n",
    "cv = gridsearch(ElasticNet(), params, X_train, y_train)\n",
    "print(f\"Cross-validated params:\\n{cv['params']})\")\n",
    "print(f\"Optimized model:\\n{evalModel(cv['model'],X_test, y_test)}\")"
   ]
  },
  {
   "cell_type": "markdown",
   "metadata": {},
   "source": [
    "## Random Forest"
   ]
  },
  {
   "cell_type": "code",
   "execution_count": 30,
   "metadata": {},
   "outputs": [],
   "source": [
    "from sklearn.ensemble import RandomForestRegressor"
   ]
  },
  {
   "cell_type": "code",
   "execution_count": 83,
   "metadata": {
    "scrolled": false
   },
   "outputs": [
    {
     "data": {
      "image/png": "[encoded data removed]",
      "text/plain": [
       "<Figure size 432x288 with 1 Axes>"
      ]
     },
     "metadata": {
      "needs_background": "light"
     },
     "output_type": "display_data"
    },
    {
     "name": "stdout",
     "output_type": "stream",
     "text": [
      "Initial model:\n",
      "{'max_error': 715.5398678464173, 'Mean AE': 39.114089032377045, 'Median AE': 9.002634358098113}\n",
      "Fitting 5 folds for each of 81 candidates, totalling 405 fits\n"
     ]
    },
    {
     "name": "stderr",
     "output_type": "stream",
     "text": [
      "[Parallel(n_jobs=-1)]: Using backend LokyBackend with 4 concurrent workers.\n",
      "[Parallel(n_jobs=-1)]: Done  24 tasks      | elapsed:    9.1s\n",
      "[Parallel(n_jobs=-1)]: Done 120 tasks      | elapsed:   37.5s\n",
      "[Parallel(n_jobs=-1)]: Done 280 tasks      | elapsed:  1.4min\n",
      "[Parallel(n_jobs=-1)]: Done 405 out of 405 | elapsed:  2.0min finished\n"
     ]
    },
    {
     "name": "stdout",
     "output_type": "stream",
     "text": [
      "Cross-validated params:\n",
      "{'max_depth': 90, 'max_leaf_nodes': 80})\n"
     ]
    },
    {
     "data": {
      "image/png": "[encoded data removed]",
      "text/plain": [
       "<Figure size 432x288 with 1 Axes>"
      ]
     },
     "metadata": {
      "needs_background": "light"
     },
     "output_type": "display_data"
    },
    {
     "name": "stdout",
     "output_type": "stream",
     "text": [
      "Optimized model:\n",
      "{'max_error': 708.2568790963475, 'Mean AE': 38.381951295041475, 'Median AE': 7.655793611136456}\n"
     ]
    }
   ],
   "source": [
    "rf = RandomForestRegressor(n_jobs = -1).fit(X_train, y_train)\n",
    "print(f\"Initial model:\\n{evalModel(rf, X_test, y_test)}\")\n",
    "params = {\"max_depth\":np.arange(10,100,10), \"max_leaf_nodes\":np.arange(10, 100, 10)}\n",
    "cv = gridsearch(RandomForestRegressor(), params, X_train, y_train)\n",
    "print(f\"Cross-validated params:\\n{cv['params']})\")\n",
    "print(f\"Optimized model:\\n{evalModel(cv['model'],X_test, y_test)}\")"
   ]
  },
  {
   "cell_type": "markdown",
   "metadata": {},
   "source": [
    "## Extreme Gradient Boosted Regression"
   ]
  },
  {
   "cell_type": "code",
   "execution_count": 78,
   "metadata": {},
   "outputs": [],
   "source": [
    "from xgboost import XGBRegressor"
   ]
  },
  {
   "cell_type": "markdown",
   "metadata": {},
   "source": [
    "#### Tree-based booster"
   ]
  },
  {
   "cell_type": "code",
   "execution_count": 89,
   "metadata": {
    "scrolled": false
   },
   "outputs": [
    {
     "data": {
      "image/png": "[encoded data removed]",
      "text/plain": [
       "<Figure size 432x288 with 1 Axes>"
      ]
     },
     "metadata": {
      "needs_background": "light"
     },
     "output_type": "display_data"
    },
    {
     "name": "stdout",
     "output_type": "stream",
     "text": [
      "Initial model:\n",
      "{'max_error': 671.5322451591494, 'Mean AE': 41.807417789802834, 'Median AE': 11.105975151062012}\n",
      "Fitting 5 folds for each of 100 candidates, totalling 500 fits\n"
     ]
    },
    {
     "name": "stderr",
     "output_type": "stream",
     "text": [
      "[Parallel(n_jobs=-1)]: Using backend LokyBackend with 4 concurrent workers.\n",
      "[Parallel(n_jobs=-1)]: Done  24 tasks      | elapsed:    9.0s\n",
      "[Parallel(n_jobs=-1)]: Done 120 tasks      | elapsed:   33.1s\n",
      "[Parallel(n_jobs=-1)]: Done 280 tasks      | elapsed:  1.2min\n",
      "[Parallel(n_jobs=-1)]: Done 500 out of 500 | elapsed:  2.0min finished\n"
     ]
    },
    {
     "name": "stdout",
     "output_type": "stream",
     "text": [
      "Cross-validated params:\n",
      "{'lamda': 5, 'gamma': 1, 'eta': 0.1, 'booster': 'gbtree', 'alpha': 6})\n"
     ]
    },
    {
     "data": {
      "image/png": "[encoded data removed]",
      "text/plain": [
       "<Figure size 432x288 with 1 Axes>"
      ]
     },
     "metadata": {
      "needs_background": "light"
     },
     "output_type": "display_data"
    },
    {
     "name": "stdout",
     "output_type": "stream",
     "text": [
      "Optimized model:\n",
      "{'max_error': 686.0163650512698, 'Mean AE': 38.320915248639444, 'Median AE': 8.230231761932373}\n"
     ]
    }
   ],
   "source": [
    "xgbr = XGBRegressor().fit(X_train, y_train)\n",
    "print(f\"Initial model:\\n{evalModel(xgbr, X_test, y_test)}\")\n",
    "params = {\"booster\":[\"gbtree\"], \"eta\":[.1], \"gamma\":[1], \"lamda\":np.arange(1, 11, 1), \"alpha\":np.arange(0, 11, 1)}\n",
    "cv = gridsearch(XGBRegressor(), params, X_train, y_train, random = True)\n",
    "print(f\"Cross-validated params:\\n{cv['params']})\")\n",
    "print(f\"Optimized model:\\n{evalModel(cv['model'],X_test, y_test)}\")"
   ]
  },
  {
   "cell_type": "markdown",
   "metadata": {},
   "source": [
    "#### DART based booster"
   ]
  },
  {
   "cell_type": "code",
   "execution_count": 94,
   "metadata": {},
   "outputs": [
    {
     "data": {
      "image/png": "[encoded data removed]",
      "text/plain": [
       "<Figure size 432x288 with 1 Axes>"
      ]
     },
     "metadata": {
      "needs_background": "light"
     },
     "output_type": "display_data"
    },
    {
     "name": "stdout",
     "output_type": "stream",
     "text": [
      "Initial model:\n",
      "{'max_error': 671.5322442054751, 'Mean AE': 41.8074166329468, 'Median AE': 11.105981349945068}\n",
      "Fitting 5 folds for each of 7 candidates, totalling 35 fits\n"
     ]
    },
    {
     "name": "stderr",
     "output_type": "stream",
     "text": [
      "C:\\Users\\chris\\anaconda3\\lib\\site-packages\\sklearn\\model_selection\\_search.py:281: UserWarning: The total space of parameters 7 is smaller than n_iter=100. Running 7 iterations. For exhaustive searches, use GridSearchCV.\n",
      "  % (grid_size, self.n_iter, grid_size), UserWarning)\n",
      "[Parallel(n_jobs=-1)]: Using backend LokyBackend with 4 concurrent workers.\n",
      "[Parallel(n_jobs=-1)]: Done  24 tasks      | elapsed:   11.4s\n",
      "[Parallel(n_jobs=-1)]: Done  35 out of  35 | elapsed:   16.2s finished\n"
     ]
    },
    {
     "name": "stdout",
     "output_type": "stream",
     "text": [
      "Cross-validated params:\n",
      "{'rate_drop': 0.1, 'booster': 'dart'})\n"
     ]
    },
    {
     "data": {
      "image/png": "[encoded data removed]",
      "text/plain": [
       "<Figure size 432x288 with 1 Axes>"
      ]
     },
     "metadata": {
      "needs_background": "light"
     },
     "output_type": "display_data"
    },
    {
     "name": "stdout",
     "output_type": "stream",
     "text": [
      "Optimized model:\n",
      "{'max_error': 668.4980087280276, 'Mean AE': 38.635896189949094, 'Median AE': 8.750585556030273}\n"
     ]
    }
   ],
   "source": [
    "xgbr = XGBRegressor(booster = \"dart\").fit(X_train, y_train)\n",
    "print(f\"Initial model:\\n{evalModel(xgbr, X_test, y_test)}\")\n",
    "params = {\"booster\":[\"dart\"], \"rate_drop\":np.arange(0,.7,.1)}\n",
    "cv = gridsearch(XGBRegressor(), params, X_train, y_train, random = True)\n",
    "print(f\"Cross-validated params:\\n{cv['params']})\")\n",
    "print(f\"Optimized model:\\n{evalModel(cv['model'],X_test, y_test)}\")"
   ]
  },
  {
   "cell_type": "markdown",
   "metadata": {},
   "source": [
    "#### Linear based booster"
   ]
  },
  {
   "cell_type": "code",
   "execution_count": 98,
   "metadata": {},
   "outputs": [
    {
     "data": {
      "image/png": "[encoded data removed]",
      "text/plain": [
       "<Figure size 432x288 with 1 Axes>"
      ]
     },
     "metadata": {
      "needs_background": "light"
     },
     "output_type": "display_data"
    },
    {
     "name": "stdout",
     "output_type": "stream",
     "text": [
      "Initial model:\n",
      "{'max_error': 739.8511447906496, 'Mean AE': 39.80216282956741, 'Median AE': 8.196436882019043}\n",
      "Fitting 5 folds for each of 100 candidates, totalling 500 fits\n"
     ]
    },
    {
     "name": "stderr",
     "output_type": "stream",
     "text": [
      "[Parallel(n_jobs=-1)]: Using backend LokyBackend with 4 concurrent workers.\n",
      "[Parallel(n_jobs=-1)]: Done  24 tasks      | elapsed:    1.6s\n",
      "[Parallel(n_jobs=-1)]: Done 120 tasks      | elapsed:    7.4s\n",
      "[Parallel(n_jobs=-1)]: Done 280 tasks      | elapsed:   16.6s\n",
      "[Parallel(n_jobs=-1)]: Done 500 out of 500 | elapsed:   30.9s finished\n"
     ]
    },
    {
     "name": "stdout",
     "output_type": "stream",
     "text": [
      "Cross-validated params:\n",
      "{'lambda': 0, 'booster': 'gblinear', 'alpha': 9})\n"
     ]
    },
    {
     "data": {
      "image/png": "[encoded data removed]",
      "text/plain": [
       "<Figure size 432x288 with 1 Axes>"
      ]
     },
     "metadata": {
      "needs_background": "light"
     },
     "output_type": "display_data"
    },
    {
     "name": "stdout",
     "output_type": "stream",
     "text": [
      "Optimized model:\n",
      "{'max_error': 740.9749803543093, 'Mean AE': 39.8800746791503, 'Median AE': 7.328470230102539}\n"
     ]
    }
   ],
   "source": [
    "xgbr = XGBRegressor(booster = \"gblinear\").fit(X_train, y_train)\n",
    "print(f\"Initial model:\\n{evalModel(xgbr, X_test, y_test)}\")\n",
    "params = {\"booster\":[\"gblinear\"], \"lambda\":np.arange(0,10,1), \"alpha\":np.arange(0,10,1)}\n",
    "cv = gridsearch(XGBRegressor(), params, X_train, y_train, random = True)\n",
    "print(f\"Cross-validated params:\\n{cv['params']})\")\n",
    "print(f\"Optimized model:\\n{evalModel(cv['model'],X_test, y_test)}\")"
   ]
  },
  {
   "cell_type": "markdown",
   "metadata": {},
   "source": [
    "## Adaptive Boosting Regression"
   ]
  },
  {
   "cell_type": "code",
   "execution_count": 84,
   "metadata": {},
   "outputs": [],
   "source": [
    "from sklearn.ensemble import AdaBoostRegressor"
   ]
  },
  {
   "cell_type": "code",
   "execution_count": 124,
   "metadata": {},
   "outputs": [
    {
     "data": {
      "image/png": "[encoded data removed]",
      "text/plain": [
       "<Figure size 432x288 with 1 Axes>"
      ]
     },
     "metadata": {
      "needs_background": "light"
     },
     "output_type": "display_data"
    },
    {
     "name": "stdout",
     "output_type": "stream",
     "text": [
      "Initial model:\n",
      "{'max_error': 740.6573634106735, 'Mean AE': 40.000918878133106, 'Median AE': 8.072385503251507}\n",
      "Fitting 5 folds for each of 30 candidates, totalling 150 fits\n"
     ]
    },
    {
     "name": "stderr",
     "output_type": "stream",
     "text": [
      "C:\\Users\\chris\\anaconda3\\lib\\site-packages\\sklearn\\model_selection\\_search.py:281: UserWarning: The total space of parameters 30 is smaller than n_iter=100. Running 30 iterations. For exhaustive searches, use GridSearchCV.\n",
      "  % (grid_size, self.n_iter, grid_size), UserWarning)\n",
      "[Parallel(n_jobs=-1)]: Using backend LokyBackend with 4 concurrent workers.\n",
      "[Parallel(n_jobs=-1)]: Done  40 tasks      | elapsed:    0.7s\n"
     ]
    },
    {
     "name": "stdout",
     "output_type": "stream",
     "text": [
      "Cross-validated params:\n",
      "{'n_estimators': 1, 'loss': 'exponential'})\n"
     ]
    },
    {
     "name": "stderr",
     "output_type": "stream",
     "text": [
      "[Parallel(n_jobs=-1)]: Done 150 out of 150 | elapsed:    3.7s finished\n"
     ]
    },
    {
     "data": {
      "image/png": "[encoded data removed]",
      "text/plain": [
       "<Figure size 432x288 with 1 Axes>"
      ]
     },
     "metadata": {
      "needs_background": "light"
     },
     "output_type": "display_data"
    },
    {
     "name": "stdout",
     "output_type": "stream",
     "text": [
      "Optimized model:\n",
      "{'max_error': 740.285302681716, 'Mean AE': 39.9889044870274, 'Median AE': 7.020684686506345}\n"
     ]
    }
   ],
   "source": [
    "abr = AdaBoostRegressor(base_estimator = Lasso(alpha = 10)).fit(X_train, y_train)\n",
    "print(f\"Initial model:\\n{evalModel(abr, X_test, y_test)}\")\n",
    "params = {\"n_estimators\":np.arange(1,100,10), \"loss\":[\"linear\", \"square\", \"exponential\"]}\n",
    "cv = gridsearch(AdaBoostRegressor(base_estimator = Lasso(alpha = 10)), params, X_train, y_train, random = True)\n",
    "print(f\"Cross-validated params:\\n{cv['params']})\")\n",
    "print(f\"Optimized model:\\n{evalModel(cv['model'],X_test, y_test)}\")"
   ]
  },
  {
   "cell_type": "code",
   "execution_count": 109,
   "metadata": {},
   "outputs": [
    {
     "data": {
      "text/plain": [
       "array([0.02920473, 0.04532903, 0.20556194, 0.0640536 , 0.04895823,\n",
       "       0.22524836, 0.34220947, 0.        , 0.        , 0.        ,\n",
       "       0.00906255, 0.00677246, 0.        , 0.        , 0.0121576 ,\n",
       "       0.00161342, 0.00440176, 0.        , 0.00542684, 0.        ,\n",
       "       0.        ])"
      ]
     },
     "execution_count": 109,
     "metadata": {},
     "output_type": "execute_result"
    }
   ],
   "source": [
    "abr.feature_importances_"
   ]
  },
  {
   "cell_type": "code",
   "execution_count": 108,
   "metadata": {},
   "outputs": [
    {
     "data": {
      "text/plain": [
       "Index(['Tempo', 'Valence', 'Danceability', 'Energy', 'Acousticness',\n",
       "       'Artist Followers', 'Artist Popularity', 'Key_3', 'Key_4', 'Key_7',\n",
       "       'Key_8', 'Key_9', 'Key_11'],\n",
       "      dtype='object')"
      ]
     },
     "execution_count": 108,
     "metadata": {},
     "output_type": "execute_result"
    }
   ],
   "source": [
    "X_train.columns[np.where(abr.feature_importances_ != 0)[0]]"
   ]
  }
 ],
 "metadata": {
  "kernelspec": {
   "display_name": "Python 3",
   "language": "python",
   "name": "python3"
  },
  "language_info": {
   "codemirror_mode": {
    "name": "ipython",
    "version": 3
   },
   "file_extension": ".py",
   "mimetype": "text/x-python",
   "name": "python",
   "nbconvert_exporter": "python",
   "pygments_lexer": "ipython3",
   "version": "3.7.6"
  }
 },
 "nbformat": 4,
 "nbformat_minor": 2
}
