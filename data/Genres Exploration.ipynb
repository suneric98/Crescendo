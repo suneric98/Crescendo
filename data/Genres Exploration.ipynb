{
 "cells": [
  {
   "cell_type": "code",
   "execution_count": 94,
   "metadata": {},
   "outputs": [],
   "source": [
    "import pandas as pd\n",
    "import numpy as np\n",
    "from matplotlib import pyplot as plt\n",
    "from sklearn.neighbors import KNeighborsClassifier\n",
    "from sklearn.model_selection import train_test_split\n",
    "from sklearn.metrics import confusion_matrix  \n",
    "import seaborn as sns\n",
    "sns.set()"
   ]
  },
  {
   "cell_type": "code",
   "execution_count": 244,
   "metadata": {},
   "outputs": [],
   "source": [
    "ds= pd.read_csv(\"top10s_.csv\")"
   ]
  },
  {
   "cell_type": "code",
   "execution_count": 162,
   "metadata": {},
   "outputs": [],
   "source": [
    "# X = pd.DataFrame(breast_cancer.data, columns=breast_cancer.feature_names)\n",
    "X = ds[['year','bpm','nrgy','dnce','dB','live','val','dur','acous','spch','pop']]\n",
    "# y= 'top genre'\n",
    "# y= top10s.loc[:, 'top genre']\n",
    "# pd.get_dummies(pd.Series(list('top genre')), drop_first=True)"
   ]
  },
  {
   "cell_type": "code",
   "execution_count": 220,
   "metadata": {},
   "outputs": [
    {
     "data": {
      "text/plain": [
       "Pop           498\n",
       "Misc           86\n",
       "Electronic     19\n",
       "Name: new_column2, dtype: int64"
      ]
     },
     "execution_count": 220,
     "metadata": {},
     "output_type": "execute_result"
    }
   ],
   "source": [
    "y= ds.loc[:, 'top genre']\n",
    "\n",
    "end= ['pop','hop']\n",
    "ds['new_column'] = np.where(ds['top genre'].str.endswith(tuple(end)),\n",
    "                            'Pop', \n",
    "                            ds['top genre'])\n",
    "\n",
    "start= ['edm','trap','electro','house','brostep','complextro']\n",
    "ds['new_column1'] = np.where(ds['new_column'].str.startswith(tuple(start)),\n",
    "                            'Electronic', \n",
    "                            ds['new_column'])\n",
    "\n",
    "contains= ['boy band','british soul','big room','neo mellow','canadian contemporary r&b','australian dance', 'atl hip hop',\n",
    "           'latin','permanent wave','tropical house','escape room','downtempo','chicago rap','contemporary country',\n",
    "           'alternative r&b','irish singer-songwriter','metropopolis','celtic rock','hollywood','canadian latin',\n",
    "           'belgian edm','alaska indie']\n",
    "                                                           \n",
    "ds['new_column2']= np.where(ds['new_column1'].str.startswith(tuple(contains)),\n",
    "                            'Misc', \n",
    "                            ds['new_column1'])\n",
    "\n",
    "\n",
    "y = pd.get_dummies('new_column2', drop_first=True)\n",
    "y= ds.loc[:, 'new_column2']\n",
    "y.value_counts()\n"
   ]
  },
  {
   "cell_type": "code",
   "execution_count": 243,
   "metadata": {},
   "outputs": [],
   "source": [
    "X_train, X_test, y_train, y_test = train_test_split(X, y, random_state=1)"
   ]
  },
  {
   "cell_type": "code",
   "execution_count": 222,
   "metadata": {},
   "outputs": [
    {
     "data": {
      "text/plain": [
       "KNeighborsClassifier(algorithm='auto', leaf_size=30, metric='euclidean',\n",
       "           metric_params=None, n_jobs=1, n_neighbors=5, p=2,\n",
       "           weights='uniform')"
      ]
     },
     "execution_count": 222,
     "metadata": {},
     "output_type": "execute_result"
    }
   ],
   "source": [
    "knn = KNeighborsClassifier(n_neighbors=5, metric='euclidean')\n",
    "knn.fit(X_train, y_train)"
   ]
  },
  {
   "cell_type": "code",
   "execution_count": 223,
   "metadata": {},
   "outputs": [],
   "source": [
    "y_pred = knn.predict(X_test)"
   ]
  },
  {
   "cell_type": "code",
   "execution_count": 246,
   "metadata": {},
   "outputs": [
    {
     "data": {
      "text/plain": [
       "array([[116,   0,   4],\n",
       "       [  8,   0,   0],\n",
       "       [ 20,   2,   1]])"
      ]
     },
     "execution_count": 246,
     "metadata": {},
     "output_type": "execute_result"
    }
   ],
   "source": [
    "confusion_matrix(y_test, y_pred, labels= ['Pop','Electronic','Misc'])"
   ]
  },
  {
   "cell_type": "code",
   "execution_count": 227,
   "metadata": {},
   "outputs": [
    {
     "data": {
      "text/plain": [
       "<matplotlib.axes._subplots.AxesSubplot at 0x1a23746518>"
      ]
     },
     "execution_count": 227,
     "metadata": {},
     "output_type": "execute_result"
    },
    {
     "data": {
      "image/png": "[encoded data removed]",
      "text/plain": [
       "<Figure size 432x288 with 1 Axes>"
      ]
     },
     "metadata": {},
     "output_type": "display_data"
    }
   ],
   "source": [
    "sns.barplot(\n",
    "    x='nrgy',\n",
    "    y='new_column2',\n",
    "    data=X_test.join(y_test, how='outer')\n",
    ")"
   ]
  },
  {
   "cell_type": "code",
   "execution_count": 228,
   "metadata": {},
   "outputs": [
    {
     "data": {
      "text/plain": [
       "<matplotlib.axes._subplots.AxesSubplot at 0x1a23762518>"
      ]
     },
     "execution_count": 228,
     "metadata": {},
     "output_type": "execute_result"
    },
    {
     "data": {
      "image/png": "[encoded data removed]",
      "text/plain": [
       "<Figure size 432x288 with 1 Axes>"
      ]
     },
     "metadata": {},
     "output_type": "display_data"
    }
   ],
   "source": [
    "sns.swarmplot(\n",
    "    x='nrgy',\n",
    "    y='new_column2'\n",
    "    data=X_test.join(y_test, how='outer')\n",
    ")"
   ]
  }
 ],
 "metadata": {
  "kernelspec": {
   "display_name": "Python 3",
   "language": "python",
   "name": "python3"
  },
  "language_info": {
   "codemirror_mode": {
    "name": "ipython",
    "version": 3
   },
   "file_extension": ".py",
   "mimetype": "text/x-python",
   "name": "python",
   "nbconvert_exporter": "python",
   "pygments_lexer": "ipython3",
   "version": "3.6.5"
  }
 },
 "nbformat": 4,
 "nbformat_minor": 2
}
