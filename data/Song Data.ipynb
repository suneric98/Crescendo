{
 "cells": [
  {
   "cell_type": "code",
   "execution_count": 1,
   "metadata": {},
   "outputs": [],
   "source": [
    "import spotipy\n",
    "import spotipy.util as util\n",
    "import json\n",
    "import pandas as pd"
   ]
  },
  {
   "cell_type": "code",
   "execution_count": 2,
   "metadata": {},
   "outputs": [],
   "source": [
    "scope = 'playlist-read-private playlist-read-collaborative user-library-read user-read-recently-played user-top-read'\n",
    "redirect_uri = \"http://localhost/\"\n",
    "username = \"\"\n",
    "client_id = \"\"\n",
    "client_secret = \"\""
   ]
  },
  {
   "cell_type": "code",
   "execution_count": 3,
   "metadata": {},
   "outputs": [
    {
     "name": "stdout",
     "output_type": "stream",
     "text": [
      "   Rank          Artist                             Song    Streams    Date\n",
      "0     1     Post Malone                         rockstar  1,502,394  1/1/18\n",
      "1     2          G-Eazy                         No Limit  1,027,039  1/1/18\n",
      "2     3        Lil Pump                       Gucci Gang    930,620  1/1/18\n",
      "3     4         Cardi B  Bartier Cardi (feat. 21 Savage)    877,478  1/1/18\n",
      "4     5  Camila Cabello                           Havana    860,232  1/1/18\n"
     ]
    }
   ],
   "source": [
    "data = pd.read_csv(\"2018-2020topchart.csv\")\n",
    "print(data.head())"
   ]
  },
  {
   "cell_type": "code",
   "execution_count": 4,
   "metadata": {},
   "outputs": [],
   "source": [
    "token = util.prompt_for_user_token(username,scope,client_id,client_secret,redirect_uri)\n",
    "sp = spotipy.Spotify(auth=token)\n",
    "\n",
    "jsonPrettify = lambda x: json.dumps(x, indent=2)"
   ]
  },
  {
   "cell_type": "code",
   "execution_count": 23,
   "metadata": {},
   "outputs": [],
   "source": [
    "from string import punctuation\n",
    "import time\n",
    "\n",
    "def findSongId(trackName, artistName):\n",
    "    trackName = trackName.split(\"(feat.\")[0].strip()\n",
    "    trackName = trackName.replace(\"'\",\"\").replace(\"!\",\"\")\n",
    "    offset = 0\n",
    "    while offset < 500:\n",
    "        try:\n",
    "            global sp\n",
    "            results = sp.search(q=\"track:\" + trackName, type=\"track\", limit=10, offset=offset)\n",
    "        except spotipy.client.SpotifyException:\n",
    "            token = util.prompt_for_user_token(username,scope,client_id,client_secret,redirect_uri)\n",
    "            sp = spotipy.Spotify(auth=token)\n",
    "            results = sp.search(q=\"track:\" + trackName, type=\"track\", limit=10, offset=offset)\n",
    "        items = results['tracks']['items']\n",
    "        \n",
    "        trackId = \"\"\n",
    "        for track in items:\n",
    "            trackId = track[\"id\"]\n",
    "            for artist in track[\"artists\"]:\n",
    "                if artist[\"name\"] == artistName and track[\"popularity\"] > 0:\n",
    "    #                 print(jsonPrettify(track))\n",
    "                    return trackId\n",
    "        offset += 10\n",
    "        time.sleep(0.5)\n",
    "    return \"\""
   ]
  },
  {
   "cell_type": "code",
   "execution_count": 25,
   "metadata": {
    "scrolled": true
   },
   "outputs": [
    {
     "name": "stdout",
     "output_type": "stream",
     "text": [
      "0e7ipj03S05BNilyu5bRzt\n",
      "[{'danceability': 0.585, 'energy': 0.52, 'key': 5, 'loudness': -6.136, 'mode': 0, 'speechiness': 0.0712, 'acousticness': 0.124, 'instrumentalness': 7.01e-05, 'liveness': 0.131, 'valence': 0.129, 'tempo': 159.801, 'type': 'audio_features', 'id': '0e7ipj03S05BNilyu5bRzt', 'uri': 'spotify:track:0e7ipj03S05BNilyu5bRzt', 'track_href': 'https://api.spotify.com/v1/tracks/0e7ipj03S05BNilyu5bRzt', 'analysis_url': 'https://api.spotify.com/v1/audio-analysis/0e7ipj03S05BNilyu5bRzt', 'duration_ms': 218147, 'time_signature': 4}]\n"
     ]
    }
   ],
   "source": [
    "id = findSongId(\"rockstar\", \"Post Malone\")\n",
    "print(id)\n",
    "print(sp.audio_features(id))"
   ]
  },
  {
   "cell_type": "code",
   "execution_count": 62,
   "metadata": {},
   "outputs": [],
   "source": [
    "from time import time\n",
    "from time import sleep\n",
    "from random import randint\n",
    "\n",
    "songValues = {}\n",
    "allRows = []"
   ]
  },
  {
   "cell_type": "code",
   "execution_count": 72,
   "metadata": {
    "scrolled": true
   },
   "outputs": [
    {
     "name": "stdout",
     "output_type": "stream",
     "text": [
      "Day: 1/1/18, Row: 0\n",
      "Day: 1/2/18, Row: 200\n",
      "Day: 1/3/18, Row: 400\n",
      "Day: 1/4/18, Row: 600\n",
      "Day: 1/5/18, Row: 800\n",
      "Day: 1/6/18, Row: 1000\n",
      "Day: 1/7/18, Row: 1200\n",
      "Day: 1/8/18, Row: 1400\n",
      "Day: 1/9/18, Row: 1600\n",
      "Day: 1/10/18, Row: 1800\n",
      "Day: 1/11/18, Row: 2000\n",
      "My My My!\n",
      "Error with: My My My! by Troye Sivan\n",
      "Day: 1/12/18, Row: 2200\n",
      "In the Dark\n",
      "Error with: In the Dark by Camila Cabello\n",
      "Day: 1/13/18, Row: 2400\n",
      "Day: 1/14/18, Row: 2600\n",
      "Day: 1/15/18, Row: 2800\n",
      "La Modelo\n",
      "Error with: La Modelo by Lean Trap\n",
      "Day: 1/16/18, Row: 3000\n",
      "Dreams\n",
      "Error with: Dreams by The Cranberries\n",
      "Day: 1/17/18, Row: 3200\n",
      "Do Right\n",
      "Error with: Do Right by Glades\n",
      "Day: 1/18/18, Row: 3400\n",
      "Day: 1/19/18, Row: 3600\n",
      "Church\n",
      "Error with: Church by Fall Out Boy\n",
      "Alone\n",
      "Error with: Alone by Russ\n",
      "Day: 1/20/18, Row: 3800\n",
      "Day: 1/21/18, Row: 4000\n",
      "Day: 1/22/18, Row: 4200\n",
      "Champion\n",
      "Error with: Champion by Fall Out Boy\n",
      "Day: 1/23/18, Row: 4400\n",
      "Day: 1/24/18, Row: 4600\n",
      "Day: 1/25/18, Row: 4800\n",
      "Day: 1/26/18, Row: 5000\n",
      "Gang Gang\n",
      "Error with: Gang Gang by Migos\n",
      "Beast\n",
      "Error with: Beast by Migos\n",
      "Day: 1/27/18, Row: 5200\n",
      "Day: 1/28/18, Row: 5400\n",
      "Day: 1/29/18, Row: 5600\n",
      "Day: 1/30/18, Row: 5800\n",
      "Day: 1/31/18, Row: 6000\n",
      "Only One\n",
      "Error with: Only One by Carlie Hanson\n",
      "Day: 2/1/18, Row: 6200\n",
      "Day: 2/2/18, Row: 6400\n",
      "Sauce\n",
      "Error with: Sauce by Justin Timberlake\n",
      "Higher Higher\n",
      "Error with: Higher Higher by Justin Timberlake\n",
      "Wave\n",
      "Error with: Wave by Justin Timberlake\n",
      "Montana\n",
      "Error with: Montana by Justin Timberlake\n",
      "Amen\n",
      "Error with: Amen by Rich Brian\n",
      "Cold\n",
      "Error with: Cold by Rich Brian\n",
      "Young Man\n",
      "Error with: Young Man by Justin Timberlake\n",
      "See Me\n",
      "Error with: See Me by Rich Brian\n",
      "Day: 2/3/18, Row: 6600\n",
      "Day: 2/4/18, Row: 6800\n",
      "Day: 2/5/18, Row: 7000\n",
      "Day: 2/6/18, Row: 7200\n",
      "Day: 2/7/18, Row: 7400\n",
      "Day: 2/8/18, Row: 7600\n",
      "Day: 2/9/18, Row: 7800\n",
      "I Am\n",
      "Error with: I Am by Jorja Smith\n",
      "PROUD\n",
      "Error with: PROUD by 2 Chainz\n",
      "The Wave\n",
      "Error with: The Wave by R3HAB\n",
      "Day: 2/10/18, Row: 8000\n",
      "Day: 2/11/18, Row: 8200\n",
      "Day: 2/12/18, Row: 8400\n",
      "Day: 2/13/18, Row: 8600\n",
      "Day: 2/14/18, Row: 8800\n",
      "Day: 2/15/18, Row: 9000\n",
      "Day: 2/16/18, Row: 9200\n",
      "Day: 2/17/18, Row: 9400\n",
      "Day: 2/18/18, Row: 9600\n",
      "Day: 2/19/18, Row: 9800\n",
      "Day: 2/20/18, Row: 10000\n",
      "Day: 2/21/18, Row: 10200\n",
      "Day: 2/22/18, Row: 10400\n",
      "Day: 2/23/18, Row: 10600\n",
      "RONDO\n",
      "Error with: RONDO by 6ix9ine\n",
      "93\n",
      "Error with: 93 by 6ix9ine\n",
      "How I Feel\n",
      "Error with: How I Feel by Good Gas\n",
      "CHOCOLATÉ\n",
      "Error with: CHOCOLATÉ by 6ix9ine\n",
      "Gone\n"
     ]
    },
    {
     "ename": "SpotifyException",
     "evalue": "http status: 401, code:-1 - https://api.spotify.com/v1/search?q=track%3AGone&limit=10&offset=0&type=track:\n The access token expired",
     "output_type": "error",
     "traceback": [
      "\u001b[0;31m---------------------------------------------------------------------------\u001b[0m",
      "\u001b[0;31mHTTPError\u001b[0m                                 Traceback (most recent call last)",
      "\u001b[0;32m~/anaconda3/lib/python3.7/site-packages/spotipy/client.py\u001b[0m in \u001b[0;36m_internal_call\u001b[0;34m(self, method, url, payload, params)\u001b[0m\n\u001b[1;32m    136\u001b[0m             \u001b[0;32mtry\u001b[0m\u001b[0;34m:\u001b[0m\u001b[0;34m\u001b[0m\u001b[0;34m\u001b[0m\u001b[0m\n\u001b[0;32m--> 137\u001b[0;31m                 \u001b[0mr\u001b[0m\u001b[0;34m.\u001b[0m\u001b[0mraise_for_status\u001b[0m\u001b[0;34m(\u001b[0m\u001b[0;34m)\u001b[0m\u001b[0;34m\u001b[0m\u001b[0;34m\u001b[0m\u001b[0m\n\u001b[0m\u001b[1;32m    138\u001b[0m             \u001b[0;32mexcept\u001b[0m \u001b[0mBaseException\u001b[0m\u001b[0;34m:\u001b[0m\u001b[0;34m\u001b[0m\u001b[0;34m\u001b[0m\u001b[0m\n",
      "\u001b[0;32m~/anaconda3/lib/python3.7/site-packages/requests/models.py\u001b[0m in \u001b[0;36mraise_for_status\u001b[0;34m(self)\u001b[0m\n\u001b[1;32m    939\u001b[0m         \u001b[0;32mif\u001b[0m \u001b[0mhttp_error_msg\u001b[0m\u001b[0;34m:\u001b[0m\u001b[0;34m\u001b[0m\u001b[0;34m\u001b[0m\u001b[0m\n\u001b[0;32m--> 940\u001b[0;31m             \u001b[0;32mraise\u001b[0m \u001b[0mHTTPError\u001b[0m\u001b[0;34m(\u001b[0m\u001b[0mhttp_error_msg\u001b[0m\u001b[0;34m,\u001b[0m \u001b[0mresponse\u001b[0m\u001b[0;34m=\u001b[0m\u001b[0mself\u001b[0m\u001b[0;34m)\u001b[0m\u001b[0;34m\u001b[0m\u001b[0;34m\u001b[0m\u001b[0m\n\u001b[0m\u001b[1;32m    941\u001b[0m \u001b[0;34m\u001b[0m\u001b[0m\n",
      "\u001b[0;31mHTTPError\u001b[0m: 401 Client Error: Unauthorized for url: https://api.spotify.com/v1/search?q=track%3AGone&limit=10&offset=0&type=track",
      "\nDuring handling of the above exception, another exception occurred:\n",
      "\u001b[0;31mSpotifyException\u001b[0m                          Traceback (most recent call last)",
      "\u001b[0;32m<ipython-input-72-f16efb77f34d>\u001b[0m in \u001b[0;36m<module>\u001b[0;34m\u001b[0m\n\u001b[1;32m     21\u001b[0m         \u001b[0martist\u001b[0m \u001b[0;34m=\u001b[0m \u001b[0mrow\u001b[0m\u001b[0;34m[\u001b[0m\u001b[0;34m\"Artist\"\u001b[0m\u001b[0;34m]\u001b[0m\u001b[0;34m\u001b[0m\u001b[0;34m\u001b[0m\u001b[0m\n\u001b[1;32m     22\u001b[0m         \u001b[0msleep\u001b[0m\u001b[0;34m(\u001b[0m\u001b[0mrandint\u001b[0m\u001b[0;34m(\u001b[0m\u001b[0;36m1\u001b[0m\u001b[0;34m,\u001b[0m\u001b[0;36m3\u001b[0m\u001b[0;34m)\u001b[0m\u001b[0;34m)\u001b[0m\u001b[0;34m\u001b[0m\u001b[0;34m\u001b[0m\u001b[0m\n\u001b[0;32m---> 23\u001b[0;31m         \u001b[0msongId\u001b[0m \u001b[0;34m=\u001b[0m \u001b[0mfindSongId\u001b[0m\u001b[0;34m(\u001b[0m\u001b[0msong\u001b[0m\u001b[0;34m,\u001b[0m \u001b[0martist\u001b[0m\u001b[0;34m)\u001b[0m\u001b[0;34m\u001b[0m\u001b[0;34m\u001b[0m\u001b[0m\n\u001b[0m\u001b[1;32m     24\u001b[0m         \u001b[0;32mif\u001b[0m \u001b[0msongId\u001b[0m \u001b[0;34m==\u001b[0m \u001b[0;34m\"\"\u001b[0m\u001b[0;34m:\u001b[0m\u001b[0;34m\u001b[0m\u001b[0;34m\u001b[0m\u001b[0m\n\u001b[1;32m     25\u001b[0m             \u001b[0mprint\u001b[0m\u001b[0;34m(\u001b[0m\u001b[0;34m\"Error with: {} by {}\"\u001b[0m\u001b[0;34m.\u001b[0m\u001b[0mformat\u001b[0m\u001b[0;34m(\u001b[0m\u001b[0msong\u001b[0m\u001b[0;34m,\u001b[0m \u001b[0martist\u001b[0m\u001b[0;34m)\u001b[0m\u001b[0;34m)\u001b[0m\u001b[0;34m\u001b[0m\u001b[0;34m\u001b[0m\u001b[0m\n",
      "\u001b[0;32m<ipython-input-71-1d15188b9751>\u001b[0m in \u001b[0;36mfindSongId\u001b[0;34m(trackName, artistName)\u001b[0m\n\u001b[1;32m     14\u001b[0m     \u001b[0mtrackName\u001b[0m \u001b[0;34m=\u001b[0m \u001b[0mtrackName\u001b[0m\u001b[0;34m.\u001b[0m\u001b[0msplit\u001b[0m\u001b[0;34m(\u001b[0m\u001b[0;34m\"by\"\u001b[0m\u001b[0;34m)\u001b[0m\u001b[0;34m[\u001b[0m\u001b[0;36m0\u001b[0m\u001b[0;34m]\u001b[0m\u001b[0;34m.\u001b[0m\u001b[0mstrip\u001b[0m\u001b[0;34m(\u001b[0m\u001b[0;34m)\u001b[0m\u001b[0;34m\u001b[0m\u001b[0;34m\u001b[0m\u001b[0m\n\u001b[1;32m     15\u001b[0m     \u001b[0mprint\u001b[0m\u001b[0;34m(\u001b[0m\u001b[0mtrackName\u001b[0m\u001b[0;34m)\u001b[0m\u001b[0;34m\u001b[0m\u001b[0;34m\u001b[0m\u001b[0m\n\u001b[0;32m---> 16\u001b[0;31m     \u001b[0mresults\u001b[0m \u001b[0;34m=\u001b[0m \u001b[0msp\u001b[0m\u001b[0;34m.\u001b[0m\u001b[0msearch\u001b[0m\u001b[0;34m(\u001b[0m\u001b[0mq\u001b[0m\u001b[0;34m=\u001b[0m\u001b[0;34m\"track:\"\u001b[0m \u001b[0;34m+\u001b[0m \u001b[0mtrackName\u001b[0m\u001b[0;34m,\u001b[0m \u001b[0mtype\u001b[0m\u001b[0;34m=\u001b[0m\u001b[0;34m\"track\"\u001b[0m\u001b[0;34m)\u001b[0m\u001b[0;34m\u001b[0m\u001b[0;34m\u001b[0m\u001b[0m\n\u001b[0m\u001b[1;32m     17\u001b[0m \u001b[0;34m\u001b[0m\u001b[0m\n\u001b[1;32m     18\u001b[0m     \u001b[0;32mfor\u001b[0m \u001b[0mtrack\u001b[0m \u001b[0;32min\u001b[0m \u001b[0mitems\u001b[0m\u001b[0;34m:\u001b[0m\u001b[0;34m\u001b[0m\u001b[0;34m\u001b[0m\u001b[0m\n",
      "\u001b[0;32m~/anaconda3/lib/python3.7/site-packages/spotipy/client.py\u001b[0m in \u001b[0;36msearch\u001b[0;34m(self, q, limit, offset, type, market)\u001b[0m\n\u001b[1;32m    361\u001b[0m         \"\"\"\n\u001b[1;32m    362\u001b[0m         return self._get('search', q=q, limit=limit,\n\u001b[0;32m--> 363\u001b[0;31m                          offset=offset, type=type, market=market)\n\u001b[0m\u001b[1;32m    364\u001b[0m \u001b[0;34m\u001b[0m\u001b[0m\n\u001b[1;32m    365\u001b[0m     \u001b[0;32mdef\u001b[0m \u001b[0muser\u001b[0m\u001b[0;34m(\u001b[0m\u001b[0mself\u001b[0m\u001b[0;34m,\u001b[0m \u001b[0muser\u001b[0m\u001b[0;34m)\u001b[0m\u001b[0;34m:\u001b[0m\u001b[0;34m\u001b[0m\u001b[0;34m\u001b[0m\u001b[0m\n",
      "\u001b[0;32m~/anaconda3/lib/python3.7/site-packages/spotipy/client.py\u001b[0m in \u001b[0;36m_get\u001b[0;34m(self, url, args, payload, **kwargs)\u001b[0m\n\u001b[1;32m    162\u001b[0m         \u001b[0;32mwhile\u001b[0m \u001b[0mretries\u001b[0m \u001b[0;34m>\u001b[0m \u001b[0;36m0\u001b[0m\u001b[0;34m:\u001b[0m\u001b[0;34m\u001b[0m\u001b[0;34m\u001b[0m\u001b[0m\n\u001b[1;32m    163\u001b[0m             \u001b[0;32mtry\u001b[0m\u001b[0;34m:\u001b[0m\u001b[0;34m\u001b[0m\u001b[0;34m\u001b[0m\u001b[0m\n\u001b[0;32m--> 164\u001b[0;31m                 \u001b[0;32mreturn\u001b[0m \u001b[0mself\u001b[0m\u001b[0;34m.\u001b[0m\u001b[0m_internal_call\u001b[0m\u001b[0;34m(\u001b[0m\u001b[0;34m'GET'\u001b[0m\u001b[0;34m,\u001b[0m \u001b[0murl\u001b[0m\u001b[0;34m,\u001b[0m \u001b[0mpayload\u001b[0m\u001b[0;34m,\u001b[0m \u001b[0mkwargs\u001b[0m\u001b[0;34m)\u001b[0m\u001b[0;34m\u001b[0m\u001b[0;34m\u001b[0m\u001b[0m\n\u001b[0m\u001b[1;32m    165\u001b[0m             \u001b[0;32mexcept\u001b[0m \u001b[0mSpotifyException\u001b[0m \u001b[0;32mas\u001b[0m \u001b[0me\u001b[0m\u001b[0;34m:\u001b[0m\u001b[0;34m\u001b[0m\u001b[0;34m\u001b[0m\u001b[0m\n\u001b[1;32m    166\u001b[0m                 \u001b[0mretries\u001b[0m \u001b[0;34m-=\u001b[0m \u001b[0;36m1\u001b[0m\u001b[0;34m\u001b[0m\u001b[0;34m\u001b[0m\u001b[0m\n",
      "\u001b[0;32m~/anaconda3/lib/python3.7/site-packages/spotipy/client.py\u001b[0m in \u001b[0;36m_internal_call\u001b[0;34m(self, method, url, payload, params)\u001b[0m\n\u001b[1;32m    143\u001b[0m                 raise SpotifyException(r.status_code,\n\u001b[1;32m    144\u001b[0m                                        \u001b[0;34m-\u001b[0m\u001b[0;36m1\u001b[0m\u001b[0;34m,\u001b[0m \u001b[0;34m'%s:\\n %s'\u001b[0m \u001b[0;34m%\u001b[0m \u001b[0;34m(\u001b[0m\u001b[0mr\u001b[0m\u001b[0;34m.\u001b[0m\u001b[0murl\u001b[0m\u001b[0;34m,\u001b[0m \u001b[0mmsg\u001b[0m\u001b[0;34m)\u001b[0m\u001b[0;34m,\u001b[0m\u001b[0;34m\u001b[0m\u001b[0;34m\u001b[0m\u001b[0m\n\u001b[0;32m--> 145\u001b[0;31m                                        headers=r.headers)\n\u001b[0m\u001b[1;32m    146\u001b[0m \u001b[0;34m\u001b[0m\u001b[0m\n\u001b[1;32m    147\u001b[0m             \u001b[0;32mtry\u001b[0m\u001b[0;34m:\u001b[0m\u001b[0;34m\u001b[0m\u001b[0;34m\u001b[0m\u001b[0m\n",
      "\u001b[0;31mSpotifyException\u001b[0m: http status: 401, code:-1 - https://api.spotify.com/v1/search?q=track%3AGone&limit=10&offset=0&type=track:\n The access token expired"
     ]
    }
   ],
   "source": [
    "df = pd.DataFrame([], columns=[\"Rank\",\"Artist\",\"Title\",\"Streams\",\"Date\",\n",
    "                                           \"Id\",\"Duration\",\"Time Signature\", \"Tempo\",\n",
    "                                           \"Key\", \"Mode\",\" Valence\", \"Danceability\",\n",
    "                                           \"Energy\", \"Acousticness\", \"Instrumentalness\"])\n",
    "with open(\"topChartWithFeatures.csv\",\"a\") as f:\n",
    "    df.to_csv(f,header=True,index=False)\n",
    "\n",
    "start = time()\n",
    "dayTime = time()\n",
    "prevDate = \"\"\n",
    "for i in range(len(data)):\n",
    "    row = data.iloc[i]\n",
    "    allRows = []\n",
    "    artistSong = row[\"Artist\"] + \"/:/\" + row[\"Song\"]\n",
    "    currDate = row[\"Date\"]\n",
    "    if currDate != prevDate:\n",
    "        print(\"Day: {}, Row: {} Time: {}\".format(currDate, i, time() - dayTime))\n",
    "        dayTime = time()\n",
    "        prevDate = currDate\n",
    "        \n",
    "    if artistSong not in songValues:\n",
    "        song = row[\"Song\"]\n",
    "        artist = row[\"Artist\"]\n",
    "        sleep(randint(0,2))\n",
    "        songId = findSongId(song, artist)\n",
    "        if songId == \"\":\n",
    "            print(\"Error with: {} by {}\".format(song, artist))\n",
    "            rowdata = [row[\"Rank\"], artist, song, row[\"Streams\"], row[\"Date\"],\n",
    "                   songId, 0, 0, 0, 0, 0, 0, 0, 0, 0, 0]\n",
    "        else:\n",
    "            features = sp.audio_features(songId)[0]\n",
    "            rowdata = [row[\"Rank\"], artist, song, row[\"Streams\"], row[\"Date\"],\n",
    "                       songId, features[\"duration_ms\"], features[\"time_signature\"],\n",
    "                       features[\"tempo\"], features[\"key\"], features[\"mode\"], features[\"valence\"],\n",
    "                       features[\"danceability\"], features[\"energy\"], features[\"acousticness\"], \n",
    "                       features[\"instrumentalness\"]]\n",
    "        \n",
    "        songValues[artistSong] = rowdata\n",
    "    else:\n",
    "        rowdata = songValues[artistSong]\n",
    "    allRows.append(rowdata)\n",
    "    \n",
    "    if i % 100 == 0:\n",
    "        df = pd.DataFrame(allRows, columns=[\"Rank\",\"Artist\",\"Title\",\"Streams\",\"Date\",\n",
    "                                           \"Id\",\"Duration\",\"Time Signature\", \"Tempo\",\n",
    "                                           \"Key\", \"Mode\",\" Valence\", \"Danceability\",\n",
    "                                           \"Energy\", \"Acousticness\", \"Instrumentalness\"])\n",
    "        with open(\"topChartWithFeatures.csv\", \"a\") as f:\n",
    "            df.to_csv(f, header=False, index=False)\n",
    "\n",
    "print(\"Time to complete:{}\".format(time() - start))"
   ]
  }
 ],
 "metadata": {
  "kernelspec": {
   "display_name": "Python 3",
   "language": "python",
   "name": "python3"
  },
  "language_info": {
   "codemirror_mode": {
    "name": "ipython",
    "version": 3
   },
   "file_extension": ".py",
   "mimetype": "text/x-python",
   "name": "python",
   "nbconvert_exporter": "python",
   "pygments_lexer": "ipython3",
   "version": "3.7.1"
  }
 },
 "nbformat": 4,
 "nbformat_minor": 2
}
