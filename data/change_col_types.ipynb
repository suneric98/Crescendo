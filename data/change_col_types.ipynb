{
 "cells": [
  {
   "cell_type": "code",
   "execution_count": 1,
   "metadata": {},
   "outputs": [],
   "source": [
    "import pandas as pd"
   ]
  },
  {
   "cell_type": "code",
   "execution_count": 2,
   "metadata": {},
   "outputs": [],
   "source": [
    "data = pd.read_csv(\"C:\\\\Users\\\\chris\\\\Documents\\\\GitHub\\\\Crescendo\\\\data\\\\topChartWithFeatures.csv\")\n",
    "data = data.rename(columns = {\" Valence\": \"Valence\"})"
   ]
  },
  {
   "cell_type": "code",
   "execution_count": 7,
   "metadata": {},
   "outputs": [
    {
     "name": "stderr",
     "output_type": "stream",
     "text": [
      "C:\\Users\\chris\\Anaconda3\\lib\\site-packages\\ipykernel_launcher.py:5: SettingWithCopyWarning: \n",
      "A value is trying to be set on a copy of a slice from a DataFrame\n",
      "\n",
      "See the caveats in the documentation: http://pandas.pydata.org/pandas-docs/stable/user_guide/indexing.html#returning-a-view-versus-a-copy\n",
      "  \"\"\"\n"
     ]
    }
   ],
   "source": [
    "strm = data[\"Streams\"]\n",
    "\n",
    "for i in range(len(strm)):\n",
    "    if type(strm[i]) == str:\n",
    "        strm[i] = int(strm[i].replace(\",\",\"\"))\n",
    "        \n",
    "for i in (\"Duration\", \"Tempo\", \"Valence\", \"Danceability\", \"Energy\", \"Acousticness\", \"Instrumentalness\"):\n",
    "    data[i] = data[i].astype(\"float\")"
   ]
  },
  {
   "cell_type": "code",
   "execution_count": 12,
   "metadata": {},
   "outputs": [],
   "source": [
    "# data = data.drop(columns = [\"Unnamed: 0\"])\n",
    "data[\"Date\"] = pd.to_datetime(data[\"Date\"])\n",
    "\n",
    "data.to_csv(\"topCharts.csv\")"
   ]
  },
  {
   "cell_type": "code",
   "execution_count": 14,
   "metadata": {
    "scrolled": true
   },
   "outputs": [
    {
     "name": "stdout",
     "output_type": "stream",
     "text": [
      "Unnamed: 0            int64\n",
      "Artist               object\n",
      "Title                object\n",
      "Rank                  int64\n",
      "Streams               int64\n",
      "Date                 object\n",
      "Id                   object\n",
      "Duration            float64\n",
      "Time Signature        int64\n",
      "Tempo               float64\n",
      "Key                   int64\n",
      "Mode                  int64\n",
      "Valence             float64\n",
      "Danceability        float64\n",
      "Energy              float64\n",
      "Acousticness        float64\n",
      "Instrumentalness    float64\n",
      "dtype: object\n",
      "Index(['Unnamed: 0', 'Artist', 'Title', 'Rank', 'Streams', 'Date', 'Id',\n",
      "       'Duration', 'Time Signature', 'Tempo', 'Key', 'Mode', 'Valence',\n",
      "       'Danceability', 'Energy', 'Acousticness', 'Instrumentalness'],\n",
      "      dtype='object')\n",
      "0         2018-01-01\n",
      "1         2018-01-01\n",
      "2         2018-01-01\n",
      "3         2018-01-01\n",
      "4         2018-01-01\n",
      "             ...    \n",
      "151596    2020-01-29\n",
      "151597    2020-01-29\n",
      "151598    2020-01-29\n",
      "151599    2020-01-29\n",
      "151600    2020-01-30\n",
      "Name: Date, Length: 151601, dtype: object\n"
     ]
    }
   ],
   "source": [
    "d2 = pd.read_csv(\"C:\\\\Users\\\\chris\\\\Documents\\\\GitHub\\\\Crescendo\\\\data\\\\topCharts.csv\")\n",
    "print(d2.dtypes)\n",
    "print(d2.columns)\n",
    "print(d2[\"Date\"])"
   ]
  }
 ],
 "metadata": {
  "kernelspec": {
   "display_name": "Python 3",
   "language": "python",
   "name": "python3"
  },
  "language_info": {
   "codemirror_mode": {
    "name": "ipython",
    "version": 3
   },
   "file_extension": ".py",
   "mimetype": "text/x-python",
   "name": "python",
   "nbconvert_exporter": "python",
   "pygments_lexer": "ipython3",
   "version": "3.7.4"
  }
 },
 "nbformat": 4,
 "nbformat_minor": 2
}
