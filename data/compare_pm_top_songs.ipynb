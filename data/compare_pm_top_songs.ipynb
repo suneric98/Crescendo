{
 "cells": [
  {
   "cell_type": "code",
   "execution_count": 64,
   "metadata": {},
   "outputs": [],
   "source": [
    "import spotipy\n",
    "import spotipy.util as util\n",
    "import json\n",
    "import pandas as pd\n",
    "from spotipy.oauth2 import SpotifyClientCredentials\n",
    "import matplotlib.pyplot as plt\n",
    "from scipy.stats import ttest_ind\n",
    "\n",
    "\n"
   ]
  },
  {
   "cell_type": "code",
   "execution_count": 2,
   "metadata": {},
   "outputs": [
    {
     "name": "stdout",
     "output_type": "stream",
     "text": [
      "env: SPOTIPY_CLIENT_ID=\"16a4e0ff93334a0ba81f6f784e0292b7\"\n",
      "env: SPOTIPY_CLIENT_SECRET='7acb5218466741a18896ac54797a0156'\n"
     ]
    }
   ],
   "source": [
    "%env SPOTIPY_CLIENT_ID = \"16a4e0ff93334a0ba81f6f784e0292b7\"\n",
    "%env SPOTIPY_CLIENT_SECRET = '7acb5218466741a18896ac54797a0156'\n",
    "\n",
    "scope = 'playlist-read-private playlist-read-collaborative user-library-read user-read-recently-played user-top-read'\n",
    "redirect_uri = \"http://localhost/\"\n",
    "username = \"chriscc301916\"\n",
    "client_id = \"16a4e0ff93334a0ba81f6f784e0292b7\"\n",
    "client_secret = \"7acb5218466741a18896ac54797a0156\"\n",
    "\n",
    "\n",
    "post_uri = 'spotify:artist:246dkjvS1zLTtiykXe5h60'\n",
    "\n",
    "spotify = spotipy.client.Spotify(client_credentials_manager = SpotifyClientCredentials(client_id = client_id, client_secret = client_secret))\n",
    "\n",
    "results = spotify.artist_albums(post_uri, album_type='album')\n",
    "albums = results['items']\n",
    "\n",
    "while results['next']:\n",
    "    results = spotify.next(results)\n",
    "    albums.extend(results['items'])"
   ]
  },
  {
   "cell_type": "code",
   "execution_count": 3,
   "metadata": {},
   "outputs": [
    {
     "name": "stdout",
     "output_type": "stream",
     "text": [
      "{\"Hollywood's Bleeding\": 'spotify:track:19iGLq3w4Q1e8gg6qSGfRj', 'Saint-Tropez': 'spotify:track:51fG7ydQm27FiPo88Gi1RT', 'Enemies (feat. DaBaby)': 'spotify:track:70kYmAusgHwkBIk944STcj', 'Allergic': 'spotify:track:0mDmG70LDwF8pLDRQ2UgT7', 'A Thousand Bad Times': 'spotify:track:2IlaU3eLHt3NpylRdBmi7Z', 'Circles': 'spotify:track:6KjegbJPzNRetrgFJiHVMp', 'Die For Me (feat. Future & Halsey)': 'spotify:track:1AuH8eXCNIzojMqt5xBrSO', 'On The Road (feat. Meek Mill & Lil Baby)': 'spotify:track:0Y8QvQxB3fraIEBuWPW9er', 'Take What You Want (feat. Ozzy Osbourne & Travis Scott)': 'spotify:track:3sORDiSRTAlxecx5xJAqc8', \"I'm Gonna Be\": 'spotify:track:58tGA0YI9A4125KpIZhkHU', 'Staring At The Sun (feat. SZA)': 'spotify:track:0KEspatN1t1SAZUfm22c4z', 'Sunflower - Spider-Man: Into the Spider-Verse': 'spotify:track:6nY9ga57plhBYQnZX0Oqe8', 'Internet': 'spotify:track:4U3m2QS28oO5VM7G9BiRme', 'Goodbyes (feat. Young Thug)': 'spotify:track:6cIYFBwTv4JGpX7wOk5VIu', 'Myself': 'spotify:track:1Sg6DGutLrmuhzY1G3TOjZ', 'I Know': 'spotify:track:28hlznU5HWK94ly1a43PkK', 'Wow.': 'spotify:track:0aMiATaLkj7ffT4W9Ng0TM', 'Paranoid': 'spotify:track:4ZvPr92ZFwGV3NXV0BuN4N', 'Spoil My Night (feat. Swae Lee)': 'spotify:track:5VuxWXbt7XENQCtE9TzpTv', 'Rich & Sad': 'spotify:track:0ByqM6Uo4hzh1RZzHMM70v', 'Zack And Codeine': 'spotify:track:1YOa64UEisGlTR81WVq30J', \"Takin' Shots\": 'spotify:track:2GDljBIwimhJxEzo2pT5CQ', 'rockstar (feat. 21 Savage)': 'spotify:track:0e7ipj03S05BNilyu5bRzt', 'Over Now': 'spotify:track:6be6ifdnUqaDwaW4QEqdLu', 'Psycho (feat. Ty Dolla $ign)': 'spotify:track:3swc6WTsr7rl9DqQKQA55C', 'Better Now': 'spotify:track:3AISCGqWZmb6UPxoYrXaA9', 'Ball For Me (feat. Nicki Minaj)': 'spotify:track:6IaieqiCVvsNvEt6Y7yOFa', 'Otherside': 'spotify:track:4NKGvEQ5jvgknAgTgm0qiC', 'Stay': 'spotify:track:5LG9XvX0mtdAVvjS2dpVji', 'Blame It On Me': 'spotify:track:48vucq0YYmb5P8M01lhGOm', 'Same Bitches (feat. G-Eazy & YG)': 'spotify:track:688QpQAwqsLdBR6lr13wK1', 'Jonestown (Interlude)': 'spotify:track:55V5hmH3quPDi1RR5A1IkF', '92 Explorer': 'spotify:track:4RRCjocNAHHT4Bo5sIdJlF', 'Candy Paint': 'spotify:track:3xuVOZq7FdN6UUxjVisxgI', 'Sugar Wraith': 'spotify:track:3MhNPfNXUEnlPJLAITuXrh', 'Spoil My Night': 'spotify:track:1RAI8bswNBe6n6KaC6hqod', 'rockstar': 'spotify:track:19bX4zmC2zDben2ldhoRB3', 'Psycho': 'spotify:track:1GXABqvCDvQ58wPbkNhhzh', 'Ball For Me': 'spotify:track:3UP4tYlgEes6TajBXh8faH', 'Same Bitches': 'spotify:track:6ku6wzXQd8CgBqmKt5tBv0', 'Broken Whiskey Glass': 'spotify:track:0w89EjakLskVBfnUhCv58h', 'Big Lie': 'spotify:track:23EQjUvHmk0165f4z9618S', 'Deja Vu': 'spotify:track:00YtwqiHf6mMy2RNXLuyb8', 'No Option': 'spotify:track:7iDHQQ7OpVK4TpZ5xvwVTg', 'Cold': 'spotify:track:3lcAS5qm6ig3MoSnD3KChk', 'White Iverson': 'spotify:track:0TzthDYC7W04G6pVHj6zvu', 'I Fall Apart': 'spotify:track:1hU5zwjfLsaSlK4SPb6KbI', 'Patient': 'spotify:track:6P1elxSa1TPOAs7ebRx8wI', 'Go Flex': 'spotify:track:7APhcffEsfoK9aD0Ztrpix', 'Feel': 'spotify:track:5BvK9LvBCLgQYpSRt5dyZL', 'Too Young': 'spotify:track:6lamm8YMjvlvRB7yJBx59f', 'Congratulations': 'spotify:track:36yekZjioh32F8jmr87r6F', 'Up There': 'spotify:track:1Ygyh0WwnVcpVGr5ZLkkLP', 'Yours Truly, Austin Post': 'spotify:track:7JELNUVjaFSgoui0awh1Ph', 'Leave': 'spotify:track:2VhSusQHZEkYIjLL0bIrA6', 'Hit This Hard': 'spotify:track:5bRm9QsN4YTUuYp6O1jvMI', 'Money Made Me Do It': 'spotify:track:15iImUsXFd2B16XFolUCsL', 'Feeling Whitney': 'spotify:track:7uICAqNMmA9FnmFGzTo05e'}\n"
     ]
    }
   ],
   "source": [
    "album_uris = [albums[i][\"uri\"] for i in range(len(albums))]\n",
    "\n",
    "pm_songs  = {}\n",
    "for uri in album_uris:\n",
    "    album = spotify.album_tracks(uri)['items']\n",
    "    for i in range(len(album)):\n",
    "        pm_songs[album[i]['name']] = album[i]['uri']\n",
    "print(pm_songs)\n"
   ]
  },
  {
   "cell_type": "code",
   "execution_count": 59,
   "metadata": {},
   "outputs": [],
   "source": [
    "data = pd.read_csv(\"C:\\\\Users\\\\chris\\\\Documents\\\\GitHub\\\\Crescendo\\\\data\\\\topCharts.csv\")\n",
    "\n",
    "data = data.drop(columns = [\"Unnamed: 0\", \"Id\"], axis = 1)\n",
    "data[\"Date\"] = pd.to_datetime(data[\"Date\"])\n",
    "\n",
    "pm_topdata = data[data[\"Artist\"] == \"Post Malone\"]\n",
    "pm_topdata = pm_topdata.rename(columns = dict(zip(pm_topdata.columns, [col.lower() for col in pm_topdata.columns])))\n",
    "pm_topdata = pm_topdata.rename(columns = {\"duration\": \"duration_ms\", \"time signature\":\"time_signature\"})\n",
    "\n",
    "pm_topdata = pm_topdata.drop(columns = [\"artist\", \"date\", \"rank\", \"streams\"])\n",
    "\n",
    "pm_songnames = set(pm_songs.keys())\n",
    "pm_topsongnames = set(pm_topdata[\"title\"])\n",
    "\n",
    "pm_nottopsongnames = pm_songnames.difference(pm_topsongnames)\n"
   ]
  },
  {
   "cell_type": "code",
   "execution_count": 60,
   "metadata": {
    "scrolled": true
   },
   "outputs": [],
   "source": [
    "song_uris = [pm_songs[song] for song in pm_nottopsongnames]\n",
    "\n",
    "song_features_dict = {}\n",
    "song_features = spotify.audio_features(tracks = song_uris)\n",
    "for i in song_features[0].keys():\n",
    "    song_features_dict[i] = []\n",
    "\n",
    "for i in range(len(song_features)):\n",
    "    sf = song_features[i]\n",
    "    for k in sf.keys():\n",
    "        song_features_dict[k].append(sf[k])\n",
    "\n",
    "\n",
    "pm_nottopdata = pd.DataFrame.from_dict(song_features_dict)\n",
    "pm_nottopdata.insert(loc = 0, column = \"title\", value = pm_nottopsongnames)\n",
    "pm_nottopdata = pm_nottopdata.drop(columns = [\"analysis_url\", \"track_href\", \"uri\", \"id\", \"type\"])\n",
    "# print(pm_nottopdata)\n",
    "\n"
   ]
  },
  {
   "cell_type": "code",
   "execution_count": 61,
   "metadata": {
    "scrolled": true
   },
   "outputs": [
    {
     "name": "stdout",
     "output_type": "stream",
     "text": [
      "['title', 'duration_ms', 'time_signature', 'tempo', 'key', 'mode', 'valence', 'danceability', 'energy', 'acousticness', 'instrumentalness', 'liveness', 'speechiness', 'loudness']\n",
      "Index(['title', 'duration_ms', 'time_signature', 'tempo', 'key', 'mode',\n",
      "       'valence', 'danceability', 'energy', 'acousticness',\n",
      "       'instrumentalness'],\n",
      "      dtype='object')\n",
      "Index(['title', 'duration_ms', 'time_signature', 'tempo', 'key', 'mode',\n",
      "       'valence', 'danceability', 'energy', 'acousticness', 'instrumentalness',\n",
      "       'liveness', 'speechiness', 'loudness'],\n",
      "      dtype='object')\n"
     ]
    }
   ],
   "source": [
    "col_order = list(pm_topdata.columns)\n",
    "\n",
    "col_order.extend(list(set(pm_nottopdata.columns).difference(set(pm_topdata.columns))))\n",
    "print(col_order)\n",
    "pm_nottopdata = pm_nottopdata[col_order]\n",
    "\n",
    "print(pm_topdata.columns)\n",
    "print(pm_nottopdata.columns)"
   ]
  },
  {
   "cell_type": "code",
   "execution_count": 69,
   "metadata": {
    "scrolled": true
   },
   "outputs": [
    {
     "name": "stdout",
     "output_type": "stream",
     "text": [
      "duration_ms         207180.243552\n",
      "time_signature           3.995784\n",
      "tempo                  132.830598\n",
      "key                      5.767237\n",
      "mode                     0.646329\n",
      "valence                  0.379595\n",
      "danceability             0.647474\n",
      "energy                   0.610406\n",
      "acousticness             0.287563\n",
      "instrumentalness         0.002217\n",
      "dtype: float64\n",
      "\n",
      "duration_ms         224629.058824\n",
      "time_signature           4.000000\n",
      "tempo                  122.805529\n",
      "key                      4.823529\n",
      "mode                     0.588235\n",
      "valence                  0.323400\n",
      "danceability             0.621235\n",
      "energy                   0.568706\n",
      "acousticness             0.414118\n",
      "instrumentalness         0.000308\n",
      "liveness                 0.119159\n",
      "speechiness              0.087547\n",
      "loudness                -6.676000\n",
      "dtype: float64\n"
     ]
    },
    {
     "data": {
      "text/plain": [
       "title                object\n",
       "duration_ms         float64\n",
       "time_signature        int64\n",
       "tempo               float64\n",
       "key                   int64\n",
       "mode                  int64\n",
       "valence             float64\n",
       "danceability        float64\n",
       "energy              float64\n",
       "acousticness        float64\n",
       "instrumentalness    float64\n",
       "dtype: object"
      ]
     },
     "execution_count": 69,
     "metadata": {},
     "output_type": "execute_result"
    }
   ],
   "source": [
    "print(pm_topdata.mean())\n",
    "print()\n",
    "print(pm_nottopdata.mean())\n"
   ]
  },
  {
   "cell_type": "code",
   "execution_count": 72,
   "metadata": {},
   "outputs": [
    {
     "name": "stdout",
     "output_type": "stream",
     "text": [
      "duration_ms: Ttest_indResult(statistic=-2.0001395952831342, pvalue=0.06269976208839874)\n",
      "time_signature: Ttest_indResult(statistic=-1.4046117807534837, pvalue=0.160175272310743)\n",
      "tempo: Ttest_indResult(statistic=1.4834758941665267, pvalue=0.15729709303138356)\n",
      "key: Ttest_indResult(statistic=1.3713664042918061, pvalue=0.1890916656652412)\n",
      "mode: Ttest_indResult(statistic=0.4717212328842987, pvalue=0.6434709411056503)\n",
      "valence: Ttest_indResult(statistic=1.4836678860018229, pvalue=0.15720151279800487)\n",
      "danceability: Ttest_indResult(statistic=0.9063153854305085, pvalue=0.3781736521018636)\n",
      "energy: Ttest_indResult(statistic=1.321937685827049, pvalue=0.20472195407087618)\n",
      "acousticness: Ttest_indResult(statistic=-3.1029384703158343, pvalue=0.006800498942874899)\n",
      "instrumentalness: Ttest_indResult(statistic=3.8365799313648554, pvalue=0.0001842954947498194)\n"
     ]
    }
   ],
   "source": [
    "for var in pm_topdata.columns:\n",
    "    \n",
    "    #ho: top[var] == nottop[var]\n",
    "    #ha: top[var] != nottop[var]\n",
    "    if pm_topdata[var].dtypes != \"object\":\n",
    "        print(f\"{var}: {ttest_ind(pm_topdata[var], pm_nottopdata[var], equal_var = False)}\")"
   ]
  }
 ],
 "metadata": {
  "kernelspec": {
   "display_name": "Python 3",
   "language": "python",
   "name": "python3"
  },
  "language_info": {
   "codemirror_mode": {
    "name": "ipython",
    "version": 3
   },
   "file_extension": ".py",
   "mimetype": "text/x-python",
   "name": "python",
   "nbconvert_exporter": "python",
   "pygments_lexer": "ipython3",
   "version": "3.7.4"
  }
 },
 "nbformat": 4,
 "nbformat_minor": 2
}
