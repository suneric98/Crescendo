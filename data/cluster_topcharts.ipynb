{
 "cells": [
  {
   "cell_type": "code",
   "execution_count": 1,
   "metadata": {},
   "outputs": [],
   "source": [
    "import pandas as pd\n",
    "import numpy as np\n",
    "import matplotlib.pyplot as plt\n",
    "from sklearn.cluster import KMeans\n",
    "from sklearn.preprocessing import MinMaxScaler\n",
    "from collections import Counter\n",
    "import pprint\n",
    "\n",
    "pp = pprint.PrettyPrinter(indent=4)"
   ]
  },
  {
   "cell_type": "code",
   "execution_count": 2,
   "metadata": {},
   "outputs": [],
   "source": [
    "data = pd.read_csv(\"topCharts_continuous.csv\", index_col= 0)"
   ]
  },
  {
   "cell_type": "code",
   "execution_count": 3,
   "metadata": {},
   "outputs": [],
   "source": [
    "cluster_df = pd.DataFrame(columns = data.columns)\n",
    "\n",
    "for a in data[\"Artist\"].unique():\n",
    "    df_a = data[data[\"Artist\"] == a]\n",
    "    for s in df_a[\"Title\"].unique():\n",
    "        df_as = df_a[df_a[\"Title\"] == s]\n",
    "        cluster_df.loc[len(cluster_df)] = df_as.iloc[0,:]\n"
   ]
  },
  {
   "cell_type": "code",
   "execution_count": 4,
   "metadata": {},
   "outputs": [],
   "source": [
    "mms = MinMaxScaler()\n",
    "cluster_values = cluster_df.iloc[:,2:]\n",
    "mms.fit(cluster_values)\n",
    "data_transformed = mms.transform(cluster_values)"
   ]
  },
  {
   "cell_type": "code",
   "execution_count": 5,
   "metadata": {},
   "outputs": [
    {
     "name": "stdout",
     "output_type": "stream",
     "text": [
      "[729.4363942996962, 514.1937394426532, 414.0591279035871, 362.34521745517736, 326.06469706433774, 296.52189293188326, 277.43594466223055, 260.7997543234725, 247.04610379376814, 231.57537069411566, 223.10436665570816, 214.19042533867687, 205.24522497947135, 200.10882728979138, 192.97557358455816, 187.32694826572407, 182.87256200178518, 177.28747157153416, 172.74376003388403]\n"
     ]
    }
   ],
   "source": [
    "inertias = []\n",
    "for i in range(1, 20):\n",
    "    kmeans = KMeans(n_clusters = i).fit(data_transformed)\n",
    "    inertias.append(kmeans.inertia_)\n",
    "print(inertias)"
   ]
  },
  {
   "cell_type": "code",
   "execution_count": 6,
   "metadata": {},
   "outputs": [
    {
     "data": {
      "image/png": "[encoded data removed]",
      "text/plain": [
       "<Figure size 432x288 with 1 Axes>"
      ]
     },
     "metadata": {
      "needs_background": "light"
     },
     "output_type": "display_data"
    }
   ],
   "source": [
    "plt.plot(range(1,len(inertias)+1), inertias, \"bx-\")\n",
    "plt.xlabel('k')\n",
    "plt.ylabel(\"Inertia\")\n",
    "plt.xticks(range(1,len(inertias)+1))\n",
    "plt.show()\n",
    "#k=9"
   ]
  },
  {
   "cell_type": "code",
   "execution_count": 7,
   "metadata": {},
   "outputs": [
    {
     "data": {
      "image/png": "[encoded data removed]",
      "text/plain": [
       "<Figure size 432x288 with 1 Axes>"
      ]
     },
     "metadata": {
      "needs_background": "light"
     },
     "output_type": "display_data"
    }
   ],
   "source": [
    "diffs = np.array(inertias[1:]) - np.array(inertias[:len(inertias)-1])\n",
    "plt.plot(range(1,len(inertias)+1), [-inertias[0]] + list(diffs),\"bx-\")\n",
    "plt.ylabel(\"Change in Inertia\")\n",
    "plt.xticks(range(1,len(inertias)+1))\n",
    "\n",
    "plt.show()"
   ]
  },
  {
   "cell_type": "code",
   "execution_count": 8,
   "metadata": {},
   "outputs": [],
   "source": [
    "kmeans_opt = KMeans(n_clusters = 10).fit(data_transformed)"
   ]
  },
  {
   "cell_type": "code",
   "execution_count": 9,
   "metadata": {},
   "outputs": [],
   "source": [
    "labels = kmeans_opt.labels_\n",
    "cluster_df[\"Label\"] = labels"
   ]
  },
  {
   "cell_type": "code",
   "execution_count": 10,
   "metadata": {},
   "outputs": [
    {
     "name": "stdout",
     "output_type": "stream",
     "text": [
      "         Artist                       Title    Tempo  Valence  Danceability  \\\n",
      "0   Post Malone                    rockstar  159.801    0.129         0.585   \n",
      "5   Post Malone               White Iverson  130.098    0.309         0.675   \n",
      "9   Post Malone                    Paranoid  159.914    0.253         0.625   \n",
      "19  Post Malone  rockstar (feat. 21 Savage)  159.801    0.129         0.585   \n",
      "22  Post Malone              Blame It On Me  121.873    0.274         0.652   \n",
      "\n",
      "    Energy  Acousticness  Instrumentalness  Label  \n",
      "0    0.520         0.124          0.000070      0  \n",
      "5    0.562         0.233          0.000000      0  \n",
      "9    0.536         0.038          0.000023      0  \n",
      "19   0.520         0.124          0.000070      0  \n",
      "22   0.591         0.145          0.000006      0  \n",
      "\n",
      "          Artist                  Title    Tempo  Valence  Danceability  \\\n",
      "24   Post Malone  Jonestown (Interlude)   77.592    0.288         0.380   \n",
      "128       Khalid                   9.13  131.720    0.590         0.289   \n",
      "129       Khalid      Salem's Interlude   80.933    0.457         0.479   \n",
      "132       Khalid                   Self  143.980    0.439         0.618   \n",
      "137       Khalid               Bad Luck  164.047    0.303         0.432   \n",
      "\n",
      "     Energy  Acousticness  Instrumentalness  Label  \n",
      "24    0.454         0.755             0.623      9  \n",
      "128   0.451         0.975             0.942      9  \n",
      "129   0.485         0.963             0.658      9  \n",
      "132   0.693         0.440             0.759      9  \n",
      "137   0.520         0.277             0.371      9  \n"
     ]
    }
   ],
   "source": [
    "print(cluster_df[cluster_df[\"Label\"] == 0].head())\n",
    "print()\n",
    "print(cluster_df[cluster_df[\"Label\"] == 9].head())"
   ]
  },
  {
   "cell_type": "code",
   "execution_count": 11,
   "metadata": {},
   "outputs": [
    {
     "name": "stdout",
     "output_type": "stream",
     "text": [
      "                                                Title  Label\n",
      "0                                            rockstar      0\n",
      "5                                       White Iverson      0\n",
      "22                                     Blame It On Me      0\n",
      "19                         rockstar (feat. 21 Savage)      0\n",
      "9                                            Paranoid      0\n",
      "25      Sunflower - Spider-Man: Into the Spider-Verse      1\n",
      "7                        Psycho (feat. Ty Dolla $ign)      1\n",
      "16                                       Takin' Shots      1\n",
      "15                    Ball For Me (feat. Nicki Minaj)      1\n",
      "37                                           Allergic      2\n",
      "31                             Enemies (feat. DaBaby)      2\n",
      "29                                            Circles      2\n",
      "21                                        92 Explorer      2\n",
      "32                               Hollywood's Bleeding      3\n",
      "11                    Spoil My Night (feat. Swae Lee)      3\n",
      "10                                         Better Now      3\n",
      "17                                               Stay      3\n",
      "18                   Same Bitches (feat. G-Eazy & YG)      3\n",
      "28                        Goodbyes (Feat. Young Thug)      3\n",
      "20                                          Otherside      3\n",
      "4                                             Go Flex      3\n",
      "27                                       Wow. - Remix      4\n",
      "26                                               Wow.      4\n",
      "42                                             I Know      5\n",
      "40                                           Internet      6\n",
      "39                                       I'm Gonna Be      7\n",
      "2                                         Candy Paint      7\n",
      "33  Take What You Want (feat. Ozzy Osbourne & Trav...      8\n",
      "38                     Staring At The Sun (feat. SZA)      8\n",
      "1                                        I Fall Apart      8\n",
      "36                               A Thousand Bad Times      8\n",
      "35           On The Road (feat. Meek Mill & Lil Baby)      8\n",
      "34                 Die For Me (feat. Future & Halsey)      8\n",
      "13                                           Over Now      8\n",
      "14                                   Zack And Codeine      8\n",
      "30                                       Saint-Tropez      8\n",
      "3                                     Congratulations      8\n",
      "8                                             Deja Vu      8\n",
      "12                                         Rich & Sad      8\n",
      "41                                             Myself      8\n",
      "6                                           No Option      8\n",
      "23                                       Sugar Wraith      8\n",
      "24                              Jonestown (Interlude)      9\n"
     ]
    }
   ],
   "source": [
    "pm = cluster_df[cluster_df[\"Artist\"] == \"Post Malone\"].loc[:,[\"Title\",\"Label\"]]\n",
    "pm.sort_values(by = \"Label\", inplace = True)\n",
    "print(pm)"
   ]
  },
  {
   "cell_type": "code",
   "execution_count": 12,
   "metadata": {},
   "outputs": [],
   "source": [
    "groups ={}\n",
    "counters = {}\n",
    "for i in range(10):\n",
    "    groups[i] = cluster_df[cluster_df[\"Label\"] == i]\n",
    "    counters[i] = Counter(groups[i][\"Artist\"])"
   ]
  },
  {
   "cell_type": "code",
   "execution_count": 13,
   "metadata": {},
   "outputs": [],
   "source": [
    "def getClusterSongs(cluster_num, groups = groups, counters = counters, artists = [], n_artists = 3):\n",
    "    cnt = counters[cluster_num]\n",
    "    grp = groups[cluster_num]\n",
    "    artsong = {}\n",
    "    if artists:\n",
    "        assert(set(artists).issubset(set(cnt.keys())))\n",
    "    else:\n",
    "        n_artists = min(n_artists, len(cnt.keys()))\n",
    "        artists = [a[0] for a in cnt.most_common(n_artists)]\n",
    "    for artist in artists:\n",
    "        artsong[artist] = list(grp[grp[\"Artist\"] == artist][\"Title\"])\n",
    "    return artsong   "
   ]
  },
  {
   "cell_type": "code",
   "execution_count": 19,
   "metadata": {},
   "outputs": [
    {
     "name": "stdout",
     "output_type": "stream",
     "text": [
      "{   'Drake': [   'Don’t Matter To Me',\n",
      "                 'Summer Games',\n",
      "                 '14-Mar',\n",
      "                 'Final Fantasy',\n",
      "                 'Don’t Matter To Me (with Michael Jackson)',\n",
      "                 'Successful (feat. Trey Songz & Lil Wayne)',\n",
      "                 'Days in The East',\n",
      "                 'My Side',\n",
      "                 'Can I',\n",
      "                 'Heat Of The Moment'],\n",
      "    'Mac Miller': [   'Self Care',\n",
      "                      'Hurt Feelings',\n",
      "                      'Conversation Pt. 1',\n",
      "                      'Jet Fuel',\n",
      "                      'Weekend (feat. Miguel)',\n",
      "                      'Cinderella (feat. Ty Dolla $ign)',\n",
      "                      'I Can See',\n",
      "                      'Hand Me Downs',\n",
      "                      \"That's On Me\"],\n",
      "    'XXXTENTACION': [   'Jocelyn Flores',\n",
      "                        'Hope',\n",
      "                        'Save Me',\n",
      "                        'Slipknot',\n",
      "                        'King',\n",
      "                        'The Explanation',\n",
      "                        'Train food',\n",
      "                        'Touch Eem Body',\n",
      "                        'Ecstasy']}\n"
     ]
    }
   ],
   "source": [
    "pp.pprint(getClusterSongs(3))"
   ]
  },
  {
   "cell_type": "code",
   "execution_count": 17,
   "metadata": {},
   "outputs": [
    {
     "name": "stdout",
     "output_type": "stream",
     "text": [
      "{   'Billie Eilish': [   'lovely (with Khalid)',\n",
      "                         'ocean eyes',\n",
      "                         \"when the party's over\",\n",
      "                         'bitches broken hearts',\n",
      "                         'come out and play',\n",
      "                         'lovely',\n",
      "                         'WHEN I WAS OLDER - Music Inspired By The Film ROMA',\n",
      "                         'xanny',\n",
      "                         'listen before i go',\n",
      "                         'i love you',\n",
      "                         'goodbye',\n",
      "                         'everything i wanted'],\n",
      "    'Lana Del Rey': [   'Mariners Apartment Complex',\n",
      "                        'Venice Bitch',\n",
      "                        'hope is a dangerous thing for a woman like me to have '\n",
      "                        '- but I have it',\n",
      "                        'Fuck it I love you',\n",
      "                        'The greatest',\n",
      "                        'Norman fucking Rockwell',\n",
      "                        'Cinnamon Girl',\n",
      "                        'Love song',\n",
      "                        'How to disappear',\n",
      "                        'California',\n",
      "                        'The Next Best American Record',\n",
      "                        'Happiness is a butterfly',\n",
      "                        'Bartender'],\n",
      "    'XXXTENTACION': [   'the remedy for a broken heart (why am I so in love)',\n",
      "                        'ALONE, PART 3',\n",
      "                        'before I close my eyes',\n",
      "                        'Introduction (instructions)',\n",
      "                        'Revenge',\n",
      "                        'Carry On',\n",
      "                        'Orlando',\n",
      "                        'Dead Inside (Interlude)',\n",
      "                        'Ayala (Outro)',\n",
      "                        'what are you so afraid of',\n",
      "                        'difference (interlude)',\n",
      "                        'Introduction',\n",
      "                        'Rebirth (2016)',\n",
      "                        'UGLY',\n",
      "                        'Triumph',\n",
      "                        'introduction']}\n"
     ]
    }
   ],
   "source": [
    "pp.pprint(getClusterSongs(6))"
   ]
  },
  {
   "cell_type": "code",
   "execution_count": null,
   "metadata": {},
   "outputs": [],
   "source": []
  }
 ],
 "metadata": {
  "kernelspec": {
   "display_name": "Python 3",
   "language": "python",
   "name": "python3"
  },
  "language_info": {
   "codemirror_mode": {
    "name": "ipython",
    "version": 3
   },
   "file_extension": ".py",
   "mimetype": "text/x-python",
   "name": "python",
   "nbconvert_exporter": "python",
   "pygments_lexer": "ipython3",
   "version": "3.6.5"
  }
 },
 "nbformat": 4,
 "nbformat_minor": 2
}
