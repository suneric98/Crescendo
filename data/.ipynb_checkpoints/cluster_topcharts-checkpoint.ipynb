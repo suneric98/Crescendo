{
 "cells": [
  {
   "cell_type": "code",
   "execution_count": 1,
   "metadata": {},
   "outputs": [],
   "source": [
    "import pandas as pd\n",
    "import numpy as np\n",
    "import matplotlib.pyplot as plt\n",
    "from sklearn.cluster import KMeans\n",
    "from sklearn.preprocessing import MinMaxScaler\n",
    "from collections import Counter"
   ]
  },
  {
   "cell_type": "code",
   "execution_count": 2,
   "metadata": {},
   "outputs": [],
   "source": [
    "data = pd.read_csv(\"topCharts_continuous.csv\", index_col= 0)\n"
   ]
  },
  {
   "cell_type": "code",
   "execution_count": 3,
   "metadata": {},
   "outputs": [],
   "source": [
    "cluster_df = pd.DataFrame(columns = [\"Artist\", \"Title\", \"Tempo\", \"Valence\", \"Danceability\", \"Energy\",\"Acousticness\", \"Instrumentalness\"])\n",
    "\n",
    "\n",
    "for a in data[\"Artist\"].unique():\n",
    "    df_a = data[data[\"Artist\"] == a]\n",
    "    for s in df_a[\"Title\"].unique():\n",
    "        df_as = df_a[df_a[\"Title\"] == s]\n",
    "        cluster_df.loc[len(cluster_df)] = df_as.iloc[0,:]\n"
   ]
  },
  {
   "cell_type": "code",
   "execution_count": 4,
   "metadata": {},
   "outputs": [],
   "source": [
    "mms = MinMaxScaler()\n",
    "cluster_values = cluster_df.iloc[:,2:]\n",
    "mms.fit(cluster_values)\n",
    "data_transformed = mms.transform(cluster_values)"
   ]
  },
  {
   "cell_type": "code",
   "execution_count": 5,
   "metadata": {},
   "outputs": [
    {
     "name": "stdout",
     "output_type": "stream",
     "text": [
      "[729.4363942996962, 514.1937394426532, 414.0599608525691, 362.34521745517736, 326.0699652359146, 296.5156086904251, 277.43594466223055, 260.85529134309314, 245.2773737758492, 231.5796860280369, 221.32023517397758, 212.15568181533476, 206.08782030426386, 199.06378835576191, 193.3699417386369, 188.14940363266135, 181.56958192459456, 179.31017202147464, 173.73250106549446]\n"
     ]
    }
   ],
   "source": [
    "inertias = []\n",
    "for i in range(1, 20):\n",
    "    kmeans = KMeans(n_clusters = i).fit(data_transformed)\n",
    "    inertias.append(kmeans.inertia_)\n",
    "print(inertias)"
   ]
  },
  {
   "cell_type": "code",
   "execution_count": 6,
   "metadata": {},
   "outputs": [
    {
     "data": {
      "image/png": "[encoded data removed]",
      "text/plain": [
       "<Figure size 432x288 with 1 Axes>"
      ]
     },
     "metadata": {
      "needs_background": "light"
     },
     "output_type": "display_data"
    }
   ],
   "source": [
    "plt.plot(range(1,len(inertias)+1), inertias, \"bx-\")\n",
    "plt.xlabel('k')\n",
    "plt.ylabel(\"Inertia\")\n",
    "plt.xticks(range(1,len(inertias)+1))\n",
    "plt.show()\n",
    "#k=9"
   ]
  },
  {
   "cell_type": "code",
   "execution_count": 7,
   "metadata": {},
   "outputs": [
    {
     "data": {
      "image/png": "[encoded data removed]",
      "text/plain": [
       "<Figure size 432x288 with 1 Axes>"
      ]
     },
     "metadata": {
      "needs_background": "light"
     },
     "output_type": "display_data"
    }
   ],
   "source": [
    "diffs = np.array(inertias[1:]) - np.array(inertias[:len(inertias)-1])\n",
    "plt.plot(range(1,len(inertias)+1), [-inertias[0]] + list(diffs),\"bx-\")\n",
    "plt.ylabel(\"Change in Inertia\")\n",
    "plt.xticks(range(1,len(inertias)+1))\n",
    "\n",
    "plt.show()"
   ]
  },
  {
   "cell_type": "code",
   "execution_count": 8,
   "metadata": {},
   "outputs": [],
   "source": [
    "kmeans_opt = KMeans(n_clusters = 10).fit(data_transformed)"
   ]
  },
  {
   "cell_type": "code",
   "execution_count": 9,
   "metadata": {},
   "outputs": [],
   "source": [
    "labels = kmeans_opt.labels_\n",
    "cluster_df[\"Label\"] = labels"
   ]
  },
  {
   "cell_type": "code",
   "execution_count": 10,
   "metadata": {},
   "outputs": [
    {
     "name": "stdout",
     "output_type": "stream",
     "text": [
      "         Artist           Title    Tempo  Valence  Danceability  Energy  \\\n",
      "5   Post Malone   White Iverson  130.098    0.309         0.675   0.562   \n",
      "9   Post Malone        Paranoid  159.914    0.253         0.625   0.536   \n",
      "22  Post Malone  Blame It On Me  121.873    0.274         0.652   0.591   \n",
      "47       G-Eazy           Power   97.953    0.261         0.839   0.743   \n",
      "55     Lil Pump    Drug Addicts  142.064    0.210         0.933   0.488   \n",
      "\n",
      "    Acousticness  Instrumentalness  Label  \n",
      "5         0.2330          0.000000      0  \n",
      "9         0.0380          0.000023      0  \n",
      "22        0.1450          0.000006      0  \n",
      "47        0.1680          0.000051      0  \n",
      "55        0.0106          0.001070      0  \n",
      "\n",
      "         Artist                               Title    Tempo  Valence  \\\n",
      "14  Post Malone                    Zack And Codeine  138.039    0.386   \n",
      "23  Post Malone                        Sugar Wraith  164.020    0.307   \n",
      "34  Post Malone  Die For Me (feat. Future & Halsey)  145.010    0.452   \n",
      "36  Post Malone                A Thousand Bad Times  159.000    0.317   \n",
      "37  Post Malone                            Allergic  144.968    0.570   \n",
      "\n",
      "    Danceability  Energy  Acousticness  Instrumentalness  Label  \n",
      "14         0.738   0.824         0.150          0.000000      9  \n",
      "23         0.606   0.775         0.262          0.000000      9  \n",
      "34         0.614   0.660         0.190          0.000000      9  \n",
      "36         0.632   0.732         0.105          0.000012      9  \n",
      "37         0.665   0.741         0.154          0.000030      9  \n"
     ]
    }
   ],
   "source": [
    "print(cluster_df[cluster_df[\"Label\"] == 0].head())\n",
    "print()\n",
    "print(cluster_df[cluster_df[\"Label\"] == 9].head())"
   ]
  },
  {
   "cell_type": "code",
   "execution_count": 11,
   "metadata": {},
   "outputs": [
    {
     "data": {
      "text/html": [
       "<div>\n",
       "<style scoped>\n",
       "    .dataframe tbody tr th:only-of-type {\n",
       "        vertical-align: middle;\n",
       "    }\n",
       "\n",
       "    .dataframe tbody tr th {\n",
       "        vertical-align: top;\n",
       "    }\n",
       "\n",
       "    .dataframe thead th {\n",
       "        text-align: right;\n",
       "    }\n",
       "</style>\n",
       "<table border=\"1\" class=\"dataframe\">\n",
       "  <thead>\n",
       "    <tr style=\"text-align: right;\">\n",
       "      <th></th>\n",
       "      <th>Title</th>\n",
       "      <th>Label</th>\n",
       "    </tr>\n",
       "  </thead>\n",
       "  <tbody>\n",
       "    <tr>\n",
       "      <td>22</td>\n",
       "      <td>Blame It On Me</td>\n",
       "      <td>0</td>\n",
       "    </tr>\n",
       "    <tr>\n",
       "      <td>5</td>\n",
       "      <td>White Iverson</td>\n",
       "      <td>0</td>\n",
       "    </tr>\n",
       "    <tr>\n",
       "      <td>9</td>\n",
       "      <td>Paranoid</td>\n",
       "      <td>0</td>\n",
       "    </tr>\n",
       "    <tr>\n",
       "      <td>21</td>\n",
       "      <td>92 Explorer</td>\n",
       "      <td>1</td>\n",
       "    </tr>\n",
       "    <tr>\n",
       "      <td>20</td>\n",
       "      <td>Otherside</td>\n",
       "      <td>2</td>\n",
       "    </tr>\n",
       "    <tr>\n",
       "      <td>28</td>\n",
       "      <td>Goodbyes (Feat. Young Thug)</td>\n",
       "      <td>2</td>\n",
       "    </tr>\n",
       "    <tr>\n",
       "      <td>11</td>\n",
       "      <td>Spoil My Night (feat. Swae Lee)</td>\n",
       "      <td>2</td>\n",
       "    </tr>\n",
       "    <tr>\n",
       "      <td>10</td>\n",
       "      <td>Better Now</td>\n",
       "      <td>2</td>\n",
       "    </tr>\n",
       "    <tr>\n",
       "      <td>39</td>\n",
       "      <td>I'm Gonna Be</td>\n",
       "      <td>2</td>\n",
       "    </tr>\n",
       "    <tr>\n",
       "      <td>4</td>\n",
       "      <td>Go Flex</td>\n",
       "      <td>2</td>\n",
       "    </tr>\n",
       "    <tr>\n",
       "      <td>2</td>\n",
       "      <td>Candy Paint</td>\n",
       "      <td>2</td>\n",
       "    </tr>\n",
       "    <tr>\n",
       "      <td>18</td>\n",
       "      <td>Same Bitches (feat. G-Eazy &amp; YG)</td>\n",
       "      <td>2</td>\n",
       "    </tr>\n",
       "    <tr>\n",
       "      <td>17</td>\n",
       "      <td>Stay</td>\n",
       "      <td>2</td>\n",
       "    </tr>\n",
       "    <tr>\n",
       "      <td>24</td>\n",
       "      <td>Jonestown (Interlude)</td>\n",
       "      <td>3</td>\n",
       "    </tr>\n",
       "    <tr>\n",
       "      <td>40</td>\n",
       "      <td>Internet</td>\n",
       "      <td>3</td>\n",
       "    </tr>\n",
       "    <tr>\n",
       "      <td>26</td>\n",
       "      <td>Wow.</td>\n",
       "      <td>4</td>\n",
       "    </tr>\n",
       "    <tr>\n",
       "      <td>27</td>\n",
       "      <td>Wow. - Remix</td>\n",
       "      <td>4</td>\n",
       "    </tr>\n",
       "    <tr>\n",
       "      <td>31</td>\n",
       "      <td>Enemies (feat. DaBaby)</td>\n",
       "      <td>5</td>\n",
       "    </tr>\n",
       "    <tr>\n",
       "      <td>29</td>\n",
       "      <td>Circles</td>\n",
       "      <td>5</td>\n",
       "    </tr>\n",
       "    <tr>\n",
       "      <td>38</td>\n",
       "      <td>Staring At The Sun (feat. SZA)</td>\n",
       "      <td>5</td>\n",
       "    </tr>\n",
       "    <tr>\n",
       "      <td>6</td>\n",
       "      <td>No Option</td>\n",
       "      <td>5</td>\n",
       "    </tr>\n",
       "    <tr>\n",
       "      <td>3</td>\n",
       "      <td>Congratulations</td>\n",
       "      <td>5</td>\n",
       "    </tr>\n",
       "    <tr>\n",
       "      <td>15</td>\n",
       "      <td>Ball For Me (feat. Nicki Minaj)</td>\n",
       "      <td>6</td>\n",
       "    </tr>\n",
       "    <tr>\n",
       "      <td>7</td>\n",
       "      <td>Psycho (feat. Ty Dolla $ign)</td>\n",
       "      <td>6</td>\n",
       "    </tr>\n",
       "    <tr>\n",
       "      <td>25</td>\n",
       "      <td>Sunflower - Spider-Man: Into the Spider-Verse</td>\n",
       "      <td>6</td>\n",
       "    </tr>\n",
       "    <tr>\n",
       "      <td>16</td>\n",
       "      <td>Takin' Shots</td>\n",
       "      <td>6</td>\n",
       "    </tr>\n",
       "    <tr>\n",
       "      <td>32</td>\n",
       "      <td>Hollywood's Bleeding</td>\n",
       "      <td>7</td>\n",
       "    </tr>\n",
       "    <tr>\n",
       "      <td>35</td>\n",
       "      <td>On The Road (feat. Meek Mill &amp; Lil Baby)</td>\n",
       "      <td>7</td>\n",
       "    </tr>\n",
       "    <tr>\n",
       "      <td>30</td>\n",
       "      <td>Saint-Tropez</td>\n",
       "      <td>7</td>\n",
       "    </tr>\n",
       "    <tr>\n",
       "      <td>33</td>\n",
       "      <td>Take What You Want (feat. Ozzy Osbourne &amp; Trav...</td>\n",
       "      <td>7</td>\n",
       "    </tr>\n",
       "    <tr>\n",
       "      <td>0</td>\n",
       "      <td>rockstar</td>\n",
       "      <td>7</td>\n",
       "    </tr>\n",
       "    <tr>\n",
       "      <td>19</td>\n",
       "      <td>rockstar (feat. 21 Savage)</td>\n",
       "      <td>7</td>\n",
       "    </tr>\n",
       "    <tr>\n",
       "      <td>13</td>\n",
       "      <td>Over Now</td>\n",
       "      <td>7</td>\n",
       "    </tr>\n",
       "    <tr>\n",
       "      <td>12</td>\n",
       "      <td>Rich &amp; Sad</td>\n",
       "      <td>7</td>\n",
       "    </tr>\n",
       "    <tr>\n",
       "      <td>8</td>\n",
       "      <td>Deja Vu</td>\n",
       "      <td>7</td>\n",
       "    </tr>\n",
       "    <tr>\n",
       "      <td>1</td>\n",
       "      <td>I Fall Apart</td>\n",
       "      <td>7</td>\n",
       "    </tr>\n",
       "    <tr>\n",
       "      <td>42</td>\n",
       "      <td>I Know</td>\n",
       "      <td>8</td>\n",
       "    </tr>\n",
       "    <tr>\n",
       "      <td>41</td>\n",
       "      <td>Myself</td>\n",
       "      <td>9</td>\n",
       "    </tr>\n",
       "    <tr>\n",
       "      <td>14</td>\n",
       "      <td>Zack And Codeine</td>\n",
       "      <td>9</td>\n",
       "    </tr>\n",
       "    <tr>\n",
       "      <td>34</td>\n",
       "      <td>Die For Me (feat. Future &amp; Halsey)</td>\n",
       "      <td>9</td>\n",
       "    </tr>\n",
       "    <tr>\n",
       "      <td>36</td>\n",
       "      <td>A Thousand Bad Times</td>\n",
       "      <td>9</td>\n",
       "    </tr>\n",
       "    <tr>\n",
       "      <td>37</td>\n",
       "      <td>Allergic</td>\n",
       "      <td>9</td>\n",
       "    </tr>\n",
       "    <tr>\n",
       "      <td>23</td>\n",
       "      <td>Sugar Wraith</td>\n",
       "      <td>9</td>\n",
       "    </tr>\n",
       "  </tbody>\n",
       "</table>\n",
       "</div>"
      ],
      "text/plain": [
       "                                                Title  Label\n",
       "22                                     Blame It On Me      0\n",
       "5                                       White Iverson      0\n",
       "9                                            Paranoid      0\n",
       "21                                        92 Explorer      1\n",
       "20                                          Otherside      2\n",
       "28                        Goodbyes (Feat. Young Thug)      2\n",
       "11                    Spoil My Night (feat. Swae Lee)      2\n",
       "10                                         Better Now      2\n",
       "39                                       I'm Gonna Be      2\n",
       "4                                             Go Flex      2\n",
       "2                                         Candy Paint      2\n",
       "18                   Same Bitches (feat. G-Eazy & YG)      2\n",
       "17                                               Stay      2\n",
       "24                              Jonestown (Interlude)      3\n",
       "40                                           Internet      3\n",
       "26                                               Wow.      4\n",
       "27                                       Wow. - Remix      4\n",
       "31                             Enemies (feat. DaBaby)      5\n",
       "29                                            Circles      5\n",
       "38                     Staring At The Sun (feat. SZA)      5\n",
       "6                                           No Option      5\n",
       "3                                     Congratulations      5\n",
       "15                    Ball For Me (feat. Nicki Minaj)      6\n",
       "7                        Psycho (feat. Ty Dolla $ign)      6\n",
       "25      Sunflower - Spider-Man: Into the Spider-Verse      6\n",
       "16                                       Takin' Shots      6\n",
       "32                               Hollywood's Bleeding      7\n",
       "35           On The Road (feat. Meek Mill & Lil Baby)      7\n",
       "30                                       Saint-Tropez      7\n",
       "33  Take What You Want (feat. Ozzy Osbourne & Trav...      7\n",
       "0                                            rockstar      7\n",
       "19                         rockstar (feat. 21 Savage)      7\n",
       "13                                           Over Now      7\n",
       "12                                         Rich & Sad      7\n",
       "8                                             Deja Vu      7\n",
       "1                                        I Fall Apart      7\n",
       "42                                             I Know      8\n",
       "41                                             Myself      9\n",
       "14                                   Zack And Codeine      9\n",
       "34                 Die For Me (feat. Future & Halsey)      9\n",
       "36                               A Thousand Bad Times      9\n",
       "37                                           Allergic      9\n",
       "23                                       Sugar Wraith      9"
      ]
     },
     "execution_count": 11,
     "metadata": {},
     "output_type": "execute_result"
    }
   ],
   "source": [
    "pm = cluster_df[cluster_df[\"Artist\"] == \"Post Malone\"].loc[:,[\"Title\",\"Label\"]]\n",
    "pm.sort_values(by = \"Label\", inplace = True)\n",
    "pm"
   ]
  },
  {
   "cell_type": "code",
   "execution_count": 12,
   "metadata": {},
   "outputs": [],
   "source": [
    "groups ={}\n",
    "counters = {}\n",
    "for i in range(10):\n",
    "    groups[i] = cluster_df[cluster_df[\"Label\"] == i]\n",
    "    counters[i] = Counter(groups[i][\"Artist\"])"
   ]
  },
  {
   "cell_type": "code",
   "execution_count": 13,
   "metadata": {},
   "outputs": [
    {
     "data": {
      "text/plain": [
       "['92 Explorer']"
      ]
     },
     "execution_count": 13,
     "metadata": {},
     "output_type": "execute_result"
    }
   ],
   "source": [
    "g = groups[1]\n",
    "list(g[g[\"Artist\"] == \"Post Malone\"][\"Title\"])"
   ]
  },
  {
   "cell_type": "code",
   "execution_count": 14,
   "metadata": {},
   "outputs": [],
   "source": [
    "def getClusterSongs(cluster_num, groups = groups, counters = counters, artists = [], n_artists = 3):\n",
    "    cnt = counters[cluster_num]\n",
    "    grp = groups[cluster_num]\n",
    "    artsong = {}\n",
    "    if artists:\n",
    "        assert(set(artists).issubset(set(cnt.keys())))\n",
    "    else:\n",
    "        artists = [a[0] for a in cnt.most_common(n_artists)]\n",
    "    for artist in artists:\n",
    "        artsong[artist] = list(grp[grp[\"Artist\"] == artist][\"Title\"])\n",
    "    return artsong   "
   ]
  },
  {
   "cell_type": "code",
   "execution_count": 15,
   "metadata": {},
   "outputs": [
    {
     "data": {
      "text/plain": [
       "{'Logic': ['Contra',\n",
       "  'Overnight',\n",
       "  'Indica Badu',\n",
       "  'The Return',\n",
       "  'Everybody Dies',\n",
       "  'Wu Tang Forever (ft. Ghostface Killah, Raekwon, RZA, Method Man, Inspectah Deck, Cappadonna, Jackpot Scotty Wotty, U-God, Masta Killa, GZA)',\n",
       "  'YSIV',\n",
       "  'Ordinary Day (ft. Hailee Steinfeld)',\n",
       "  'The Adventures Of Stoney Bob (ft. Kajo, Slaydro, Big Lenbo)',\n",
       "  'Last Call',\n",
       "  'Keanu Reeves',\n",
       "  'Homicide',\n",
       "  'Homicide (feat. Eminem)',\n",
       "  'clickbait',\n",
       "  'Wannabe',\n",
       "  'Still Ballin (feat. Wiz Khalifa)',\n",
       "  'Cocaine',\n",
       "  'Limitless',\n",
       "  'BOBBY (feat. My Dad)'],\n",
       " 'DaBaby': ['Suge',\n",
       "  'Goin Baby',\n",
       "  'BOP',\n",
       "  'VIBEZ',\n",
       "  'RAW SHIT (feat. Migos)',\n",
       "  'GOSPEL (feat. Chance The Rapper, Gucci Mane & YK Osiris)',\n",
       "  'POP STAR (feat. Kevin Gates)',\n",
       "  'XXL',\n",
       "  'PROLLY HEARD',\n",
       "  'THERE HE GO'],\n",
       " 'BTS': ['DNA',\n",
       "  'Airplane pt.2',\n",
       "  '134340',\n",
       "  'Paradise',\n",
       "  'Love Maze',\n",
       "  'Anpanman',\n",
       "  'Trivia 轉 : Seesaw',\n",
       "  'Boy With Luv (feat. Halsey)',\n",
       "  'All Night (BTS World Original Soundtrack) [Pt. 3]']}"
      ]
     },
     "execution_count": 15,
     "metadata": {},
     "output_type": "execute_result"
    }
   ],
   "source": [
    "getClusterSongs(1)"
   ]
  }
 ],
 "metadata": {
  "kernelspec": {
   "display_name": "Python 3",
   "language": "python",
   "name": "python3"
  },
  "language_info": {
   "codemirror_mode": {
    "name": "ipython",
    "version": 3
   },
   "file_extension": ".py",
   "mimetype": "text/x-python",
   "name": "python",
   "nbconvert_exporter": "python",
   "pygments_lexer": "ipython3",
   "version": "3.7.4"
  }
 },
 "nbformat": 4,
 "nbformat_minor": 2
}
