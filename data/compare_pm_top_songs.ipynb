{
 "cells": [
  {
   "cell_type": "code",
   "execution_count": 75,
   "metadata": {},
   "outputs": [],
   "source": [
    "import spotipy\n",
    "import spotipy.util as util\n",
    "import json\n",
    "import pandas as pd\n",
    "from spotipy.oauth2 import SpotifyClientCredentials\n",
    "import matplotlib.pyplot as plt\n",
    "\n"
   ]
  },
  {
   "cell_type": "code",
   "execution_count": 36,
   "metadata": {},
   "outputs": [
    {
     "name": "stdout",
     "output_type": "stream",
     "text": [
      "env: SPOTIPY_CLIENT_ID=\"16a4e0ff93334a0ba81f6f784e0292b7\"\n",
      "env: SPOTIPY_CLIENT_SECRET='7acb5218466741a18896ac54797a0156'\n"
     ]
    }
   ],
   "source": [
    "%env SPOTIPY_CLIENT_ID = \"16a4e0ff93334a0ba81f6f784e0292b7\"\n",
    "%env SPOTIPY_CLIENT_SECRET = '7acb5218466741a18896ac54797a0156'\n",
    "\n",
    "scope = 'playlist-read-private playlist-read-collaborative user-library-read user-read-recently-played user-top-read'\n",
    "redirect_uri = \"http://localhost/\"\n",
    "username = \"chriscc301916\"\n",
    "client_id = \"16a4e0ff93334a0ba81f6f784e0292b7\"\n",
    "client_secret = \"7acb5218466741a18896ac54797a0156\"\n",
    "\n",
    "\n",
    "post_uri = 'spotify:artist:246dkjvS1zLTtiykXe5h60'\n",
    "\n",
    "spotify = spotipy.client.Spotify(client_credentials_manager = SpotifyClientCredentials(client_id = client_id, client_secret = client_secret))\n",
    "\n",
    "results = spotify.artist_albums(post_uri, album_type='album')\n",
    "albums = results['items']\n",
    "\n",
    "while results['next']:\n",
    "    results = spotify.next(results)\n",
    "    albums.extend(results['items'])"
   ]
  },
  {
   "cell_type": "code",
   "execution_count": 49,
   "metadata": {},
   "outputs": [
    {
     "name": "stdout",
     "output_type": "stream",
     "text": [
      "{\"Hollywood's Bleeding\": 'spotify:track:19iGLq3w4Q1e8gg6qSGfRj', 'Saint-Tropez': 'spotify:track:51fG7ydQm27FiPo88Gi1RT', 'Enemies (feat. DaBaby)': 'spotify:track:70kYmAusgHwkBIk944STcj', 'Allergic': 'spotify:track:0mDmG70LDwF8pLDRQ2UgT7', 'A Thousand Bad Times': 'spotify:track:2IlaU3eLHt3NpylRdBmi7Z', 'Circles': 'spotify:track:6KjegbJPzNRetrgFJiHVMp', 'Die For Me (feat. Future & Halsey)': 'spotify:track:1AuH8eXCNIzojMqt5xBrSO', 'On The Road (feat. Meek Mill & Lil Baby)': 'spotify:track:0Y8QvQxB3fraIEBuWPW9er', 'Take What You Want (feat. Ozzy Osbourne & Travis Scott)': 'spotify:track:3sORDiSRTAlxecx5xJAqc8', \"I'm Gonna Be\": 'spotify:track:58tGA0YI9A4125KpIZhkHU', 'Staring At The Sun (feat. SZA)': 'spotify:track:0KEspatN1t1SAZUfm22c4z', 'Sunflower - Spider-Man: Into the Spider-Verse': 'spotify:track:6nY9ga57plhBYQnZX0Oqe8', 'Internet': 'spotify:track:4U3m2QS28oO5VM7G9BiRme', 'Goodbyes (feat. Young Thug)': 'spotify:track:6cIYFBwTv4JGpX7wOk5VIu', 'Myself': 'spotify:track:1Sg6DGutLrmuhzY1G3TOjZ', 'I Know': 'spotify:track:28hlznU5HWK94ly1a43PkK', 'Wow.': 'spotify:track:0aMiATaLkj7ffT4W9Ng0TM', 'Paranoid': 'spotify:track:4ZvPr92ZFwGV3NXV0BuN4N', 'Spoil My Night (feat. Swae Lee)': 'spotify:track:5VuxWXbt7XENQCtE9TzpTv', 'Rich & Sad': 'spotify:track:0ByqM6Uo4hzh1RZzHMM70v', 'Zack And Codeine': 'spotify:track:1YOa64UEisGlTR81WVq30J', \"Takin' Shots\": 'spotify:track:2GDljBIwimhJxEzo2pT5CQ', 'rockstar (feat. 21 Savage)': 'spotify:track:0e7ipj03S05BNilyu5bRzt', 'Over Now': 'spotify:track:6be6ifdnUqaDwaW4QEqdLu', 'Psycho (feat. Ty Dolla $ign)': 'spotify:track:3swc6WTsr7rl9DqQKQA55C', 'Better Now': 'spotify:track:3AISCGqWZmb6UPxoYrXaA9', 'Ball For Me (feat. Nicki Minaj)': 'spotify:track:6IaieqiCVvsNvEt6Y7yOFa', 'Otherside': 'spotify:track:4NKGvEQ5jvgknAgTgm0qiC', 'Stay': 'spotify:track:5LG9XvX0mtdAVvjS2dpVji', 'Blame It On Me': 'spotify:track:48vucq0YYmb5P8M01lhGOm', 'Same Bitches (feat. G-Eazy & YG)': 'spotify:track:688QpQAwqsLdBR6lr13wK1', 'Jonestown (Interlude)': 'spotify:track:55V5hmH3quPDi1RR5A1IkF', '92 Explorer': 'spotify:track:4RRCjocNAHHT4Bo5sIdJlF', 'Candy Paint': 'spotify:track:3xuVOZq7FdN6UUxjVisxgI', 'Sugar Wraith': 'spotify:track:3MhNPfNXUEnlPJLAITuXrh', 'Spoil My Night': 'spotify:track:1RAI8bswNBe6n6KaC6hqod', 'rockstar': 'spotify:track:19bX4zmC2zDben2ldhoRB3', 'Psycho': 'spotify:track:1GXABqvCDvQ58wPbkNhhzh', 'Ball For Me': 'spotify:track:3UP4tYlgEes6TajBXh8faH', 'Same Bitches': 'spotify:track:6ku6wzXQd8CgBqmKt5tBv0', 'Broken Whiskey Glass': 'spotify:track:0w89EjakLskVBfnUhCv58h', 'Big Lie': 'spotify:track:23EQjUvHmk0165f4z9618S', 'Deja Vu': 'spotify:track:00YtwqiHf6mMy2RNXLuyb8', 'No Option': 'spotify:track:7iDHQQ7OpVK4TpZ5xvwVTg', 'Cold': 'spotify:track:3lcAS5qm6ig3MoSnD3KChk', 'White Iverson': 'spotify:track:0TzthDYC7W04G6pVHj6zvu', 'I Fall Apart': 'spotify:track:1hU5zwjfLsaSlK4SPb6KbI', 'Patient': 'spotify:track:6P1elxSa1TPOAs7ebRx8wI', 'Go Flex': 'spotify:track:7APhcffEsfoK9aD0Ztrpix', 'Feel': 'spotify:track:5BvK9LvBCLgQYpSRt5dyZL', 'Too Young': 'spotify:track:6lamm8YMjvlvRB7yJBx59f', 'Congratulations': 'spotify:track:36yekZjioh32F8jmr87r6F', 'Up There': 'spotify:track:1Ygyh0WwnVcpVGr5ZLkkLP', 'Yours Truly, Austin Post': 'spotify:track:7JELNUVjaFSgoui0awh1Ph', 'Leave': 'spotify:track:2VhSusQHZEkYIjLL0bIrA6', 'Hit This Hard': 'spotify:track:5bRm9QsN4YTUuYp6O1jvMI', 'Money Made Me Do It': 'spotify:track:15iImUsXFd2B16XFolUCsL', 'Feeling Whitney': 'spotify:track:7uICAqNMmA9FnmFGzTo05e'}\n"
     ]
    }
   ],
   "source": [
    "album_uris = [albums[i][\"uri\"] for i in range(len(albums))]\n",
    "\n",
    "pm_songs  = {}\n",
    "for uri in album_uris:\n",
    "    album = spotify.album_tracks(uri)['items']\n",
    "    for i in range(len(album)):\n",
    "        pm_songs[album[i]['name']] = album[i]['uri']\n",
    "print(pm_songs)\n"
   ]
  },
  {
   "cell_type": "code",
   "execution_count": 72,
   "metadata": {},
   "outputs": [
    {
     "name": "stdout",
     "output_type": "stream",
     "text": [
      "{'Yours Truly, Austin Post', 'Broken Whiskey Glass', 'Psycho', 'Up There', 'Patient', 'Hit This Hard', 'Too Young', 'Big Lie', 'Ball For Me', 'Goodbyes (feat. Young Thug)', 'Money Made Me Do It', 'Leave', 'Cold', 'Same Bitches', 'Feeling Whitney', 'Spoil My Night', 'Feel'}\n"
     ]
    }
   ],
   "source": [
    "data = pd.read_csv(\"C:\\\\Users\\\\chris\\\\Documents\\\\GitHub\\\\Crescendo\\\\data\\\\topCharts.csv\")\n",
    "\n",
    "data = data.drop(columns = [\"Unnamed: 0\", \"Id\"], axis = 1)\n",
    "data[\"Date\"] = pd.to_datetime(data[\"Date\"])\n",
    "\n",
    "pm_topdata = data[data[\"Artist\"] == \"Post Malone\"]\n",
    "\n",
    "pm_songnames = set(pm_songs.keys())\n",
    "pm_topsongnames = set(pm_topdata[\"Title\"])\n",
    "\n",
    "pm_nottopsongnames = pm_songnames.difference(pm_topsongnames)\n",
    "\n",
    "print(pm_nottopsongnames)"
   ]
  },
  {
   "cell_type": "code",
   "execution_count": 78,
   "metadata": {},
   "outputs": [
    {
     "name": "stdout",
     "output_type": "stream",
     "text": [
      "    danceability  energy  key  loudness  mode  speechiness  acousticness  \\\n",
      "0          0.649   0.618    6    -5.736     1       0.0729         0.505   \n",
      "1          0.353   0.666    7    -7.389     0       0.0701         0.359   \n",
      "2          0.755   0.557    8    -7.991     1       0.1090         0.532   \n",
      "3          0.630   0.374    5    -8.116     0       0.0314         0.405   \n",
      "4          0.752   0.659    3    -6.132     1       0.1390         0.550   \n",
      "5          0.625   0.565    0    -8.944     1       0.0474         0.268   \n",
      "6          0.635   0.609    4    -6.192     0       0.0434         0.397   \n",
      "7          0.444   0.679    6    -5.012     0       0.1680         0.230   \n",
      "8          0.775   0.527    6    -4.213     0       0.2960         0.511   \n",
      "9          0.593   0.653    5    -3.772     1       0.0731         0.411   \n",
      "10         0.719   0.431    7    -6.495     1       0.1820         0.297   \n",
      "11         0.541   0.561    4    -7.410     1       0.0228         0.230   \n",
      "12         0.676   0.573    4    -7.238     0       0.0427         0.610   \n",
      "13         0.730   0.745   11    -5.309     1       0.0708         0.395   \n",
      "14         0.461   0.229    0   -12.659     1       0.0350         0.852   \n",
      "15         0.671   0.712    1    -2.689     1       0.0337         0.301   \n",
      "16         0.552   0.510    5    -8.195     0       0.0510         0.187   \n",
      "\n",
      "    instrumentalness  liveness  valence    tempo  duration_ms  time_signature  \n",
      "0           0.000002    0.1640   0.3870  125.965       219160               4  \n",
      "1           0.000030    0.1270   0.0858   99.920       233813               4  \n",
      "2           0.000000    0.1110   0.4620  139.977       221440               4  \n",
      "3           0.000014    0.0985   0.4860  145.999       194827               4  \n",
      "4           0.000000    0.1320   0.5310   90.000       194333               4  \n",
      "5           0.004860    0.0833   0.3750  139.955       249027               4  \n",
      "6           0.000024    0.0807   0.1930  123.018       237147               4  \n",
      "7           0.000000    0.0725   0.2310  170.892       207680               4  \n",
      "8           0.000000    0.0799   0.4740  133.953       206267               4  \n",
      "9           0.000000    0.1050   0.1760  150.036       174840               4  \n",
      "10          0.000000    0.0718   0.3920   83.040       224960               4  \n",
      "11          0.000252    0.1590   0.6330   90.067       324853               4  \n",
      "12          0.000007    0.1040   0.2550  132.983       268933               4  \n",
      "13          0.000005    0.1140   0.1960  100.005       212467               4  \n",
      "14          0.000003    0.2850   0.2020   81.057       257267               4  \n",
      "15          0.000017    0.1070   0.2590  160.916       194560               4  \n",
      "16          0.000021    0.1310   0.1600  119.911       197120               4  \n"
     ]
    },
    {
     "data": {
      "image/png": "[encoded data removed]",
      "text/plain": [
       "<Figure size 432x288 with 1 Axes>"
      ]
     },
     "metadata": {
      "needs_background": "light"
     },
     "output_type": "display_data"
    },
    {
     "data": {
      "image/png": "[encoded data removed]",
      "text/plain": [
       "<Figure size 432x288 with 1 Axes>"
      ]
     },
     "metadata": {
      "needs_background": "light"
     },
     "output_type": "display_data"
    }
   ],
   "source": [
    "song_uris = [pm_songs[song] for song in pm_nottopsongs]\n",
    "\n",
    "song_features_dict = {}\n",
    "song_features = spotify.audio_features(tracks = song_uris)\n",
    "for i in song_features[0].keys():\n",
    "    song_features_dict[i] = []\n",
    "\n",
    "for i in range(len(song_features)):\n",
    "    sf = song_features[i]\n",
    "    for k in sf.keys():\n",
    "        song_features_dict[k].append(sf[k])\n",
    "\n",
    "\n",
    "pm_nottopdata = pd.DataFrame.from_dict(song_features_dict)\n",
    "df['Title'] = pm_nottopsongnames\n",
    "pm_nottopdata = pm_nottopdata.drop(columns = [\"analysis_url\", \"track_href\", \"uri\", \"id\", \"type\"])\n",
    "print(pm_nottopdata)\n",
    "\n",
    "\n",
    "plt.hist(pm_nottopdata[\"danceability\"], color = \"red\")\n",
    "plt.show()\n",
    "plt.hist(pm_topdata[\"Danceability\"], color = \"blue\")\n",
    "plt.show()"
   ]
  }
 ],
 "metadata": {
  "kernelspec": {
   "display_name": "Python 3",
   "language": "python",
   "name": "python3"
  },
  "language_info": {
   "codemirror_mode": {
    "name": "ipython",
    "version": 3
   },
   "file_extension": ".py",
   "mimetype": "text/x-python",
   "name": "python",
   "nbconvert_exporter": "python",
   "pygments_lexer": "ipython3",
   "version": "3.6.5"
  }
 },
 "nbformat": 4,
 "nbformat_minor": 2
}
